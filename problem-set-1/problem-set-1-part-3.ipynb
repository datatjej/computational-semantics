{
 "cells": [
  {
   "cell_type": "markdown",
   "metadata": {},
   "source": [
    "# Problem Set 1 - Part 3 (VG): Logic and Lambda Calculus"
   ]
  },
  {
   "cell_type": "markdown",
   "metadata": {},
   "source": [
    "## Introduction\n",
    "\n",
    "This lab should be completed individually.\n",
    "\n",
    "Write all your answers and the code in the appropriate boxes below.\n",
    "\n",
    "In this lab we will look at further extending the grammar that you have done in Question 4 of `problem-set-1-part-2.ipynb` to cover three additional contructions. Below is the original grammar from the NLTK book. Copy and paste your extensions at the end to create a string `fcfg_string0`."
   ]
  },
  {
   "cell_type": "code",
   "execution_count": 1,
   "metadata": {},
   "outputs": [],
   "source": [
    "# This task needs NLTK and Jupyter Notebook (IPython package).\n",
    "import nltk\n",
    "from nltk.grammar import FeatureGrammar\n",
    "from utils import display_latex, display_translation, display_tree, display, Markdown"
   ]
  },
  {
   "cell_type": "code",
   "execution_count": 2,
   "metadata": {},
   "outputs": [],
   "source": [
    "fcfg_string_orginal = r\"\"\"\n",
    "% start S\n",
    "############################\n",
    "# Grammar Rules\n",
    "#############################\n",
    "\n",
    "S[SEM = <?subj(?vp)>] -> NP[NUM=?n,SEM=?subj] VP[NUM=?n,SEM=?vp]\n",
    "\n",
    "NP[NUM=?n,SEM=<?det(?nom)> ] -> Det[NUM=?n,SEM=?det]  Nom[NUM=?n,SEM=?nom]\n",
    "NP[LOC=?l,NUM=?n,SEM=?np] -> PropN[LOC=?l,NUM=?n,SEM=?np]\n",
    "\n",
    "Nom[NUM=?n,SEM=?nom] -> N[NUM=?n,SEM=?nom]\n",
    "\n",
    "VP[NUM=?n,SEM=?v] -> IV[NUM=?n,SEM=?v]\n",
    "VP[NUM=?n,SEM=<?v(?obj)>] -> TV[NUM=?n,SEM=?v] NP[SEM=?obj]\n",
    "VP[NUM=?n,SEM=<?v(?obj,?pp)>] -> DTV[NUM=?n,SEM=?v] NP[SEM=?obj] PP[+TO,SEM=?pp]\n",
    "\n",
    "PP[+TO, SEM=?np] -> P[+TO] NP[SEM=?np]\n",
    "\n",
    "#############################\n",
    "# Lexical Rules\n",
    "#############################\n",
    "\n",
    "PropN[-LOC,NUM=sg,SEM=<\\P.P(angus)>] -> 'Angus'\n",
    "PropN[-LOC,NUM=sg,SEM=<\\P.P(cyril)>] -> 'Cyril'\n",
    "PropN[-LOC,NUM=sg,SEM=<\\P.P(irene)>] -> 'Irene'\n",
    " \n",
    "Det[NUM=sg,SEM=<\\P Q.all x.(P(x) -> Q(x))>] -> 'every'\n",
    "Det[NUM=pl,SEM=<\\P Q.all x.(P(x) -> Q(x))>] -> 'all'\n",
    "Det[SEM=<\\P Q.exists x.(P(x) & Q(x))>] -> 'some'\n",
    "Det[NUM=sg,SEM=<\\P Q.exists x.(P(x) & Q(x))>] -> 'a'\n",
    "Det[NUM=sg,SEM=<\\P Q.exists x.(P(x) & Q(x))>] -> 'an'\n",
    "\n",
    "N[NUM=sg,SEM=<\\x.man(x)>] -> 'man'\n",
    "N[NUM=sg,SEM=<\\x.girl(x)>] -> 'girl'\n",
    "N[NUM=sg,SEM=<\\x.boy(x)>] -> 'boy'\n",
    "N[NUM=sg,SEM=<\\x.bone(x)>] -> 'bone'\n",
    "N[NUM=sg,SEM=<\\x.ankle(x)>] -> 'ankle'\n",
    "N[NUM=sg,SEM=<\\x.dog(x)>] -> 'dog'\n",
    "N[NUM=pl,SEM=<\\x.dog(x)>] -> 'dogs'\n",
    "\n",
    "IV[NUM=sg,SEM=<\\x.bark(x)>,TNS=pres] -> 'barks'\n",
    "IV[NUM=pl,SEM=<\\x.bark(x)>,TNS=pres] -> 'bark'\n",
    "IV[NUM=sg,SEM=<\\x.walk(x)>,TNS=pres] -> 'walks'\n",
    "IV[NUM=pl,SEM=<\\x.walk(x)>,TNS=pres] -> 'walk'\n",
    "TV[NUM=sg,SEM=<\\X x.X(\\y.chase(x,y))>,TNS=pres] -> 'chases'\n",
    "TV[NUM=pl,SEM=<\\X x.X(\\y.chase(x,y))>,TNS=pres] -> 'chase'\n",
    "TV[NUM=sg,SEM=<\\X x.X(\\y.see(x,y))>,TNS=pres] -> 'sees'\n",
    "TV[NUM=pl,SEM=<\\X x.X(\\y.see(x,y))>,TNS=pres] -> 'see'\n",
    "TV[NUM=sg,SEM=<\\X x.X(\\y.bite(x,y))>,TNS=pres] -> 'bites'\n",
    "TV[NUM=pl,SEM=<\\X x.X(\\y.bite(x,y))>,TNS=pres] -> 'bite'\n",
    "DTV[NUM=sg,SEM=<\\Y X x.X(\\z.Y(\\y.give(x,y,z)))>,TNS=pres] -> 'gives'\n",
    "DTV[NUM=pl,SEM=<\\Y X x.X(\\z.Y(\\y.give(x,y,z)))>,TNS=pres] -> 'give'\n",
    "\n",
    "P[+to] -> 'to'\n",
    "\"\"\"\n",
    "\n",
    "fcfg_string0 = fcfg_string_orginal + r\"\"\"\n",
    "## Your answers from problem-set-1-part-2-question-4 \n",
    "X -> 'cat'\n",
    "X -> 'no'\n",
    "\"\"\""
   ]
  },
  {
   "cell_type": "markdown",
   "metadata": {},
   "source": [
    "## 1. Adjectives\n",
    "\n",
    "Adjectives can be assigned to different classes depending on their meaning (for example see [(Partee, 2003)](https://www.semanticsarchive.net/Archive/TFlNWIzO/AreTherePrivatives.pdf)). Here are some examples:\n",
    "\n",
    "- a man gave a white bone to a dog \n",
    "- a man gave a perfect bone to a dog \n",
    "- a man gave a fake bone to a dog \n",
    "- a man gave a questionable bone to a dog \n",
    "\n",
    "First, *white* and *perfect* are **subsective** because {A N} $\\subseteq$ {N}. However, there is a further distinction:\n",
    "  - *white* is **intersective**: {x | x is \"white bone\"} = {x | x is \"white\"} $\\cap$ {x | x is \"bone\"};\n",
    "  - *perfect* is **relative** or **not intersective**: *perfect* is not an independent property sharable between sets - \"white bone\" and \"white table\" share the same property of being *white* but \"perfect bone\" and \"perfect table\" are different kinds of *perfect-something*, hence \"perfect\" requires a specific comparison set.\n",
    "  \n",
    "\n",
    "Second, *fake* and *questionable* are **non-subsective** because {A N} $\\neq$ {A} $\\cap$ {N}. Again, there is a further distinction where:\n",
    "  - *fake* is **privative**: {x | x is \"fake bone\"} $\\cap$ {x | x is \"bone\"} = $\\emptyset$.\n",
    "  - *questionable* is **not privative**: {x | x is \"questionable bone\"} $\\cap$ {x | x is \"bone\"} $\\neq$ $\\emptyset$.\n",
    "\n",
    "In the group assignment we have looked at **intersective** adjectives and here we will add the coverage of **private** adjectives. Extend your grammar to cover *fake* so that the semantic representation for *fake N* will be as follows:\n",
    "\n",
    "1. Negation: an entity does not have the property of being *N* .\n",
    "2. There exsisting a similar entity: there is an entity described by *N* such that that the entity *fake N* looks like it but it not that thing.\n",
    "\n",
    "Your grammar should cover the following examples **[5 marks]**:\n",
    "- no man give a fake bone to a dog\n",
    "- a boy sees a fake cat"
   ]
  },
  {
   "cell_type": "code",
   "execution_count": 3,
   "metadata": {},
   "outputs": [],
   "source": [
    "fcfg_string_adjs = r\"\"\"\n",
    "## Your extended answer here\n",
    "X -> 'fake'\n",
    "\"\"\""
   ]
  },
  {
   "cell_type": "markdown",
   "metadata": {},
   "source": [
    "## 2. Definite article\n",
    "\n",
    "Extend your grammar to cover the definite article *the* in the following example **[2 marks]**. *Hint*: you might find an answer in the readings.\n",
    "\n",
    "-  a cat chases the dog\n"
   ]
  },
  {
   "cell_type": "code",
   "execution_count": 4,
   "metadata": {},
   "outputs": [],
   "source": [
    "fcfg_string_det = r\"\"\"\n",
    "## Your extended answer here\n",
    "X -> 'the'\n",
    "\"\"\""
   ]
  },
  {
   "cell_type": "markdown",
   "metadata": {},
   "source": [
    "## 3. Spatial prepositions\n",
    "\n",
    "Some prepositions such as *on* are used in spatial relations where we might want to represent them with the similar semantics as intersective adjectives. Extend your grammar to cover the following example **[5 marks]**:\n",
    "\n",
    "-  a boy sees a bone on a table\n",
    "\n"
   ]
  },
  {
   "cell_type": "code",
   "execution_count": 5,
   "metadata": {},
   "outputs": [],
   "source": [
    "fcfg_string_pps = r\"\"\"\n",
    "## Your extended answer here\n",
    "X -> 'on'\n",
    "X -> 'table'\n",
    "\"\"\""
   ]
  },
  {
   "cell_type": "markdown",
   "metadata": {},
   "source": [
    "## 4. Plurals\n",
    "\n",
    "In the original grammar above there is a lexical entry for *dogs*. However, the grammar does not correctly parse sentences such as\n",
    "\n",
    "- dogs bark\n",
    "\n",
    "Why? **[1 mark]**"
   ]
  },
  {
   "cell_type": "markdown",
   "metadata": {},
   "source": [
    "*Your answer here*"
   ]
  },
  {
   "cell_type": "markdown",
   "metadata": {},
   "source": [
    "Here is a possible extension for our grammar:"
   ]
  },
  {
   "cell_type": "code",
   "execution_count": 6,
   "metadata": {},
   "outputs": [],
   "source": [
    "fcfg_string_pl = r\"\"\"\n",
    "NP[NUM=pl,SEM=<\\Q.exists x.(?nom(x) & Q(x))> ] -> Nom[NUM=pl,SEM=?nom]\n",
    "\"\"\""
   ]
  },
  {
   "cell_type": "markdown",
   "metadata": {},
   "source": [
    "However, this does not give us quite a semantically intuitive interpretation of the sentence. In fact, Discuss what is the issue. **[2 marks]**"
   ]
  },
  {
   "cell_type": "markdown",
   "metadata": {},
   "source": [
    "*Write your answer here*"
   ]
  },
  {
   "cell_type": "markdown",
   "metadata": {},
   "source": [
    "## Parser code\n",
    "\n",
    "The code to run all your examples:"
   ]
  },
  {
   "cell_type": "code",
   "execution_count": 7,
   "metadata": {},
   "outputs": [
    {
     "data": {
      "text/markdown": [
       "----"
      ],
      "text/plain": [
       "<IPython.core.display.Markdown object>"
      ]
     },
     "metadata": {},
     "output_type": "display_data"
    },
    {
     "data": {
      "text/markdown": [
       "$\\exists\\ x.(dog(x)\\ \\land\\ bark(x))$"
      ],
      "text/plain": [
       "<IPython.core.display.Markdown object>"
      ]
     },
     "metadata": {},
     "output_type": "display_data"
    },
    {
     "data": {
      "text/markdown": [
       "<img src=\"data:image/png;base64,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\">"
      ],
      "text/plain": [
       "<IPython.core.display.Markdown object>"
      ]
     },
     "metadata": {},
     "output_type": "display_data"
    }
   ],
   "source": [
    "fcfg_string = fcfg_string0 + fcfg_string_adjs + fcfg_string_det + fcfg_string_pps + fcfg_string_pl\n",
    "\n",
    "# Load `fcfg_string` as a feature grammar:\n",
    "syntax = FeatureGrammar.fromstring(fcfg_string)\n",
    "\n",
    "# remove sentences if you couldn't find answer for them\n",
    "sentences = [\n",
    "    'no man give a fake bone to a dog',\n",
    "    'a boy sees a fake cat',\n",
    "    'a cat chases the dog',\n",
    "    'a boy sees a bone on a table',\n",
    "    'dogs bark'\n",
    "]\n",
    "\n",
    "for results in nltk.interpret_sents(sentences, syntax):\n",
    "    for (synrep, semrep) in results:\n",
    "        display(Markdown('----'))\n",
    "        display_latex(semrep) # prints the SEM feature of a tree\n",
    "        display_tree(synrep) # show the parse tree"
   ]
  },
  {
   "cell_type": "markdown",
   "metadata": {},
   "source": [
    "## Marks\n",
    "\n",
    "This part of the assignment has a total of 15 marks."
   ]
  }
 ],
 "metadata": {
  "kernelspec": {
   "display_name": "Python 3",
   "language": "python",
   "name": "python3"
  },
  "language_info": {
   "codemirror_mode": {
    "name": "ipython",
    "version": 3
   },
   "file_extension": ".py",
   "mimetype": "text/x-python",
   "name": "python",
   "nbconvert_exporter": "python",
   "pygments_lexer": "ipython3",
   "version": "3.8.2"
  }
 },
 "nbformat": 4,
 "nbformat_minor": 2
}
