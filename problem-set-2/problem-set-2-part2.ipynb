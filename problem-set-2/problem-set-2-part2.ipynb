{
 "cells": [
  {
   "cell_type": "markdown",
   "metadata": {},
   "source": [
    "# Problem Set 2 - Part 2: Inference\n",
    "\n",
    "The lab is an exploration and learning exercise to be done in a group and also in discussion with the teachers and other students.\n",
    "\n",
    "Before starting, please read the following instructions on [how to work on group assignments](https://github.com/sdobnik/computational-semantics/blob/master/README.md).\n",
    "\n",
    "In this part you will work on a problem from the FraCaS test suite. The goal of this problem set is to extend the grammar for Cooper storage from the previous part, apply the sentences to a theorem prover and a model builder, analyse their results and conclude about the inference. Since every sentence may be translated to several formulae there will also be several inference steps and thus several results.\n",
    "\n",
    "\n",
    "\n",
    "### Pre-requisite knowledge\n",
    "\n",
    "From `problem-set-1`:\n",
    "- First order logic\n",
    "- Lambda calculus\n",
    "- Feature unification context free grammar\n",
    "\n",
    "From `problem-set-2-part1.ipynb`:\n",
    "- Cooper storage\n",
    "\n"
   ]
  },
  {
   "cell_type": "code",
   "execution_count": 1,
   "metadata": {},
   "outputs": [],
   "source": [
    "# This task requires NLTK and Jupyter Notebook (IPython package).\n",
    "import nltk\n",
    "from nltk.grammar import FeatureGrammar\n",
    "from nltk.sem import cooper_storage as cs\n",
    "\n",
    "from utils import display_latex, display_translation, display_tree, display, Markdown\n",
    "from utils2 import sem_parser, evaluate_sentences, syntax, syntax_notv\n",
    "\n",
    "read_expr = nltk.sem.Expression.fromstring"
   ]
  },
  {
   "cell_type": "markdown",
   "metadata": {},
   "source": [
    "\n",
    "### 1.1 Extending the grammar [6 marks]\n",
    "\n",
    "Extend the grammar below so that it covers the sentences of the inference problem based on FraCaS problem 057.\n",
    "\n",
    "Several solutions are possible, also some that would not result in entailment. Our lexical knowledge about words leads us how to formalise them in first order logic. Therefore, make sure that you handle the PP attachment in a away that you will be able to show entailments between examples."
   ]
  },
  {
   "cell_type": "code",
   "execution_count": 2,
   "metadata": {},
   "outputs": [],
   "source": [
    "sentences = [\n",
    "    'a Portuguese delegate published the result on climate',\n",
    "    'a Portuguese delegate published a result',\n",
    "    'a Portuguese delegate published the result',\n",
    "    'a Portuguese published a result',\n",
    "]"
   ]
  },
  {
   "cell_type": "code",
   "execution_count": 3,
   "metadata": {},
   "outputs": [],
   "source": [
    "fcfg_storage_base = r\"\"\"\n",
    "% start S\n",
    "\n",
    "S[SEM=[CORE=<?subj(?vp)>, STORE=(?b1+?b2)]] -> NP[NUM=?n,SEM=[CORE=?subj, STORE=?b1]] VP[NUM=?n,SEM=[CORE=?vp, STORE=?b2]]\n",
    "\n",
    "Nom[NUM=?n,SEM=?s] -> N[NUM=?n,SEM=?s]\n",
    "\n",
    "VP[NUM=?n,SEM=?s] -> IV[NUM=?n,SEM=?s]\n",
    "VP[NUM=?n,SEM=[CORE=<?v(?obj)>, STORE=(?b1+?b2)]] -> TV[NUM=?n,SEM=[CORE=?v, STORE=?b1]] NP[SEM=[CORE=?obj, STORE=?b2]]\n",
    "VP[NUM=?n,SEM=[CORE=<?v(?pp)(?obj)>, STORE=(?b1+?b2+?b3)]] -> DTV[NUM=?n,SEM=[CORE=?v, STORE=?b1]] NP[SEM=[CORE=?obj, STORE=?b2]] PP[+TO,SEM=[CORE=?pp, STORE=?b3]]\n",
    "\n",
    "PP[+TO, SEM=[CORE=?np, STORE=?b1]] -> P[+TO] NP[SEM=[CORE=?np, STORE=?b1]]\n",
    "\"\"\"\n",
    "\n",
    "fcfg_storage_lexicon = r\"\"\"\n",
    "PropN[NUM=sg,SEM=[CORE=<\\P.P(angus)>, STORE=(/)]] -> 'Angus'\n",
    "PropN[NUM=sg,SEM=[CORE=<\\P.P(cyril)>, STORE=(/)]] -> 'Cyril'\n",
    "PropN[NUM=sg,SEM=[CORE=<\\P.P(irene)>, STORE=(/)]] -> 'Irene'\n",
    "\n",
    "Det[NUM=sg,SEM=[CORE=<\\P Q.all x.(P(x) -> Q(x))>, STORE=(/)]] -> 'every'\n",
    "Det[NUM=sg,SEM=[CORE=<\\P Q.exists x.(P(x) & Q(x))>, STORE=(/)]] -> 'a'\n",
    "\n",
    "N[NUM=sg,SEM=[CORE=<\\x.library(x)>, STORE=(/)]] -> 'library'\n",
    "N[NUM=sg,SEM=[CORE=<\\x.girl(x)>, STORE=(/)]] -> 'girl'\n",
    "N[NUM=sg,SEM=[CORE=<\\x.boy(x)>, STORE=(/)]] -> 'boy'\n",
    "N[NUM=sg,SEM=[CORE=<\\x.book(x)>, STORE=(/)]] -> 'book'\n",
    "\n",
    "IV[NUM=sg,SEM=[CORE=<\\x.smile(x)>, STORE=(/)],TNS=pres] -> 'smiles' \n",
    "\n",
    "TV[NUM=sg,SEM=[CORE=<\\X x.X(\\y.read(x,y))>, STORE=(/)],TNS=pres] -> 'reads'\n",
    "\n",
    "DTV[NUM=sg,SEM=[CORE=<\\Y X x.X(\\z.Y(\\y.give(x,y,z)))>, STORE=(/)],TNS=pres] -> 'gives'\n",
    "\n",
    "P[+to] -> 'to'\n",
    "\"\"\" \n",
    "\n",
    "fcfg_storage_np = r\"\"\"\n",
    "NP[NUM=?n,SEM=[CORE=<\\P.P(@x)>, STORE=(<bo(?np, @x)>+?b1)]] -> PropN[NUM=?n,SEM=[CORE=?np, STORE=?b1]]\n",
    "NP[NUM=?n,SEM=[CORE=<\\P.P(@x)>, STORE=(<bo(?det(?nom), @x)>+?b1+?b2)]] -> Det[NUM=?n,SEM=[CORE=?det, STORE=?b1]] Nom[NUM=?n,SEM=[CORE=?nom, STORE=?b2]]\n",
    "\"\"\""
   ]
  },
  {
   "cell_type": "markdown",
   "metadata": {},
   "source": [
    "The following code resolves the readings from the Cooper storage. We collect the readings in a dictionary where the key is a sentence string and the value is a list of readings."
   ]
  },
  {
   "cell_type": "code",
   "execution_count": 4,
   "metadata": {},
   "outputs": [],
   "source": [
    "# your answers\n",
    "fcfg_storage_answers_1 = r\"\"\"\n",
    "### Replace X with their proper representations\n",
    "\n",
    "N[NUM=sg,SEM=[CORE=<\\x.delegate(x)>, STORE=(/)]] -> 'delegate'\n",
    "N[NUM=sg,SEM=[CORE=<\\x.climate(x)>, STORE=(/)]] -> 'climate'\n",
    "N[NUM=sg,SEM=[CORE=<\\x.result(x)>, STORE=(/)]] -> 'result'\n",
    "N[NUM=sg,SEM=[CORE=<\\x.portugese(x)>, STORE=(/)]] -> 'Portuguese'\n",
    "ADJ[SEM=[CORE=<\\P x.(portugese(x) & P(x))>, STORE=(/)]]  -> 'Portuguese'\n",
    "TV[NUM=sg,SEM=[CORE=<\\X x.X(\\y.publish(x,y))>, STORE=(/)],TNS=past] -> 'published'\n",
    "Det[SEM=[CORE=<\\P Q.exists x.(P(x) & all y.(P(y) -> x=y) & Q(x))>, STORE=(/)]] -> 'the'\n",
    "# Det[SEM=[CORE=<\\P Q.exists x.(P(x) & all y.(P(y) -> x=y) & Q(x))>, STORE=(/)]] -> 'the'\n",
    "\n",
    "###Extend the other missing rules too\n",
    "NP[NUM=?n,SEM=[CORE=<\\P.P(@x)>, STORE=(<bo(?det(?adj(?nom)), @x)>+?b1+?b2+?b3)]] -> Det[NUM=?n,SEM=[CORE=?det, STORE=?b1]] ADJ[NUM=?n,SEM=[CORE=?adj, STORE=?b2]] Nom[NUM=?n,SEM=[CORE=?nom, STORE=?b3]]\n",
    "\n",
    "#NP[NUM=?n,SEM=[CORE=<?nom(?pp)>, STORE=(?b1+?b2)]] -> Nom[NUM=?n,SEM=[CORE=?nom, STORE=?b1]] PP[NUM=?n,SEM=[CORE=?pp, STORE=?b2]]\n",
    "\n",
    "NP[NUM=?n,SEM=[CORE=<\\P.P(@x)>, STORE=(<bo(?det(?pp(?nom)), @x)>+?b1+?b2+?b3)]] -> Det[NUM=?n,SEM=[CORE=?det, STORE=?b1]] Nom[NUM=?n,SEM=[CORE=?nom, STORE=?b2]] PP[NUM=?n,SEM=[CORE=?pp, STORE=?b3]]\n",
    "PP[SEM=[CORE=<\\P x.(exists y.(on(x, y) & climate(y)) & P(x))>, STORE=(/)]] -> 'on' 'climate'\n",
    "\n",
    "#PP[SEM=[CORE=<\\P x.(on_climate(x) & P(x))>, STORE=(/)]] -> 'on' 'climate'\n",
    "\n",
    "# PP[SEM=[CORE=<\\P.P(@x)>, STORE=(<bo(?p(?nom), @x)>+?b1+?b2)]] -> P[SEM=[CORE=?p, STORE=?b1]] Nom[SEM=[CORE=?nom, STORE=?b2]]\n",
    "# P[SEM=[CORE=<\\S P Q.P(\\x.(Q(x) & exists y.(on(x, y) & S(y))))>, STORE=(/)]] -> 'on'\n",
    "# \\Q exists x.(result(x) & Q(x) & (exists y.(on(x, y) & climate(y)))\n",
    "\"\"\"\n",
    "\n",
    "\n",
    "\n",
    "# this is going to add new rules to the syntax:\n",
    "fcfg_storage = fcfg_storage_base + fcfg_storage_np + fcfg_storage_lexicon + fcfg_storage_answers_1\n",
    "new_syntax = FeatureGrammar.fromstring(fcfg_storage)"
   ]
  },
  {
   "cell_type": "code",
   "execution_count": 5,
   "metadata": {},
   "outputs": [
    {
     "name": "stdout",
     "output_type": "stream",
     "text": [
      "1. a Portuguese delegate published the result on climate\n"
     ]
    },
    {
     "data": {
      "text/markdown": [
       "\"1\": $\\exists\\ x.(\\exists\\ y.(on(x,y)\\ \\land\\ climate(y))\\ \\land\\ result(x)\\ \\land\\ \\forall\\ y.((\\exists\\ z_{1}.(on(y,z_{1})\\ \\land\\ climate(z_{1}))\\ \\land\\ result(y))\\ \\rightarrow\\ (x\\ =\\ y))\\ \\land\\ \\exists\\ z_{2}.(portugese(z_{2})\\ \\land\\ delegate(z_{2})\\ \\land\\ publish(z_{2},x)))$"
      ],
      "text/plain": [
       "<IPython.core.display.Markdown object>"
      ]
     },
     "metadata": {},
     "output_type": "display_data"
    },
    {
     "data": {
      "text/markdown": [
       "\"2\": $\\exists\\ x.(portugese(x)\\ \\land\\ delegate(x)\\ \\land\\ \\exists\\ z_{3}.(\\exists\\ y.(on(z_{3},y)\\ \\land\\ climate(y))\\ \\land\\ result(z_{3})\\ \\land\\ \\forall\\ y.((\\exists\\ z_{1}.(on(y,z_{1})\\ \\land\\ climate(z_{1}))\\ \\land\\ result(y))\\ \\rightarrow\\ (z_{3}\\ =\\ y))\\ \\land\\ publish(x,z_{3})))$"
      ],
      "text/plain": [
       "<IPython.core.display.Markdown object>"
      ]
     },
     "metadata": {},
     "output_type": "display_data"
    },
    {
     "name": "stdout",
     "output_type": "stream",
     "text": [
      "2. a Portuguese delegate published a result\n"
     ]
    },
    {
     "data": {
      "text/markdown": [
       "\"1\": $\\exists\\ x.(result(x)\\ \\land\\ \\exists\\ z_{4}.(portugese(z_{4})\\ \\land\\ delegate(z_{4})\\ \\land\\ publish(z_{4},x)))$"
      ],
      "text/plain": [
       "<IPython.core.display.Markdown object>"
      ]
     },
     "metadata": {},
     "output_type": "display_data"
    },
    {
     "data": {
      "text/markdown": [
       "\"2\": $\\exists\\ x.(portugese(x)\\ \\land\\ delegate(x)\\ \\land\\ \\exists\\ z_{5}.(result(z_{5})\\ \\land\\ publish(x,z_{5})))$"
      ],
      "text/plain": [
       "<IPython.core.display.Markdown object>"
      ]
     },
     "metadata": {},
     "output_type": "display_data"
    },
    {
     "name": "stdout",
     "output_type": "stream",
     "text": [
      "3. a Portuguese delegate published the result\n"
     ]
    },
    {
     "data": {
      "text/markdown": [
       "\"1\": $\\exists\\ x.(result(x)\\ \\land\\ \\forall\\ y.(result(y)\\ \\rightarrow\\ (x\\ =\\ y))\\ \\land\\ \\exists\\ z_{6}.(portugese(z_{6})\\ \\land\\ delegate(z_{6})\\ \\land\\ publish(z_{6},x)))$"
      ],
      "text/plain": [
       "<IPython.core.display.Markdown object>"
      ]
     },
     "metadata": {},
     "output_type": "display_data"
    },
    {
     "data": {
      "text/markdown": [
       "\"2\": $\\exists\\ x.(portugese(x)\\ \\land\\ delegate(x)\\ \\land\\ \\exists\\ z_{7}.(result(z_{7})\\ \\land\\ \\forall\\ y.(result(y)\\ \\rightarrow\\ (z_{7}\\ =\\ y))\\ \\land\\ publish(x,z_{7})))$"
      ],
      "text/plain": [
       "<IPython.core.display.Markdown object>"
      ]
     },
     "metadata": {},
     "output_type": "display_data"
    },
    {
     "name": "stdout",
     "output_type": "stream",
     "text": [
      "4. a Portuguese published a result\n"
     ]
    },
    {
     "data": {
      "text/markdown": [
       "\"1\": $\\exists\\ x.(result(x)\\ \\land\\ \\exists\\ z_{8}.(portugese(z_{8})\\ \\land\\ publish(z_{8},x)))$"
      ],
      "text/plain": [
       "<IPython.core.display.Markdown object>"
      ]
     },
     "metadata": {},
     "output_type": "display_data"
    },
    {
     "data": {
      "text/markdown": [
       "\"2\": $\\exists\\ x.(portugese(x)\\ \\land\\ \\exists\\ z_{9}.(result(z_{9})\\ \\land\\ publish(x,z_{9})))$"
      ],
      "text/plain": [
       "<IPython.core.display.Markdown object>"
      ]
     },
     "metadata": {},
     "output_type": "display_data"
    }
   ],
   "source": [
    "sentence_readings = sem_parser(sentences, new_syntax, verbose=False, is_cs=True)\n",
    "\n",
    "# print all readings\n",
    "for i, (sent, semreps) in enumerate(sentence_readings.items()):\n",
    "    counter = 0\n",
    "    print(f\"{i+1}. {sent}\")\n",
    "    for semrep in semreps:\n",
    "        counter += 1\n",
    "        display_translation(counter, semrep)"
   ]
  },
  {
   "cell_type": "code",
   "execution_count": 6,
   "metadata": {},
   "outputs": [
    {
     "data": {
      "text/plain": [
       "{'a Portuguese delegate published the result on climate': [<ExistsExpression exists x.(exists y.(on(x,y) & climate(y)) & result(x) & all y.((exists z1.(on(y,z1) & climate(z1)) & result(y)) -> (x = y)) & exists z2.(portugese(z2) & delegate(z2) & publish(z2,x)))>,\n",
       "  <ExistsExpression exists x.(portugese(x) & delegate(x) & exists z3.(exists y.(on(z3,y) & climate(y)) & result(z3) & all y.((exists z1.(on(y,z1) & climate(z1)) & result(y)) -> (z3 = y)) & publish(x,z3)))>],\n",
       " 'a Portuguese delegate published a result': [<ExistsExpression exists x.(result(x) & exists z4.(portugese(z4) & delegate(z4) & publish(z4,x)))>,\n",
       "  <ExistsExpression exists x.(portugese(x) & delegate(x) & exists z5.(result(z5) & publish(x,z5)))>],\n",
       " 'a Portuguese delegate published the result': [<ExistsExpression exists x.(result(x) & all y.(result(y) -> (x = y)) & exists z6.(portugese(z6) & delegate(z6) & publish(z6,x)))>,\n",
       "  <ExistsExpression exists x.(portugese(x) & delegate(x) & exists z7.(result(z7) & all y.(result(y) -> (z7 = y)) & publish(x,z7)))>],\n",
       " 'a Portuguese published a result': [<ExistsExpression exists x.(result(x) & exists z8.(portugese(z8) & publish(z8,x)))>,\n",
       "  <ExistsExpression exists x.(portugese(x) & exists z9.(result(z9) & publish(x,z9)))>]}"
      ]
     },
     "execution_count": 6,
     "metadata": {},
     "output_type": "execute_result"
    }
   ],
   "source": [
    "# make sure understanding this data structure:\n",
    "sentence_readings"
   ]
  },
  {
   "cell_type": "markdown",
   "metadata": {},
   "source": [
    "### 1.2 Using Prover9 [4 marks in total]\n",
    "\n",
    "Show which readings of (1) entail a reading of (2). **[1 mark]**"
   ]
  },
  {
   "cell_type": "code",
   "execution_count": 7,
   "metadata": {},
   "outputs": [
    {
     "name": "stdout",
     "output_type": "stream",
     "text": [
      "Premise      : exists x.(exists y.(on(x,y) & climate(y)) & result(x) & all y.((exists z1.(on(y,z1) & climate(z1)) & result(y)) -> (x = y)) & exists z2.(portugese(z2) & delegate(z2) & publish(z2,x)))\n",
      "Goal         : exists x.(result(x) & exists z4.(portugese(z4) & delegate(z4) & publish(z4,x)))\n",
      "Prover result: True\n",
      "----------------------------------------\n",
      "Premise      : exists x.(exists y.(on(x,y) & climate(y)) & result(x) & all y.((exists z1.(on(y,z1) & climate(z1)) & result(y)) -> (x = y)) & exists z2.(portugese(z2) & delegate(z2) & publish(z2,x)))\n",
      "Goal         : exists x.(portugese(x) & delegate(x) & exists z5.(result(z5) & publish(x,z5)))\n",
      "Prover result: True\n",
      "----------------------------------------\n",
      "Premise      : exists x.(portugese(x) & delegate(x) & exists z3.(exists y.(on(z3,y) & climate(y)) & result(z3) & all y.((exists z1.(on(y,z1) & climate(z1)) & result(y)) -> (z3 = y)) & publish(x,z3)))\n",
      "Goal         : exists x.(result(x) & exists z4.(portugese(z4) & delegate(z4) & publish(z4,x)))\n",
      "Prover result: True\n",
      "----------------------------------------\n",
      "Premise      : exists x.(portugese(x) & delegate(x) & exists z3.(exists y.(on(z3,y) & climate(y)) & result(z3) & all y.((exists z1.(on(y,z1) & climate(z1)) & result(y)) -> (z3 = y)) & publish(x,z3)))\n",
      "Goal         : exists x.(portugese(x) & delegate(x) & exists z5.(result(z5) & publish(x,z5)))\n",
      "Prover result: True\n",
      "----------------------------------------\n"
     ]
    }
   ],
   "source": [
    "# There is something missing in this code. You will have to fix it, before you can run it.\n",
    "\n",
    "prover = nltk.Prover9()\n",
    "\n",
    "s1 = sentence_readings['a Portuguese delegate published the result on climate']\n",
    "s2 = sentence_readings['a Portuguese delegate published a result']\n",
    "s3 = sentence_readings['a Portuguese delegate published the result']\n",
    "s4 = sentence_readings['a Portuguese published a result']\n",
    "\n",
    "def apply_theorem_prover(premises, goals):\n",
    "    for premise in premises:\n",
    "        for goal in goals:\n",
    "            print(\"Premise      : %s\" % (premise))\n",
    "            print(\"Goal         : %s\" % (goal))\n",
    "            print(\"Prover result: %s\" % (prover.prove(goal, [premise], verbose=False)))\n",
    "            print(10*'----')\n",
    "            \n",
    "apply_theorem_prover(s1,s2)"
   ]
  },
  {
   "cell_type": "markdown",
   "metadata": {},
   "source": [
    "Do all the readings of (1) entail all the readings of (2)? If not, why not? **[1 mark]**"
   ]
  },
  {
   "cell_type": "raw",
   "metadata": {},
   "source": [
    "** Your answer **\n"
   ]
  },
  {
   "cell_type": "markdown",
   "metadata": {},
   "source": [
    "Which readings of (1) entail a reading of (4). **[1 mark]** "
   ]
  },
  {
   "cell_type": "code",
   "execution_count": 8,
   "metadata": {},
   "outputs": [
    {
     "name": "stdout",
     "output_type": "stream",
     "text": [
      "Premise      : exists x.(exists y.(on(x,y) & climate(y)) & result(x) & all y.((exists z1.(on(y,z1) & climate(z1)) & result(y)) -> (x = y)) & exists z2.(portugese(z2) & delegate(z2) & publish(z2,x)))\n",
      "Goal         : exists x.(result(x) & exists z8.(portugese(z8) & publish(z8,x)))\n",
      "Prover result: True\n",
      "----------------------------------------\n",
      "Premise      : exists x.(exists y.(on(x,y) & climate(y)) & result(x) & all y.((exists z1.(on(y,z1) & climate(z1)) & result(y)) -> (x = y)) & exists z2.(portugese(z2) & delegate(z2) & publish(z2,x)))\n",
      "Goal         : exists x.(portugese(x) & exists z9.(result(z9) & publish(x,z9)))\n",
      "Prover result: True\n",
      "----------------------------------------\n",
      "Premise      : exists x.(portugese(x) & delegate(x) & exists z3.(exists y.(on(z3,y) & climate(y)) & result(z3) & all y.((exists z1.(on(y,z1) & climate(z1)) & result(y)) -> (z3 = y)) & publish(x,z3)))\n",
      "Goal         : exists x.(result(x) & exists z8.(portugese(z8) & publish(z8,x)))\n",
      "Prover result: True\n",
      "----------------------------------------\n",
      "Premise      : exists x.(portugese(x) & delegate(x) & exists z3.(exists y.(on(z3,y) & climate(y)) & result(z3) & all y.((exists z1.(on(y,z1) & climate(z1)) & result(y)) -> (z3 = y)) & publish(x,z3)))\n",
      "Goal         : exists x.(portugese(x) & exists z9.(result(z9) & publish(x,z9)))\n",
      "Prover result: True\n",
      "----------------------------------------\n"
     ]
    }
   ],
   "source": [
    "# There is something missing in this code. You will have to fix it, before you can run it.\n",
    "\n",
    "apply_theorem_prover(s1,s4)"
   ]
  },
  {
   "cell_type": "markdown",
   "metadata": {},
   "source": [
    "Do all the readings of (1) entail all the readings of (4)? If not, why not? **[1 mark]**"
   ]
  },
  {
   "cell_type": "raw",
   "metadata": {},
   "source": [
    "** Your answer **"
   ]
  },
  {
   "cell_type": "markdown",
   "metadata": {},
   "source": [
    "\n",
    "### 1.3 Using Mace [2 marks in total]\n",
    "\n",
    "Show whether (1) entails (3). **[1 mark]**"
   ]
  },
  {
   "cell_type": "code",
   "execution_count": 9,
   "metadata": {},
   "outputs": [
    {
     "name": "stdout",
     "output_type": "stream",
     "text": [
      "Premise : exists x.(exists y.(on(x,y) & climate(y)) & result(x) & all y.((exists z1.(on(y,z1) & climate(z1)) & result(y)) -> (x = y)) & exists z2.(portugese(z2) & delegate(z2) & publish(z2,x)))\n",
      "Goal    : exists x.(result(x) & all y.(result(y) -> (x = y)) & exists z6.(portugese(z6) & delegate(z6) & publish(z6,x)))\n",
      "a model:\n",
      "{'C1': 'a',\n",
      " 'C2': 'a',\n",
      " 'C3': 'a',\n",
      " 'climate': {('a',)},\n",
      " 'delegate': {('a',)},\n",
      " 'on': {('a', 'a')},\n",
      " 'portugese': {('a',)},\n",
      " 'publish': {('a', 'a')},\n",
      " 'result': {('a',), ('b',)}}\n",
      "..............................\n",
      "Premise : exists x.(exists y.(on(x,y) & climate(y)) & result(x) & all y.((exists z1.(on(y,z1) & climate(z1)) & result(y)) -> (x = y)) & exists z2.(portugese(z2) & delegate(z2) & publish(z2,x)))\n",
      "Goal    : exists x.(portugese(x) & delegate(x) & exists z7.(result(z7) & all y.(result(y) -> (z7 = y)) & publish(x,z7)))\n",
      "a model:\n",
      "{'C1': 'a',\n",
      " 'C2': 'a',\n",
      " 'C3': 'a',\n",
      " 'climate': {('a',)},\n",
      " 'delegate': {('a',)},\n",
      " 'on': {('a', 'a')},\n",
      " 'portugese': {('a',)},\n",
      " 'publish': {('a', 'a')},\n",
      " 'result': {('a',), ('b',)}}\n",
      "..............................\n",
      "Premise : exists x.(portugese(x) & delegate(x) & exists z3.(exists y.(on(z3,y) & climate(y)) & result(z3) & all y.((exists z1.(on(y,z1) & climate(z1)) & result(y)) -> (z3 = y)) & publish(x,z3)))\n",
      "Goal    : exists x.(result(x) & all y.(result(y) -> (x = y)) & exists z6.(portugese(z6) & delegate(z6) & publish(z6,x)))\n",
      "a model:\n",
      "{'C1': 'a',\n",
      " 'C2': 'a',\n",
      " 'C3': 'a',\n",
      " 'climate': {('a',)},\n",
      " 'delegate': {('a',)},\n",
      " 'on': {('a', 'a')},\n",
      " 'portugese': {('a',)},\n",
      " 'publish': {('a', 'a')},\n",
      " 'result': {('a',), ('b',)}}\n",
      "..............................\n",
      "Premise : exists x.(portugese(x) & delegate(x) & exists z3.(exists y.(on(z3,y) & climate(y)) & result(z3) & all y.((exists z1.(on(y,z1) & climate(z1)) & result(y)) -> (z3 = y)) & publish(x,z3)))\n",
      "Goal    : exists x.(portugese(x) & delegate(x) & exists z7.(result(z7) & all y.(result(y) -> (z7 = y)) & publish(x,z7)))\n",
      "a model:\n",
      "{'C1': 'a',\n",
      " 'C2': 'a',\n",
      " 'C3': 'a',\n",
      " 'climate': {('a',)},\n",
      " 'delegate': {('a',)},\n",
      " 'on': {('a', 'a')},\n",
      " 'portugese': {('a',)},\n",
      " 'publish': {('a', 'a')},\n",
      " 'result': {('a',), ('b',)}}\n",
      "..............................\n"
     ]
    }
   ],
   "source": [
    "# There is something missing in this code. \n",
    "\n",
    "def apply_model_builder(premises,goals):\n",
    "    for premise in premises:\n",
    "        for goal in goals:\n",
    "            print(\"Premise : %s\" % (premise))\n",
    "            print(\"Goal    : %s\" % (goal))\n",
    "            mc = nltk.MaceCommand(goal, assumptions=[premise])\n",
    "            mc.build_model()\n",
    "            print(\"a model:\")\n",
    "            print(mc.valuation)\n",
    "            print(10*'...')\n",
    "\n",
    "apply_model_builder(s1,s3)"
   ]
  },
  {
   "cell_type": "code",
   "execution_count": 10,
   "metadata": {},
   "outputs": [
    {
     "ename": "SyntaxError",
     "evalue": "invalid syntax (<ipython-input-10-8447e0bf2a84>, line 1)",
     "output_type": "error",
     "traceback": [
      "\u001b[0;36m  File \u001b[0;32m\"<ipython-input-10-8447e0bf2a84>\"\u001b[0;36m, line \u001b[0;32m1\u001b[0m\n\u001b[0;31m    Explain why. **[1 mark]**\u001b[0m\n\u001b[0m              ^\u001b[0m\n\u001b[0;31mSyntaxError\u001b[0m\u001b[0;31m:\u001b[0m invalid syntax\n"
     ]
    }
   ],
   "source": [
    "Explain why. **[1 mark]**"
   ]
  },
  {
   "cell_type": "raw",
   "metadata": {},
   "source": [
    "** Your answer ***"
   ]
  },
  {
   "cell_type": "markdown",
   "metadata": {},
   "source": [
    "## Marks\n",
    "\n",
    "This part of the assignment has a total of 12 marks."
   ]
  },
  {
   "cell_type": "code",
   "execution_count": null,
   "metadata": {},
   "outputs": [],
   "source": []
  },
  {
   "cell_type": "code",
   "execution_count": null,
   "metadata": {},
   "outputs": [],
   "source": []
  }
 ],
 "metadata": {
  "kernelspec": {
   "display_name": "Python 3",
   "language": "python",
   "name": "python3"
  },
  "language_info": {
   "codemirror_mode": {
    "name": "ipython",
    "version": 3
   },
   "file_extension": ".py",
   "mimetype": "text/x-python",
   "name": "python",
   "nbconvert_exporter": "python",
   "pygments_lexer": "ipython3",
   "version": "3.7.4"
  }
 },
 "nbformat": 4,
 "nbformat_minor": 1
}
