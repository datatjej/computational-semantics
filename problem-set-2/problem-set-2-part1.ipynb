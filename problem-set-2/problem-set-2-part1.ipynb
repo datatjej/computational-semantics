{
 "cells": [
  {
   "cell_type": "markdown",
   "metadata": {},
   "source": [
    "# Problem Set 2 - Part 1: Ambiguity and Inference"
   ]
  },
  {
   "cell_type": "markdown",
   "metadata": {},
   "source": [
    "The lab is an exploration and learning exercise to be done in a group and also in discussion with the teachers and other students.\n",
    "\n",
    "Before starting, please read the following instructions on [how to work on group assignments](https://github.com/sdobnik/computational-semantics/blob/master/README.md).\n",
    "\n",
    "\n",
    "### Pre-requisite knowledge\n",
    "\n",
    "Understanding of `problem-set-1`:\n",
    "- First order logic\n",
    "- Lambda calculus\n",
    "- Feature unification context free grammar\n",
    "\n",
    "### Instructions\n",
    "\n",
    "- Follow the instructions step-by-step.\n",
    "- Run all cells before modifying them to see how the code works.\n",
    "- The tasks will ask you to modify cells in this notebook.\n",
    "- Modify the cell to provide your answer and run a test before submiting the file."
   ]
  },
  {
   "cell_type": "code",
   "execution_count": 1,
   "metadata": {},
   "outputs": [],
   "source": [
    "# This task requires NLTK and Jupyter Notebook (IPython package).\n",
    "\n",
    "import nltk\n",
    "from nltk.grammar import FeatureGrammar\n",
    "from nltk.sem import cooper_storage as cs\n",
    "\n",
    "from utils import display_latex, display_translation, display_tree, display, Markdown\n",
    "from copy import deepcopy\n",
    "\n",
    "read_expr = nltk.sem.Expression.fromstring"
   ]
  },
  {
   "cell_type": "markdown",
   "metadata": {},
   "source": [
    "Run the following cell to import functions and syntax specific to this problem set:"
   ]
  },
  {
   "cell_type": "code",
   "execution_count": 2,
   "metadata": {},
   "outputs": [],
   "source": [
    "from utils2 import sem_parser, evaluate_sentences, syntax, syntax_notv"
   ]
  },
  {
   "cell_type": "markdown",
   "metadata": {},
   "source": [
    "### 1. Ambiguity in quantifiers [6 marks in total]\n",
    "\n",
    "Follow the descriptions and instructions in sections **(1.1)**, **(1.2)** and **(1.3)** to learn about the code and the examples. Then answer the questions in section **(1.4)**."
   ]
  },
  {
   "cell_type": "markdown",
   "metadata": {},
   "source": [
    "#### 1.1. FCFG with a SEM feature\n",
    "\n",
    "You should already be familar with FCFG with a SEM feature. \n",
    "Use the code below to parse the following sentences to their semantic representations:\n",
    "\n",
    "1. every dog bites a bone\n",
    "2. a man gives a bone to every dog\n",
    "3. Russia gives Moscow to Napoleon"
   ]
  },
  {
   "cell_type": "code",
   "execution_count": 3,
   "metadata": {},
   "outputs": [
    {
     "data": {
      "text/markdown": [
       "\"1. all dogs bite a bone\": $\\forall\\ x.(dog(x)\\ \\rightarrow\\ \\exists\\ z_{1}.(bone(z_{1})\\ \\land\\ bite(x,z_{1})))$"
      ],
      "text/plain": [
       "<IPython.core.display.Markdown object>"
      ]
     },
     "metadata": {},
     "output_type": "display_data"
    },
    {
     "data": {
      "text/markdown": [
       "\"2. a man gives a bone to every dog\": $\\exists\\ x.(man(x)\\ \\land\\ \\forall\\ z_{3}.(dog(z_{3})\\ \\rightarrow\\ \\exists\\ z_{2}.(bone(z_{2})\\ \\land\\ give(x,z_{2},z_{3}))))$"
      ],
      "text/plain": [
       "<IPython.core.display.Markdown object>"
      ]
     },
     "metadata": {},
     "output_type": "display_data"
    },
    {
     "data": {
      "text/markdown": [
       "\"3. Russia gives Moscow to Napoleon\": $give(russia,moscow,napoleon)$"
      ],
      "text/plain": [
       "<IPython.core.display.Markdown object>"
      ]
     },
     "metadata": {},
     "output_type": "display_data"
    }
   ],
   "source": [
    "sentences = [\n",
    "    'all dogs bite a bone',\n",
    "    'a man gives a bone to every dog',\n",
    "    'Russia gives Moscow to Napoleon',\n",
    "]\n",
    "\n",
    "# if you want to see the parse tree change `verbose` to True:\n",
    "sents_reps = sem_parser(sentences, syntax, verbose=False)\n",
    "\n",
    "for i, (sent, semreps) in enumerate(sents_reps.items()):\n",
    "    for semrep in semreps:\n",
    "        display_translation(f\"{i+1}. {sent}\", semrep)"
   ]
  },
  {
   "cell_type": "markdown",
   "metadata": {},
   "source": [
    "#### 1.2. Evaluate sentences in a model\n",
    "\n",
    "We have a world model with entities and sets to represent their properties and relationships. \n",
    "Run the code below to evaluate the sentence representations from the previous section in the world model defined below."
   ]
  },
  {
   "cell_type": "code",
   "execution_count": 4,
   "metadata": {},
   "outputs": [
    {
     "name": "stdout",
     "output_type": "stream",
     "text": [
      "1. all dogs bite a bone:\n"
     ]
    },
    {
     "data": {
      "text/markdown": [
       "\"True\": $\\forall\\ x.(dog(x)\\ \\rightarrow\\ \\exists\\ z_{4}.(bone(z_{4})\\ \\land\\ bite(x,z_{4})))$"
      ],
      "text/plain": [
       "<IPython.core.display.Markdown object>"
      ]
     },
     "metadata": {},
     "output_type": "display_data"
    },
    {
     "name": "stdout",
     "output_type": "stream",
     "text": [
      "2. a man gives a bone to every dog:\n"
     ]
    },
    {
     "data": {
      "text/markdown": [
       "\"True\": $\\exists\\ x.(man(x)\\ \\land\\ \\forall\\ z_{6}.(dog(z_{6})\\ \\rightarrow\\ \\exists\\ z_{5}.(bone(z_{5})\\ \\land\\ give(x,z_{5},z_{6}))))$"
      ],
      "text/plain": [
       "<IPython.core.display.Markdown object>"
      ]
     },
     "metadata": {},
     "output_type": "display_data"
    },
    {
     "name": "stdout",
     "output_type": "stream",
     "text": [
      "3. Russia gives Moscow to Napoleon:\n"
     ]
    },
    {
     "data": {
      "text/markdown": [
       "\"True\": $give(russia,moscow,napoleon)$"
      ],
      "text/plain": [
       "<IPython.core.display.Markdown object>"
      ]
     },
     "metadata": {},
     "output_type": "display_data"
    }
   ],
   "source": [
    "# a world model:\n",
    "entities = \"\"\"\n",
    "russia    => c1\n",
    "moscow    => c2\n",
    "napoleon  => m2\n",
    "\"\"\"\n",
    "unaries = \"\"\"\n",
    "dog  => {d1, d2, d3} \n",
    "man  => {m1, m2} \n",
    "bone => {bn1, bn2} \n",
    "\"\"\"\n",
    "binaries = \"\"\"\n",
    "bite => {(d1, bn1), (d2, bn2), (d3, bn2)} \n",
    "\"\"\"\n",
    "ternaries = \"\"\"\n",
    "give => {(c1, c2, m2), (m1, bn1, d1), (m1, bn2, d2), (m1, bn2, d3)} \n",
    "\"\"\"\n",
    "\n",
    "# world is a collection of entities and relations:\n",
    "world = entities + unaries + binaries + ternaries\n",
    "\n",
    "# parse the sentences:\n",
    "sents_reps = sem_parser(sentences, syntax, verbose=False)\n",
    "# evaluate them:\n",
    "sents_reps_vals = evaluate_sentences(sents_reps, world)\n",
    "\n",
    "# print all readings\n",
    "for i, (sent, semreps_vals) in enumerate(sents_reps_vals.items()):\n",
    "    for semrep, val in semreps_vals.items():\n",
    "        print(f\"{i+1}. {sent}:\")\n",
    "        display_translation(val, semrep)"
   ]
  },
  {
   "cell_type": "markdown",
   "metadata": {},
   "source": [
    "#### 1.3. Exploiting syntactic ambiguity to represent semantic ambiguity"
   ]
  },
  {
   "cell_type": "markdown",
   "metadata": {},
   "source": [
    "Ditransitive verbs (`DTV`) have two objects. Use the code below to inspect the lexical representation of `give(s)` in the grammar. When constructing a `VP`, we take the semantic representation of a di-trasitive verb `DTV`as a function and apply it on both direct and indirect objects: `vp = ?dtv(?obj,?pp)`. The lambda bound variables `Y` and `X` are substituted with `?obj` and `?pp`."
   ]
  },
  {
   "cell_type": "code",
   "execution_count": 5,
   "metadata": {},
   "outputs": [
    {
     "name": "stdout",
     "output_type": "stream",
     "text": [
      "DTV[NUM='pl', SEM=<\\Y X x.X(\\z.Y(\\y.give(x,y,z)))>, TNS='pres'] -> 'give'\n",
      "VP[NUM=?n, SEM=<?v(?obj,?pp)>] -> DTV[NUM=?n, SEM=?v] NP[SEM=?obj] PP[SEM=?pp, +TO]\n"
     ]
    }
   ],
   "source": [
    "print(syntax.productions()[-1])\n",
    "print(syntax.productions()[-5])"
   ]
  },
  {
   "cell_type": "markdown",
   "metadata": {},
   "source": [
    "In the lecture we discussed that without a mechanism such as Cooper storage we would only get one scoping of quanitifers.\n",
    "\n",
    "One trick to ensure a different scoping for `give(s)` is  to create a parallel syntactic rule that contains a different internal order of composition of arguments in the `SEM`feature as follows: \n",
    "\n",
    "For example, we can change the compositional function from:\n",
    "$$\\lambda Y\\ X\\ x.X(\\lambda z.Y(\\lambda y.give(x,y,z)))$$\n",
    "to:\n",
    "$$\\lambda Y\\ X\\ x.Y(\\lambda y.X(\\lambda z.give(x,y,z)))$$\n",
    "\n",
    "As we now have two rules for `DTV` this will introduce syntactic ambiguity when a parses encouters words such `give(s)`.\n",
    "The following code adds two alternative rules to those in the previous cell. Run the code to see the parse results for sentences and their evaluation in the model."
   ]
  },
  {
   "cell_type": "code",
   "execution_count": 6,
   "metadata": {},
   "outputs": [
    {
     "name": "stdout",
     "output_type": "stream",
     "text": [
      "1. all dogs bite a bone:\n"
     ]
    },
    {
     "data": {
      "text/markdown": [
       "\"True\": $\\forall\\ x.(dog(x)\\ \\rightarrow\\ \\exists\\ z_{7}.(bone(z_{7})\\ \\land\\ bite(x,z_{7})))$"
      ],
      "text/plain": [
       "<IPython.core.display.Markdown object>"
      ]
     },
     "metadata": {},
     "output_type": "display_data"
    },
    {
     "name": "stdout",
     "output_type": "stream",
     "text": [
      "2. a man gives a bone to every dog:\n"
     ]
    },
    {
     "data": {
      "text/markdown": [
       "\"True\": $\\exists\\ x.(man(x)\\ \\land\\ \\forall\\ z_{11}.(dog(z_{11})\\ \\rightarrow\\ \\exists\\ z_{10}.(bone(z_{10})\\ \\land\\ give(x,z_{10},z_{11}))))$"
      ],
      "text/plain": [
       "<IPython.core.display.Markdown object>"
      ]
     },
     "metadata": {},
     "output_type": "display_data"
    },
    {
     "name": "stdout",
     "output_type": "stream",
     "text": [
      "2. a man gives a bone to every dog:\n"
     ]
    },
    {
     "data": {
      "text/markdown": [
       "\"False\": $\\exists\\ x.(man(x)\\ \\land\\ \\exists\\ z_{8}.(bone(z_{8})\\ \\land\\ \\forall\\ z_{9}.(dog(z_{9})\\ \\rightarrow\\ give(x,z_{8},z_{9}))))$"
      ],
      "text/plain": [
       "<IPython.core.display.Markdown object>"
      ]
     },
     "metadata": {},
     "output_type": "display_data"
    },
    {
     "name": "stdout",
     "output_type": "stream",
     "text": [
      "3. Russia gives Moscow to Napoleon:\n"
     ]
    },
    {
     "data": {
      "text/markdown": [
       "\"True\": $give(russia,moscow,napoleon)$"
      ],
      "text/plain": [
       "<IPython.core.display.Markdown object>"
      ]
     },
     "metadata": {},
     "output_type": "display_data"
    }
   ],
   "source": [
    "fcfg_string_give = r\"\"\"\n",
    "DTV[NUM=sg,SEM=<\\Y X x.Y(\\y.X(\\z.give(x,y,z)))>,TNS=pres] -> 'gives'\n",
    "DTV[NUM=pl,SEM=<\\Y X x.Y(\\y.X(\\z.give(x,y,z)))>,TNS=pres] -> 'give'\n",
    "\"\"\"\n",
    "\n",
    "# this is going to add new rules to the syntax:\n",
    "new_syntax = FeatureGrammar(\n",
    "    syntax.start(),\n",
    "    syntax.productions() + FeatureGrammar.fromstring(fcfg_string_give).productions()\n",
    ")\n",
    "\n",
    "# parse the sentences with new syntax:\n",
    "sents_reps = sem_parser(sentences, new_syntax, verbose=False)\n",
    "# evaluate them:\n",
    "sents_reps_vals = evaluate_sentences(sents_reps, world)\n",
    "\n",
    "for i, (sent, semreps_vals) in enumerate(sents_reps_vals.items()):\n",
    "    for semrep, val in semreps_vals.items():\n",
    "        print(f\"{i+1}. {sent}:\")\n",
    "        display_translation(val, semrep) "
   ]
  },
  {
   "cell_type": "markdown",
   "metadata": {},
   "source": [
    "#### 1.4. Questions"
   ]
  },
  {
   "cell_type": "markdown",
   "metadata": {},
   "source": [
    "**1a.** Because the word `give`can now be expanded following two rules we get two extra parse trees for the second and and the third sentence. Answer the following questions: **[2 marks]**\n",
    "   - Why sentence (2) with `give` has two different readings but sentence (3) has only one reading?\n",
    "   - What is the difference between the two representations of sentence (2)?"
   ]
  },
  {
   "cell_type": "raw",
   "metadata": {},
   "source": [
    "*Write your answers here*\n",
    "\n",
    "Sentence 2 has two different readings since it can be interpreted has a man giving the same bone to every dog, or a man giving different bones to every dog. Sentence 3 has no unaries like bone, only the single entities Moscow and Napoelon, which leaves no room for ambiguity. "
   ]
  },
  {
   "cell_type": "markdown",
   "metadata": {},
   "source": [
    "**1b.** When you evalute sentence (2) in the model above, one reading is True and the other is False. Change the part of the model marked with `???` so that all readings all sentences will be True. **[1 marks]** \n",
    "\n",
    "Explain why the readings are true. **[+1 mark]**"
   ]
  },
  {
   "cell_type": "code",
   "execution_count": 7,
   "metadata": {},
   "outputs": [
    {
     "name": "stdout",
     "output_type": "stream",
     "text": [
      "all dogs bite a bone:\n"
     ]
    },
    {
     "data": {
      "text/markdown": [
       "\"True\": $\\forall\\ x.(dog(x)\\ \\rightarrow\\ \\exists\\ z_{7}.(bone(z_{7})\\ \\land\\ bite(x,z_{7})))$"
      ],
      "text/plain": [
       "<IPython.core.display.Markdown object>"
      ]
     },
     "metadata": {},
     "output_type": "display_data"
    },
    {
     "name": "stdout",
     "output_type": "stream",
     "text": [
      "a man gives a bone to every dog:\n"
     ]
    },
    {
     "data": {
      "text/markdown": [
       "\"True\": $\\exists\\ x.(man(x)\\ \\land\\ \\forall\\ z_{11}.(dog(z_{11})\\ \\rightarrow\\ \\exists\\ z_{10}.(bone(z_{10})\\ \\land\\ give(x,z_{10},z_{11}))))$"
      ],
      "text/plain": [
       "<IPython.core.display.Markdown object>"
      ]
     },
     "metadata": {},
     "output_type": "display_data"
    },
    {
     "name": "stdout",
     "output_type": "stream",
     "text": [
      "a man gives a bone to every dog:\n"
     ]
    },
    {
     "data": {
      "text/markdown": [
       "\"True\": $\\exists\\ x.(man(x)\\ \\land\\ \\exists\\ z_{8}.(bone(z_{8})\\ \\land\\ \\forall\\ z_{9}.(dog(z_{9})\\ \\rightarrow\\ give(x,z_{8},z_{9}))))$"
      ],
      "text/plain": [
       "<IPython.core.display.Markdown object>"
      ]
     },
     "metadata": {},
     "output_type": "display_data"
    },
    {
     "name": "stdout",
     "output_type": "stream",
     "text": [
      "Russia gives Moscow to Napoleon:\n"
     ]
    },
    {
     "data": {
      "text/markdown": [
       "\"True\": $give(russia,moscow,napoleon)$"
      ],
      "text/plain": [
       "<IPython.core.display.Markdown object>"
      ]
     },
     "metadata": {},
     "output_type": "display_data"
    }
   ],
   "source": [
    "ternaries = \"\"\"\n",
    "give => {(c1, c2, m2), (m1, bn1, d1), (m1, bn2, d2), (m1, bn2, d3), (m1, bn1, d1), (m1, bn1, d2), (m1, bn1, d3) }\n",
    "\"\"\"\n",
    "\n",
    "# new world\n",
    "world = entities + unaries + binaries + ternaries\n",
    "\n",
    "# evaluate them:\n",
    "sents_reps_vals = evaluate_sentences(sents_reps, world)\n",
    "\n",
    "for sent, semreps_vals in sents_reps_vals.items():\n",
    "    for semrep, val in semreps_vals.items():\n",
    "        print(f\"{sent}:\")\n",
    "        display_translation(val, semrep)"
   ]
  },
  {
   "cell_type": "raw",
   "metadata": {},
   "source": [
    "** Write explanation here **\n",
    "\n",
    "Both readings of sentence 2 are now true since there exists a bone (b1) that is given to every dog."
   ]
  },
  {
   "cell_type": "markdown",
   "metadata": {},
   "source": [
    "**1c.** Consider a world with a `bite` relation as shown below.\n",
    "Write *another* representation of the sentence \"all dogs bite a bone\" \n",
    "that is different from the one you get above and that is *True* in this model. \n",
    "Write your answer in `???`. **[1 mark]** "
   ]
  },
  {
   "cell_type": "code",
   "execution_count": 8,
   "metadata": {},
   "outputs": [
    {
     "name": "stdout",
     "output_type": "stream",
     "text": [
      "1. all dogs bite a bone:\n"
     ]
    },
    {
     "data": {
      "text/markdown": [
       "\"True\": $\\forall\\ x.(dog(x)\\ \\rightarrow\\ \\exists\\ z_{7}.(bone(z_{7})\\ \\land\\ bite(x,z_{7})))$"
      ],
      "text/plain": [
       "<IPython.core.display.Markdown object>"
      ]
     },
     "metadata": {},
     "output_type": "display_data"
    },
    {
     "name": "stdout",
     "output_type": "stream",
     "text": [
      "1. all dogs bite a bone:\n"
     ]
    },
    {
     "data": {
      "text/markdown": [
       "\"True\": $\\exists\\ x.(bone(x)\\ \\land\\ \\forall\\ y.(dog(y)\\ \\rightarrow\\ bite(y,x)))$"
      ],
      "text/plain": [
       "<IPython.core.display.Markdown object>"
      ]
     },
     "metadata": {},
     "output_type": "display_data"
    }
   ],
   "source": [
    "binaries = \"\"\"\n",
    "bite => {(d1, bn1), (d2, bn1), (d3, bn1)} \n",
    "\"\"\"\n",
    "\n",
    "# new world\n",
    "world = entities + unaries + binaries + ternaries\n",
    "\n",
    "sents_reps_copy = deepcopy(sents_reps)\n",
    "sents_reps_copy['all dogs bite a bone'].append(\n",
    "    read_expr(r\"exists x.(bone(x) & all y.(dog(y) -> bite(y,x)))\")\n",
    ")\n",
    "\n",
    "# evaluate them:\n",
    "sents_reps_vals_copy = evaluate_sentences(sents_reps_copy, world)\n",
    "\n",
    "for i, (sent, semreps_vals) in enumerate(sents_reps_vals_copy.items()):\n",
    "    if sent == 'all dogs bite a bone':\n",
    "        for semrep, val in semreps_vals.items():\n",
    "            print(f\"{i+1}. {sent}:\")\n",
    "            display_translation(val, semrep)"
   ]
  },
  {
   "cell_type": "markdown",
   "metadata": {},
   "source": [
    "**1d.** Consider a new set of tuples representing the `give` predicate below.\n",
    "Write *another* representation for \"a man gives a bone to every dog\"\n",
    "that is *True* in the updated model.\n",
    "Write your answer in `???`. **[1 mark]** "
   ]
  },
  {
   "cell_type": "code",
   "execution_count": 9,
   "metadata": {},
   "outputs": [
    {
     "name": "stdout",
     "output_type": "stream",
     "text": [
      "2. a man gives a bone to every dog:\n"
     ]
    },
    {
     "data": {
      "text/markdown": [
       "\"False\": $\\exists\\ x.(man(x)\\ \\land\\ \\forall\\ z_{11}.(dog(z_{11})\\ \\rightarrow\\ \\exists\\ z_{10}.(bone(z_{10})\\ \\land\\ give(x,z_{10},z_{11}))))$"
      ],
      "text/plain": [
       "<IPython.core.display.Markdown object>"
      ]
     },
     "metadata": {},
     "output_type": "display_data"
    },
    {
     "name": "stdout",
     "output_type": "stream",
     "text": [
      "2. a man gives a bone to every dog:\n"
     ]
    },
    {
     "data": {
      "text/markdown": [
       "\"False\": $\\exists\\ x.(man(x)\\ \\land\\ \\exists\\ z_{8}.(bone(z_{8})\\ \\land\\ \\forall\\ z_{9}.(dog(z_{9})\\ \\rightarrow\\ give(x,z_{8},z_{9}))))$"
      ],
      "text/plain": [
       "<IPython.core.display.Markdown object>"
      ]
     },
     "metadata": {},
     "output_type": "display_data"
    },
    {
     "name": "stdout",
     "output_type": "stream",
     "text": [
      "2. a man gives a bone to every dog:\n"
     ]
    },
    {
     "data": {
      "text/markdown": [
       "\"True\": $\\exists\\ x.(man(x)\\ \\land\\ \\exists\\ z.(bone(z)\\ \\rightarrow\\ \\forall\\ y.(dog(y)\\ \\rightarrow\\ give(x,y,z))))$"
      ],
      "text/plain": [
       "<IPython.core.display.Markdown object>"
      ]
     },
     "metadata": {},
     "output_type": "display_data"
    }
   ],
   "source": [
    "ternaries = \"\"\"\n",
    "give => {(c1, c2, m2), (m2, bn1, d1), (m1, bn1, d2), (m1, bn1, d3)}\n",
    "\"\"\"\n",
    "\n",
    "# new world\n",
    "world = entities + unaries + binaries + ternaries\n",
    "\n",
    "sents_reps_copy = deepcopy(sents_reps)\n",
    "sents_reps_copy['a man gives a bone to every dog'].append(\n",
    "    read_expr(r\"exists x.(man(x) & exists z.(bone(z) -> all y.(dog(y) -> give(x,y,z))))\")\n",
    ")\n",
    "\n",
    "# evaluate them:\n",
    "sents_reps_vals_copy = evaluate_sentences(sents_reps_copy, world)\n",
    "\n",
    "for i, (sent, semreps_vals) in enumerate(sents_reps_vals_copy.items()):\n",
    "    if sent == 'a man gives a bone to every dog':\n",
    "        for semrep, val in semreps_vals.items():\n",
    "            print(f\"{i+1}. {sent}:\")\n",
    "            display_translation(val, semrep)"
   ]
  },
  {
   "cell_type": "markdown",
   "metadata": {},
   "source": [
    "### 2. Cooper storage [8 marks in total]"
   ]
  },
  {
   "cell_type": "markdown",
   "metadata": {},
   "source": [
    "#### 2.1. Learn about CooperSotrage\n",
    "Study the following grammar with a `SEM` that is split between `CORE` and `STORE`. However, in this example, we never add anything to the `STORE`."
   ]
  },
  {
   "cell_type": "code",
   "execution_count": 10,
   "metadata": {
    "scrolled": false
   },
   "outputs": [
    {
     "name": "stdout",
     "output_type": "stream",
     "text": [
      "1. Angus reads a book\n"
     ]
    },
    {
     "data": {
      "text/markdown": [
       "\"1\": $\\exists\\ z_{12}.(book(z_{12})\\ \\land\\ read(angus,z_{12}))$"
      ],
      "text/plain": [
       "<IPython.core.display.Markdown object>"
      ]
     },
     "metadata": {},
     "output_type": "display_data"
    },
    {
     "name": "stdout",
     "output_type": "stream",
     "text": [
      "2. every girl reads a book\n"
     ]
    },
    {
     "data": {
      "text/markdown": [
       "\"1\": $\\forall\\ x.(girl(x)\\ \\rightarrow\\ \\exists\\ z_{13}.(book(z_{13})\\ \\land\\ read(x,z_{13})))$"
      ],
      "text/plain": [
       "<IPython.core.display.Markdown object>"
      ]
     },
     "metadata": {},
     "output_type": "display_data"
    },
    {
     "name": "stdout",
     "output_type": "stream",
     "text": [
      "3. every library gives a book to a girl\n"
     ]
    },
    {
     "data": {
      "text/markdown": [
       "\"1\": $\\forall\\ x.(library(x)\\ \\rightarrow\\ \\exists\\ z_{15}.(book(z_{15})\\ \\land\\ \\exists\\ z_{14}.(girl(z_{14})\\ \\land\\ give(x,z_{14},z_{15}))))$"
      ],
      "text/plain": [
       "<IPython.core.display.Markdown object>"
      ]
     },
     "metadata": {},
     "output_type": "display_data"
    }
   ],
   "source": [
    "fcfg_storage_base = r\"\"\"\n",
    "% start S\n",
    "\n",
    "S[SEM=[CORE=<?subj(?vp)>, STORE=(?b1+?b2)]] -> NP[NUM=?n,SEM=[CORE=?subj, STORE=?b1]] VP[NUM=?n,SEM=[CORE=?vp, STORE=?b2]]\n",
    "\n",
    "Nom[NUM=?n,SEM=?s] -> N[NUM=?n,SEM=?s]\n",
    "\n",
    "VP[NUM=?n,SEM=?s] -> IV[NUM=?n,SEM=?s]\n",
    "VP[NUM=?n,SEM=[CORE=<?v(?obj)>, STORE=(?b1+?b2)]] -> TV[NUM=?n,SEM=[CORE=?v, STORE=?b1]] NP[SEM=[CORE=?obj, STORE=?b2]]\n",
    "VP[NUM=?n,SEM=[CORE=<?v(?pp)(?obj)>, STORE=(?b1+?b2+?b3)]] -> DTV[NUM=?n,SEM=[CORE=?v, STORE=?b1]] NP[SEM=[CORE=?obj, STORE=?b2]] PP[+TO,SEM=[CORE=?pp, STORE=?b3]]\n",
    "\n",
    "PP[+TO, SEM=[CORE=?np, STORE=?b1]] -> P[+TO] NP[SEM=[CORE=?np, STORE=?b1]]\n",
    "\"\"\"\n",
    "\n",
    "fcfg_storage_lexicon = r\"\"\"\n",
    "PropN[NUM=sg,SEM=[CORE=<\\P.P(angus)>, STORE=(/)]] -> 'Angus'\n",
    "PropN[NUM=sg,SEM=[CORE=<\\P.P(cyril)>, STORE=(/)]] -> 'Cyril'\n",
    "PropN[NUM=sg,SEM=[CORE=<\\P.P(irene)>, STORE=(/)]] -> 'Irene'\n",
    "\n",
    "Det[NUM=sg,SEM=[CORE=<\\P Q.all x.(P(x) -> Q(x))>, STORE=(/)]] -> 'every'\n",
    "Det[NUM=sg,SEM=[CORE=<\\P Q.exists x.(P(x) & Q(x))>, STORE=(/)]] -> 'a'\n",
    "\n",
    "N[NUM=sg,SEM=[CORE=<\\x.library(x)>, STORE=(/)]] -> 'library'\n",
    "N[NUM=sg,SEM=[CORE=<\\x.girl(x)>, STORE=(/)]] -> 'girl'\n",
    "N[NUM=sg,SEM=[CORE=<\\x.boy(x)>, STORE=(/)]] -> 'boy'\n",
    "N[NUM=sg,SEM=[CORE=<\\x.book(x)>, STORE=(/)]] -> 'book'\n",
    "\n",
    "IV[NUM=sg,SEM=[CORE=<\\x.smile(x)>, STORE=(/)],TNS=pres] -> 'smiles' \n",
    "\n",
    "TV[NUM=sg,SEM=[CORE=<\\X x.X(\\y.read(x,y))>, STORE=(/)],TNS=pres] -> 'reads'\n",
    "\n",
    "DTV[NUM=sg,SEM=[CORE=<\\Y X x.X(\\z.Y(\\y.give(x,y,z)))>, STORE=(/)],TNS=pres] -> 'gives'\n",
    "\n",
    "P[+to] -> 'to'\n",
    "\"\"\" \n",
    "\n",
    "fcfg_storage_np = r\"\"\"\n",
    "NP[NUM=?n,SEM=[CORE=?np, STORE=?b1]] -> PropN[NUM=?n,SEM=[CORE=?np, STORE=?b1]]\n",
    "NP[NUM=?n,SEM=[CORE=<?det(?nom)>, STORE=(?b1+?b2)]] -> Det[NUM=?n,SEM=[CORE=?det, STORE=?b1]] Nom[NUM=?n,SEM=[CORE=?nom, STORE=?b2]]\n",
    "\"\"\"\n",
    "\n",
    "\n",
    "sentences = [\n",
    "    'Angus reads a book',\n",
    "    'every girl reads a book',\n",
    "    'every library gives a book to a girl',\n",
    "]\n",
    "\n",
    "fcfg_storage = fcfg_storage_base + fcfg_storage_np + fcfg_storage_lexicon\n",
    "cs_syntax = FeatureGrammar.fromstring(fcfg_storage)\n",
    "sents_reps = sem_parser(sentences, cs_syntax, verbose=False, is_cs=True)\n",
    "\n",
    "for i, (sent, semreps) in enumerate(sents_reps.items()):\n",
    "    counter = 0\n",
    "    print(f\"{i+1}. {sent}\")\n",
    "    for semrep in semreps:\n",
    "        counter += 1\n",
    "        display_translation(counter, semrep)"
   ]
  },
  {
   "cell_type": "markdown",
   "metadata": {},
   "source": [
    "With the following change to the `NP` rule we push representations to the `STORE` and replace them with a simple varible in the `CORE` (which is then type raised to <<e,t>,t> so that it it can combine with a transitive verb entry)."
   ]
  },
  {
   "cell_type": "code",
   "execution_count": 11,
   "metadata": {},
   "outputs": [
    {
     "name": "stdout",
     "output_type": "stream",
     "text": [
      "1. Angus reads a book\n"
     ]
    },
    {
     "data": {
      "text/markdown": [
       "\"1\": $\\exists\\ x.(book(x)\\ \\land\\ read(angus,x))$"
      ],
      "text/plain": [
       "<IPython.core.display.Markdown object>"
      ]
     },
     "metadata": {},
     "output_type": "display_data"
    },
    {
     "data": {
      "text/markdown": [
       "\"2\": $\\exists\\ x.(book(x)\\ \\land\\ read(angus,x))$"
      ],
      "text/plain": [
       "<IPython.core.display.Markdown object>"
      ]
     },
     "metadata": {},
     "output_type": "display_data"
    },
    {
     "name": "stdout",
     "output_type": "stream",
     "text": [
      "2. every girl reads a book\n"
     ]
    },
    {
     "data": {
      "text/markdown": [
       "\"1\": $\\exists\\ x.(book(x)\\ \\land\\ \\forall\\ z_{16}.(girl(z_{16})\\ \\rightarrow\\ read(z_{16},x)))$"
      ],
      "text/plain": [
       "<IPython.core.display.Markdown object>"
      ]
     },
     "metadata": {},
     "output_type": "display_data"
    },
    {
     "data": {
      "text/markdown": [
       "\"2\": $\\forall\\ x.(girl(x)\\ \\rightarrow\\ \\exists\\ z_{17}.(book(z_{17})\\ \\land\\ read(x,z_{17})))$"
      ],
      "text/plain": [
       "<IPython.core.display.Markdown object>"
      ]
     },
     "metadata": {},
     "output_type": "display_data"
    },
    {
     "name": "stdout",
     "output_type": "stream",
     "text": [
      "3. every library gives a book to a girl\n"
     ]
    },
    {
     "data": {
      "text/markdown": [
       "\"1\": $\\exists\\ x.(girl(x)\\ \\land\\ \\exists\\ z_{19}.(book(z_{19})\\ \\land\\ \\forall\\ z_{18}.(library(z_{18})\\ \\rightarrow\\ give(z_{18},x,z_{19}))))$"
      ],
      "text/plain": [
       "<IPython.core.display.Markdown object>"
      ]
     },
     "metadata": {},
     "output_type": "display_data"
    },
    {
     "data": {
      "text/markdown": [
       "\"2\": $\\exists\\ x.(book(x)\\ \\land\\ \\exists\\ z_{21}.(girl(z_{21})\\ \\land\\ \\forall\\ z_{20}.(library(z_{20})\\ \\rightarrow\\ give(z_{20},z_{21},x))))$"
      ],
      "text/plain": [
       "<IPython.core.display.Markdown object>"
      ]
     },
     "metadata": {},
     "output_type": "display_data"
    },
    {
     "data": {
      "text/markdown": [
       "\"3\": $\\exists\\ x.(girl(x)\\ \\land\\ \\forall\\ z_{23}.(library(z_{23})\\ \\rightarrow\\ \\exists\\ z_{22}.(book(z_{22})\\ \\land\\ give(z_{23},x,z_{22}))))$"
      ],
      "text/plain": [
       "<IPython.core.display.Markdown object>"
      ]
     },
     "metadata": {},
     "output_type": "display_data"
    },
    {
     "data": {
      "text/markdown": [
       "\"4\": $\\forall\\ x.(library(x)\\ \\rightarrow\\ \\exists\\ z_{25}.(girl(z_{25})\\ \\land\\ \\exists\\ z_{24}.(book(z_{24})\\ \\land\\ give(x,z_{25},z_{24}))))$"
      ],
      "text/plain": [
       "<IPython.core.display.Markdown object>"
      ]
     },
     "metadata": {},
     "output_type": "display_data"
    },
    {
     "data": {
      "text/markdown": [
       "\"5\": $\\exists\\ x.(book(x)\\ \\land\\ \\forall\\ z_{27}.(library(z_{27})\\ \\rightarrow\\ \\exists\\ z_{26}.(girl(z_{26})\\ \\land\\ give(z_{27},z_{26},x))))$"
      ],
      "text/plain": [
       "<IPython.core.display.Markdown object>"
      ]
     },
     "metadata": {},
     "output_type": "display_data"
    },
    {
     "data": {
      "text/markdown": [
       "\"6\": $\\forall\\ x.(library(x)\\ \\rightarrow\\ \\exists\\ z_{29}.(book(z_{29})\\ \\land\\ \\exists\\ z_{28}.(girl(z_{28})\\ \\land\\ give(x,z_{28},z_{29}))))$"
      ],
      "text/plain": [
       "<IPython.core.display.Markdown object>"
      ]
     },
     "metadata": {},
     "output_type": "display_data"
    }
   ],
   "source": [
    "fcfg_storage_np = r\"\"\"\n",
    "NP[NUM=?n,SEM=[CORE=<\\P.P(@x)>, STORE=(<bo(?np, @x)>+?b1)]] -> PropN[NUM=?n,SEM=[CORE=?np, STORE=?b1]]\n",
    "NP[NUM=?n,SEM=[CORE=<\\P.P(@x)>, STORE=(<bo(?det(?nom), @x)>+?b1+?b2)]] -> Det[NUM=?n,SEM=[CORE=?det, STORE=?b1]] Nom[NUM=?n,SEM=[CORE=?nom, STORE=?b2]]\n",
    "\"\"\"\n",
    "\n",
    "sentences = [\n",
    "    'Angus reads a book',\n",
    "    'every girl reads a book',\n",
    "    'every library gives a book to a girl',\n",
    "]\n",
    "\n",
    "fcfg_storage = fcfg_storage_base + fcfg_storage_np + fcfg_storage_lexicon\n",
    "cs_syntax = FeatureGrammar.fromstring(fcfg_storage)\n",
    "sents_reps = sem_parser(sentences, cs_syntax, verbose=False, is_cs=True)\n",
    "\n",
    "for i, (sent, semreps) in enumerate(sents_reps.items()):\n",
    "    counter = 0\n",
    "    print(f\"{i+1}. {sent}\")\n",
    "    for semrep in semreps:\n",
    "        counter += 1\n",
    "        display_translation(counter, semrep)"
   ]
  },
  {
   "cell_type": "markdown",
   "metadata": {},
   "source": [
    "#### 2.2. Questions"
   ]
  },
  {
   "cell_type": "markdown",
   "metadata": {},
   "source": [
    "**2a.** There are two identical readings of the first sentence. Why is this so? Suggest a change that would ensure you do not get doublicate readings for the first sentence but you get  alternative readings for the other sentence. **[2 marks]**"
   ]
  },
  {
   "cell_type": "raw",
   "metadata": {},
   "source": [
    "* Write explanation here *\n",
    "\n",
    "It seems like the issue could be that the NP rule for proper nouns states that it can take a binding operator. The issue seems to be resolved by emptying the store in that particular NP.    "
   ]
  },
  {
   "cell_type": "code",
   "execution_count": 12,
   "metadata": {},
   "outputs": [
    {
     "name": "stdout",
     "output_type": "stream",
     "text": [
      "1. Angus reads a book\n"
     ]
    },
    {
     "data": {
      "text/markdown": [
       "\"1\": $\\exists\\ x.(book(x)\\ \\land\\ read(angus,x))$"
      ],
      "text/plain": [
       "<IPython.core.display.Markdown object>"
      ]
     },
     "metadata": {},
     "output_type": "display_data"
    },
    {
     "name": "stdout",
     "output_type": "stream",
     "text": [
      "2. every girl reads a book\n"
     ]
    },
    {
     "data": {
      "text/markdown": [
       "\"1\": $\\exists\\ x.(book(x)\\ \\land\\ \\forall\\ z_{30}.(girl(z_{30})\\ \\rightarrow\\ read(z_{30},x)))$"
      ],
      "text/plain": [
       "<IPython.core.display.Markdown object>"
      ]
     },
     "metadata": {},
     "output_type": "display_data"
    },
    {
     "data": {
      "text/markdown": [
       "\"2\": $\\forall\\ x.(girl(x)\\ \\rightarrow\\ \\exists\\ z_{31}.(book(z_{31})\\ \\land\\ read(x,z_{31})))$"
      ],
      "text/plain": [
       "<IPython.core.display.Markdown object>"
      ]
     },
     "metadata": {},
     "output_type": "display_data"
    }
   ],
   "source": [
    "sentences = [\n",
    "    'Angus reads a book',\n",
    "    'every girl reads a book'\n",
    "]\n",
    "\n",
    "fcfg_storage_np = r\"\"\"\n",
    "## Change the rule below:\n",
    "#NP[NUM=?n,SEM=[CORE=<\\P.P(@x)>, STORE=(<bo(?np, @x)>+?b1)]] -> PropN[NUM=?n,SEM=[CORE=?np, STORE=?b1]]\n",
    "#Karolina+Tova: NP[NUM=?n,SEM=[CORE=?np, STORE=(/)]] -> PropN[NUM=?n,SEM=[CORE=?np, STORE=(/)]]\n",
    "NP[NUM=?n,SEM=[CORE=<?np>, STORE=(/)]] -> PropN[NUM=?n,SEM=[CORE=?np, STORE=(/)]]\n",
    "NP[NUM=?n,SEM=[CORE=<\\P.P(@x)>, STORE=(<bo(?det(?nom), @x)>+?b1+?b2)]] -> Det[NUM=?n,SEM=[CORE=?det, STORE=?b1]] Nom[NUM=?n,SEM=[CORE=?nom, STORE=?b2]]\n",
    "\"\"\"\n",
    "\n",
    "\n",
    "fcfg_storage = fcfg_storage_base + fcfg_storage_np + fcfg_storage_lexicon \n",
    "cs_syntax = FeatureGrammar.fromstring(fcfg_storage)\n",
    "sents_reps = sem_parser(sentences, cs_syntax, verbose=False, is_cs=True)\n",
    "\n",
    "for i, (sent, semreps) in enumerate(sents_reps.items()):\n",
    "    counter = 0\n",
    "    print(f\"{i+1}. {sent}\")\n",
    "    for semrep in semreps:\n",
    "        counter += 1\n",
    "        display_translation(counter, semrep)"
   ]
  },
  {
   "cell_type": "markdown",
   "metadata": {},
   "source": [
    "**2b.** Extend the grammar below to cover the following sentences: **[6 marks]**"
   ]
  },
  {
   "cell_type": "code",
   "execution_count": 18,
   "metadata": {
    "scrolled": false
   },
   "outputs": [
    {
     "name": "stdout",
     "output_type": "stream",
     "text": [
      "1. every library gives a book to every girl and every boy\n"
     ]
    },
    {
     "data": {
      "text/markdown": [
       "\"1\": $\\forall\\ x.(boy(x)\\ \\rightarrow\\ \\forall\\ z_{1193}.(girl(z_{1193})\\ \\rightarrow\\ \\exists\\ z_{1192}.(book(z_{1192})\\ \\land\\ \\forall\\ z_{1191}.(library(z_{1191})\\ \\rightarrow\\ (give(z_{1191},z_{1193},z_{1192})\\ \\land\\ give(z_{1191},x,z_{1192}))))))$"
      ],
      "text/plain": [
       "<IPython.core.display.Markdown object>"
      ]
     },
     "metadata": {},
     "output_type": "display_data"
    },
    {
     "data": {
      "text/markdown": [
       "\"2\": $\\forall\\ x.(girl(x)\\ \\rightarrow\\ \\forall\\ z_{1196}.(boy(z_{1196})\\ \\rightarrow\\ \\exists\\ z_{1195}.(book(z_{1195})\\ \\land\\ \\forall\\ z_{1194}.(library(z_{1194})\\ \\rightarrow\\ (give(z_{1194},x,z_{1195})\\ \\land\\ give(z_{1194},z_{1196},z_{1195}))))))$"
      ],
      "text/plain": [
       "<IPython.core.display.Markdown object>"
      ]
     },
     "metadata": {},
     "output_type": "display_data"
    },
    {
     "data": {
      "text/markdown": [
       "\"3\": $\\forall\\ x.(boy(x)\\ \\rightarrow\\ \\exists\\ z_{1199}.(book(z_{1199})\\ \\land\\ \\forall\\ z_{1198}.(girl(z_{1198})\\ \\rightarrow\\ \\forall\\ z_{1197}.(library(z_{1197})\\ \\rightarrow\\ (give(z_{1197},z_{1198},z_{1199})\\ \\land\\ give(z_{1197},x,z_{1199}))))))$"
      ],
      "text/plain": [
       "<IPython.core.display.Markdown object>"
      ]
     },
     "metadata": {},
     "output_type": "display_data"
    },
    {
     "data": {
      "text/markdown": [
       "\"4\": $\\exists\\ x.(book(x)\\ \\land\\ \\forall\\ z_{1202}.(boy(z_{1202})\\ \\rightarrow\\ \\forall\\ z_{1201}.(girl(z_{1201})\\ \\rightarrow\\ \\forall\\ z_{1200}.(library(z_{1200})\\ \\rightarrow\\ (give(z_{1200},z_{1201},x)\\ \\land\\ give(z_{1200},z_{1202},x))))))$"
      ],
      "text/plain": [
       "<IPython.core.display.Markdown object>"
      ]
     },
     "metadata": {},
     "output_type": "display_data"
    },
    {
     "data": {
      "text/markdown": [
       "\"5\": $\\forall\\ x.(girl(x)\\ \\rightarrow\\ \\exists\\ z_{1205}.(book(z_{1205})\\ \\land\\ \\forall\\ z_{1204}.(boy(z_{1204})\\ \\rightarrow\\ \\forall\\ z_{1203}.(library(z_{1203})\\ \\rightarrow\\ (give(z_{1203},x,z_{1205})\\ \\land\\ give(z_{1203},z_{1204},z_{1205}))))))$"
      ],
      "text/plain": [
       "<IPython.core.display.Markdown object>"
      ]
     },
     "metadata": {},
     "output_type": "display_data"
    },
    {
     "data": {
      "text/markdown": [
       "\"6\": $\\exists\\ x.(book(x)\\ \\land\\ \\forall\\ z_{1208}.(girl(z_{1208})\\ \\rightarrow\\ \\forall\\ z_{1207}.(boy(z_{1207})\\ \\rightarrow\\ \\forall\\ z_{1206}.(library(z_{1206})\\ \\rightarrow\\ (give(z_{1206},z_{1208},x)\\ \\land\\ give(z_{1206},z_{1207},x))))))$"
      ],
      "text/plain": [
       "<IPython.core.display.Markdown object>"
      ]
     },
     "metadata": {},
     "output_type": "display_data"
    },
    {
     "data": {
      "text/markdown": [
       "\"7\": $\\forall\\ x.(boy(x)\\ \\rightarrow\\ \\forall\\ z_{1211}.(girl(z_{1211})\\ \\rightarrow\\ \\forall\\ z_{1210}.(library(z_{1210})\\ \\rightarrow\\ \\exists\\ z_{1209}.(book(z_{1209})\\ \\land\\ give(z_{1210},z_{1211},z_{1209})\\ \\land\\ give(z_{1210},x,z_{1209})))))$"
      ],
      "text/plain": [
       "<IPython.core.display.Markdown object>"
      ]
     },
     "metadata": {},
     "output_type": "display_data"
    },
    {
     "data": {
      "text/markdown": [
       "\"8\": $\\forall\\ x.(girl(x)\\ \\rightarrow\\ \\forall\\ z_{1214}.(boy(z_{1214})\\ \\rightarrow\\ \\forall\\ z_{1213}.(library(z_{1213})\\ \\rightarrow\\ \\exists\\ z_{1212}.(book(z_{1212})\\ \\land\\ give(z_{1213},x,z_{1212})\\ \\land\\ give(z_{1213},z_{1214},z_{1212})))))$"
      ],
      "text/plain": [
       "<IPython.core.display.Markdown object>"
      ]
     },
     "metadata": {},
     "output_type": "display_data"
    },
    {
     "data": {
      "text/markdown": [
       "\"9\": $\\forall\\ x.(boy(x)\\ \\rightarrow\\ \\forall\\ z_{1217}.(library(z_{1217})\\ \\rightarrow\\ \\forall\\ z_{1216}.(girl(z_{1216})\\ \\rightarrow\\ \\exists\\ z_{1215}.(book(z_{1215})\\ \\land\\ give(z_{1217},z_{1216},z_{1215})\\ \\land\\ give(z_{1217},x,z_{1215})))))$"
      ],
      "text/plain": [
       "<IPython.core.display.Markdown object>"
      ]
     },
     "metadata": {},
     "output_type": "display_data"
    },
    {
     "data": {
      "text/markdown": [
       "\"10\": $\\forall\\ x.(library(x)\\ \\rightarrow\\ \\forall\\ z_{1220}.(boy(z_{1220})\\ \\rightarrow\\ \\forall\\ z_{1219}.(girl(z_{1219})\\ \\rightarrow\\ \\exists\\ z_{1218}.(book(z_{1218})\\ \\land\\ give(x,z_{1219},z_{1218})\\ \\land\\ give(x,z_{1220},z_{1218})))))$"
      ],
      "text/plain": [
       "<IPython.core.display.Markdown object>"
      ]
     },
     "metadata": {},
     "output_type": "display_data"
    },
    {
     "data": {
      "text/markdown": [
       "\"11\": $\\forall\\ x.(girl(x)\\ \\rightarrow\\ \\forall\\ z_{1223}.(library(z_{1223})\\ \\rightarrow\\ \\forall\\ z_{1222}.(boy(z_{1222})\\ \\rightarrow\\ \\exists\\ z_{1221}.(book(z_{1221})\\ \\land\\ give(z_{1223},x,z_{1221})\\ \\land\\ give(z_{1223},z_{1222},z_{1221})))))$"
      ],
      "text/plain": [
       "<IPython.core.display.Markdown object>"
      ]
     },
     "metadata": {},
     "output_type": "display_data"
    },
    {
     "data": {
      "text/markdown": [
       "\"12\": $\\forall\\ x.(library(x)\\ \\rightarrow\\ \\forall\\ z_{1226}.(girl(z_{1226})\\ \\rightarrow\\ \\forall\\ z_{1225}.(boy(z_{1225})\\ \\rightarrow\\ \\exists\\ z_{1224}.(book(z_{1224})\\ \\land\\ give(x,z_{1226},z_{1224})\\ \\land\\ give(x,z_{1225},z_{1224})))))$"
      ],
      "text/plain": [
       "<IPython.core.display.Markdown object>"
      ]
     },
     "metadata": {},
     "output_type": "display_data"
    },
    {
     "data": {
      "text/markdown": [
       "\"13\": $\\forall\\ x.(boy(x)\\ \\rightarrow\\ \\exists\\ z_{1229}.(book(z_{1229})\\ \\land\\ \\forall\\ z_{1228}.(library(z_{1228})\\ \\rightarrow\\ \\forall\\ z_{1227}.(girl(z_{1227})\\ \\rightarrow\\ (give(z_{1228},z_{1227},z_{1229})\\ \\land\\ give(z_{1228},x,z_{1229}))))))$"
      ],
      "text/plain": [
       "<IPython.core.display.Markdown object>"
      ]
     },
     "metadata": {},
     "output_type": "display_data"
    },
    {
     "data": {
      "text/markdown": [
       "\"14\": $\\exists\\ x.(book(x)\\ \\land\\ \\forall\\ z_{1232}.(boy(z_{1232})\\ \\rightarrow\\ \\forall\\ z_{1231}.(library(z_{1231})\\ \\rightarrow\\ \\forall\\ z_{1230}.(girl(z_{1230})\\ \\rightarrow\\ (give(z_{1231},z_{1230},x)\\ \\land\\ give(z_{1231},z_{1232},x))))))$"
      ],
      "text/plain": [
       "<IPython.core.display.Markdown object>"
      ]
     },
     "metadata": {},
     "output_type": "display_data"
    },
    {
     "data": {
      "text/markdown": [
       "\"15\": $\\forall\\ x.(boy(x)\\ \\rightarrow\\ \\forall\\ z_{1235}.(library(z_{1235})\\ \\rightarrow\\ \\exists\\ z_{1234}.(book(z_{1234})\\ \\land\\ \\forall\\ z_{1233}.(girl(z_{1233})\\ \\rightarrow\\ (give(z_{1235},z_{1233},z_{1234})\\ \\land\\ give(z_{1235},x,z_{1234}))))))$"
      ],
      "text/plain": [
       "<IPython.core.display.Markdown object>"
      ]
     },
     "metadata": {},
     "output_type": "display_data"
    },
    {
     "data": {
      "text/markdown": [
       "\"16\": $\\forall\\ x.(library(x)\\ \\rightarrow\\ \\forall\\ z_{1238}.(boy(z_{1238})\\ \\rightarrow\\ \\exists\\ z_{1237}.(book(z_{1237})\\ \\land\\ \\forall\\ z_{1236}.(girl(z_{1236})\\ \\rightarrow\\ (give(x,z_{1236},z_{1237})\\ \\land\\ give(x,z_{1238},z_{1237}))))))$"
      ],
      "text/plain": [
       "<IPython.core.display.Markdown object>"
      ]
     },
     "metadata": {},
     "output_type": "display_data"
    },
    {
     "data": {
      "text/markdown": [
       "\"17\": $\\exists\\ x.(book(x)\\ \\land\\ \\forall\\ z_{1241}.(library(z_{1241})\\ \\rightarrow\\ \\forall\\ z_{1240}.(boy(z_{1240})\\ \\rightarrow\\ \\forall\\ z_{1239}.(girl(z_{1239})\\ \\rightarrow\\ (give(z_{1241},z_{1239},x)\\ \\land\\ give(z_{1241},z_{1240},x))))))$"
      ],
      "text/plain": [
       "<IPython.core.display.Markdown object>"
      ]
     },
     "metadata": {},
     "output_type": "display_data"
    },
    {
     "data": {
      "text/markdown": [
       "\"18\": $\\forall\\ x.(library(x)\\ \\rightarrow\\ \\exists\\ z_{1244}.(book(z_{1244})\\ \\land\\ \\forall\\ z_{1243}.(boy(z_{1243})\\ \\rightarrow\\ \\forall\\ z_{1242}.(girl(z_{1242})\\ \\rightarrow\\ (give(x,z_{1242},z_{1244})\\ \\land\\ give(x,z_{1243},z_{1244}))))))$"
      ],
      "text/plain": [
       "<IPython.core.display.Markdown object>"
      ]
     },
     "metadata": {},
     "output_type": "display_data"
    },
    {
     "data": {
      "text/markdown": [
       "\"19\": $\\forall\\ x.(girl(x)\\ \\rightarrow\\ \\exists\\ z_{1247}.(book(z_{1247})\\ \\land\\ \\forall\\ z_{1246}.(library(z_{1246})\\ \\rightarrow\\ \\forall\\ z_{1245}.(boy(z_{1245})\\ \\rightarrow\\ (give(z_{1246},x,z_{1247})\\ \\land\\ give(z_{1246},z_{1245},z_{1247}))))))$"
      ],
      "text/plain": [
       "<IPython.core.display.Markdown object>"
      ]
     },
     "metadata": {},
     "output_type": "display_data"
    },
    {
     "data": {
      "text/markdown": [
       "\"20\": $\\exists\\ x.(book(x)\\ \\land\\ \\forall\\ z_{1250}.(girl(z_{1250})\\ \\rightarrow\\ \\forall\\ z_{1249}.(library(z_{1249})\\ \\rightarrow\\ \\forall\\ z_{1248}.(boy(z_{1248})\\ \\rightarrow\\ (give(z_{1249},z_{1250},x)\\ \\land\\ give(z_{1249},z_{1248},x))))))$"
      ],
      "text/plain": [
       "<IPython.core.display.Markdown object>"
      ]
     },
     "metadata": {},
     "output_type": "display_data"
    },
    {
     "data": {
      "text/markdown": [
       "\"21\": $\\forall\\ x.(girl(x)\\ \\rightarrow\\ \\forall\\ z_{1253}.(library(z_{1253})\\ \\rightarrow\\ \\exists\\ z_{1252}.(book(z_{1252})\\ \\land\\ \\forall\\ z_{1251}.(boy(z_{1251})\\ \\rightarrow\\ (give(z_{1253},x,z_{1252})\\ \\land\\ give(z_{1253},z_{1251},z_{1252}))))))$"
      ],
      "text/plain": [
       "<IPython.core.display.Markdown object>"
      ]
     },
     "metadata": {},
     "output_type": "display_data"
    },
    {
     "data": {
      "text/markdown": [
       "\"22\": $\\forall\\ x.(library(x)\\ \\rightarrow\\ \\forall\\ z_{1256}.(girl(z_{1256})\\ \\rightarrow\\ \\exists\\ z_{1255}.(book(z_{1255})\\ \\land\\ \\forall\\ z_{1254}.(boy(z_{1254})\\ \\rightarrow\\ (give(x,z_{1256},z_{1255})\\ \\land\\ give(x,z_{1254},z_{1255}))))))$"
      ],
      "text/plain": [
       "<IPython.core.display.Markdown object>"
      ]
     },
     "metadata": {},
     "output_type": "display_data"
    },
    {
     "data": {
      "text/markdown": [
       "\"23\": $\\exists\\ x.(book(x)\\ \\land\\ \\forall\\ z_{1259}.(library(z_{1259})\\ \\rightarrow\\ \\forall\\ z_{1258}.(girl(z_{1258})\\ \\rightarrow\\ \\forall\\ z_{1257}.(boy(z_{1257})\\ \\rightarrow\\ (give(z_{1259},z_{1258},x)\\ \\land\\ give(z_{1259},z_{1257},x))))))$"
      ],
      "text/plain": [
       "<IPython.core.display.Markdown object>"
      ]
     },
     "metadata": {},
     "output_type": "display_data"
    },
    {
     "data": {
      "text/markdown": [
       "\"24\": $\\forall\\ x.(library(x)\\ \\rightarrow\\ \\exists\\ z_{1262}.(book(z_{1262})\\ \\land\\ \\forall\\ z_{1261}.(girl(z_{1261})\\ \\rightarrow\\ \\forall\\ z_{1260}.(boy(z_{1260})\\ \\rightarrow\\ (give(x,z_{1261},z_{1262})\\ \\land\\ give(x,z_{1260},z_{1262}))))))$"
      ],
      "text/plain": [
       "<IPython.core.display.Markdown object>"
      ]
     },
     "metadata": {},
     "output_type": "display_data"
    },
    {
     "name": "stdout",
     "output_type": "stream",
     "text": [
      "2. no library gives every book to a boy\n"
     ]
    },
    {
     "data": {
      "text/markdown": [
       "\"1\": $\\exists\\ x.(boy(x)\\ \\land\\ \\forall\\ z_{1264}.(book(z_{1264})\\ \\rightarrow\\ -\\exists\\ z_{1263}.(library(z_{1263})\\ \\land\\ give(z_{1263},x,z_{1264}))))$"
      ],
      "text/plain": [
       "<IPython.core.display.Markdown object>"
      ]
     },
     "metadata": {},
     "output_type": "display_data"
    },
    {
     "data": {
      "text/markdown": [
       "\"2\": $\\forall\\ x.(book(x)\\ \\rightarrow\\ \\exists\\ z_{1266}.(boy(z_{1266})\\ \\land\\ -\\exists\\ z_{1265}.(library(z_{1265})\\ \\land\\ give(z_{1265},z_{1266},x))))$"
      ],
      "text/plain": [
       "<IPython.core.display.Markdown object>"
      ]
     },
     "metadata": {},
     "output_type": "display_data"
    },
    {
     "data": {
      "text/markdown": [
       "\"3\": $\\exists\\ x.(boy(x)\\ \\land\\ -\\exists\\ z_{1268}.(library(z_{1268})\\ \\land\\ \\forall\\ z_{1267}.(book(z_{1267})\\ \\rightarrow\\ give(z_{1268},x,z_{1267}))))$"
      ],
      "text/plain": [
       "<IPython.core.display.Markdown object>"
      ]
     },
     "metadata": {},
     "output_type": "display_data"
    },
    {
     "data": {
      "text/markdown": [
       "\"4\": $-\\exists\\ x.(library(x)\\ \\land\\ \\exists\\ z_{1270}.(boy(z_{1270})\\ \\land\\ \\forall\\ z_{1269}.(book(z_{1269})\\ \\rightarrow\\ give(x,z_{1270},z_{1269}))))$"
      ],
      "text/plain": [
       "<IPython.core.display.Markdown object>"
      ]
     },
     "metadata": {},
     "output_type": "display_data"
    },
    {
     "data": {
      "text/markdown": [
       "\"5\": $\\forall\\ x.(book(x)\\ \\rightarrow\\ -\\exists\\ z_{1272}.(library(z_{1272})\\ \\land\\ \\exists\\ z_{1271}.(boy(z_{1271})\\ \\land\\ give(z_{1272},z_{1271},x))))$"
      ],
      "text/plain": [
       "<IPython.core.display.Markdown object>"
      ]
     },
     "metadata": {},
     "output_type": "display_data"
    },
    {
     "data": {
      "text/markdown": [
       "\"6\": $-\\exists\\ x.(library(x)\\ \\land\\ \\forall\\ z_{1274}.(book(z_{1274})\\ \\rightarrow\\ \\exists\\ z_{1273}.(boy(z_{1273})\\ \\land\\ give(x,z_{1273},z_{1274}))))$"
      ],
      "text/plain": [
       "<IPython.core.display.Markdown object>"
      ]
     },
     "metadata": {},
     "output_type": "display_data"
    },
    {
     "name": "stdout",
     "output_type": "stream",
     "text": [
      "3. a boy and a girl read all books\n"
     ]
    },
    {
     "data": {
      "text/markdown": [
       "\"1\": $\\forall\\ x.(book(x)\\ \\rightarrow\\ \\exists\\ z_{1276}.(girl(z_{1276})\\ \\land\\ \\exists\\ z_{1275}.(boy(z_{1275})\\ \\land\\ read(z_{1275},x)\\ \\land\\ read(z_{1276},x))))$"
      ],
      "text/plain": [
       "<IPython.core.display.Markdown object>"
      ]
     },
     "metadata": {},
     "output_type": "display_data"
    },
    {
     "data": {
      "text/markdown": [
       "\"2\": $\\exists\\ x.(girl(x)\\ \\land\\ \\forall\\ z_{1278}.(book(z_{1278})\\ \\rightarrow\\ \\exists\\ z_{1277}.(boy(z_{1277})\\ \\land\\ read(z_{1277},z_{1278})\\ \\land\\ read(x,z_{1278}))))$"
      ],
      "text/plain": [
       "<IPython.core.display.Markdown object>"
      ]
     },
     "metadata": {},
     "output_type": "display_data"
    },
    {
     "data": {
      "text/markdown": [
       "\"3\": $\\forall\\ x.(book(x)\\ \\rightarrow\\ \\exists\\ z_{1280}.(boy(z_{1280})\\ \\land\\ \\exists\\ z_{1279}.(girl(z_{1279})\\ \\land\\ read(z_{1280},x)\\ \\land\\ read(z_{1279},x))))$"
      ],
      "text/plain": [
       "<IPython.core.display.Markdown object>"
      ]
     },
     "metadata": {},
     "output_type": "display_data"
    },
    {
     "data": {
      "text/markdown": [
       "\"4\": $\\exists\\ x.(boy(x)\\ \\land\\ \\forall\\ z_{1282}.(book(z_{1282})\\ \\rightarrow\\ \\exists\\ z_{1281}.(girl(z_{1281})\\ \\land\\ read(x,z_{1282})\\ \\land\\ read(z_{1281},z_{1282}))))$"
      ],
      "text/plain": [
       "<IPython.core.display.Markdown object>"
      ]
     },
     "metadata": {},
     "output_type": "display_data"
    },
    {
     "data": {
      "text/markdown": [
       "\"5\": $\\exists\\ x.(girl(x)\\ \\land\\ \\exists\\ z_{1284}.(boy(z_{1284})\\ \\land\\ \\forall\\ z_{1283}.(book(z_{1283})\\ \\rightarrow\\ (read(z_{1284},z_{1283})\\ \\land\\ read(x,z_{1283})))))$"
      ],
      "text/plain": [
       "<IPython.core.display.Markdown object>"
      ]
     },
     "metadata": {},
     "output_type": "display_data"
    },
    {
     "data": {
      "text/markdown": [
       "\"6\": $\\exists\\ x.(boy(x)\\ \\land\\ \\exists\\ z_{1286}.(girl(z_{1286})\\ \\land\\ \\forall\\ z_{1285}.(book(z_{1285})\\ \\rightarrow\\ (read(x,z_{1285})\\ \\land\\ read(z_{1286},z_{1285})))))$"
      ],
      "text/plain": [
       "<IPython.core.display.Markdown object>"
      ]
     },
     "metadata": {},
     "output_type": "display_data"
    },
    {
     "name": "stdout",
     "output_type": "stream",
     "text": [
      "4. Angus and Irene read all books\n"
     ]
    },
    {
     "data": {
      "text/markdown": [
       "\"1\": $\\forall\\ x.(book(x)\\ \\rightarrow\\ (read(angus,x)\\ \\land\\ read(irene,x)))$"
      ],
      "text/plain": [
       "<IPython.core.display.Markdown object>"
      ]
     },
     "metadata": {},
     "output_type": "display_data"
    }
   ],
   "source": [
    "sentences = [\n",
    "    'every library gives a book to every girl and every boy',\n",
    "    'no library gives every book to a boy',\n",
    "    'a boy and a girl read all books',\n",
    "    'Angus and Irene read all books',\n",
    "]\n",
    "\n",
    "# your answers\n",
    "fcfg_storage_answers_1 = r\"\"\"\n",
    "### Replace X with their proper representations\n",
    "Det[NUM=sg,SEM=[CORE=<\\P Q.(- exists x.(P(x) & Q(x)))>, STORE=(/)]] -> 'no'\n",
    "Det[NUM=pl,SEM=[CORE=<\\P \\Q. all x.(P(x) -> Q(x))>, STORE=(/)]] -> 'all'\n",
    "N[NUM=pl,SEM=[CORE=<\\x.book(x)>, STORE=(/)]] -> 'books'\n",
    "TV[NUM=pl,SEM=[CORE=<\\X x.X(\\y.read(x,y))>,STORE=(/)],TNS=pres] -> 'read'\n",
    "\"\"\"\n",
    "\n",
    "fcfg_storage_answers_2 = r\"\"\"\n",
    "### Correct the conjunction rule here. Replace xxx and ??? with the correct answer:\n",
    "NP[NUM=?n, SEM=[CORE=<\\P.(?n1(P) & ?n2(P))>, STORE=(?b1+?b2)]] -> NP[NUM=?num1, SEM=[CORE=?n1, STORE=?b1]] CONJ NP[NUM=?num2, SEM=[CORE=?n2, STORE=?b2]]\n",
    "CONJ -> 'and' \n",
    "\"\"\"\n",
    "\n",
    "fcfg_storage = fcfg_storage_base + fcfg_storage_np + fcfg_storage_lexicon + fcfg_storage_answers_1 + fcfg_storage_answers_2\n",
    "cs_syntax = FeatureGrammar.fromstring(fcfg_storage)\n",
    "sents_reps = sem_parser(sentences, cs_syntax, verbose=False, is_cs=True)\n",
    "\n",
    "for i, (sent, semreps) in enumerate(sents_reps.items()):\n",
    "    counter = 0\n",
    "    print(f\"{i+1}. {sent}\")\n",
    "    for semrep in semreps:\n",
    "        counter += 1\n",
    "        display_translation(counter, semrep)"
   ]
  },
  {
   "cell_type": "markdown",
   "metadata": {},
   "source": [
    "**2c.** Add the quantified expressions to the `STORE` only in the conjunction rule. Compare the number of readings you get now for the sentence below. Are there any invalid readings? If so, why? **[3 marks]**"
   ]
  },
  {
   "cell_type": "code",
   "execution_count": 17,
   "metadata": {},
   "outputs": [
    {
     "name": "stdout",
     "output_type": "stream",
     "text": [
      "1. every library gives a book to every girl and every boy\n"
     ]
    },
    {
     "data": {
      "text/markdown": [
       "\"1\": $\\forall\\ x.(boy(x)\\ \\rightarrow\\ \\forall\\ z_{762}.(girl(z_{762})\\ \\rightarrow\\ (\\exists\\ z_{760}.(book(z_{760})\\ \\land\\ \\forall\\ z_{759}.(library(z_{759})\\ \\rightarrow\\ give(z_{759},z_{762},z_{760})))\\ \\land\\ \\exists\\ z_{761}.(book(z_{761})\\ \\land\\ \\forall\\ z_{759}.(library(z_{759})\\ \\rightarrow\\ give(z_{759},x,z_{761}))))))$"
      ],
      "text/plain": [
       "<IPython.core.display.Markdown object>"
      ]
     },
     "metadata": {},
     "output_type": "display_data"
    },
    {
     "data": {
      "text/markdown": [
       "\"2\": $\\forall\\ x.(girl(x)\\ \\rightarrow\\ \\forall\\ z_{766}.(boy(z_{766})\\ \\rightarrow\\ (\\exists\\ z_{764}.(book(z_{764})\\ \\land\\ \\forall\\ z_{763}.(library(z_{763})\\ \\rightarrow\\ give(z_{763},x,z_{764})))\\ \\land\\ \\exists\\ z_{765}.(book(z_{765})\\ \\land\\ \\forall\\ z_{763}.(library(z_{763})\\ \\rightarrow\\ give(z_{763},z_{766},z_{765}))))))$"
      ],
      "text/plain": [
       "<IPython.core.display.Markdown object>"
      ]
     },
     "metadata": {},
     "output_type": "display_data"
    },
    {
     "data": {
      "text/markdown": [
       "\"3\": $\\forall\\ x.(boy(x)\\ \\rightarrow\\ (\\forall\\ z_{769}.(girl(z_{769})\\ \\rightarrow\\ \\exists\\ z_{768}.(book(z_{768})\\ \\land\\ \\forall\\ z_{767}.(library(z_{767})\\ \\rightarrow\\ give(z_{767},@x9,z_{768}))))\\ \\land\\ \\forall\\ z_{770}.(girl(z_{770})\\ \\rightarrow\\ \\exists\\ z_{768}.(book(z_{768})\\ \\land\\ \\forall\\ z_{767}.(library(z_{767})\\ \\rightarrow\\ give(z_{767},x,z_{768}))))))$"
      ],
      "text/plain": [
       "<IPython.core.display.Markdown object>"
      ]
     },
     "metadata": {},
     "output_type": "display_data"
    },
    {
     "data": {
      "text/markdown": [
       "\"4\": $(\\forall\\ x.(boy(x)\\ \\rightarrow\\ \\forall\\ z_{773}.(girl(z_{773})\\ \\rightarrow\\ \\exists\\ z_{772}.(book(z_{772})\\ \\land\\ \\forall\\ z_{771}.(library(z_{771})\\ \\rightarrow\\ give(z_{771},@x9,z_{772})))))\\ \\land\\ \\forall\\ x.(boy(x)\\ \\rightarrow\\ \\forall\\ z_{773}.(girl(z_{773})\\ \\rightarrow\\ \\exists\\ z_{772}.(book(z_{772})\\ \\land\\ \\forall\\ z_{771}.(library(z_{771})\\ \\rightarrow\\ give(z_{771},@x6,z_{772}))))))$"
      ],
      "text/plain": [
       "<IPython.core.display.Markdown object>"
      ]
     },
     "metadata": {},
     "output_type": "display_data"
    },
    {
     "data": {
      "text/markdown": [
       "\"5\": $\\forall\\ x.(girl(x)\\ \\rightarrow\\ (\\forall\\ z_{776}.(boy(z_{776})\\ \\rightarrow\\ \\exists\\ z_{775}.(book(z_{775})\\ \\land\\ \\forall\\ z_{774}.(library(z_{774})\\ \\rightarrow\\ give(z_{774},x,z_{775}))))\\ \\land\\ \\forall\\ z_{777}.(boy(z_{777})\\ \\rightarrow\\ \\exists\\ z_{775}.(book(z_{775})\\ \\land\\ \\forall\\ z_{774}.(library(z_{774})\\ \\rightarrow\\ give(z_{774},@x6,z_{775}))))))$"
      ],
      "text/plain": [
       "<IPython.core.display.Markdown object>"
      ]
     },
     "metadata": {},
     "output_type": "display_data"
    },
    {
     "data": {
      "text/markdown": [
       "\"6\": $(\\forall\\ x.(girl(x)\\ \\rightarrow\\ \\forall\\ z_{780}.(boy(z_{780})\\ \\rightarrow\\ \\exists\\ z_{779}.(book(z_{779})\\ \\land\\ \\forall\\ z_{778}.(library(z_{778})\\ \\rightarrow\\ give(z_{778},@x9,z_{779})))))\\ \\land\\ \\forall\\ x.(girl(x)\\ \\rightarrow\\ \\forall\\ z_{780}.(boy(z_{780})\\ \\rightarrow\\ \\exists\\ z_{779}.(book(z_{779})\\ \\land\\ \\forall\\ z_{778}.(library(z_{778})\\ \\rightarrow\\ give(z_{778},@x6,z_{779}))))))$"
      ],
      "text/plain": [
       "<IPython.core.display.Markdown object>"
      ]
     },
     "metadata": {},
     "output_type": "display_data"
    },
    {
     "data": {
      "text/markdown": [
       "\"7\": $\\forall\\ x.(boy(x)\\ \\rightarrow\\ \\forall\\ z_{784}.(girl(z_{784})\\ \\rightarrow\\ \\exists\\ z_{783}.(book(z_{783})\\ \\land\\ \\forall\\ z_{781}.(library(z_{781})\\ \\rightarrow\\ give(z_{781},z_{784},z_{783}))\\ \\land\\ \\forall\\ z_{782}.(library(z_{782})\\ \\rightarrow\\ give(z_{782},x,z_{783})))))$"
      ],
      "text/plain": [
       "<IPython.core.display.Markdown object>"
      ]
     },
     "metadata": {},
     "output_type": "display_data"
    },
    {
     "data": {
      "text/markdown": [
       "\"8\": $\\forall\\ x.(girl(x)\\ \\rightarrow\\ \\forall\\ z_{788}.(boy(z_{788})\\ \\rightarrow\\ \\exists\\ z_{787}.(book(z_{787})\\ \\land\\ \\forall\\ z_{785}.(library(z_{785})\\ \\rightarrow\\ give(z_{785},x,z_{787}))\\ \\land\\ \\forall\\ z_{786}.(library(z_{786})\\ \\rightarrow\\ give(z_{786},z_{788},z_{787})))))$"
      ],
      "text/plain": [
       "<IPython.core.display.Markdown object>"
      ]
     },
     "metadata": {},
     "output_type": "display_data"
    },
    {
     "data": {
      "text/markdown": [
       "\"9\": $\\forall\\ x.(boy(x)\\ \\rightarrow\\ \\exists\\ z_{792}.(book(z_{792})\\ \\land\\ \\forall\\ z_{791}.(girl(z_{791})\\ \\rightarrow\\ (\\forall\\ z_{789}.(library(z_{789})\\ \\rightarrow\\ give(z_{789},z_{791},z_{792}))\\ \\land\\ \\forall\\ z_{790}.(library(z_{790})\\ \\rightarrow\\ give(z_{790},x,z_{792}))))))$"
      ],
      "text/plain": [
       "<IPython.core.display.Markdown object>"
      ]
     },
     "metadata": {},
     "output_type": "display_data"
    },
    {
     "data": {
      "text/markdown": [
       "\"10\": $\\exists\\ x.(book(x)\\ \\land\\ \\forall\\ z_{796}.(boy(z_{796})\\ \\rightarrow\\ \\forall\\ z_{795}.(girl(z_{795})\\ \\rightarrow\\ (\\forall\\ z_{793}.(library(z_{793})\\ \\rightarrow\\ give(z_{793},z_{795},x))\\ \\land\\ \\forall\\ z_{794}.(library(z_{794})\\ \\rightarrow\\ give(z_{794},z_{796},x))))))$"
      ],
      "text/plain": [
       "<IPython.core.display.Markdown object>"
      ]
     },
     "metadata": {},
     "output_type": "display_data"
    },
    {
     "data": {
      "text/markdown": [
       "\"11\": $\\forall\\ x.(girl(x)\\ \\rightarrow\\ \\exists\\ z_{800}.(book(z_{800})\\ \\land\\ \\forall\\ z_{799}.(boy(z_{799})\\ \\rightarrow\\ (\\forall\\ z_{797}.(library(z_{797})\\ \\rightarrow\\ give(z_{797},x,z_{800}))\\ \\land\\ \\forall\\ z_{798}.(library(z_{798})\\ \\rightarrow\\ give(z_{798},z_{799},z_{800}))))))$"
      ],
      "text/plain": [
       "<IPython.core.display.Markdown object>"
      ]
     },
     "metadata": {},
     "output_type": "display_data"
    },
    {
     "data": {
      "text/markdown": [
       "\"12\": $\\exists\\ x.(book(x)\\ \\land\\ \\forall\\ z_{804}.(girl(z_{804})\\ \\rightarrow\\ \\forall\\ z_{803}.(boy(z_{803})\\ \\rightarrow\\ (\\forall\\ z_{801}.(library(z_{801})\\ \\rightarrow\\ give(z_{801},z_{804},x))\\ \\land\\ \\forall\\ z_{802}.(library(z_{802})\\ \\rightarrow\\ give(z_{802},z_{803},x))))))$"
      ],
      "text/plain": [
       "<IPython.core.display.Markdown object>"
      ]
     },
     "metadata": {},
     "output_type": "display_data"
    },
    {
     "data": {
      "text/markdown": [
       "\"13\": $\\forall\\ x.(boy(x)\\ \\rightarrow\\ (\\exists\\ z_{807}.(book(z_{807})\\ \\land\\ \\forall\\ z_{806}.(girl(z_{806})\\ \\rightarrow\\ \\forall\\ z_{805}.(library(z_{805})\\ \\rightarrow\\ give(z_{805},@x9,z_{807}))))\\ \\land\\ \\exists\\ z_{808}.(book(z_{808})\\ \\land\\ \\forall\\ z_{806}.(girl(z_{806})\\ \\rightarrow\\ \\forall\\ z_{805}.(library(z_{805})\\ \\rightarrow\\ give(z_{805},x,z_{808}))))))$"
      ],
      "text/plain": [
       "<IPython.core.display.Markdown object>"
      ]
     },
     "metadata": {},
     "output_type": "display_data"
    },
    {
     "data": {
      "text/markdown": [
       "\"14\": $(\\forall\\ x.(boy(x)\\ \\rightarrow\\ \\exists\\ z_{811}.(book(z_{811})\\ \\land\\ \\forall\\ z_{810}.(girl(z_{810})\\ \\rightarrow\\ \\forall\\ z_{809}.(library(z_{809})\\ \\rightarrow\\ give(z_{809},@x9,z_{811})))))\\ \\land\\ \\forall\\ x.(boy(x)\\ \\rightarrow\\ \\exists\\ z_{811}.(book(z_{811})\\ \\land\\ \\forall\\ z_{810}.(girl(z_{810})\\ \\rightarrow\\ \\forall\\ z_{809}.(library(z_{809})\\ \\rightarrow\\ give(z_{809},@x6,z_{811}))))))$"
      ],
      "text/plain": [
       "<IPython.core.display.Markdown object>"
      ]
     },
     "metadata": {},
     "output_type": "display_data"
    },
    {
     "data": {
      "text/markdown": [
       "\"15\": $\\forall\\ x.(boy(x)\\ \\rightarrow\\ \\exists\\ z_{815}.(book(z_{815})\\ \\land\\ \\forall\\ z_{813}.(girl(z_{813})\\ \\rightarrow\\ \\forall\\ z_{812}.(library(z_{812})\\ \\rightarrow\\ give(z_{812},@x9,z_{815})))\\ \\land\\ \\forall\\ z_{814}.(girl(z_{814})\\ \\rightarrow\\ \\forall\\ z_{812}.(library(z_{812})\\ \\rightarrow\\ give(z_{812},x,z_{815})))))$"
      ],
      "text/plain": [
       "<IPython.core.display.Markdown object>"
      ]
     },
     "metadata": {},
     "output_type": "display_data"
    },
    {
     "data": {
      "text/markdown": [
       "\"16\": $\\exists\\ x.(book(x)\\ \\land\\ \\forall\\ z_{819}.(boy(z_{819})\\ \\rightarrow\\ (\\forall\\ z_{817}.(girl(z_{817})\\ \\rightarrow\\ \\forall\\ z_{816}.(library(z_{816})\\ \\rightarrow\\ give(z_{816},@x9,x)))\\ \\land\\ \\forall\\ z_{818}.(girl(z_{818})\\ \\rightarrow\\ \\forall\\ z_{816}.(library(z_{816})\\ \\rightarrow\\ give(z_{816},z_{819},x))))))$"
      ],
      "text/plain": [
       "<IPython.core.display.Markdown object>"
      ]
     },
     "metadata": {},
     "output_type": "display_data"
    },
    {
     "data": {
      "text/markdown": [
       "\"17\": $(\\exists\\ x.(book(x)\\ \\land\\ \\forall\\ z_{822}.(boy(z_{822})\\ \\rightarrow\\ \\forall\\ z_{821}.(girl(z_{821})\\ \\rightarrow\\ \\forall\\ z_{820}.(library(z_{820})\\ \\rightarrow\\ give(z_{820},@x9,x)))))\\ \\land\\ \\exists\\ x.(book(x)\\ \\land\\ \\forall\\ z_{822}.(boy(z_{822})\\ \\rightarrow\\ \\forall\\ z_{821}.(girl(z_{821})\\ \\rightarrow\\ \\forall\\ z_{820}.(library(z_{820})\\ \\rightarrow\\ give(z_{820},@x6,x))))))$"
      ],
      "text/plain": [
       "<IPython.core.display.Markdown object>"
      ]
     },
     "metadata": {},
     "output_type": "display_data"
    },
    {
     "data": {
      "text/markdown": [
       "\"18\": $\\exists\\ x.(book(x)\\ \\land\\ \\forall\\ z_{825}.(boy(z_{825})\\ \\rightarrow\\ \\forall\\ z_{824}.(girl(z_{824})\\ \\rightarrow\\ \\forall\\ z_{823}.(library(z_{823})\\ \\rightarrow\\ give(z_{823},@x9,x))))\\ \\land\\ \\forall\\ z_{826}.(boy(z_{826})\\ \\rightarrow\\ \\forall\\ z_{824}.(girl(z_{824})\\ \\rightarrow\\ \\forall\\ z_{823}.(library(z_{823})\\ \\rightarrow\\ give(z_{823},@x6,x)))))$"
      ],
      "text/plain": [
       "<IPython.core.display.Markdown object>"
      ]
     },
     "metadata": {},
     "output_type": "display_data"
    },
    {
     "data": {
      "text/markdown": [
       "\"19\": $\\forall\\ x.(girl(x)\\ \\rightarrow\\ (\\exists\\ z_{829}.(book(z_{829})\\ \\land\\ \\forall\\ z_{828}.(boy(z_{828})\\ \\rightarrow\\ \\forall\\ z_{827}.(library(z_{827})\\ \\rightarrow\\ give(z_{827},x,z_{829}))))\\ \\land\\ \\exists\\ z_{830}.(book(z_{830})\\ \\land\\ \\forall\\ z_{828}.(boy(z_{828})\\ \\rightarrow\\ \\forall\\ z_{827}.(library(z_{827})\\ \\rightarrow\\ give(z_{827},@x6,z_{830}))))))$"
      ],
      "text/plain": [
       "<IPython.core.display.Markdown object>"
      ]
     },
     "metadata": {},
     "output_type": "display_data"
    },
    {
     "data": {
      "text/markdown": [
       "\"20\": $(\\forall\\ x.(girl(x)\\ \\rightarrow\\ \\exists\\ z_{833}.(book(z_{833})\\ \\land\\ \\forall\\ z_{832}.(boy(z_{832})\\ \\rightarrow\\ \\forall\\ z_{831}.(library(z_{831})\\ \\rightarrow\\ give(z_{831},@x9,z_{833})))))\\ \\land\\ \\forall\\ x.(girl(x)\\ \\rightarrow\\ \\exists\\ z_{833}.(book(z_{833})\\ \\land\\ \\forall\\ z_{832}.(boy(z_{832})\\ \\rightarrow\\ \\forall\\ z_{831}.(library(z_{831})\\ \\rightarrow\\ give(z_{831},@x6,z_{833}))))))$"
      ],
      "text/plain": [
       "<IPython.core.display.Markdown object>"
      ]
     },
     "metadata": {},
     "output_type": "display_data"
    },
    {
     "data": {
      "text/markdown": [
       "\"21\": $\\forall\\ x.(girl(x)\\ \\rightarrow\\ \\exists\\ z_{837}.(book(z_{837})\\ \\land\\ \\forall\\ z_{835}.(boy(z_{835})\\ \\rightarrow\\ \\forall\\ z_{834}.(library(z_{834})\\ \\rightarrow\\ give(z_{834},x,z_{837})))\\ \\land\\ \\forall\\ z_{836}.(boy(z_{836})\\ \\rightarrow\\ \\forall\\ z_{834}.(library(z_{834})\\ \\rightarrow\\ give(z_{834},@x6,z_{837})))))$"
      ],
      "text/plain": [
       "<IPython.core.display.Markdown object>"
      ]
     },
     "metadata": {},
     "output_type": "display_data"
    },
    {
     "data": {
      "text/markdown": [
       "\"22\": $\\exists\\ x.(book(x)\\ \\land\\ \\forall\\ z_{841}.(girl(z_{841})\\ \\rightarrow\\ (\\forall\\ z_{839}.(boy(z_{839})\\ \\rightarrow\\ \\forall\\ z_{838}.(library(z_{838})\\ \\rightarrow\\ give(z_{838},z_{841},x)))\\ \\land\\ \\forall\\ z_{840}.(boy(z_{840})\\ \\rightarrow\\ \\forall\\ z_{838}.(library(z_{838})\\ \\rightarrow\\ give(z_{838},@x6,x))))))$"
      ],
      "text/plain": [
       "<IPython.core.display.Markdown object>"
      ]
     },
     "metadata": {},
     "output_type": "display_data"
    },
    {
     "data": {
      "text/markdown": [
       "\"23\": $(\\exists\\ x.(book(x)\\ \\land\\ \\forall\\ z_{844}.(girl(z_{844})\\ \\rightarrow\\ \\forall\\ z_{843}.(boy(z_{843})\\ \\rightarrow\\ \\forall\\ z_{842}.(library(z_{842})\\ \\rightarrow\\ give(z_{842},@x9,x)))))\\ \\land\\ \\exists\\ x.(book(x)\\ \\land\\ \\forall\\ z_{844}.(girl(z_{844})\\ \\rightarrow\\ \\forall\\ z_{843}.(boy(z_{843})\\ \\rightarrow\\ \\forall\\ z_{842}.(library(z_{842})\\ \\rightarrow\\ give(z_{842},@x6,x))))))$"
      ],
      "text/plain": [
       "<IPython.core.display.Markdown object>"
      ]
     },
     "metadata": {},
     "output_type": "display_data"
    },
    {
     "data": {
      "text/markdown": [
       "\"24\": $\\exists\\ x.(book(x)\\ \\land\\ \\forall\\ z_{847}.(girl(z_{847})\\ \\rightarrow\\ \\forall\\ z_{846}.(boy(z_{846})\\ \\rightarrow\\ \\forall\\ z_{845}.(library(z_{845})\\ \\rightarrow\\ give(z_{845},@x9,x))))\\ \\land\\ \\forall\\ z_{848}.(girl(z_{848})\\ \\rightarrow\\ \\forall\\ z_{846}.(boy(z_{846})\\ \\rightarrow\\ \\forall\\ z_{845}.(library(z_{845})\\ \\rightarrow\\ give(z_{845},@x6,x)))))$"
      ],
      "text/plain": [
       "<IPython.core.display.Markdown object>"
      ]
     },
     "metadata": {},
     "output_type": "display_data"
    },
    {
     "data": {
      "text/markdown": [
       "\"25\": $\\forall\\ x.(boy(x)\\ \\rightarrow\\ \\forall\\ z_{852}.(girl(z_{852})\\ \\rightarrow\\ (\\forall\\ z_{850}.(library(z_{850})\\ \\rightarrow\\ \\exists\\ z_{849}.(book(z_{849})\\ \\land\\ give(z_{850},z_{852},z_{849})))\\ \\land\\ \\forall\\ z_{851}.(library(z_{851})\\ \\rightarrow\\ \\exists\\ z_{849}.(book(z_{849})\\ \\land\\ give(z_{851},x,z_{849}))))))$"
      ],
      "text/plain": [
       "<IPython.core.display.Markdown object>"
      ]
     },
     "metadata": {},
     "output_type": "display_data"
    },
    {
     "data": {
      "text/markdown": [
       "\"26\": $\\forall\\ x.(girl(x)\\ \\rightarrow\\ \\forall\\ z_{856}.(boy(z_{856})\\ \\rightarrow\\ (\\forall\\ z_{854}.(library(z_{854})\\ \\rightarrow\\ \\exists\\ z_{853}.(book(z_{853})\\ \\land\\ give(z_{854},x,z_{853})))\\ \\land\\ \\forall\\ z_{855}.(library(z_{855})\\ \\rightarrow\\ \\exists\\ z_{853}.(book(z_{853})\\ \\land\\ give(z_{855},z_{856},z_{853}))))))$"
      ],
      "text/plain": [
       "<IPython.core.display.Markdown object>"
      ]
     },
     "metadata": {},
     "output_type": "display_data"
    },
    {
     "data": {
      "text/markdown": [
       "\"27\": $\\forall\\ x.(boy(x)\\ \\rightarrow\\ (\\forall\\ z_{859}.(girl(z_{859})\\ \\rightarrow\\ \\forall\\ z_{858}.(library(z_{858})\\ \\rightarrow\\ \\exists\\ z_{857}.(book(z_{857})\\ \\land\\ give(z_{858},@x9,z_{857}))))\\ \\land\\ \\forall\\ z_{860}.(girl(z_{860})\\ \\rightarrow\\ \\forall\\ z_{858}.(library(z_{858})\\ \\rightarrow\\ \\exists\\ z_{857}.(book(z_{857})\\ \\land\\ give(z_{858},x,z_{857}))))))$"
      ],
      "text/plain": [
       "<IPython.core.display.Markdown object>"
      ]
     },
     "metadata": {},
     "output_type": "display_data"
    },
    {
     "data": {
      "text/markdown": [
       "\"28\": $(\\forall\\ x.(boy(x)\\ \\rightarrow\\ \\forall\\ z_{863}.(girl(z_{863})\\ \\rightarrow\\ \\forall\\ z_{862}.(library(z_{862})\\ \\rightarrow\\ \\exists\\ z_{861}.(book(z_{861})\\ \\land\\ give(z_{862},@x9,z_{861})))))\\ \\land\\ \\forall\\ x.(boy(x)\\ \\rightarrow\\ \\forall\\ z_{863}.(girl(z_{863})\\ \\rightarrow\\ \\forall\\ z_{862}.(library(z_{862})\\ \\rightarrow\\ \\exists\\ z_{861}.(book(z_{861})\\ \\land\\ give(z_{862},@x6,z_{861}))))))$"
      ],
      "text/plain": [
       "<IPython.core.display.Markdown object>"
      ]
     },
     "metadata": {},
     "output_type": "display_data"
    },
    {
     "data": {
      "text/markdown": [
       "\"29\": $\\forall\\ x.(girl(x)\\ \\rightarrow\\ (\\forall\\ z_{866}.(boy(z_{866})\\ \\rightarrow\\ \\forall\\ z_{865}.(library(z_{865})\\ \\rightarrow\\ \\exists\\ z_{864}.(book(z_{864})\\ \\land\\ give(z_{865},x,z_{864}))))\\ \\land\\ \\forall\\ z_{867}.(boy(z_{867})\\ \\rightarrow\\ \\forall\\ z_{865}.(library(z_{865})\\ \\rightarrow\\ \\exists\\ z_{864}.(book(z_{864})\\ \\land\\ give(z_{865},@x6,z_{864}))))))$"
      ],
      "text/plain": [
       "<IPython.core.display.Markdown object>"
      ]
     },
     "metadata": {},
     "output_type": "display_data"
    },
    {
     "data": {
      "text/markdown": [
       "\"30\": $(\\forall\\ x.(girl(x)\\ \\rightarrow\\ \\forall\\ z_{870}.(boy(z_{870})\\ \\rightarrow\\ \\forall\\ z_{869}.(library(z_{869})\\ \\rightarrow\\ \\exists\\ z_{868}.(book(z_{868})\\ \\land\\ give(z_{869},@x9,z_{868})))))\\ \\land\\ \\forall\\ x.(girl(x)\\ \\rightarrow\\ \\forall\\ z_{870}.(boy(z_{870})\\ \\rightarrow\\ \\forall\\ z_{869}.(library(z_{869})\\ \\rightarrow\\ \\exists\\ z_{868}.(book(z_{868})\\ \\land\\ give(z_{869},@x6,z_{868}))))))$"
      ],
      "text/plain": [
       "<IPython.core.display.Markdown object>"
      ]
     },
     "metadata": {},
     "output_type": "display_data"
    },
    {
     "data": {
      "text/markdown": [
       "\"31\": $\\forall\\ x.(boy(x)\\ \\rightarrow\\ \\forall\\ z_{874}.(girl(z_{874})\\ \\rightarrow\\ \\forall\\ z_{873}.(library(z_{873})\\ \\rightarrow\\ (\\exists\\ z_{871}.(book(z_{871})\\ \\land\\ give(z_{873},z_{874},z_{871}))\\ \\land\\ \\exists\\ z_{872}.(book(z_{872})\\ \\land\\ give(z_{873},x,z_{872}))))))$"
      ],
      "text/plain": [
       "<IPython.core.display.Markdown object>"
      ]
     },
     "metadata": {},
     "output_type": "display_data"
    },
    {
     "data": {
      "text/markdown": [
       "\"32\": $\\forall\\ x.(girl(x)\\ \\rightarrow\\ \\forall\\ z_{878}.(boy(z_{878})\\ \\rightarrow\\ \\forall\\ z_{877}.(library(z_{877})\\ \\rightarrow\\ (\\exists\\ z_{875}.(book(z_{875})\\ \\land\\ give(z_{877},x,z_{875}))\\ \\land\\ \\exists\\ z_{876}.(book(z_{876})\\ \\land\\ give(z_{877},z_{878},z_{876}))))))$"
      ],
      "text/plain": [
       "<IPython.core.display.Markdown object>"
      ]
     },
     "metadata": {},
     "output_type": "display_data"
    },
    {
     "data": {
      "text/markdown": [
       "\"33\": $\\forall\\ x.(boy(x)\\ \\rightarrow\\ \\forall\\ z_{882}.(library(z_{882})\\ \\rightarrow\\ \\forall\\ z_{881}.(girl(z_{881})\\ \\rightarrow\\ (\\exists\\ z_{879}.(book(z_{879})\\ \\land\\ give(z_{882},z_{881},z_{879}))\\ \\land\\ \\exists\\ z_{880}.(book(z_{880})\\ \\land\\ give(z_{882},x,z_{880}))))))$"
      ],
      "text/plain": [
       "<IPython.core.display.Markdown object>"
      ]
     },
     "metadata": {},
     "output_type": "display_data"
    },
    {
     "data": {
      "text/markdown": [
       "\"34\": $\\forall\\ x.(library(x)\\ \\rightarrow\\ \\forall\\ z_{886}.(boy(z_{886})\\ \\rightarrow\\ \\forall\\ z_{885}.(girl(z_{885})\\ \\rightarrow\\ (\\exists\\ z_{883}.(book(z_{883})\\ \\land\\ give(x,z_{885},z_{883}))\\ \\land\\ \\exists\\ z_{884}.(book(z_{884})\\ \\land\\ give(x,z_{886},z_{884}))))))$"
      ],
      "text/plain": [
       "<IPython.core.display.Markdown object>"
      ]
     },
     "metadata": {},
     "output_type": "display_data"
    },
    {
     "data": {
      "text/markdown": [
       "\"35\": $\\forall\\ x.(girl(x)\\ \\rightarrow\\ \\forall\\ z_{890}.(library(z_{890})\\ \\rightarrow\\ \\forall\\ z_{889}.(boy(z_{889})\\ \\rightarrow\\ (\\exists\\ z_{887}.(book(z_{887})\\ \\land\\ give(z_{890},x,z_{887}))\\ \\land\\ \\exists\\ z_{888}.(book(z_{888})\\ \\land\\ give(z_{890},z_{889},z_{888}))))))$"
      ],
      "text/plain": [
       "<IPython.core.display.Markdown object>"
      ]
     },
     "metadata": {},
     "output_type": "display_data"
    },
    {
     "data": {
      "text/markdown": [
       "\"36\": $\\forall\\ x.(library(x)\\ \\rightarrow\\ \\forall\\ z_{894}.(girl(z_{894})\\ \\rightarrow\\ \\forall\\ z_{893}.(boy(z_{893})\\ \\rightarrow\\ (\\exists\\ z_{891}.(book(z_{891})\\ \\land\\ give(x,z_{894},z_{891}))\\ \\land\\ \\exists\\ z_{892}.(book(z_{892})\\ \\land\\ give(x,z_{893},z_{892}))))))$"
      ],
      "text/plain": [
       "<IPython.core.display.Markdown object>"
      ]
     },
     "metadata": {},
     "output_type": "display_data"
    },
    {
     "data": {
      "text/markdown": [
       "\"37\": $\\forall\\ x.(boy(x)\\ \\rightarrow\\ (\\forall\\ z_{897}.(library(z_{897})\\ \\rightarrow\\ \\forall\\ z_{896}.(girl(z_{896})\\ \\rightarrow\\ \\exists\\ z_{895}.(book(z_{895})\\ \\land\\ give(z_{897},@x9,z_{895}))))\\ \\land\\ \\forall\\ z_{898}.(library(z_{898})\\ \\rightarrow\\ \\forall\\ z_{896}.(girl(z_{896})\\ \\rightarrow\\ \\exists\\ z_{895}.(book(z_{895})\\ \\land\\ give(z_{898},x,z_{895}))))))$"
      ],
      "text/plain": [
       "<IPython.core.display.Markdown object>"
      ]
     },
     "metadata": {},
     "output_type": "display_data"
    },
    {
     "data": {
      "text/markdown": [
       "\"38\": $(\\forall\\ x.(boy(x)\\ \\rightarrow\\ \\forall\\ z_{901}.(library(z_{901})\\ \\rightarrow\\ \\forall\\ z_{900}.(girl(z_{900})\\ \\rightarrow\\ \\exists\\ z_{899}.(book(z_{899})\\ \\land\\ give(z_{901},@x9,z_{899})))))\\ \\land\\ \\forall\\ x.(boy(x)\\ \\rightarrow\\ \\forall\\ z_{901}.(library(z_{901})\\ \\rightarrow\\ \\forall\\ z_{900}.(girl(z_{900})\\ \\rightarrow\\ \\exists\\ z_{899}.(book(z_{899})\\ \\land\\ give(z_{901},@x6,z_{899}))))))$"
      ],
      "text/plain": [
       "<IPython.core.display.Markdown object>"
      ]
     },
     "metadata": {},
     "output_type": "display_data"
    },
    {
     "data": {
      "text/markdown": [
       "\"39\": $\\forall\\ x.(boy(x)\\ \\rightarrow\\ \\forall\\ z_{905}.(library(z_{905})\\ \\rightarrow\\ (\\forall\\ z_{903}.(girl(z_{903})\\ \\rightarrow\\ \\exists\\ z_{902}.(book(z_{902})\\ \\land\\ give(z_{905},@x9,z_{902})))\\ \\land\\ \\forall\\ z_{904}.(girl(z_{904})\\ \\rightarrow\\ \\exists\\ z_{902}.(book(z_{902})\\ \\land\\ give(z_{905},x,z_{902}))))))$"
      ],
      "text/plain": [
       "<IPython.core.display.Markdown object>"
      ]
     },
     "metadata": {},
     "output_type": "display_data"
    },
    {
     "data": {
      "text/markdown": [
       "\"40\": $\\forall\\ x.(library(x)\\ \\rightarrow\\ \\forall\\ z_{909}.(boy(z_{909})\\ \\rightarrow\\ (\\forall\\ z_{907}.(girl(z_{907})\\ \\rightarrow\\ \\exists\\ z_{906}.(book(z_{906})\\ \\land\\ give(x,@x9,z_{906})))\\ \\land\\ \\forall\\ z_{908}.(girl(z_{908})\\ \\rightarrow\\ \\exists\\ z_{906}.(book(z_{906})\\ \\land\\ give(x,z_{909},z_{906}))))))$"
      ],
      "text/plain": [
       "<IPython.core.display.Markdown object>"
      ]
     },
     "metadata": {},
     "output_type": "display_data"
    },
    {
     "data": {
      "text/markdown": [
       "\"41\": $(\\forall\\ x.(library(x)\\ \\rightarrow\\ \\forall\\ z_{912}.(boy(z_{912})\\ \\rightarrow\\ \\forall\\ z_{911}.(girl(z_{911})\\ \\rightarrow\\ \\exists\\ z_{910}.(book(z_{910})\\ \\land\\ give(x,@x9,z_{910})))))\\ \\land\\ \\forall\\ x.(library(x)\\ \\rightarrow\\ \\forall\\ z_{912}.(boy(z_{912})\\ \\rightarrow\\ \\forall\\ z_{911}.(girl(z_{911})\\ \\rightarrow\\ \\exists\\ z_{910}.(book(z_{910})\\ \\land\\ give(x,@x6,z_{910}))))))$"
      ],
      "text/plain": [
       "<IPython.core.display.Markdown object>"
      ]
     },
     "metadata": {},
     "output_type": "display_data"
    },
    {
     "data": {
      "text/markdown": [
       "\"42\": $\\forall\\ x.(library(x)\\ \\rightarrow\\ (\\forall\\ z_{915}.(boy(z_{915})\\ \\rightarrow\\ \\forall\\ z_{914}.(girl(z_{914})\\ \\rightarrow\\ \\exists\\ z_{913}.(book(z_{913})\\ \\land\\ give(x,@x9,z_{913}))))\\ \\land\\ \\forall\\ z_{916}.(boy(z_{916})\\ \\rightarrow\\ \\forall\\ z_{914}.(girl(z_{914})\\ \\rightarrow\\ \\exists\\ z_{913}.(book(z_{913})\\ \\land\\ give(x,@x6,z_{913}))))))$"
      ],
      "text/plain": [
       "<IPython.core.display.Markdown object>"
      ]
     },
     "metadata": {},
     "output_type": "display_data"
    },
    {
     "data": {
      "text/markdown": [
       "\"43\": $\\forall\\ x.(girl(x)\\ \\rightarrow\\ (\\forall\\ z_{919}.(library(z_{919})\\ \\rightarrow\\ \\forall\\ z_{918}.(boy(z_{918})\\ \\rightarrow\\ \\exists\\ z_{917}.(book(z_{917})\\ \\land\\ give(z_{919},x,z_{917}))))\\ \\land\\ \\forall\\ z_{920}.(library(z_{920})\\ \\rightarrow\\ \\forall\\ z_{918}.(boy(z_{918})\\ \\rightarrow\\ \\exists\\ z_{917}.(book(z_{917})\\ \\land\\ give(z_{920},@x6,z_{917}))))))$"
      ],
      "text/plain": [
       "<IPython.core.display.Markdown object>"
      ]
     },
     "metadata": {},
     "output_type": "display_data"
    },
    {
     "data": {
      "text/markdown": [
       "\"44\": $(\\forall\\ x.(girl(x)\\ \\rightarrow\\ \\forall\\ z_{923}.(library(z_{923})\\ \\rightarrow\\ \\forall\\ z_{922}.(boy(z_{922})\\ \\rightarrow\\ \\exists\\ z_{921}.(book(z_{921})\\ \\land\\ give(z_{923},@x9,z_{921})))))\\ \\land\\ \\forall\\ x.(girl(x)\\ \\rightarrow\\ \\forall\\ z_{923}.(library(z_{923})\\ \\rightarrow\\ \\forall\\ z_{922}.(boy(z_{922})\\ \\rightarrow\\ \\exists\\ z_{921}.(book(z_{921})\\ \\land\\ give(z_{923},@x6,z_{921}))))))$"
      ],
      "text/plain": [
       "<IPython.core.display.Markdown object>"
      ]
     },
     "metadata": {},
     "output_type": "display_data"
    },
    {
     "data": {
      "text/markdown": [
       "\"45\": $\\forall\\ x.(girl(x)\\ \\rightarrow\\ \\forall\\ z_{927}.(library(z_{927})\\ \\rightarrow\\ (\\forall\\ z_{925}.(boy(z_{925})\\ \\rightarrow\\ \\exists\\ z_{924}.(book(z_{924})\\ \\land\\ give(z_{927},x,z_{924})))\\ \\land\\ \\forall\\ z_{926}.(boy(z_{926})\\ \\rightarrow\\ \\exists\\ z_{924}.(book(z_{924})\\ \\land\\ give(z_{927},@x6,z_{924}))))))$"
      ],
      "text/plain": [
       "<IPython.core.display.Markdown object>"
      ]
     },
     "metadata": {},
     "output_type": "display_data"
    },
    {
     "data": {
      "text/markdown": [
       "\"46\": $\\forall\\ x.(library(x)\\ \\rightarrow\\ \\forall\\ z_{931}.(girl(z_{931})\\ \\rightarrow\\ (\\forall\\ z_{929}.(boy(z_{929})\\ \\rightarrow\\ \\exists\\ z_{928}.(book(z_{928})\\ \\land\\ give(x,z_{931},z_{928})))\\ \\land\\ \\forall\\ z_{930}.(boy(z_{930})\\ \\rightarrow\\ \\exists\\ z_{928}.(book(z_{928})\\ \\land\\ give(x,@x6,z_{928}))))))$"
      ],
      "text/plain": [
       "<IPython.core.display.Markdown object>"
      ]
     },
     "metadata": {},
     "output_type": "display_data"
    },
    {
     "data": {
      "text/markdown": [
       "\"47\": $(\\forall\\ x.(library(x)\\ \\rightarrow\\ \\forall\\ z_{934}.(girl(z_{934})\\ \\rightarrow\\ \\forall\\ z_{933}.(boy(z_{933})\\ \\rightarrow\\ \\exists\\ z_{932}.(book(z_{932})\\ \\land\\ give(x,@x9,z_{932})))))\\ \\land\\ \\forall\\ x.(library(x)\\ \\rightarrow\\ \\forall\\ z_{934}.(girl(z_{934})\\ \\rightarrow\\ \\forall\\ z_{933}.(boy(z_{933})\\ \\rightarrow\\ \\exists\\ z_{932}.(book(z_{932})\\ \\land\\ give(x,@x6,z_{932}))))))$"
      ],
      "text/plain": [
       "<IPython.core.display.Markdown object>"
      ]
     },
     "metadata": {},
     "output_type": "display_data"
    },
    {
     "data": {
      "text/markdown": [
       "\"48\": $\\forall\\ x.(library(x)\\ \\rightarrow\\ (\\forall\\ z_{937}.(girl(z_{937})\\ \\rightarrow\\ \\forall\\ z_{936}.(boy(z_{936})\\ \\rightarrow\\ \\exists\\ z_{935}.(book(z_{935})\\ \\land\\ give(x,@x9,z_{935}))))\\ \\land\\ \\forall\\ z_{938}.(girl(z_{938})\\ \\rightarrow\\ \\forall\\ z_{936}.(boy(z_{936})\\ \\rightarrow\\ \\exists\\ z_{935}.(book(z_{935})\\ \\land\\ give(x,@x6,z_{935}))))))$"
      ],
      "text/plain": [
       "<IPython.core.display.Markdown object>"
      ]
     },
     "metadata": {},
     "output_type": "display_data"
    },
    {
     "data": {
      "text/markdown": [
       "\"49\": $\\forall\\ x.(boy(x)\\ \\rightarrow\\ \\forall\\ z_{941}.(girl(z_{941})\\ \\rightarrow\\ \\exists\\ z_{940}.(book(z_{940})\\ \\land\\ \\forall\\ z_{939}.(library(z_{939})\\ \\rightarrow\\ (give(z_{939},z_{941},z_{940})\\ \\land\\ give(z_{939},x,z_{940}))))))$"
      ],
      "text/plain": [
       "<IPython.core.display.Markdown object>"
      ]
     },
     "metadata": {},
     "output_type": "display_data"
    },
    {
     "data": {
      "text/markdown": [
       "\"50\": $\\forall\\ x.(girl(x)\\ \\rightarrow\\ \\forall\\ z_{944}.(boy(z_{944})\\ \\rightarrow\\ \\exists\\ z_{943}.(book(z_{943})\\ \\land\\ \\forall\\ z_{942}.(library(z_{942})\\ \\rightarrow\\ (give(z_{942},x,z_{943})\\ \\land\\ give(z_{942},z_{944},z_{943}))))))$"
      ],
      "text/plain": [
       "<IPython.core.display.Markdown object>"
      ]
     },
     "metadata": {},
     "output_type": "display_data"
    },
    {
     "data": {
      "text/markdown": [
       "\"51\": $\\forall\\ x.(boy(x)\\ \\rightarrow\\ \\exists\\ z_{947}.(book(z_{947})\\ \\land\\ \\forall\\ z_{946}.(girl(z_{946})\\ \\rightarrow\\ \\forall\\ z_{945}.(library(z_{945})\\ \\rightarrow\\ (give(z_{945},z_{946},z_{947})\\ \\land\\ give(z_{945},x,z_{947}))))))$"
      ],
      "text/plain": [
       "<IPython.core.display.Markdown object>"
      ]
     },
     "metadata": {},
     "output_type": "display_data"
    },
    {
     "data": {
      "text/markdown": [
       "\"52\": $\\exists\\ x.(book(x)\\ \\land\\ \\forall\\ z_{950}.(boy(z_{950})\\ \\rightarrow\\ \\forall\\ z_{949}.(girl(z_{949})\\ \\rightarrow\\ \\forall\\ z_{948}.(library(z_{948})\\ \\rightarrow\\ (give(z_{948},z_{949},x)\\ \\land\\ give(z_{948},z_{950},x))))))$"
      ],
      "text/plain": [
       "<IPython.core.display.Markdown object>"
      ]
     },
     "metadata": {},
     "output_type": "display_data"
    },
    {
     "data": {
      "text/markdown": [
       "\"53\": $\\forall\\ x.(girl(x)\\ \\rightarrow\\ \\exists\\ z_{953}.(book(z_{953})\\ \\land\\ \\forall\\ z_{952}.(boy(z_{952})\\ \\rightarrow\\ \\forall\\ z_{951}.(library(z_{951})\\ \\rightarrow\\ (give(z_{951},x,z_{953})\\ \\land\\ give(z_{951},z_{952},z_{953}))))))$"
      ],
      "text/plain": [
       "<IPython.core.display.Markdown object>"
      ]
     },
     "metadata": {},
     "output_type": "display_data"
    },
    {
     "data": {
      "text/markdown": [
       "\"54\": $\\exists\\ x.(book(x)\\ \\land\\ \\forall\\ z_{956}.(girl(z_{956})\\ \\rightarrow\\ \\forall\\ z_{955}.(boy(z_{955})\\ \\rightarrow\\ \\forall\\ z_{954}.(library(z_{954})\\ \\rightarrow\\ (give(z_{954},z_{956},x)\\ \\land\\ give(z_{954},z_{955},x))))))$"
      ],
      "text/plain": [
       "<IPython.core.display.Markdown object>"
      ]
     },
     "metadata": {},
     "output_type": "display_data"
    },
    {
     "data": {
      "text/markdown": [
       "\"55\": $\\forall\\ x.(boy(x)\\ \\rightarrow\\ \\forall\\ z_{959}.(girl(z_{959})\\ \\rightarrow\\ \\forall\\ z_{958}.(library(z_{958})\\ \\rightarrow\\ \\exists\\ z_{957}.(book(z_{957})\\ \\land\\ give(z_{958},z_{959},z_{957})\\ \\land\\ give(z_{958},x,z_{957})))))$"
      ],
      "text/plain": [
       "<IPython.core.display.Markdown object>"
      ]
     },
     "metadata": {},
     "output_type": "display_data"
    },
    {
     "data": {
      "text/markdown": [
       "\"56\": $\\forall\\ x.(girl(x)\\ \\rightarrow\\ \\forall\\ z_{962}.(boy(z_{962})\\ \\rightarrow\\ \\forall\\ z_{961}.(library(z_{961})\\ \\rightarrow\\ \\exists\\ z_{960}.(book(z_{960})\\ \\land\\ give(z_{961},x,z_{960})\\ \\land\\ give(z_{961},z_{962},z_{960})))))$"
      ],
      "text/plain": [
       "<IPython.core.display.Markdown object>"
      ]
     },
     "metadata": {},
     "output_type": "display_data"
    },
    {
     "data": {
      "text/markdown": [
       "\"57\": $\\forall\\ x.(boy(x)\\ \\rightarrow\\ \\forall\\ z_{965}.(library(z_{965})\\ \\rightarrow\\ \\forall\\ z_{964}.(girl(z_{964})\\ \\rightarrow\\ \\exists\\ z_{963}.(book(z_{963})\\ \\land\\ give(z_{965},z_{964},z_{963})\\ \\land\\ give(z_{965},x,z_{963})))))$"
      ],
      "text/plain": [
       "<IPython.core.display.Markdown object>"
      ]
     },
     "metadata": {},
     "output_type": "display_data"
    },
    {
     "data": {
      "text/markdown": [
       "\"58\": $\\forall\\ x.(library(x)\\ \\rightarrow\\ \\forall\\ z_{968}.(boy(z_{968})\\ \\rightarrow\\ \\forall\\ z_{967}.(girl(z_{967})\\ \\rightarrow\\ \\exists\\ z_{966}.(book(z_{966})\\ \\land\\ give(x,z_{967},z_{966})\\ \\land\\ give(x,z_{968},z_{966})))))$"
      ],
      "text/plain": [
       "<IPython.core.display.Markdown object>"
      ]
     },
     "metadata": {},
     "output_type": "display_data"
    },
    {
     "data": {
      "text/markdown": [
       "\"59\": $\\forall\\ x.(girl(x)\\ \\rightarrow\\ \\forall\\ z_{971}.(library(z_{971})\\ \\rightarrow\\ \\forall\\ z_{970}.(boy(z_{970})\\ \\rightarrow\\ \\exists\\ z_{969}.(book(z_{969})\\ \\land\\ give(z_{971},x,z_{969})\\ \\land\\ give(z_{971},z_{970},z_{969})))))$"
      ],
      "text/plain": [
       "<IPython.core.display.Markdown object>"
      ]
     },
     "metadata": {},
     "output_type": "display_data"
    },
    {
     "data": {
      "text/markdown": [
       "\"60\": $\\forall\\ x.(library(x)\\ \\rightarrow\\ \\forall\\ z_{974}.(girl(z_{974})\\ \\rightarrow\\ \\forall\\ z_{973}.(boy(z_{973})\\ \\rightarrow\\ \\exists\\ z_{972}.(book(z_{972})\\ \\land\\ give(x,z_{974},z_{972})\\ \\land\\ give(x,z_{973},z_{972})))))$"
      ],
      "text/plain": [
       "<IPython.core.display.Markdown object>"
      ]
     },
     "metadata": {},
     "output_type": "display_data"
    },
    {
     "data": {
      "text/markdown": [
       "\"61\": $\\forall\\ x.(boy(x)\\ \\rightarrow\\ \\exists\\ z_{977}.(book(z_{977})\\ \\land\\ \\forall\\ z_{976}.(library(z_{976})\\ \\rightarrow\\ \\forall\\ z_{975}.(girl(z_{975})\\ \\rightarrow\\ (give(z_{976},z_{975},z_{977})\\ \\land\\ give(z_{976},x,z_{977}))))))$"
      ],
      "text/plain": [
       "<IPython.core.display.Markdown object>"
      ]
     },
     "metadata": {},
     "output_type": "display_data"
    },
    {
     "data": {
      "text/markdown": [
       "\"62\": $\\exists\\ x.(book(x)\\ \\land\\ \\forall\\ z_{980}.(boy(z_{980})\\ \\rightarrow\\ \\forall\\ z_{979}.(library(z_{979})\\ \\rightarrow\\ \\forall\\ z_{978}.(girl(z_{978})\\ \\rightarrow\\ (give(z_{979},z_{978},x)\\ \\land\\ give(z_{979},z_{980},x))))))$"
      ],
      "text/plain": [
       "<IPython.core.display.Markdown object>"
      ]
     },
     "metadata": {},
     "output_type": "display_data"
    },
    {
     "data": {
      "text/markdown": [
       "\"63\": $\\forall\\ x.(boy(x)\\ \\rightarrow\\ \\forall\\ z_{983}.(library(z_{983})\\ \\rightarrow\\ \\exists\\ z_{982}.(book(z_{982})\\ \\land\\ \\forall\\ z_{981}.(girl(z_{981})\\ \\rightarrow\\ (give(z_{983},z_{981},z_{982})\\ \\land\\ give(z_{983},x,z_{982}))))))$"
      ],
      "text/plain": [
       "<IPython.core.display.Markdown object>"
      ]
     },
     "metadata": {},
     "output_type": "display_data"
    },
    {
     "data": {
      "text/markdown": [
       "\"64\": $\\forall\\ x.(library(x)\\ \\rightarrow\\ \\forall\\ z_{986}.(boy(z_{986})\\ \\rightarrow\\ \\exists\\ z_{985}.(book(z_{985})\\ \\land\\ \\forall\\ z_{984}.(girl(z_{984})\\ \\rightarrow\\ (give(x,z_{984},z_{985})\\ \\land\\ give(x,z_{986},z_{985}))))))$"
      ],
      "text/plain": [
       "<IPython.core.display.Markdown object>"
      ]
     },
     "metadata": {},
     "output_type": "display_data"
    },
    {
     "data": {
      "text/markdown": [
       "\"65\": $\\exists\\ x.(book(x)\\ \\land\\ \\forall\\ z_{989}.(library(z_{989})\\ \\rightarrow\\ \\forall\\ z_{988}.(boy(z_{988})\\ \\rightarrow\\ \\forall\\ z_{987}.(girl(z_{987})\\ \\rightarrow\\ (give(z_{989},z_{987},x)\\ \\land\\ give(z_{989},z_{988},x))))))$"
      ],
      "text/plain": [
       "<IPython.core.display.Markdown object>"
      ]
     },
     "metadata": {},
     "output_type": "display_data"
    },
    {
     "data": {
      "text/markdown": [
       "\"66\": $\\forall\\ x.(library(x)\\ \\rightarrow\\ \\exists\\ z_{992}.(book(z_{992})\\ \\land\\ \\forall\\ z_{991}.(boy(z_{991})\\ \\rightarrow\\ \\forall\\ z_{990}.(girl(z_{990})\\ \\rightarrow\\ (give(x,z_{990},z_{992})\\ \\land\\ give(x,z_{991},z_{992}))))))$"
      ],
      "text/plain": [
       "<IPython.core.display.Markdown object>"
      ]
     },
     "metadata": {},
     "output_type": "display_data"
    },
    {
     "data": {
      "text/markdown": [
       "\"67\": $\\forall\\ x.(girl(x)\\ \\rightarrow\\ \\exists\\ z_{995}.(book(z_{995})\\ \\land\\ \\forall\\ z_{994}.(library(z_{994})\\ \\rightarrow\\ \\forall\\ z_{993}.(boy(z_{993})\\ \\rightarrow\\ (give(z_{994},x,z_{995})\\ \\land\\ give(z_{994},z_{993},z_{995}))))))$"
      ],
      "text/plain": [
       "<IPython.core.display.Markdown object>"
      ]
     },
     "metadata": {},
     "output_type": "display_data"
    },
    {
     "data": {
      "text/markdown": [
       "\"68\": $\\exists\\ x.(book(x)\\ \\land\\ \\forall\\ z_{998}.(girl(z_{998})\\ \\rightarrow\\ \\forall\\ z_{997}.(library(z_{997})\\ \\rightarrow\\ \\forall\\ z_{996}.(boy(z_{996})\\ \\rightarrow\\ (give(z_{997},z_{998},x)\\ \\land\\ give(z_{997},z_{996},x))))))$"
      ],
      "text/plain": [
       "<IPython.core.display.Markdown object>"
      ]
     },
     "metadata": {},
     "output_type": "display_data"
    },
    {
     "data": {
      "text/markdown": [
       "\"69\": $\\forall\\ x.(girl(x)\\ \\rightarrow\\ \\forall\\ z_{1001}.(library(z_{1001})\\ \\rightarrow\\ \\exists\\ z_{1000}.(book(z_{1000})\\ \\land\\ \\forall\\ z_{999}.(boy(z_{999})\\ \\rightarrow\\ (give(z_{1001},x,z_{1000})\\ \\land\\ give(z_{1001},z_{999},z_{1000}))))))$"
      ],
      "text/plain": [
       "<IPython.core.display.Markdown object>"
      ]
     },
     "metadata": {},
     "output_type": "display_data"
    },
    {
     "data": {
      "text/markdown": [
       "\"70\": $\\forall\\ x.(library(x)\\ \\rightarrow\\ \\forall\\ z_{1004}.(girl(z_{1004})\\ \\rightarrow\\ \\exists\\ z_{1003}.(book(z_{1003})\\ \\land\\ \\forall\\ z_{1002}.(boy(z_{1002})\\ \\rightarrow\\ (give(x,z_{1004},z_{1003})\\ \\land\\ give(x,z_{1002},z_{1003}))))))$"
      ],
      "text/plain": [
       "<IPython.core.display.Markdown object>"
      ]
     },
     "metadata": {},
     "output_type": "display_data"
    },
    {
     "data": {
      "text/markdown": [
       "\"71\": $\\exists\\ x.(book(x)\\ \\land\\ \\forall\\ z_{1007}.(library(z_{1007})\\ \\rightarrow\\ \\forall\\ z_{1006}.(girl(z_{1006})\\ \\rightarrow\\ \\forall\\ z_{1005}.(boy(z_{1005})\\ \\rightarrow\\ (give(z_{1007},z_{1006},x)\\ \\land\\ give(z_{1007},z_{1005},x))))))$"
      ],
      "text/plain": [
       "<IPython.core.display.Markdown object>"
      ]
     },
     "metadata": {},
     "output_type": "display_data"
    },
    {
     "data": {
      "text/markdown": [
       "\"72\": $\\forall\\ x.(library(x)\\ \\rightarrow\\ \\exists\\ z_{1010}.(book(z_{1010})\\ \\land\\ \\forall\\ z_{1009}.(girl(z_{1009})\\ \\rightarrow\\ \\forall\\ z_{1008}.(boy(z_{1008})\\ \\rightarrow\\ (give(x,z_{1009},z_{1010})\\ \\land\\ give(x,z_{1008},z_{1010}))))))$"
      ],
      "text/plain": [
       "<IPython.core.display.Markdown object>"
      ]
     },
     "metadata": {},
     "output_type": "display_data"
    },
    {
     "data": {
      "text/markdown": [
       "\"73\": $\\forall\\ x.(boy(x)\\ \\rightarrow\\ (\\exists\\ z_{1013}.(book(z_{1013})\\ \\land\\ \\forall\\ z_{1012}.(library(z_{1012})\\ \\rightarrow\\ \\forall\\ z_{1011}.(girl(z_{1011})\\ \\rightarrow\\ give(z_{1012},@x9,z_{1013}))))\\ \\land\\ \\exists\\ z_{1014}.(book(z_{1014})\\ \\land\\ \\forall\\ z_{1012}.(library(z_{1012})\\ \\rightarrow\\ \\forall\\ z_{1011}.(girl(z_{1011})\\ \\rightarrow\\ give(z_{1012},x,z_{1014}))))))$"
      ],
      "text/plain": [
       "<IPython.core.display.Markdown object>"
      ]
     },
     "metadata": {},
     "output_type": "display_data"
    },
    {
     "data": {
      "text/markdown": [
       "\"74\": $(\\forall\\ x.(boy(x)\\ \\rightarrow\\ \\exists\\ z_{1017}.(book(z_{1017})\\ \\land\\ \\forall\\ z_{1016}.(library(z_{1016})\\ \\rightarrow\\ \\forall\\ z_{1015}.(girl(z_{1015})\\ \\rightarrow\\ give(z_{1016},@x9,z_{1017})))))\\ \\land\\ \\forall\\ x.(boy(x)\\ \\rightarrow\\ \\exists\\ z_{1017}.(book(z_{1017})\\ \\land\\ \\forall\\ z_{1016}.(library(z_{1016})\\ \\rightarrow\\ \\forall\\ z_{1015}.(girl(z_{1015})\\ \\rightarrow\\ give(z_{1016},@x6,z_{1017}))))))$"
      ],
      "text/plain": [
       "<IPython.core.display.Markdown object>"
      ]
     },
     "metadata": {},
     "output_type": "display_data"
    },
    {
     "data": {
      "text/markdown": [
       "\"75\": $\\forall\\ x.(boy(x)\\ \\rightarrow\\ \\exists\\ z_{1021}.(book(z_{1021})\\ \\land\\ \\forall\\ z_{1019}.(library(z_{1019})\\ \\rightarrow\\ \\forall\\ z_{1018}.(girl(z_{1018})\\ \\rightarrow\\ give(z_{1019},@x9,z_{1021})))\\ \\land\\ \\forall\\ z_{1020}.(library(z_{1020})\\ \\rightarrow\\ \\forall\\ z_{1018}.(girl(z_{1018})\\ \\rightarrow\\ give(z_{1020},x,z_{1021})))))$"
      ],
      "text/plain": [
       "<IPython.core.display.Markdown object>"
      ]
     },
     "metadata": {},
     "output_type": "display_data"
    },
    {
     "data": {
      "text/markdown": [
       "\"76\": $\\exists\\ x.(book(x)\\ \\land\\ \\forall\\ z_{1025}.(boy(z_{1025})\\ \\rightarrow\\ (\\forall\\ z_{1023}.(library(z_{1023})\\ \\rightarrow\\ \\forall\\ z_{1022}.(girl(z_{1022})\\ \\rightarrow\\ give(z_{1023},@x9,x)))\\ \\land\\ \\forall\\ z_{1024}.(library(z_{1024})\\ \\rightarrow\\ \\forall\\ z_{1022}.(girl(z_{1022})\\ \\rightarrow\\ give(z_{1024},z_{1025},x))))))$"
      ],
      "text/plain": [
       "<IPython.core.display.Markdown object>"
      ]
     },
     "metadata": {},
     "output_type": "display_data"
    },
    {
     "data": {
      "text/markdown": [
       "\"77\": $(\\exists\\ x.(book(x)\\ \\land\\ \\forall\\ z_{1028}.(boy(z_{1028})\\ \\rightarrow\\ \\forall\\ z_{1027}.(library(z_{1027})\\ \\rightarrow\\ \\forall\\ z_{1026}.(girl(z_{1026})\\ \\rightarrow\\ give(z_{1027},@x9,x)))))\\ \\land\\ \\exists\\ x.(book(x)\\ \\land\\ \\forall\\ z_{1028}.(boy(z_{1028})\\ \\rightarrow\\ \\forall\\ z_{1027}.(library(z_{1027})\\ \\rightarrow\\ \\forall\\ z_{1026}.(girl(z_{1026})\\ \\rightarrow\\ give(z_{1027},@x6,x))))))$"
      ],
      "text/plain": [
       "<IPython.core.display.Markdown object>"
      ]
     },
     "metadata": {},
     "output_type": "display_data"
    },
    {
     "data": {
      "text/markdown": [
       "\"78\": $\\exists\\ x.(book(x)\\ \\land\\ \\forall\\ z_{1031}.(boy(z_{1031})\\ \\rightarrow\\ \\forall\\ z_{1030}.(library(z_{1030})\\ \\rightarrow\\ \\forall\\ z_{1029}.(girl(z_{1029})\\ \\rightarrow\\ give(z_{1030},@x9,x))))\\ \\land\\ \\forall\\ z_{1032}.(boy(z_{1032})\\ \\rightarrow\\ \\forall\\ z_{1030}.(library(z_{1030})\\ \\rightarrow\\ \\forall\\ z_{1029}.(girl(z_{1029})\\ \\rightarrow\\ give(z_{1030},@x6,x)))))$"
      ],
      "text/plain": [
       "<IPython.core.display.Markdown object>"
      ]
     },
     "metadata": {},
     "output_type": "display_data"
    },
    {
     "data": {
      "text/markdown": [
       "\"79\": $\\forall\\ x.(boy(x)\\ \\rightarrow\\ (\\forall\\ z_{1035}.(library(z_{1035})\\ \\rightarrow\\ \\exists\\ z_{1034}.(book(z_{1034})\\ \\land\\ \\forall\\ z_{1033}.(girl(z_{1033})\\ \\rightarrow\\ give(z_{1035},@x9,z_{1034}))))\\ \\land\\ \\forall\\ z_{1036}.(library(z_{1036})\\ \\rightarrow\\ \\exists\\ z_{1034}.(book(z_{1034})\\ \\land\\ \\forall\\ z_{1033}.(girl(z_{1033})\\ \\rightarrow\\ give(z_{1036},x,z_{1034}))))))$"
      ],
      "text/plain": [
       "<IPython.core.display.Markdown object>"
      ]
     },
     "metadata": {},
     "output_type": "display_data"
    },
    {
     "data": {
      "text/markdown": [
       "\"80\": $(\\forall\\ x.(boy(x)\\ \\rightarrow\\ \\forall\\ z_{1039}.(library(z_{1039})\\ \\rightarrow\\ \\exists\\ z_{1038}.(book(z_{1038})\\ \\land\\ \\forall\\ z_{1037}.(girl(z_{1037})\\ \\rightarrow\\ give(z_{1039},@x9,z_{1038})))))\\ \\land\\ \\forall\\ x.(boy(x)\\ \\rightarrow\\ \\forall\\ z_{1039}.(library(z_{1039})\\ \\rightarrow\\ \\exists\\ z_{1038}.(book(z_{1038})\\ \\land\\ \\forall\\ z_{1037}.(girl(z_{1037})\\ \\rightarrow\\ give(z_{1039},@x6,z_{1038}))))))$"
      ],
      "text/plain": [
       "<IPython.core.display.Markdown object>"
      ]
     },
     "metadata": {},
     "output_type": "display_data"
    },
    {
     "data": {
      "text/markdown": [
       "\"81\": $\\forall\\ x.(boy(x)\\ \\rightarrow\\ \\forall\\ z_{1043}.(library(z_{1043})\\ \\rightarrow\\ (\\exists\\ z_{1041}.(book(z_{1041})\\ \\land\\ \\forall\\ z_{1040}.(girl(z_{1040})\\ \\rightarrow\\ give(z_{1043},@x9,z_{1041})))\\ \\land\\ \\exists\\ z_{1042}.(book(z_{1042})\\ \\land\\ \\forall\\ z_{1040}.(girl(z_{1040})\\ \\rightarrow\\ give(z_{1043},x,z_{1042}))))))$"
      ],
      "text/plain": [
       "<IPython.core.display.Markdown object>"
      ]
     },
     "metadata": {},
     "output_type": "display_data"
    },
    {
     "data": {
      "text/markdown": [
       "\"82\": $\\forall\\ x.(library(x)\\ \\rightarrow\\ \\forall\\ z_{1047}.(boy(z_{1047})\\ \\rightarrow\\ (\\exists\\ z_{1045}.(book(z_{1045})\\ \\land\\ \\forall\\ z_{1044}.(girl(z_{1044})\\ \\rightarrow\\ give(x,@x9,z_{1045})))\\ \\land\\ \\exists\\ z_{1046}.(book(z_{1046})\\ \\land\\ \\forall\\ z_{1044}.(girl(z_{1044})\\ \\rightarrow\\ give(x,z_{1047},z_{1046}))))))$"
      ],
      "text/plain": [
       "<IPython.core.display.Markdown object>"
      ]
     },
     "metadata": {},
     "output_type": "display_data"
    },
    {
     "data": {
      "text/markdown": [
       "\"83\": $(\\forall\\ x.(library(x)\\ \\rightarrow\\ \\forall\\ z_{1050}.(boy(z_{1050})\\ \\rightarrow\\ \\exists\\ z_{1049}.(book(z_{1049})\\ \\land\\ \\forall\\ z_{1048}.(girl(z_{1048})\\ \\rightarrow\\ give(x,@x9,z_{1049})))))\\ \\land\\ \\forall\\ x.(library(x)\\ \\rightarrow\\ \\forall\\ z_{1050}.(boy(z_{1050})\\ \\rightarrow\\ \\exists\\ z_{1049}.(book(z_{1049})\\ \\land\\ \\forall\\ z_{1048}.(girl(z_{1048})\\ \\rightarrow\\ give(x,@x6,z_{1049}))))))$"
      ],
      "text/plain": [
       "<IPython.core.display.Markdown object>"
      ]
     },
     "metadata": {},
     "output_type": "display_data"
    },
    {
     "data": {
      "text/markdown": [
       "\"84\": $\\forall\\ x.(library(x)\\ \\rightarrow\\ (\\forall\\ z_{1053}.(boy(z_{1053})\\ \\rightarrow\\ \\exists\\ z_{1052}.(book(z_{1052})\\ \\land\\ \\forall\\ z_{1051}.(girl(z_{1051})\\ \\rightarrow\\ give(x,@x9,z_{1052}))))\\ \\land\\ \\forall\\ z_{1054}.(boy(z_{1054})\\ \\rightarrow\\ \\exists\\ z_{1052}.(book(z_{1052})\\ \\land\\ \\forall\\ z_{1051}.(girl(z_{1051})\\ \\rightarrow\\ give(x,@x6,z_{1052}))))))$"
      ],
      "text/plain": [
       "<IPython.core.display.Markdown object>"
      ]
     },
     "metadata": {},
     "output_type": "display_data"
    },
    {
     "data": {
      "text/markdown": [
       "\"85\": $\\forall\\ x.(boy(x)\\ \\rightarrow\\ \\exists\\ z_{1058}.(book(z_{1058})\\ \\land\\ \\forall\\ z_{1057}.(library(z_{1057})\\ \\rightarrow\\ (\\forall\\ z_{1055}.(girl(z_{1055})\\ \\rightarrow\\ give(z_{1057},@x9,z_{1058}))\\ \\land\\ \\forall\\ z_{1056}.(girl(z_{1056})\\ \\rightarrow\\ give(z_{1057},x,z_{1058}))))))$"
      ],
      "text/plain": [
       "<IPython.core.display.Markdown object>"
      ]
     },
     "metadata": {},
     "output_type": "display_data"
    },
    {
     "data": {
      "text/markdown": [
       "\"86\": $\\exists\\ x.(book(x)\\ \\land\\ \\forall\\ z_{1062}.(boy(z_{1062})\\ \\rightarrow\\ \\forall\\ z_{1061}.(library(z_{1061})\\ \\rightarrow\\ (\\forall\\ z_{1059}.(girl(z_{1059})\\ \\rightarrow\\ give(z_{1061},@x9,x))\\ \\land\\ \\forall\\ z_{1060}.(girl(z_{1060})\\ \\rightarrow\\ give(z_{1061},z_{1062},x))))))$"
      ],
      "text/plain": [
       "<IPython.core.display.Markdown object>"
      ]
     },
     "metadata": {},
     "output_type": "display_data"
    },
    {
     "data": {
      "text/markdown": [
       "\"87\": $\\forall\\ x.(boy(x)\\ \\rightarrow\\ \\forall\\ z_{1066}.(library(z_{1066})\\ \\rightarrow\\ \\exists\\ z_{1065}.(book(z_{1065})\\ \\land\\ \\forall\\ z_{1063}.(girl(z_{1063})\\ \\rightarrow\\ give(z_{1066},@x9,z_{1065}))\\ \\land\\ \\forall\\ z_{1064}.(girl(z_{1064})\\ \\rightarrow\\ give(z_{1066},x,z_{1065})))))$"
      ],
      "text/plain": [
       "<IPython.core.display.Markdown object>"
      ]
     },
     "metadata": {},
     "output_type": "display_data"
    },
    {
     "data": {
      "text/markdown": [
       "\"88\": $\\forall\\ x.(library(x)\\ \\rightarrow\\ \\forall\\ z_{1070}.(boy(z_{1070})\\ \\rightarrow\\ \\exists\\ z_{1069}.(book(z_{1069})\\ \\land\\ \\forall\\ z_{1067}.(girl(z_{1067})\\ \\rightarrow\\ give(x,@x9,z_{1069}))\\ \\land\\ \\forall\\ z_{1068}.(girl(z_{1068})\\ \\rightarrow\\ give(x,z_{1070},z_{1069})))))$"
      ],
      "text/plain": [
       "<IPython.core.display.Markdown object>"
      ]
     },
     "metadata": {},
     "output_type": "display_data"
    },
    {
     "data": {
      "text/markdown": [
       "\"89\": $\\exists\\ x.(book(x)\\ \\land\\ \\forall\\ z_{1074}.(library(z_{1074})\\ \\rightarrow\\ \\forall\\ z_{1073}.(boy(z_{1073})\\ \\rightarrow\\ (\\forall\\ z_{1071}.(girl(z_{1071})\\ \\rightarrow\\ give(z_{1074},@x9,x))\\ \\land\\ \\forall\\ z_{1072}.(girl(z_{1072})\\ \\rightarrow\\ give(z_{1074},z_{1073},x))))))$"
      ],
      "text/plain": [
       "<IPython.core.display.Markdown object>"
      ]
     },
     "metadata": {},
     "output_type": "display_data"
    },
    {
     "data": {
      "text/markdown": [
       "\"90\": $\\forall\\ x.(library(x)\\ \\rightarrow\\ \\exists\\ z_{1078}.(book(z_{1078})\\ \\land\\ \\forall\\ z_{1077}.(boy(z_{1077})\\ \\rightarrow\\ (\\forall\\ z_{1075}.(girl(z_{1075})\\ \\rightarrow\\ give(x,@x9,z_{1078}))\\ \\land\\ \\forall\\ z_{1076}.(girl(z_{1076})\\ \\rightarrow\\ give(x,z_{1077},z_{1078}))))))$"
      ],
      "text/plain": [
       "<IPython.core.display.Markdown object>"
      ]
     },
     "metadata": {},
     "output_type": "display_data"
    },
    {
     "data": {
      "text/markdown": [
       "\"91\": $(\\exists\\ x.(book(x)\\ \\land\\ \\forall\\ z_{1081}.(library(z_{1081})\\ \\rightarrow\\ \\forall\\ z_{1080}.(boy(z_{1080})\\ \\rightarrow\\ \\forall\\ z_{1079}.(girl(z_{1079})\\ \\rightarrow\\ give(z_{1081},@x9,x)))))\\ \\land\\ \\exists\\ x.(book(x)\\ \\land\\ \\forall\\ z_{1081}.(library(z_{1081})\\ \\rightarrow\\ \\forall\\ z_{1080}.(boy(z_{1080})\\ \\rightarrow\\ \\forall\\ z_{1079}.(girl(z_{1079})\\ \\rightarrow\\ give(z_{1081},@x6,x))))))$"
      ],
      "text/plain": [
       "<IPython.core.display.Markdown object>"
      ]
     },
     "metadata": {},
     "output_type": "display_data"
    },
    {
     "data": {
      "text/markdown": [
       "\"92\": $\\exists\\ x.(book(x)\\ \\land\\ \\forall\\ z_{1084}.(library(z_{1084})\\ \\rightarrow\\ \\forall\\ z_{1083}.(boy(z_{1083})\\ \\rightarrow\\ \\forall\\ z_{1082}.(girl(z_{1082})\\ \\rightarrow\\ give(z_{1084},@x9,x))))\\ \\land\\ \\forall\\ z_{1085}.(library(z_{1085})\\ \\rightarrow\\ \\forall\\ z_{1083}.(boy(z_{1083})\\ \\rightarrow\\ \\forall\\ z_{1082}.(girl(z_{1082})\\ \\rightarrow\\ give(z_{1085},@x6,x)))))$"
      ],
      "text/plain": [
       "<IPython.core.display.Markdown object>"
      ]
     },
     "metadata": {},
     "output_type": "display_data"
    },
    {
     "data": {
      "text/markdown": [
       "\"93\": $(\\forall\\ x.(library(x)\\ \\rightarrow\\ \\exists\\ z_{1088}.(book(z_{1088})\\ \\land\\ \\forall\\ z_{1087}.(boy(z_{1087})\\ \\rightarrow\\ \\forall\\ z_{1086}.(girl(z_{1086})\\ \\rightarrow\\ give(x,@x9,z_{1088})))))\\ \\land\\ \\forall\\ x.(library(x)\\ \\rightarrow\\ \\exists\\ z_{1088}.(book(z_{1088})\\ \\land\\ \\forall\\ z_{1087}.(boy(z_{1087})\\ \\rightarrow\\ \\forall\\ z_{1086}.(girl(z_{1086})\\ \\rightarrow\\ give(x,@x6,z_{1088}))))))$"
      ],
      "text/plain": [
       "<IPython.core.display.Markdown object>"
      ]
     },
     "metadata": {},
     "output_type": "display_data"
    },
    {
     "data": {
      "text/markdown": [
       "\"94\": $\\forall\\ x.(library(x)\\ \\rightarrow\\ (\\exists\\ z_{1091}.(book(z_{1091})\\ \\land\\ \\forall\\ z_{1090}.(boy(z_{1090})\\ \\rightarrow\\ \\forall\\ z_{1089}.(girl(z_{1089})\\ \\rightarrow\\ give(x,@x9,z_{1091}))))\\ \\land\\ \\exists\\ z_{1092}.(book(z_{1092})\\ \\land\\ \\forall\\ z_{1090}.(boy(z_{1090})\\ \\rightarrow\\ \\forall\\ z_{1089}.(girl(z_{1089})\\ \\rightarrow\\ give(x,@x6,z_{1092}))))))$"
      ],
      "text/plain": [
       "<IPython.core.display.Markdown object>"
      ]
     },
     "metadata": {},
     "output_type": "display_data"
    },
    {
     "data": {
      "text/markdown": [
       "\"95\": $\\exists\\ x.(book(x)\\ \\land\\ \\forall\\ z_{1096}.(library(z_{1096})\\ \\rightarrow\\ (\\forall\\ z_{1094}.(boy(z_{1094})\\ \\rightarrow\\ \\forall\\ z_{1093}.(girl(z_{1093})\\ \\rightarrow\\ give(z_{1096},@x9,x)))\\ \\land\\ \\forall\\ z_{1095}.(boy(z_{1095})\\ \\rightarrow\\ \\forall\\ z_{1093}.(girl(z_{1093})\\ \\rightarrow\\ give(z_{1096},@x6,x))))))$"
      ],
      "text/plain": [
       "<IPython.core.display.Markdown object>"
      ]
     },
     "metadata": {},
     "output_type": "display_data"
    },
    {
     "data": {
      "text/markdown": [
       "\"96\": $\\forall\\ x.(library(x)\\ \\rightarrow\\ \\exists\\ z_{1100}.(book(z_{1100})\\ \\land\\ \\forall\\ z_{1098}.(boy(z_{1098})\\ \\rightarrow\\ \\forall\\ z_{1097}.(girl(z_{1097})\\ \\rightarrow\\ give(x,@x9,z_{1100})))\\ \\land\\ \\forall\\ z_{1099}.(boy(z_{1099})\\ \\rightarrow\\ \\forall\\ z_{1097}.(girl(z_{1097})\\ \\rightarrow\\ give(x,@x6,z_{1100})))))$"
      ],
      "text/plain": [
       "<IPython.core.display.Markdown object>"
      ]
     },
     "metadata": {},
     "output_type": "display_data"
    },
    {
     "data": {
      "text/markdown": [
       "\"97\": $\\forall\\ x.(girl(x)\\ \\rightarrow\\ (\\exists\\ z_{1103}.(book(z_{1103})\\ \\land\\ \\forall\\ z_{1102}.(library(z_{1102})\\ \\rightarrow\\ \\forall\\ z_{1101}.(boy(z_{1101})\\ \\rightarrow\\ give(z_{1102},x,z_{1103}))))\\ \\land\\ \\exists\\ z_{1104}.(book(z_{1104})\\ \\land\\ \\forall\\ z_{1102}.(library(z_{1102})\\ \\rightarrow\\ \\forall\\ z_{1101}.(boy(z_{1101})\\ \\rightarrow\\ give(z_{1102},@x6,z_{1104}))))))$"
      ],
      "text/plain": [
       "<IPython.core.display.Markdown object>"
      ]
     },
     "metadata": {},
     "output_type": "display_data"
    },
    {
     "data": {
      "text/markdown": [
       "\"98\": $(\\forall\\ x.(girl(x)\\ \\rightarrow\\ \\exists\\ z_{1107}.(book(z_{1107})\\ \\land\\ \\forall\\ z_{1106}.(library(z_{1106})\\ \\rightarrow\\ \\forall\\ z_{1105}.(boy(z_{1105})\\ \\rightarrow\\ give(z_{1106},@x9,z_{1107})))))\\ \\land\\ \\forall\\ x.(girl(x)\\ \\rightarrow\\ \\exists\\ z_{1107}.(book(z_{1107})\\ \\land\\ \\forall\\ z_{1106}.(library(z_{1106})\\ \\rightarrow\\ \\forall\\ z_{1105}.(boy(z_{1105})\\ \\rightarrow\\ give(z_{1106},@x6,z_{1107}))))))$"
      ],
      "text/plain": [
       "<IPython.core.display.Markdown object>"
      ]
     },
     "metadata": {},
     "output_type": "display_data"
    },
    {
     "data": {
      "text/markdown": [
       "\"99\": $\\forall\\ x.(girl(x)\\ \\rightarrow\\ \\exists\\ z_{1111}.(book(z_{1111})\\ \\land\\ \\forall\\ z_{1109}.(library(z_{1109})\\ \\rightarrow\\ \\forall\\ z_{1108}.(boy(z_{1108})\\ \\rightarrow\\ give(z_{1109},x,z_{1111})))\\ \\land\\ \\forall\\ z_{1110}.(library(z_{1110})\\ \\rightarrow\\ \\forall\\ z_{1108}.(boy(z_{1108})\\ \\rightarrow\\ give(z_{1110},@x6,z_{1111})))))$"
      ],
      "text/plain": [
       "<IPython.core.display.Markdown object>"
      ]
     },
     "metadata": {},
     "output_type": "display_data"
    },
    {
     "data": {
      "text/markdown": [
       "\"100\": $\\exists\\ x.(book(x)\\ \\land\\ \\forall\\ z_{1115}.(girl(z_{1115})\\ \\rightarrow\\ (\\forall\\ z_{1113}.(library(z_{1113})\\ \\rightarrow\\ \\forall\\ z_{1112}.(boy(z_{1112})\\ \\rightarrow\\ give(z_{1113},z_{1115},x)))\\ \\land\\ \\forall\\ z_{1114}.(library(z_{1114})\\ \\rightarrow\\ \\forall\\ z_{1112}.(boy(z_{1112})\\ \\rightarrow\\ give(z_{1114},@x6,x))))))$"
      ],
      "text/plain": [
       "<IPython.core.display.Markdown object>"
      ]
     },
     "metadata": {},
     "output_type": "display_data"
    },
    {
     "data": {
      "text/markdown": [
       "\"101\": $(\\exists\\ x.(book(x)\\ \\land\\ \\forall\\ z_{1118}.(girl(z_{1118})\\ \\rightarrow\\ \\forall\\ z_{1117}.(library(z_{1117})\\ \\rightarrow\\ \\forall\\ z_{1116}.(boy(z_{1116})\\ \\rightarrow\\ give(z_{1117},@x9,x)))))\\ \\land\\ \\exists\\ x.(book(x)\\ \\land\\ \\forall\\ z_{1118}.(girl(z_{1118})\\ \\rightarrow\\ \\forall\\ z_{1117}.(library(z_{1117})\\ \\rightarrow\\ \\forall\\ z_{1116}.(boy(z_{1116})\\ \\rightarrow\\ give(z_{1117},@x6,x))))))$"
      ],
      "text/plain": [
       "<IPython.core.display.Markdown object>"
      ]
     },
     "metadata": {},
     "output_type": "display_data"
    },
    {
     "data": {
      "text/markdown": [
       "\"102\": $\\exists\\ x.(book(x)\\ \\land\\ \\forall\\ z_{1121}.(girl(z_{1121})\\ \\rightarrow\\ \\forall\\ z_{1120}.(library(z_{1120})\\ \\rightarrow\\ \\forall\\ z_{1119}.(boy(z_{1119})\\ \\rightarrow\\ give(z_{1120},@x9,x))))\\ \\land\\ \\forall\\ z_{1122}.(girl(z_{1122})\\ \\rightarrow\\ \\forall\\ z_{1120}.(library(z_{1120})\\ \\rightarrow\\ \\forall\\ z_{1119}.(boy(z_{1119})\\ \\rightarrow\\ give(z_{1120},@x6,x)))))$"
      ],
      "text/plain": [
       "<IPython.core.display.Markdown object>"
      ]
     },
     "metadata": {},
     "output_type": "display_data"
    },
    {
     "data": {
      "text/markdown": [
       "\"103\": $\\forall\\ x.(girl(x)\\ \\rightarrow\\ (\\forall\\ z_{1125}.(library(z_{1125})\\ \\rightarrow\\ \\exists\\ z_{1124}.(book(z_{1124})\\ \\land\\ \\forall\\ z_{1123}.(boy(z_{1123})\\ \\rightarrow\\ give(z_{1125},x,z_{1124}))))\\ \\land\\ \\forall\\ z_{1126}.(library(z_{1126})\\ \\rightarrow\\ \\exists\\ z_{1124}.(book(z_{1124})\\ \\land\\ \\forall\\ z_{1123}.(boy(z_{1123})\\ \\rightarrow\\ give(z_{1126},@x6,z_{1124}))))))$"
      ],
      "text/plain": [
       "<IPython.core.display.Markdown object>"
      ]
     },
     "metadata": {},
     "output_type": "display_data"
    },
    {
     "data": {
      "text/markdown": [
       "\"104\": $(\\forall\\ x.(girl(x)\\ \\rightarrow\\ \\forall\\ z_{1129}.(library(z_{1129})\\ \\rightarrow\\ \\exists\\ z_{1128}.(book(z_{1128})\\ \\land\\ \\forall\\ z_{1127}.(boy(z_{1127})\\ \\rightarrow\\ give(z_{1129},@x9,z_{1128})))))\\ \\land\\ \\forall\\ x.(girl(x)\\ \\rightarrow\\ \\forall\\ z_{1129}.(library(z_{1129})\\ \\rightarrow\\ \\exists\\ z_{1128}.(book(z_{1128})\\ \\land\\ \\forall\\ z_{1127}.(boy(z_{1127})\\ \\rightarrow\\ give(z_{1129},@x6,z_{1128}))))))$"
      ],
      "text/plain": [
       "<IPython.core.display.Markdown object>"
      ]
     },
     "metadata": {},
     "output_type": "display_data"
    },
    {
     "data": {
      "text/markdown": [
       "\"105\": $\\forall\\ x.(girl(x)\\ \\rightarrow\\ \\forall\\ z_{1133}.(library(z_{1133})\\ \\rightarrow\\ (\\exists\\ z_{1131}.(book(z_{1131})\\ \\land\\ \\forall\\ z_{1130}.(boy(z_{1130})\\ \\rightarrow\\ give(z_{1133},x,z_{1131})))\\ \\land\\ \\exists\\ z_{1132}.(book(z_{1132})\\ \\land\\ \\forall\\ z_{1130}.(boy(z_{1130})\\ \\rightarrow\\ give(z_{1133},@x6,z_{1132}))))))$"
      ],
      "text/plain": [
       "<IPython.core.display.Markdown object>"
      ]
     },
     "metadata": {},
     "output_type": "display_data"
    },
    {
     "data": {
      "text/markdown": [
       "\"106\": $\\forall\\ x.(library(x)\\ \\rightarrow\\ \\forall\\ z_{1137}.(girl(z_{1137})\\ \\rightarrow\\ (\\exists\\ z_{1135}.(book(z_{1135})\\ \\land\\ \\forall\\ z_{1134}.(boy(z_{1134})\\ \\rightarrow\\ give(x,z_{1137},z_{1135})))\\ \\land\\ \\exists\\ z_{1136}.(book(z_{1136})\\ \\land\\ \\forall\\ z_{1134}.(boy(z_{1134})\\ \\rightarrow\\ give(x,@x6,z_{1136}))))))$"
      ],
      "text/plain": [
       "<IPython.core.display.Markdown object>"
      ]
     },
     "metadata": {},
     "output_type": "display_data"
    },
    {
     "data": {
      "text/markdown": [
       "\"107\": $(\\forall\\ x.(library(x)\\ \\rightarrow\\ \\forall\\ z_{1140}.(girl(z_{1140})\\ \\rightarrow\\ \\exists\\ z_{1139}.(book(z_{1139})\\ \\land\\ \\forall\\ z_{1138}.(boy(z_{1138})\\ \\rightarrow\\ give(x,@x9,z_{1139})))))\\ \\land\\ \\forall\\ x.(library(x)\\ \\rightarrow\\ \\forall\\ z_{1140}.(girl(z_{1140})\\ \\rightarrow\\ \\exists\\ z_{1139}.(book(z_{1139})\\ \\land\\ \\forall\\ z_{1138}.(boy(z_{1138})\\ \\rightarrow\\ give(x,@x6,z_{1139}))))))$"
      ],
      "text/plain": [
       "<IPython.core.display.Markdown object>"
      ]
     },
     "metadata": {},
     "output_type": "display_data"
    },
    {
     "data": {
      "text/markdown": [
       "\"108\": $\\forall\\ x.(library(x)\\ \\rightarrow\\ (\\forall\\ z_{1143}.(girl(z_{1143})\\ \\rightarrow\\ \\exists\\ z_{1142}.(book(z_{1142})\\ \\land\\ \\forall\\ z_{1141}.(boy(z_{1141})\\ \\rightarrow\\ give(x,@x9,z_{1142}))))\\ \\land\\ \\forall\\ z_{1144}.(girl(z_{1144})\\ \\rightarrow\\ \\exists\\ z_{1142}.(book(z_{1142})\\ \\land\\ \\forall\\ z_{1141}.(boy(z_{1141})\\ \\rightarrow\\ give(x,@x6,z_{1142}))))))$"
      ],
      "text/plain": [
       "<IPython.core.display.Markdown object>"
      ]
     },
     "metadata": {},
     "output_type": "display_data"
    },
    {
     "data": {
      "text/markdown": [
       "\"109\": $\\forall\\ x.(girl(x)\\ \\rightarrow\\ \\exists\\ z_{1148}.(book(z_{1148})\\ \\land\\ \\forall\\ z_{1147}.(library(z_{1147})\\ \\rightarrow\\ (\\forall\\ z_{1145}.(boy(z_{1145})\\ \\rightarrow\\ give(z_{1147},x,z_{1148}))\\ \\land\\ \\forall\\ z_{1146}.(boy(z_{1146})\\ \\rightarrow\\ give(z_{1147},@x6,z_{1148}))))))$"
      ],
      "text/plain": [
       "<IPython.core.display.Markdown object>"
      ]
     },
     "metadata": {},
     "output_type": "display_data"
    },
    {
     "data": {
      "text/markdown": [
       "\"110\": $\\exists\\ x.(book(x)\\ \\land\\ \\forall\\ z_{1152}.(girl(z_{1152})\\ \\rightarrow\\ \\forall\\ z_{1151}.(library(z_{1151})\\ \\rightarrow\\ (\\forall\\ z_{1149}.(boy(z_{1149})\\ \\rightarrow\\ give(z_{1151},z_{1152},x))\\ \\land\\ \\forall\\ z_{1150}.(boy(z_{1150})\\ \\rightarrow\\ give(z_{1151},@x6,x))))))$"
      ],
      "text/plain": [
       "<IPython.core.display.Markdown object>"
      ]
     },
     "metadata": {},
     "output_type": "display_data"
    },
    {
     "data": {
      "text/markdown": [
       "\"111\": $\\forall\\ x.(girl(x)\\ \\rightarrow\\ \\forall\\ z_{1156}.(library(z_{1156})\\ \\rightarrow\\ \\exists\\ z_{1155}.(book(z_{1155})\\ \\land\\ \\forall\\ z_{1153}.(boy(z_{1153})\\ \\rightarrow\\ give(z_{1156},x,z_{1155}))\\ \\land\\ \\forall\\ z_{1154}.(boy(z_{1154})\\ \\rightarrow\\ give(z_{1156},@x6,z_{1155})))))$"
      ],
      "text/plain": [
       "<IPython.core.display.Markdown object>"
      ]
     },
     "metadata": {},
     "output_type": "display_data"
    },
    {
     "data": {
      "text/markdown": [
       "\"112\": $\\forall\\ x.(library(x)\\ \\rightarrow\\ \\forall\\ z_{1160}.(girl(z_{1160})\\ \\rightarrow\\ \\exists\\ z_{1159}.(book(z_{1159})\\ \\land\\ \\forall\\ z_{1157}.(boy(z_{1157})\\ \\rightarrow\\ give(x,z_{1160},z_{1159}))\\ \\land\\ \\forall\\ z_{1158}.(boy(z_{1158})\\ \\rightarrow\\ give(x,@x6,z_{1159})))))$"
      ],
      "text/plain": [
       "<IPython.core.display.Markdown object>"
      ]
     },
     "metadata": {},
     "output_type": "display_data"
    },
    {
     "data": {
      "text/markdown": [
       "\"113\": $\\exists\\ x.(book(x)\\ \\land\\ \\forall\\ z_{1164}.(library(z_{1164})\\ \\rightarrow\\ \\forall\\ z_{1163}.(girl(z_{1163})\\ \\rightarrow\\ (\\forall\\ z_{1161}.(boy(z_{1161})\\ \\rightarrow\\ give(z_{1164},z_{1163},x))\\ \\land\\ \\forall\\ z_{1162}.(boy(z_{1162})\\ \\rightarrow\\ give(z_{1164},@x6,x))))))$"
      ],
      "text/plain": [
       "<IPython.core.display.Markdown object>"
      ]
     },
     "metadata": {},
     "output_type": "display_data"
    },
    {
     "data": {
      "text/markdown": [
       "\"114\": $\\forall\\ x.(library(x)\\ \\rightarrow\\ \\exists\\ z_{1168}.(book(z_{1168})\\ \\land\\ \\forall\\ z_{1167}.(girl(z_{1167})\\ \\rightarrow\\ (\\forall\\ z_{1165}.(boy(z_{1165})\\ \\rightarrow\\ give(x,z_{1167},z_{1168}))\\ \\land\\ \\forall\\ z_{1166}.(boy(z_{1166})\\ \\rightarrow\\ give(x,@x6,z_{1168}))))))$"
      ],
      "text/plain": [
       "<IPython.core.display.Markdown object>"
      ]
     },
     "metadata": {},
     "output_type": "display_data"
    },
    {
     "data": {
      "text/markdown": [
       "\"115\": $(\\exists\\ x.(book(x)\\ \\land\\ \\forall\\ z_{1171}.(library(z_{1171})\\ \\rightarrow\\ \\forall\\ z_{1170}.(girl(z_{1170})\\ \\rightarrow\\ \\forall\\ z_{1169}.(boy(z_{1169})\\ \\rightarrow\\ give(z_{1171},@x9,x)))))\\ \\land\\ \\exists\\ x.(book(x)\\ \\land\\ \\forall\\ z_{1171}.(library(z_{1171})\\ \\rightarrow\\ \\forall\\ z_{1170}.(girl(z_{1170})\\ \\rightarrow\\ \\forall\\ z_{1169}.(boy(z_{1169})\\ \\rightarrow\\ give(z_{1171},@x6,x))))))$"
      ],
      "text/plain": [
       "<IPython.core.display.Markdown object>"
      ]
     },
     "metadata": {},
     "output_type": "display_data"
    },
    {
     "data": {
      "text/markdown": [
       "\"116\": $\\exists\\ x.(book(x)\\ \\land\\ \\forall\\ z_{1174}.(library(z_{1174})\\ \\rightarrow\\ \\forall\\ z_{1173}.(girl(z_{1173})\\ \\rightarrow\\ \\forall\\ z_{1172}.(boy(z_{1172})\\ \\rightarrow\\ give(z_{1174},@x9,x))))\\ \\land\\ \\forall\\ z_{1175}.(library(z_{1175})\\ \\rightarrow\\ \\forall\\ z_{1173}.(girl(z_{1173})\\ \\rightarrow\\ \\forall\\ z_{1172}.(boy(z_{1172})\\ \\rightarrow\\ give(z_{1175},@x6,x)))))$"
      ],
      "text/plain": [
       "<IPython.core.display.Markdown object>"
      ]
     },
     "metadata": {},
     "output_type": "display_data"
    },
    {
     "data": {
      "text/markdown": [
       "\"117\": $(\\forall\\ x.(library(x)\\ \\rightarrow\\ \\exists\\ z_{1178}.(book(z_{1178})\\ \\land\\ \\forall\\ z_{1177}.(girl(z_{1177})\\ \\rightarrow\\ \\forall\\ z_{1176}.(boy(z_{1176})\\ \\rightarrow\\ give(x,@x9,z_{1178})))))\\ \\land\\ \\forall\\ x.(library(x)\\ \\rightarrow\\ \\exists\\ z_{1178}.(book(z_{1178})\\ \\land\\ \\forall\\ z_{1177}.(girl(z_{1177})\\ \\rightarrow\\ \\forall\\ z_{1176}.(boy(z_{1176})\\ \\rightarrow\\ give(x,@x6,z_{1178}))))))$"
      ],
      "text/plain": [
       "<IPython.core.display.Markdown object>"
      ]
     },
     "metadata": {},
     "output_type": "display_data"
    },
    {
     "data": {
      "text/markdown": [
       "\"118\": $\\forall\\ x.(library(x)\\ \\rightarrow\\ (\\exists\\ z_{1181}.(book(z_{1181})\\ \\land\\ \\forall\\ z_{1180}.(girl(z_{1180})\\ \\rightarrow\\ \\forall\\ z_{1179}.(boy(z_{1179})\\ \\rightarrow\\ give(x,@x9,z_{1181}))))\\ \\land\\ \\exists\\ z_{1182}.(book(z_{1182})\\ \\land\\ \\forall\\ z_{1180}.(girl(z_{1180})\\ \\rightarrow\\ \\forall\\ z_{1179}.(boy(z_{1179})\\ \\rightarrow\\ give(x,@x6,z_{1182}))))))$"
      ],
      "text/plain": [
       "<IPython.core.display.Markdown object>"
      ]
     },
     "metadata": {},
     "output_type": "display_data"
    },
    {
     "data": {
      "text/markdown": [
       "\"119\": $\\exists\\ x.(book(x)\\ \\land\\ \\forall\\ z_{1186}.(library(z_{1186})\\ \\rightarrow\\ (\\forall\\ z_{1184}.(girl(z_{1184})\\ \\rightarrow\\ \\forall\\ z_{1183}.(boy(z_{1183})\\ \\rightarrow\\ give(z_{1186},@x9,x)))\\ \\land\\ \\forall\\ z_{1185}.(girl(z_{1185})\\ \\rightarrow\\ \\forall\\ z_{1183}.(boy(z_{1183})\\ \\rightarrow\\ give(z_{1186},@x6,x))))))$"
      ],
      "text/plain": [
       "<IPython.core.display.Markdown object>"
      ]
     },
     "metadata": {},
     "output_type": "display_data"
    },
    {
     "data": {
      "text/markdown": [
       "\"120\": $\\forall\\ x.(library(x)\\ \\rightarrow\\ \\exists\\ z_{1190}.(book(z_{1190})\\ \\land\\ \\forall\\ z_{1188}.(girl(z_{1188})\\ \\rightarrow\\ \\forall\\ z_{1187}.(boy(z_{1187})\\ \\rightarrow\\ give(x,@x9,z_{1190})))\\ \\land\\ \\forall\\ z_{1189}.(girl(z_{1189})\\ \\rightarrow\\ \\forall\\ z_{1187}.(boy(z_{1187})\\ \\rightarrow\\ give(x,@x6,z_{1190})))))$"
      ],
      "text/plain": [
       "<IPython.core.display.Markdown object>"
      ]
     },
     "metadata": {},
     "output_type": "display_data"
    }
   ],
   "source": [
    "sentences = [\n",
    "    'every library gives a book to every girl and every boy',\n",
    "]\n",
    "\n",
    "fcfg_storage_answers_2 = r\"\"\"\n",
    "### Correct the conjunction rule here. Replace xxx and ??? with the correct answer:\n",
    "#NP[NUM=xxx, SEM=[CORE=<\\P.P(@x)>, STORE=((<bo(???, @x)>)+?b1+?b2)]] -> NP[NUM=?num1, SEM=[CORE=?n1, STORE=?b1]] CONJ NP[NUM=?num2, SEM=[CORE=?n2, STORE=?b2]]\n",
    "NP[NUM=?n, SEM=[CORE=<\\P.P(@x)>, STORE=((<bo(\\P.(?n1(P) & ?n2(P)), @x)>)+?b1+?b2)]] -> NP[NUM=?num1, SEM=[CORE=?n1, STORE=?b1]] CONJ NP[NUM=?num2, SEM=[CORE=?n2, STORE=?b2]]\n",
    "CONJ -> 'and'  \n",
    "\"\"\"\n",
    "\n",
    "\n",
    "fcfg_storage = fcfg_storage_base + fcfg_storage_np + fcfg_storage_lexicon + fcfg_storage_answers_1 + fcfg_storage_answers_2\n",
    "cs_syntax = FeatureGrammar.fromstring(fcfg_storage)\n",
    "sents_reps = sem_parser(sentences, cs_syntax, verbose=False, is_cs=True)\n",
    "\n",
    "for i, (sent, semreps) in enumerate(sents_reps.items()):\n",
    "    counter = 0\n",
    "    print(f\"{i+1}. {sent}\")\n",
    "    for semrep in semreps:\n",
    "        counter += 1\n",
    "        display_translation(counter, semrep)"
   ]
  },
  {
   "cell_type": "markdown",
   "metadata": {},
   "source": [
    "## Marks\n",
    "\n",
    "This part of the assignment has a total of 14 marks."
   ]
  }
 ],
 "metadata": {
  "kernelspec": {
   "display_name": "Python 3",
   "language": "python",
   "name": "python3"
  },
  "language_info": {
   "codemirror_mode": {
    "name": "ipython",
    "version": 3
   },
   "file_extension": ".py",
   "mimetype": "text/x-python",
   "name": "python",
   "nbconvert_exporter": "python",
   "pygments_lexer": "ipython3",
   "version": "3.7.4"
  }
 },
 "nbformat": 4,
 "nbformat_minor": 1
}
