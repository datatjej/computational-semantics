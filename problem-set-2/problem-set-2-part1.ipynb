{
 "cells": [
  {
   "cell_type": "markdown",
   "metadata": {},
   "source": [
    "# Problem Set 2 - Part 1: Ambiguity and Inference"
   ]
  },
  {
   "cell_type": "markdown",
   "metadata": {},
   "source": [
    "The lab is an exploration and learning exercise to be done in a group and also in discussion with the teachers and other students.\n",
    "\n",
    "Before starting, please read the following instructions on [how to work on group assignments](https://github.com/sdobnik/computational-semantics/blob/master/README.md).\n",
    "\n",
    "\n",
    "### Pre-requisite knowledge\n",
    "\n",
    "Understanding of `problem-set-1`:\n",
    "- First order logic\n",
    "- Lambda calculus\n",
    "- Feature unification context free grammar\n",
    "\n",
    "### Instructions\n",
    "\n",
    "- Follow the instructions step-by-step.\n",
    "- Run all cells before modifying them to see how the code works.\n",
    "- The tasks will ask you to modify cells in this notebook.\n",
    "- Modify the cell to provide your answer and run a test before submiting the file."
   ]
  },
  {
   "cell_type": "code",
   "execution_count": 1,
   "metadata": {},
   "outputs": [],
   "source": [
    "# This task requires NLTK and Jupyter Notebook (IPython package).\n",
    "\n",
    "import nltk\n",
    "from nltk.grammar import FeatureGrammar\n",
    "from nltk.sem import cooper_storage as cs\n",
    "\n",
    "from utils import display_latex, display_translation, display_tree, display, Markdown\n",
    "from copy import deepcopy\n",
    "\n",
    "read_expr = nltk.sem.Expression.fromstring"
   ]
  },
  {
   "cell_type": "markdown",
   "metadata": {},
   "source": [
    "Run the following cell to import functions and syntax specific to this problem set:"
   ]
  },
  {
   "cell_type": "code",
   "execution_count": 2,
   "metadata": {},
   "outputs": [],
   "source": [
    "from utils2 import sem_parser, evaluate_sentences, syntax, syntax_notv"
   ]
  },
  {
   "cell_type": "markdown",
   "metadata": {},
   "source": [
    "### 1. Ambiguity in quantifiers [6 marks in total]\n",
    "\n",
    "Follow the descriptions and instructions in sections **(1.1)**, **(1.2)** and **(1.3)** to learn about the code and the examples. Then answer the questions in section **(1.4)**."
   ]
  },
  {
   "cell_type": "markdown",
   "metadata": {},
   "source": [
    "#### 1.1. FCFG with a SEM feature\n",
    "\n",
    "You should already be familar with FCFG with a SEM feature. \n",
    "Use the code below to parse the following sentences to their semantic representations:\n",
    "\n",
    "1. every dog bites a bone\n",
    "2. a man gives a bone to every dog\n",
    "3. Russia gives Moscow to Napoleon"
   ]
  },
  {
   "cell_type": "code",
   "execution_count": 3,
   "metadata": {},
   "outputs": [
    {
     "data": {
      "text/markdown": [
       "\"1. all dogs bite a bone\": $\\forall\\ x.(dog(x)\\ \\to\\ \\exists\\ z_{1}.(bone(z_{1})\\ \\land\\ bite(x,z_{1})))$"
      ],
      "text/plain": [
       "<IPython.core.display.Markdown object>"
      ]
     },
     "metadata": {},
     "output_type": "display_data"
    },
    {
     "data": {
      "text/markdown": [
       "\"2. a man gives a bone to every dog\": $\\exists\\ x.(man(x)\\ \\land\\ \\forall\\ z_{3}.(dog(z_{3})\\ \\to\\ \\exists\\ z_{2}.(bone(z_{2})\\ \\land\\ give(x,z_{2},z_{3}))))$"
      ],
      "text/plain": [
       "<IPython.core.display.Markdown object>"
      ]
     },
     "metadata": {},
     "output_type": "display_data"
    },
    {
     "data": {
      "text/markdown": [
       "\"3. Russia gives Moscow to Napoleon\": $give(russia,moscow,napoleon)$"
      ],
      "text/plain": [
       "<IPython.core.display.Markdown object>"
      ]
     },
     "metadata": {},
     "output_type": "display_data"
    }
   ],
   "source": [
    "sentences = [\n",
    "    'all dogs bite a bone',\n",
    "    'a man gives a bone to every dog',\n",
    "    'Russia gives Moscow to Napoleon',\n",
    "]\n",
    "\n",
    "# if you want to see the parse tree change `verbose` to True:\n",
    "sents_reps = sem_parser(sentences, syntax, verbose=False)\n",
    "\n",
    "for i, (sent, semreps) in enumerate(sents_reps.items()):\n",
    "    for semrep in semreps:\n",
    "        display_translation(f\"{i+1}. {sent}\", semrep)"
   ]
  },
  {
   "cell_type": "markdown",
   "metadata": {},
   "source": [
    "#### 1.2. Evaluate sentences in a model\n",
    "\n",
    "We have a world model with entities and sets to represent their properties and relationships. \n",
    "Run the code below to evaluate the sentence representations from the previous section in the world model defined below."
   ]
  },
  {
   "cell_type": "code",
   "execution_count": 4,
   "metadata": {},
   "outputs": [
    {
     "name": "stdout",
     "output_type": "stream",
     "text": [
      "1. all dogs bite a bone:\n"
     ]
    },
    {
     "data": {
      "text/markdown": [
       "\"True\": $\\forall\\ x.(dog(x)\\ \\to\\ \\exists\\ z_{4}.(bone(z_{4})\\ \\land\\ bite(x,z_{4})))$"
      ],
      "text/plain": [
       "<IPython.core.display.Markdown object>"
      ]
     },
     "metadata": {},
     "output_type": "display_data"
    },
    {
     "name": "stdout",
     "output_type": "stream",
     "text": [
      "2. a man gives a bone to every dog:\n"
     ]
    },
    {
     "data": {
      "text/markdown": [
       "\"True\": $\\exists\\ x.(man(x)\\ \\land\\ \\forall\\ z_{6}.(dog(z_{6})\\ \\to\\ \\exists\\ z_{5}.(bone(z_{5})\\ \\land\\ give(x,z_{5},z_{6}))))$"
      ],
      "text/plain": [
       "<IPython.core.display.Markdown object>"
      ]
     },
     "metadata": {},
     "output_type": "display_data"
    },
    {
     "name": "stdout",
     "output_type": "stream",
     "text": [
      "3. Russia gives Moscow to Napoleon:\n"
     ]
    },
    {
     "data": {
      "text/markdown": [
       "\"True\": $give(russia,moscow,napoleon)$"
      ],
      "text/plain": [
       "<IPython.core.display.Markdown object>"
      ]
     },
     "metadata": {},
     "output_type": "display_data"
    }
   ],
   "source": [
    "# a world model:\n",
    "entities = \"\"\"\n",
    "russia    => c1\n",
    "moscow    => c2\n",
    "napoleon  => m2\n",
    "\"\"\"\n",
    "unaries = \"\"\"\n",
    "dog  => {d1, d2, d3} \n",
    "man  => {m1, m2} \n",
    "bone => {bn1, bn2} \n",
    "\"\"\"\n",
    "binaries = \"\"\"\n",
    "bite => {(d1, bn1), (d2, bn2), (d3, bn2)} \n",
    "\"\"\"\n",
    "ternaries = \"\"\"\n",
    "give => {(c1, c2, m2), (m1, bn1, d1), (m1, bn2, d2), (m1, bn2, d3)} \n",
    "\"\"\"\n",
    "\n",
    "# world is a collection of entities and relations:\n",
    "world = entities + unaries + binaries + ternaries\n",
    "\n",
    "# parse the sentences:\n",
    "sents_reps = sem_parser(sentences, syntax, verbose=False)\n",
    "# evaluate them:\n",
    "sents_reps_vals = evaluate_sentences(sents_reps, world)\n",
    "\n",
    "# print all readings\n",
    "for i, (sent, semreps_vals) in enumerate(sents_reps_vals.items()):\n",
    "    for semrep, val in semreps_vals.items():\n",
    "        print(f\"{i+1}. {sent}:\")\n",
    "        display_translation(val, semrep)"
   ]
  },
  {
   "cell_type": "markdown",
   "metadata": {},
   "source": [
    "#### 1.3. Exploiting syntactic ambiguity to represent semantic ambiguity"
   ]
  },
  {
   "cell_type": "markdown",
   "metadata": {},
   "source": [
    "Ditransitive verbs (`DTV`) have two objects. Use the code below to inspect the lexical representation of `give(s)` in the grammar. When constructing a `VP`, we take the semantic representation of a di-trasitive verb `DTV`as a function and apply it on both direct and indirect objects: `vp = ?dtv(?obj,?pp)`. The lambda bound variables `Y` and `X` are substituted with `?obj` and `?pp`."
   ]
  },
  {
   "cell_type": "code",
   "execution_count": 5,
   "metadata": {},
   "outputs": [
    {
     "name": "stdout",
     "output_type": "stream",
     "text": [
      "DTV[NUM='pl', SEM=<\\Y X x.X(\\z.Y(\\y.give(x,y,z)))>, TNS='pres'] -> 'give'\n",
      "VP[NUM=?n, SEM=<?v(?obj,?pp)>] -> DTV[NUM=?n, SEM=?v] NP[SEM=?obj] PP[SEM=?pp, +TO]\n"
     ]
    }
   ],
   "source": [
    "print(syntax.productions()[-1])\n",
    "print(syntax.productions()[-5])"
   ]
  },
  {
   "cell_type": "markdown",
   "metadata": {},
   "source": [
    "In the lecture we discussed that without a mechanism such as Cooper storage we would only get one scoping of quanitifers.\n",
    "\n",
    "One trick to ensure a different scoping for `give(s)` is  to create a parallel syntactic rule that contains a different internal order of composition of arguments in the `SEM`feature as follows: \n",
    "\n",
    "For example, we can change the compositional function from:\n",
    "$$\\lambda Y\\ X\\ x.X(\\lambda z.Y(\\lambda y.give(x,y,z)))$$\n",
    "to:\n",
    "$$\\lambda Y\\ X\\ x.Y(\\lambda y.X(\\lambda z.give(x,y,z)))$$\n",
    "\n",
    "As we now have two rules for `DTV` this will introduce syntactic ambiguity when a parses encouters words such `give(s)`.\n",
    "The following code adds two alternative rules to those in the previous cell. Run the code to see the parse results for sentences and their evaluation in the model."
   ]
  },
  {
   "cell_type": "code",
   "execution_count": 6,
   "metadata": {},
   "outputs": [
    {
     "name": "stdout",
     "output_type": "stream",
     "text": [
      "1. all dogs bite a bone:\n"
     ]
    },
    {
     "data": {
      "text/markdown": [
       "\"True\": $\\forall\\ x.(dog(x)\\ \\to\\ \\exists\\ z_{7}.(bone(z_{7})\\ \\land\\ bite(x,z_{7})))$"
      ],
      "text/plain": [
       "<IPython.core.display.Markdown object>"
      ]
     },
     "metadata": {},
     "output_type": "display_data"
    },
    {
     "name": "stdout",
     "output_type": "stream",
     "text": [
      "2. a man gives a bone to every dog:\n"
     ]
    },
    {
     "data": {
      "text/markdown": [
       "\"True\": $\\exists\\ x.(man(x)\\ \\land\\ \\forall\\ z_{11}.(dog(z_{11})\\ \\to\\ \\exists\\ z_{10}.(bone(z_{10})\\ \\land\\ give(x,z_{10},z_{11}))))$"
      ],
      "text/plain": [
       "<IPython.core.display.Markdown object>"
      ]
     },
     "metadata": {},
     "output_type": "display_data"
    },
    {
     "name": "stdout",
     "output_type": "stream",
     "text": [
      "2. a man gives a bone to every dog:\n"
     ]
    },
    {
     "data": {
      "text/markdown": [
       "\"False\": $\\exists\\ x.(man(x)\\ \\land\\ \\exists\\ z_{8}.(bone(z_{8})\\ \\land\\ \\forall\\ z_{9}.(dog(z_{9})\\ \\to\\ give(x,z_{8},z_{9}))))$"
      ],
      "text/plain": [
       "<IPython.core.display.Markdown object>"
      ]
     },
     "metadata": {},
     "output_type": "display_data"
    },
    {
     "name": "stdout",
     "output_type": "stream",
     "text": [
      "3. Russia gives Moscow to Napoleon:\n"
     ]
    },
    {
     "data": {
      "text/markdown": [
       "\"True\": $give(russia,moscow,napoleon)$"
      ],
      "text/plain": [
       "<IPython.core.display.Markdown object>"
      ]
     },
     "metadata": {},
     "output_type": "display_data"
    }
   ],
   "source": [
    "fcfg_string_give = r\"\"\"\n",
    "DTV[NUM=sg,SEM=<\\Y X x.Y(\\y.X(\\z.give(x,y,z)))>,TNS=pres] -> 'gives'\n",
    "DTV[NUM=pl,SEM=<\\Y X x.Y(\\y.X(\\z.give(x,y,z)))>,TNS=pres] -> 'give'\n",
    "\"\"\"\n",
    "\n",
    "# this is going to add new rules to the syntax:\n",
    "new_syntax = FeatureGrammar(\n",
    "    syntax.start(),\n",
    "    syntax.productions() + FeatureGrammar.fromstring(fcfg_string_give).productions()\n",
    ")\n",
    "\n",
    "# parse the sentences with new syntax:\n",
    "sents_reps = sem_parser(sentences, new_syntax, verbose=False)\n",
    "# evaluate them:\n",
    "sents_reps_vals = evaluate_sentences(sents_reps, world)\n",
    "\n",
    "for i, (sent, semreps_vals) in enumerate(sents_reps_vals.items()):\n",
    "    for semrep, val in semreps_vals.items():\n",
    "        print(f\"{i+1}. {sent}:\")\n",
    "        display_translation(val, semrep) "
   ]
  },
  {
   "cell_type": "markdown",
   "metadata": {},
   "source": [
    "#### 1.4. Questions"
   ]
  },
  {
   "cell_type": "markdown",
   "metadata": {},
   "source": [
    "**1a.** Because the word `give`can now be expanded following two rules we get two extra parse trees for the second and and the third sentence. Answer the following questions: **[2 marks]**\n",
    "   - Why sentence (2) with `give` has two different readings but sentence (3) has only one reading?\n",
    "   - What is the difference between the two representations of sentence (2)?"
   ]
  },
  {
   "cell_type": "raw",
   "metadata": {},
   "source": [
    "*Write your answers here*\n",
    "\n",
    "Sentence 2 has two different readings since it can be interpreted has a man giving the same bone to every dog, or a man giving different bones to every dog. Sentence 3 has no unaries like bone, only the single entities Moscow and Napoelon, which leaves no room for ambiguity. "
   ]
  },
  {
   "cell_type": "markdown",
   "metadata": {},
   "source": [
    "**1b.** When you evalute sentence (2) in the model above, one reading is True and the other is False. Change the part of the model marked with `???` so that all readings all sentences will be True. **[1 marks]** \n",
    "\n",
    "Explain why the readings are true. **[+1 mark]**"
   ]
  },
  {
   "cell_type": "code",
   "execution_count": 7,
   "metadata": {},
   "outputs": [
    {
     "name": "stdout",
     "output_type": "stream",
     "text": [
      "all dogs bite a bone:\n"
     ]
    },
    {
     "data": {
      "text/markdown": [
       "\"True\": $\\forall\\ x.(dog(x)\\ \\to\\ \\exists\\ z_{7}.(bone(z_{7})\\ \\land\\ bite(x,z_{7})))$"
      ],
      "text/plain": [
       "<IPython.core.display.Markdown object>"
      ]
     },
     "metadata": {},
     "output_type": "display_data"
    },
    {
     "name": "stdout",
     "output_type": "stream",
     "text": [
      "a man gives a bone to every dog:\n"
     ]
    },
    {
     "data": {
      "text/markdown": [
       "\"True\": $\\exists\\ x.(man(x)\\ \\land\\ \\forall\\ z_{11}.(dog(z_{11})\\ \\to\\ \\exists\\ z_{10}.(bone(z_{10})\\ \\land\\ give(x,z_{10},z_{11}))))$"
      ],
      "text/plain": [
       "<IPython.core.display.Markdown object>"
      ]
     },
     "metadata": {},
     "output_type": "display_data"
    },
    {
     "name": "stdout",
     "output_type": "stream",
     "text": [
      "a man gives a bone to every dog:\n"
     ]
    },
    {
     "data": {
      "text/markdown": [
       "\"True\": $\\exists\\ x.(man(x)\\ \\land\\ \\exists\\ z_{8}.(bone(z_{8})\\ \\land\\ \\forall\\ z_{9}.(dog(z_{9})\\ \\to\\ give(x,z_{8},z_{9}))))$"
      ],
      "text/plain": [
       "<IPython.core.display.Markdown object>"
      ]
     },
     "metadata": {},
     "output_type": "display_data"
    },
    {
     "name": "stdout",
     "output_type": "stream",
     "text": [
      "Russia gives Moscow to Napoleon:\n"
     ]
    },
    {
     "data": {
      "text/markdown": [
       "\"True\": $give(russia,moscow,napoleon)$"
      ],
      "text/plain": [
       "<IPython.core.display.Markdown object>"
      ]
     },
     "metadata": {},
     "output_type": "display_data"
    }
   ],
   "source": [
    "ternaries = \"\"\"\n",
    "give => {(c1, c2, m2), (m1, bn1, d1), (m1, bn2, d2), (m1, bn2, d3), (m1, bn1, d1), (m1, bn1, d2), (m1, bn1, d3) }\n",
    "\"\"\"\n",
    "\n",
    "# new world\n",
    "world = entities + unaries + binaries + ternaries\n",
    "\n",
    "# evaluate them:\n",
    "sents_reps_vals = evaluate_sentences(sents_reps, world)\n",
    "\n",
    "for sent, semreps_vals in sents_reps_vals.items():\n",
    "    for semrep, val in semreps_vals.items():\n",
    "        print(f\"{sent}:\")\n",
    "        display_translation(val, semrep)"
   ]
  },
  {
   "cell_type": "raw",
   "metadata": {},
   "source": [
    "** Write explanation here **\n",
    "\n",
    "Both readings of sentence 2 are now true since there exists a bone (b1) that is given to every dog."
   ]
  },
  {
   "cell_type": "markdown",
   "metadata": {},
   "source": [
    "**1c.** Consider a world with a `bite` relation as shown below.\n",
    "Write *another* representation of the sentence \"all dogs bite a bone\" \n",
    "that is different from the one you get above and that is *True* in this model. \n",
    "Write your answer in `???`. **[1 mark]** "
   ]
  },
  {
   "cell_type": "code",
   "execution_count": 8,
   "metadata": {},
   "outputs": [
    {
     "name": "stdout",
     "output_type": "stream",
     "text": [
      "1. all dogs bite a bone:\n"
     ]
    },
    {
     "data": {
      "text/markdown": [
       "\"True\": $\\forall\\ x.(dog(x)\\ \\to\\ \\exists\\ z_{7}.(bone(z_{7})\\ \\land\\ bite(x,z_{7})))$"
      ],
      "text/plain": [
       "<IPython.core.display.Markdown object>"
      ]
     },
     "metadata": {},
     "output_type": "display_data"
    },
    {
     "name": "stdout",
     "output_type": "stream",
     "text": [
      "1. all dogs bite a bone:\n"
     ]
    },
    {
     "data": {
      "text/markdown": [
       "\"True\": $\\exists\\ x.(bone(x)\\ \\land\\ \\forall\\ y.(dog(y)\\ \\to\\ bite(y,x)))$"
      ],
      "text/plain": [
       "<IPython.core.display.Markdown object>"
      ]
     },
     "metadata": {},
     "output_type": "display_data"
    }
   ],
   "source": [
    "binaries = \"\"\"\n",
    "bite => {(d1, bn1), (d2, bn1), (d3, bn1)} \n",
    "\"\"\"\n",
    "\n",
    "# new world\n",
    "world = entities + unaries + binaries + ternaries\n",
    "\n",
    "sents_reps_copy = deepcopy(sents_reps)\n",
    "sents_reps_copy['all dogs bite a bone'].append(\n",
    "    read_expr(r\"exists x.(bone(x) & all y.(dog(y) -> bite(y,x)))\")\n",
    ")\n",
    "\n",
    "# evaluate them:\n",
    "sents_reps_vals_copy = evaluate_sentences(sents_reps_copy, world)\n",
    "\n",
    "for i, (sent, semreps_vals) in enumerate(sents_reps_vals_copy.items()):\n",
    "    if sent == 'all dogs bite a bone':\n",
    "        for semrep, val in semreps_vals.items():\n",
    "            print(f\"{i+1}. {sent}:\")\n",
    "            display_translation(val, semrep)"
   ]
  },
  {
   "cell_type": "markdown",
   "metadata": {},
   "source": [
    "**1d.** Consider a new set of tuples representing the `give` predicate below.\n",
    "Write *another* representation for \"a man gives a bone to every dog\"\n",
    "that is *True* in the updated model.\n",
    "Write your answer in `???`. **[1 mark]** "
   ]
  },
  {
   "cell_type": "code",
   "execution_count": 9,
   "metadata": {},
   "outputs": [
    {
     "name": "stdout",
     "output_type": "stream",
     "text": [
      "2. a man gives a bone to every dog:\n"
     ]
    },
    {
     "data": {
      "text/markdown": [
       "\"False\": $\\exists\\ x.(man(x)\\ \\land\\ \\forall\\ z_{11}.(dog(z_{11})\\ \\to\\ \\exists\\ z_{10}.(bone(z_{10})\\ \\land\\ give(x,z_{10},z_{11}))))$"
      ],
      "text/plain": [
       "<IPython.core.display.Markdown object>"
      ]
     },
     "metadata": {},
     "output_type": "display_data"
    },
    {
     "name": "stdout",
     "output_type": "stream",
     "text": [
      "2. a man gives a bone to every dog:\n"
     ]
    },
    {
     "data": {
      "text/markdown": [
       "\"False\": $\\exists\\ x.(man(x)\\ \\land\\ \\exists\\ z_{8}.(bone(z_{8})\\ \\land\\ \\forall\\ z_{9}.(dog(z_{9})\\ \\to\\ give(x,z_{8},z_{9}))))$"
      ],
      "text/plain": [
       "<IPython.core.display.Markdown object>"
      ]
     },
     "metadata": {},
     "output_type": "display_data"
    },
    {
     "name": "stdout",
     "output_type": "stream",
     "text": [
      "2. a man gives a bone to every dog:\n"
     ]
    },
    {
     "data": {
      "text/markdown": [
       "\"True\": $\\exists\\ x.(man(x)\\ \\land\\ \\exists\\ z.(bone(z)\\ \\to\\ \\forall\\ y.(dog(y)\\ \\to\\ give(x,y,z))))$"
      ],
      "text/plain": [
       "<IPython.core.display.Markdown object>"
      ]
     },
     "metadata": {},
     "output_type": "display_data"
    }
   ],
   "source": [
    "ternaries = \"\"\"\n",
    "give => {(c1, c2, m2), (m2, bn1, d1), (m1, bn1, d2), (m1, bn1, d3)}\n",
    "\"\"\"\n",
    "\n",
    "# new world\n",
    "world = entities + unaries + binaries + ternaries\n",
    "\n",
    "sents_reps_copy = deepcopy(sents_reps)\n",
    "sents_reps_copy['a man gives a bone to every dog'].append(\n",
    "    read_expr(r\"exists x.(man(x) & exists z.(bone(z) -> all y.(dog(y) -> give(x,y,z))))\")\n",
    ")\n",
    "\n",
    "# evaluate them:\n",
    "sents_reps_vals_copy = evaluate_sentences(sents_reps_copy, world)\n",
    "\n",
    "for i, (sent, semreps_vals) in enumerate(sents_reps_vals_copy.items()):\n",
    "    if sent == 'a man gives a bone to every dog':\n",
    "        for semrep, val in semreps_vals.items():\n",
    "            print(f\"{i+1}. {sent}:\")\n",
    "            display_translation(val, semrep)"
   ]
  },
  {
   "cell_type": "markdown",
   "metadata": {},
   "source": [
    "### 2. Cooper storage [8 marks in total]"
   ]
  },
  {
   "cell_type": "markdown",
   "metadata": {},
   "source": [
    "#### 2.1. Learn about CooperSotrage\n",
    "Study the following grammar with a `SEM` that is split between `CORE` and `STORE`. However, in this example, we never add anything to the `STORE`."
   ]
  },
  {
   "cell_type": "code",
   "execution_count": 10,
   "metadata": {
    "scrolled": false
   },
   "outputs": [
    {
     "name": "stdout",
     "output_type": "stream",
     "text": [
      "1. Angus reads a book\n"
     ]
    },
    {
     "data": {
      "text/markdown": [
       "\"1\": $\\exists\\ z_{12}.(book(z_{12})\\ \\land\\ read(angus,z_{12}))$"
      ],
      "text/plain": [
       "<IPython.core.display.Markdown object>"
      ]
     },
     "metadata": {},
     "output_type": "display_data"
    },
    {
     "name": "stdout",
     "output_type": "stream",
     "text": [
      "2. every girl reads a book\n"
     ]
    },
    {
     "data": {
      "text/markdown": [
       "\"1\": $\\forall\\ x.(girl(x)\\ \\to\\ \\exists\\ z_{13}.(book(z_{13})\\ \\land\\ read(x,z_{13})))$"
      ],
      "text/plain": [
       "<IPython.core.display.Markdown object>"
      ]
     },
     "metadata": {},
     "output_type": "display_data"
    },
    {
     "name": "stdout",
     "output_type": "stream",
     "text": [
      "3. every library gives a book to a girl\n"
     ]
    },
    {
     "data": {
      "text/markdown": [
       "\"1\": $\\forall\\ x.(library(x)\\ \\to\\ \\exists\\ z_{15}.(book(z_{15})\\ \\land\\ \\exists\\ z_{14}.(girl(z_{14})\\ \\land\\ give(x,z_{14},z_{15}))))$"
      ],
      "text/plain": [
       "<IPython.core.display.Markdown object>"
      ]
     },
     "metadata": {},
     "output_type": "display_data"
    }
   ],
   "source": [
    "fcfg_storage_base = r\"\"\"\n",
    "% start S\n",
    "\n",
    "S[SEM=[CORE=<?subj(?vp)>, STORE=(?b1+?b2)]] -> NP[NUM=?n,SEM=[CORE=?subj, STORE=?b1]] VP[NUM=?n,SEM=[CORE=?vp, STORE=?b2]]\n",
    "\n",
    "Nom[NUM=?n,SEM=?s] -> N[NUM=?n,SEM=?s]\n",
    "\n",
    "VP[NUM=?n,SEM=?s] -> IV[NUM=?n,SEM=?s]\n",
    "VP[NUM=?n,SEM=[CORE=<?v(?obj)>, STORE=(?b1+?b2)]] -> TV[NUM=?n,SEM=[CORE=?v, STORE=?b1]] NP[SEM=[CORE=?obj, STORE=?b2]]\n",
    "VP[NUM=?n,SEM=[CORE=<?v(?pp)(?obj)>, STORE=(?b1+?b2+?b3)]] -> DTV[NUM=?n,SEM=[CORE=?v, STORE=?b1]] NP[SEM=[CORE=?obj, STORE=?b2]] PP[+TO,SEM=[CORE=?pp, STORE=?b3]]\n",
    "\n",
    "PP[+TO, SEM=[CORE=?np, STORE=?b1]] -> P[+TO] NP[SEM=[CORE=?np, STORE=?b1]]\n",
    "\"\"\"\n",
    "\n",
    "fcfg_storage_lexicon = r\"\"\"\n",
    "PropN[NUM=sg,SEM=[CORE=<\\P.P(angus)>, STORE=(/)]] -> 'Angus'\n",
    "PropN[NUM=sg,SEM=[CORE=<\\P.P(cyril)>, STORE=(/)]] -> 'Cyril'\n",
    "PropN[NUM=sg,SEM=[CORE=<\\P.P(irene)>, STORE=(/)]] -> 'Irene'\n",
    "\n",
    "Det[NUM=sg,SEM=[CORE=<\\P Q.all x.(P(x) -> Q(x))>, STORE=(/)]] -> 'every'\n",
    "Det[NUM=sg,SEM=[CORE=<\\P Q.exists x.(P(x) & Q(x))>, STORE=(/)]] -> 'a'\n",
    "\n",
    "N[NUM=sg,SEM=[CORE=<\\x.library(x)>, STORE=(/)]] -> 'library'\n",
    "N[NUM=sg,SEM=[CORE=<\\x.girl(x)>, STORE=(/)]] -> 'girl'\n",
    "N[NUM=sg,SEM=[CORE=<\\x.boy(x)>, STORE=(/)]] -> 'boy'\n",
    "N[NUM=sg,SEM=[CORE=<\\x.book(x)>, STORE=(/)]] -> 'book'\n",
    "\n",
    "IV[NUM=sg,SEM=[CORE=<\\x.smile(x)>, STORE=(/)],TNS=pres] -> 'smiles' \n",
    "\n",
    "TV[NUM=sg,SEM=[CORE=<\\X x.X(\\y.read(x,y))>, STORE=(/)],TNS=pres] -> 'reads'\n",
    "\n",
    "DTV[NUM=sg,SEM=[CORE=<\\Y X x.X(\\z.Y(\\y.give(x,y,z)))>, STORE=(/)],TNS=pres] -> 'gives'\n",
    "\n",
    "P[+to] -> 'to'\n",
    "\"\"\" \n",
    "\n",
    "fcfg_storage_np = r\"\"\"\n",
    "NP[NUM=?n,SEM=[CORE=?np, STORE=?b1]] -> PropN[NUM=?n,SEM=[CORE=?np, STORE=?b1]]\n",
    "NP[NUM=?n,SEM=[CORE=<?det(?nom)>, STORE=(?b1+?b2)]] -> Det[NUM=?n,SEM=[CORE=?det, STORE=?b1]] Nom[NUM=?n,SEM=[CORE=?nom, STORE=?b2]]\n",
    "\"\"\"\n",
    "\n",
    "\n",
    "sentences = [\n",
    "    'Angus reads a book',\n",
    "    'every girl reads a book',\n",
    "    'every library gives a book to a girl',\n",
    "]\n",
    "\n",
    "fcfg_storage = fcfg_storage_base + fcfg_storage_np + fcfg_storage_lexicon\n",
    "cs_syntax = FeatureGrammar.fromstring(fcfg_storage)\n",
    "sents_reps = sem_parser(sentences, cs_syntax, verbose=False, is_cs=True)\n",
    "\n",
    "for i, (sent, semreps) in enumerate(sents_reps.items()):\n",
    "    counter = 0\n",
    "    print(f\"{i+1}. {sent}\")\n",
    "    for semrep in semreps:\n",
    "        counter += 1\n",
    "        display_translation(counter, semrep)"
   ]
  },
  {
   "cell_type": "markdown",
   "metadata": {},
   "source": [
    "With the following change to the `NP` rule we push representations to the `STORE` and replace them with a simple varible in the `CORE` (which is then type raised to <<e,t>,t> so that it it can combine with a transitive verb entry)."
   ]
  },
  {
   "cell_type": "code",
   "execution_count": 11,
   "metadata": {},
   "outputs": [
    {
     "name": "stdout",
     "output_type": "stream",
     "text": [
      "1. Angus reads a book\n"
     ]
    },
    {
     "data": {
      "text/markdown": [
       "\"1\": $\\exists\\ x.(book(x)\\ \\land\\ read(angus,x))$"
      ],
      "text/plain": [
       "<IPython.core.display.Markdown object>"
      ]
     },
     "metadata": {},
     "output_type": "display_data"
    },
    {
     "data": {
      "text/markdown": [
       "\"2\": $\\exists\\ x.(book(x)\\ \\land\\ read(angus,x))$"
      ],
      "text/plain": [
       "<IPython.core.display.Markdown object>"
      ]
     },
     "metadata": {},
     "output_type": "display_data"
    },
    {
     "name": "stdout",
     "output_type": "stream",
     "text": [
      "2. every girl reads a book\n"
     ]
    },
    {
     "data": {
      "text/markdown": [
       "\"1\": $\\exists\\ x.(book(x)\\ \\land\\ \\forall\\ z_{16}.(girl(z_{16})\\ \\to\\ read(z_{16},x)))$"
      ],
      "text/plain": [
       "<IPython.core.display.Markdown object>"
      ]
     },
     "metadata": {},
     "output_type": "display_data"
    },
    {
     "data": {
      "text/markdown": [
       "\"2\": $\\forall\\ x.(girl(x)\\ \\to\\ \\exists\\ z_{17}.(book(z_{17})\\ \\land\\ read(x,z_{17})))$"
      ],
      "text/plain": [
       "<IPython.core.display.Markdown object>"
      ]
     },
     "metadata": {},
     "output_type": "display_data"
    },
    {
     "name": "stdout",
     "output_type": "stream",
     "text": [
      "3. every library gives a book to a girl\n"
     ]
    },
    {
     "data": {
      "text/markdown": [
       "\"1\": $\\exists\\ x.(girl(x)\\ \\land\\ \\exists\\ z_{19}.(book(z_{19})\\ \\land\\ \\forall\\ z_{18}.(library(z_{18})\\ \\to\\ give(z_{18},x,z_{19}))))$"
      ],
      "text/plain": [
       "<IPython.core.display.Markdown object>"
      ]
     },
     "metadata": {},
     "output_type": "display_data"
    },
    {
     "data": {
      "text/markdown": [
       "\"2\": $\\exists\\ x.(book(x)\\ \\land\\ \\exists\\ z_{21}.(girl(z_{21})\\ \\land\\ \\forall\\ z_{20}.(library(z_{20})\\ \\to\\ give(z_{20},z_{21},x))))$"
      ],
      "text/plain": [
       "<IPython.core.display.Markdown object>"
      ]
     },
     "metadata": {},
     "output_type": "display_data"
    },
    {
     "data": {
      "text/markdown": [
       "\"3\": $\\exists\\ x.(girl(x)\\ \\land\\ \\forall\\ z_{23}.(library(z_{23})\\ \\to\\ \\exists\\ z_{22}.(book(z_{22})\\ \\land\\ give(z_{23},x,z_{22}))))$"
      ],
      "text/plain": [
       "<IPython.core.display.Markdown object>"
      ]
     },
     "metadata": {},
     "output_type": "display_data"
    },
    {
     "data": {
      "text/markdown": [
       "\"4\": $\\forall\\ x.(library(x)\\ \\to\\ \\exists\\ z_{25}.(girl(z_{25})\\ \\land\\ \\exists\\ z_{24}.(book(z_{24})\\ \\land\\ give(x,z_{25},z_{24}))))$"
      ],
      "text/plain": [
       "<IPython.core.display.Markdown object>"
      ]
     },
     "metadata": {},
     "output_type": "display_data"
    },
    {
     "data": {
      "text/markdown": [
       "\"5\": $\\exists\\ x.(book(x)\\ \\land\\ \\forall\\ z_{27}.(library(z_{27})\\ \\to\\ \\exists\\ z_{26}.(girl(z_{26})\\ \\land\\ give(z_{27},z_{26},x))))$"
      ],
      "text/plain": [
       "<IPython.core.display.Markdown object>"
      ]
     },
     "metadata": {},
     "output_type": "display_data"
    },
    {
     "data": {
      "text/markdown": [
       "\"6\": $\\forall\\ x.(library(x)\\ \\to\\ \\exists\\ z_{29}.(book(z_{29})\\ \\land\\ \\exists\\ z_{28}.(girl(z_{28})\\ \\land\\ give(x,z_{28},z_{29}))))$"
      ],
      "text/plain": [
       "<IPython.core.display.Markdown object>"
      ]
     },
     "metadata": {},
     "output_type": "display_data"
    }
   ],
   "source": [
    "fcfg_storage_np = r\"\"\"\n",
    "NP[NUM=?n,SEM=[CORE=<\\P.P(@x)>, STORE=(<bo(?np, @x)>+?b1)]] -> PropN[NUM=?n,SEM=[CORE=?np, STORE=?b1]]\n",
    "NP[NUM=?n,SEM=[CORE=<\\P.P(@x)>, STORE=(<bo(?det(?nom), @x)>+?b1+?b2)]] -> Det[NUM=?n,SEM=[CORE=?det, STORE=?b1]] Nom[NUM=?n,SEM=[CORE=?nom, STORE=?b2]]\n",
    "\"\"\"\n",
    "\n",
    "sentences = [\n",
    "    'Angus reads a book',\n",
    "    'every girl reads a book',\n",
    "    'every library gives a book to a girl',\n",
    "]\n",
    "\n",
    "fcfg_storage = fcfg_storage_base + fcfg_storage_np + fcfg_storage_lexicon\n",
    "cs_syntax = FeatureGrammar.fromstring(fcfg_storage)\n",
    "sents_reps = sem_parser(sentences, cs_syntax, verbose=False, is_cs=True)\n",
    "\n",
    "for i, (sent, semreps) in enumerate(sents_reps.items()):\n",
    "    counter = 0\n",
    "    print(f\"{i+1}. {sent}\")\n",
    "    for semrep in semreps:\n",
    "        counter += 1\n",
    "        display_translation(counter, semrep)"
   ]
  },
  {
   "cell_type": "markdown",
   "metadata": {},
   "source": [
    "#### 2.2. Questions"
   ]
  },
  {
   "cell_type": "markdown",
   "metadata": {},
   "source": [
    "**2a.** There are two identical readings of the first sentence. Why is this so? Suggest a change that would ensure you do not get doublicate readings for the first sentence but you get  alternative readings for the other sentence. **[2 marks]**"
   ]
  },
  {
   "cell_type": "raw",
   "metadata": {},
   "source": [
    "* Write explanation here *\n",
    "\n",
    "It seems like the issue could be that the NP rule for proper nouns states that it can take a binding operator. The issue seems to be resolved by emptying the store in that particular NP.    "
   ]
  },
  {
   "cell_type": "code",
   "execution_count": 12,
   "metadata": {},
   "outputs": [
    {
     "name": "stdout",
     "output_type": "stream",
     "text": [
      "1. Angus reads a book\n"
     ]
    },
    {
     "data": {
      "text/markdown": [
       "\"1\": $\\exists\\ x.(book(x)\\ \\land\\ read(angus,x))$"
      ],
      "text/plain": [
       "<IPython.core.display.Markdown object>"
      ]
     },
     "metadata": {},
     "output_type": "display_data"
    },
    {
     "name": "stdout",
     "output_type": "stream",
     "text": [
      "2. every girl reads a book\n"
     ]
    },
    {
     "data": {
      "text/markdown": [
       "\"1\": $\\exists\\ x.(book(x)\\ \\land\\ \\forall\\ z_{30}.(girl(z_{30})\\ \\to\\ read(z_{30},x)))$"
      ],
      "text/plain": [
       "<IPython.core.display.Markdown object>"
      ]
     },
     "metadata": {},
     "output_type": "display_data"
    },
    {
     "data": {
      "text/markdown": [
       "\"2\": $\\forall\\ x.(girl(x)\\ \\to\\ \\exists\\ z_{31}.(book(z_{31})\\ \\land\\ read(x,z_{31})))$"
      ],
      "text/plain": [
       "<IPython.core.display.Markdown object>"
      ]
     },
     "metadata": {},
     "output_type": "display_data"
    }
   ],
   "source": [
    "sentences = [\n",
    "    'Angus reads a book',\n",
    "    'every girl reads a book'\n",
    "]\n",
    "\n",
    "fcfg_storage_np = r\"\"\"\n",
    "## Change the rule below:\n",
    "#NP[NUM=?n,SEM=[CORE=<\\P.P(@x)>, STORE=(<bo(?np, @x)>+?b1)]] -> PropN[NUM=?n,SEM=[CORE=?np, STORE=?b1]]\n",
    "#Karolina+Tova: NP[NUM=?n,SEM=[CORE=?np, STORE=(/)]] -> PropN[NUM=?n,SEM=[CORE=?np, STORE=(/)]]\n",
    "NP[NUM=?n,SEM=[CORE=<?np>, STORE=(/)]] -> PropN[NUM=?n,SEM=[CORE=?np, STORE=(/)]]\n",
    "NP[NUM=?n,SEM=[CORE=<\\P.P(@x)>, STORE=(<bo(?det(?nom), @x)>+?b1+?b2)]] -> Det[NUM=?n,SEM=[CORE=?det, STORE=?b1]] Nom[NUM=?n,SEM=[CORE=?nom, STORE=?b2]]\n",
    "\"\"\"\n",
    "\n",
    "\n",
    "fcfg_storage = fcfg_storage_base + fcfg_storage_np + fcfg_storage_lexicon \n",
    "cs_syntax = FeatureGrammar.fromstring(fcfg_storage)\n",
    "sents_reps = sem_parser(sentences, cs_syntax, verbose=False, is_cs=True)\n",
    "\n",
    "for i, (sent, semreps) in enumerate(sents_reps.items()):\n",
    "    counter = 0\n",
    "    print(f\"{i+1}. {sent}\")\n",
    "    for semrep in semreps:\n",
    "        counter += 1\n",
    "        display_translation(counter, semrep)"
   ]
  },
  {
   "cell_type": "markdown",
   "metadata": {},
   "source": [
    "**2b.** Extend the grammar below to cover the following sentences: **[6 marks]**"
   ]
  },
  {
   "cell_type": "code",
   "execution_count": 46,
   "metadata": {
    "scrolled": false
   },
   "outputs": [
    {
     "name": "stdout",
     "output_type": "stream",
     "text": [
      "1. every library gives a book to every girl and every boy\n"
     ]
    },
    {
     "data": {
      "text/markdown": [
       "\"1\": $\\forall\\ x.(boy(x)\\ \\to\\ \\forall\\ z_{6288}.(girl(z_{6288})\\ \\to\\ \\exists\\ z_{6287}.(book(z_{6287})\\ \\land\\ \\forall\\ z_{6286}.(library(z_{6286})\\ \\to\\ (give(z_{6286},z_{6288},z_{6287})\\ \\land\\ give(z_{6286},x,z_{6287}))))))$"
      ],
      "text/plain": [
       "<IPython.core.display.Markdown object>"
      ]
     },
     "metadata": {},
     "output_type": "display_data"
    },
    {
     "data": {
      "text/markdown": [
       "\"2\": $\\forall\\ x.(girl(x)\\ \\to\\ \\forall\\ z_{6291}.(boy(z_{6291})\\ \\to\\ \\exists\\ z_{6290}.(book(z_{6290})\\ \\land\\ \\forall\\ z_{6289}.(library(z_{6289})\\ \\to\\ (give(z_{6289},x,z_{6290})\\ \\land\\ give(z_{6289},z_{6291},z_{6290}))))))$"
      ],
      "text/plain": [
       "<IPython.core.display.Markdown object>"
      ]
     },
     "metadata": {},
     "output_type": "display_data"
    },
    {
     "data": {
      "text/markdown": [
       "\"3\": $\\forall\\ x.(boy(x)\\ \\to\\ \\exists\\ z_{6294}.(book(z_{6294})\\ \\land\\ \\forall\\ z_{6293}.(girl(z_{6293})\\ \\to\\ \\forall\\ z_{6292}.(library(z_{6292})\\ \\to\\ (give(z_{6292},z_{6293},z_{6294})\\ \\land\\ give(z_{6292},x,z_{6294}))))))$"
      ],
      "text/plain": [
       "<IPython.core.display.Markdown object>"
      ]
     },
     "metadata": {},
     "output_type": "display_data"
    },
    {
     "data": {
      "text/markdown": [
       "\"4\": $\\exists\\ x.(book(x)\\ \\land\\ \\forall\\ z_{6297}.(boy(z_{6297})\\ \\to\\ \\forall\\ z_{6296}.(girl(z_{6296})\\ \\to\\ \\forall\\ z_{6295}.(library(z_{6295})\\ \\to\\ (give(z_{6295},z_{6296},x)\\ \\land\\ give(z_{6295},z_{6297},x))))))$"
      ],
      "text/plain": [
       "<IPython.core.display.Markdown object>"
      ]
     },
     "metadata": {},
     "output_type": "display_data"
    },
    {
     "data": {
      "text/markdown": [
       "\"5\": $\\forall\\ x.(girl(x)\\ \\to\\ \\exists\\ z_{6300}.(book(z_{6300})\\ \\land\\ \\forall\\ z_{6299}.(boy(z_{6299})\\ \\to\\ \\forall\\ z_{6298}.(library(z_{6298})\\ \\to\\ (give(z_{6298},x,z_{6300})\\ \\land\\ give(z_{6298},z_{6299},z_{6300}))))))$"
      ],
      "text/plain": [
       "<IPython.core.display.Markdown object>"
      ]
     },
     "metadata": {},
     "output_type": "display_data"
    },
    {
     "data": {
      "text/markdown": [
       "\"6\": $\\exists\\ x.(book(x)\\ \\land\\ \\forall\\ z_{6303}.(girl(z_{6303})\\ \\to\\ \\forall\\ z_{6302}.(boy(z_{6302})\\ \\to\\ \\forall\\ z_{6301}.(library(z_{6301})\\ \\to\\ (give(z_{6301},z_{6303},x)\\ \\land\\ give(z_{6301},z_{6302},x))))))$"
      ],
      "text/plain": [
       "<IPython.core.display.Markdown object>"
      ]
     },
     "metadata": {},
     "output_type": "display_data"
    },
    {
     "data": {
      "text/markdown": [
       "\"7\": $\\forall\\ x.(boy(x)\\ \\to\\ \\forall\\ z_{6306}.(girl(z_{6306})\\ \\to\\ \\forall\\ z_{6305}.(library(z_{6305})\\ \\to\\ \\exists\\ z_{6304}.(book(z_{6304})\\ \\land\\ give(z_{6305},z_{6306},z_{6304})\\ \\land\\ give(z_{6305},x,z_{6304})))))$"
      ],
      "text/plain": [
       "<IPython.core.display.Markdown object>"
      ]
     },
     "metadata": {},
     "output_type": "display_data"
    },
    {
     "data": {
      "text/markdown": [
       "\"8\": $\\forall\\ x.(girl(x)\\ \\to\\ \\forall\\ z_{6309}.(boy(z_{6309})\\ \\to\\ \\forall\\ z_{6308}.(library(z_{6308})\\ \\to\\ \\exists\\ z_{6307}.(book(z_{6307})\\ \\land\\ give(z_{6308},x,z_{6307})\\ \\land\\ give(z_{6308},z_{6309},z_{6307})))))$"
      ],
      "text/plain": [
       "<IPython.core.display.Markdown object>"
      ]
     },
     "metadata": {},
     "output_type": "display_data"
    },
    {
     "data": {
      "text/markdown": [
       "\"9\": $\\forall\\ x.(boy(x)\\ \\to\\ \\forall\\ z_{6312}.(library(z_{6312})\\ \\to\\ \\forall\\ z_{6311}.(girl(z_{6311})\\ \\to\\ \\exists\\ z_{6310}.(book(z_{6310})\\ \\land\\ give(z_{6312},z_{6311},z_{6310})\\ \\land\\ give(z_{6312},x,z_{6310})))))$"
      ],
      "text/plain": [
       "<IPython.core.display.Markdown object>"
      ]
     },
     "metadata": {},
     "output_type": "display_data"
    },
    {
     "data": {
      "text/markdown": [
       "\"10\": $\\forall\\ x.(library(x)\\ \\to\\ \\forall\\ z_{6315}.(boy(z_{6315})\\ \\to\\ \\forall\\ z_{6314}.(girl(z_{6314})\\ \\to\\ \\exists\\ z_{6313}.(book(z_{6313})\\ \\land\\ give(x,z_{6314},z_{6313})\\ \\land\\ give(x,z_{6315},z_{6313})))))$"
      ],
      "text/plain": [
       "<IPython.core.display.Markdown object>"
      ]
     },
     "metadata": {},
     "output_type": "display_data"
    },
    {
     "data": {
      "text/markdown": [
       "\"11\": $\\forall\\ x.(girl(x)\\ \\to\\ \\forall\\ z_{6318}.(library(z_{6318})\\ \\to\\ \\forall\\ z_{6317}.(boy(z_{6317})\\ \\to\\ \\exists\\ z_{6316}.(book(z_{6316})\\ \\land\\ give(z_{6318},x,z_{6316})\\ \\land\\ give(z_{6318},z_{6317},z_{6316})))))$"
      ],
      "text/plain": [
       "<IPython.core.display.Markdown object>"
      ]
     },
     "metadata": {},
     "output_type": "display_data"
    },
    {
     "data": {
      "text/markdown": [
       "\"12\": $\\forall\\ x.(library(x)\\ \\to\\ \\forall\\ z_{6321}.(girl(z_{6321})\\ \\to\\ \\forall\\ z_{6320}.(boy(z_{6320})\\ \\to\\ \\exists\\ z_{6319}.(book(z_{6319})\\ \\land\\ give(x,z_{6321},z_{6319})\\ \\land\\ give(x,z_{6320},z_{6319})))))$"
      ],
      "text/plain": [
       "<IPython.core.display.Markdown object>"
      ]
     },
     "metadata": {},
     "output_type": "display_data"
    },
    {
     "data": {
      "text/markdown": [
       "\"13\": $\\forall\\ x.(boy(x)\\ \\to\\ \\exists\\ z_{6324}.(book(z_{6324})\\ \\land\\ \\forall\\ z_{6323}.(library(z_{6323})\\ \\to\\ \\forall\\ z_{6322}.(girl(z_{6322})\\ \\to\\ (give(z_{6323},z_{6322},z_{6324})\\ \\land\\ give(z_{6323},x,z_{6324}))))))$"
      ],
      "text/plain": [
       "<IPython.core.display.Markdown object>"
      ]
     },
     "metadata": {},
     "output_type": "display_data"
    },
    {
     "data": {
      "text/markdown": [
       "\"14\": $\\exists\\ x.(book(x)\\ \\land\\ \\forall\\ z_{6327}.(boy(z_{6327})\\ \\to\\ \\forall\\ z_{6326}.(library(z_{6326})\\ \\to\\ \\forall\\ z_{6325}.(girl(z_{6325})\\ \\to\\ (give(z_{6326},z_{6325},x)\\ \\land\\ give(z_{6326},z_{6327},x))))))$"
      ],
      "text/plain": [
       "<IPython.core.display.Markdown object>"
      ]
     },
     "metadata": {},
     "output_type": "display_data"
    },
    {
     "data": {
      "text/markdown": [
       "\"15\": $\\forall\\ x.(boy(x)\\ \\to\\ \\forall\\ z_{6330}.(library(z_{6330})\\ \\to\\ \\exists\\ z_{6329}.(book(z_{6329})\\ \\land\\ \\forall\\ z_{6328}.(girl(z_{6328})\\ \\to\\ (give(z_{6330},z_{6328},z_{6329})\\ \\land\\ give(z_{6330},x,z_{6329}))))))$"
      ],
      "text/plain": [
       "<IPython.core.display.Markdown object>"
      ]
     },
     "metadata": {},
     "output_type": "display_data"
    },
    {
     "data": {
      "text/markdown": [
       "\"16\": $\\forall\\ x.(library(x)\\ \\to\\ \\forall\\ z_{6333}.(boy(z_{6333})\\ \\to\\ \\exists\\ z_{6332}.(book(z_{6332})\\ \\land\\ \\forall\\ z_{6331}.(girl(z_{6331})\\ \\to\\ (give(x,z_{6331},z_{6332})\\ \\land\\ give(x,z_{6333},z_{6332}))))))$"
      ],
      "text/plain": [
       "<IPython.core.display.Markdown object>"
      ]
     },
     "metadata": {},
     "output_type": "display_data"
    },
    {
     "data": {
      "text/markdown": [
       "\"17\": $\\exists\\ x.(book(x)\\ \\land\\ \\forall\\ z_{6336}.(library(z_{6336})\\ \\to\\ \\forall\\ z_{6335}.(boy(z_{6335})\\ \\to\\ \\forall\\ z_{6334}.(girl(z_{6334})\\ \\to\\ (give(z_{6336},z_{6334},x)\\ \\land\\ give(z_{6336},z_{6335},x))))))$"
      ],
      "text/plain": [
       "<IPython.core.display.Markdown object>"
      ]
     },
     "metadata": {},
     "output_type": "display_data"
    },
    {
     "data": {
      "text/markdown": [
       "\"18\": $\\forall\\ x.(library(x)\\ \\to\\ \\exists\\ z_{6339}.(book(z_{6339})\\ \\land\\ \\forall\\ z_{6338}.(boy(z_{6338})\\ \\to\\ \\forall\\ z_{6337}.(girl(z_{6337})\\ \\to\\ (give(x,z_{6337},z_{6339})\\ \\land\\ give(x,z_{6338},z_{6339}))))))$"
      ],
      "text/plain": [
       "<IPython.core.display.Markdown object>"
      ]
     },
     "metadata": {},
     "output_type": "display_data"
    },
    {
     "data": {
      "text/markdown": [
       "\"19\": $\\forall\\ x.(girl(x)\\ \\to\\ \\exists\\ z_{6342}.(book(z_{6342})\\ \\land\\ \\forall\\ z_{6341}.(library(z_{6341})\\ \\to\\ \\forall\\ z_{6340}.(boy(z_{6340})\\ \\to\\ (give(z_{6341},x,z_{6342})\\ \\land\\ give(z_{6341},z_{6340},z_{6342}))))))$"
      ],
      "text/plain": [
       "<IPython.core.display.Markdown object>"
      ]
     },
     "metadata": {},
     "output_type": "display_data"
    },
    {
     "data": {
      "text/markdown": [
       "\"20\": $\\exists\\ x.(book(x)\\ \\land\\ \\forall\\ z_{6345}.(girl(z_{6345})\\ \\to\\ \\forall\\ z_{6344}.(library(z_{6344})\\ \\to\\ \\forall\\ z_{6343}.(boy(z_{6343})\\ \\to\\ (give(z_{6344},z_{6345},x)\\ \\land\\ give(z_{6344},z_{6343},x))))))$"
      ],
      "text/plain": [
       "<IPython.core.display.Markdown object>"
      ]
     },
     "metadata": {},
     "output_type": "display_data"
    },
    {
     "data": {
      "text/markdown": [
       "\"21\": $\\forall\\ x.(girl(x)\\ \\to\\ \\forall\\ z_{6348}.(library(z_{6348})\\ \\to\\ \\exists\\ z_{6347}.(book(z_{6347})\\ \\land\\ \\forall\\ z_{6346}.(boy(z_{6346})\\ \\to\\ (give(z_{6348},x,z_{6347})\\ \\land\\ give(z_{6348},z_{6346},z_{6347}))))))$"
      ],
      "text/plain": [
       "<IPython.core.display.Markdown object>"
      ]
     },
     "metadata": {},
     "output_type": "display_data"
    },
    {
     "data": {
      "text/markdown": [
       "\"22\": $\\forall\\ x.(library(x)\\ \\to\\ \\forall\\ z_{6351}.(girl(z_{6351})\\ \\to\\ \\exists\\ z_{6350}.(book(z_{6350})\\ \\land\\ \\forall\\ z_{6349}.(boy(z_{6349})\\ \\to\\ (give(x,z_{6351},z_{6350})\\ \\land\\ give(x,z_{6349},z_{6350}))))))$"
      ],
      "text/plain": [
       "<IPython.core.display.Markdown object>"
      ]
     },
     "metadata": {},
     "output_type": "display_data"
    },
    {
     "data": {
      "text/markdown": [
       "\"23\": $\\exists\\ x.(book(x)\\ \\land\\ \\forall\\ z_{6354}.(library(z_{6354})\\ \\to\\ \\forall\\ z_{6353}.(girl(z_{6353})\\ \\to\\ \\forall\\ z_{6352}.(boy(z_{6352})\\ \\to\\ (give(z_{6354},z_{6353},x)\\ \\land\\ give(z_{6354},z_{6352},x))))))$"
      ],
      "text/plain": [
       "<IPython.core.display.Markdown object>"
      ]
     },
     "metadata": {},
     "output_type": "display_data"
    },
    {
     "data": {
      "text/markdown": [
       "\"24\": $\\forall\\ x.(library(x)\\ \\to\\ \\exists\\ z_{6357}.(book(z_{6357})\\ \\land\\ \\forall\\ z_{6356}.(girl(z_{6356})\\ \\to\\ \\forall\\ z_{6355}.(boy(z_{6355})\\ \\to\\ (give(x,z_{6356},z_{6357})\\ \\land\\ give(x,z_{6355},z_{6357}))))))$"
      ],
      "text/plain": [
       "<IPython.core.display.Markdown object>"
      ]
     },
     "metadata": {},
     "output_type": "display_data"
    },
    {
     "name": "stdout",
     "output_type": "stream",
     "text": [
      "2. no library gives every book to a boy\n"
     ]
    },
    {
     "data": {
      "text/markdown": [
       "\"1\": $\\exists\\ x.(boy(x)\\ \\land\\ \\forall\\ z_{6359}.(book(z_{6359})\\ \\to\\ -\\exists\\ z_{6358}.(library(z_{6358})\\ \\land\\ give(z_{6358},x,z_{6359}))))$"
      ],
      "text/plain": [
       "<IPython.core.display.Markdown object>"
      ]
     },
     "metadata": {},
     "output_type": "display_data"
    },
    {
     "data": {
      "text/markdown": [
       "\"2\": $\\forall\\ x.(book(x)\\ \\to\\ \\exists\\ z_{6361}.(boy(z_{6361})\\ \\land\\ -\\exists\\ z_{6360}.(library(z_{6360})\\ \\land\\ give(z_{6360},z_{6361},x))))$"
      ],
      "text/plain": [
       "<IPython.core.display.Markdown object>"
      ]
     },
     "metadata": {},
     "output_type": "display_data"
    },
    {
     "data": {
      "text/markdown": [
       "\"3\": $\\exists\\ x.(boy(x)\\ \\land\\ -\\exists\\ z_{6363}.(library(z_{6363})\\ \\land\\ \\forall\\ z_{6362}.(book(z_{6362})\\ \\to\\ give(z_{6363},x,z_{6362}))))$"
      ],
      "text/plain": [
       "<IPython.core.display.Markdown object>"
      ]
     },
     "metadata": {},
     "output_type": "display_data"
    },
    {
     "data": {
      "text/markdown": [
       "\"4\": $-\\exists\\ x.(library(x)\\ \\land\\ \\exists\\ z_{6365}.(boy(z_{6365})\\ \\land\\ \\forall\\ z_{6364}.(book(z_{6364})\\ \\to\\ give(x,z_{6365},z_{6364}))))$"
      ],
      "text/plain": [
       "<IPython.core.display.Markdown object>"
      ]
     },
     "metadata": {},
     "output_type": "display_data"
    },
    {
     "data": {
      "text/markdown": [
       "\"5\": $\\forall\\ x.(book(x)\\ \\to\\ -\\exists\\ z_{6367}.(library(z_{6367})\\ \\land\\ \\exists\\ z_{6366}.(boy(z_{6366})\\ \\land\\ give(z_{6367},z_{6366},x))))$"
      ],
      "text/plain": [
       "<IPython.core.display.Markdown object>"
      ]
     },
     "metadata": {},
     "output_type": "display_data"
    },
    {
     "data": {
      "text/markdown": [
       "\"6\": $-\\exists\\ x.(library(x)\\ \\land\\ \\forall\\ z_{6369}.(book(z_{6369})\\ \\to\\ \\exists\\ z_{6368}.(boy(z_{6368})\\ \\land\\ give(x,z_{6368},z_{6369}))))$"
      ],
      "text/plain": [
       "<IPython.core.display.Markdown object>"
      ]
     },
     "metadata": {},
     "output_type": "display_data"
    },
    {
     "name": "stdout",
     "output_type": "stream",
     "text": [
      "3. a boy and a girl read all books\n"
     ]
    },
    {
     "data": {
      "text/markdown": [
       "\"1\": $\\forall\\ x.(book(x)\\ \\to\\ \\exists\\ z_{6371}.(girl(z_{6371})\\ \\land\\ \\exists\\ z_{6370}.(boy(z_{6370})\\ \\land\\ read(z_{6370},x)\\ \\land\\ read(z_{6371},x))))$"
      ],
      "text/plain": [
       "<IPython.core.display.Markdown object>"
      ]
     },
     "metadata": {},
     "output_type": "display_data"
    },
    {
     "data": {
      "text/markdown": [
       "\"2\": $\\exists\\ x.(girl(x)\\ \\land\\ \\forall\\ z_{6373}.(book(z_{6373})\\ \\to\\ \\exists\\ z_{6372}.(boy(z_{6372})\\ \\land\\ read(z_{6372},z_{6373})\\ \\land\\ read(x,z_{6373}))))$"
      ],
      "text/plain": [
       "<IPython.core.display.Markdown object>"
      ]
     },
     "metadata": {},
     "output_type": "display_data"
    },
    {
     "data": {
      "text/markdown": [
       "\"3\": $\\forall\\ x.(book(x)\\ \\to\\ \\exists\\ z_{6375}.(boy(z_{6375})\\ \\land\\ \\exists\\ z_{6374}.(girl(z_{6374})\\ \\land\\ read(z_{6375},x)\\ \\land\\ read(z_{6374},x))))$"
      ],
      "text/plain": [
       "<IPython.core.display.Markdown object>"
      ]
     },
     "metadata": {},
     "output_type": "display_data"
    },
    {
     "data": {
      "text/markdown": [
       "\"4\": $\\exists\\ x.(boy(x)\\ \\land\\ \\forall\\ z_{6377}.(book(z_{6377})\\ \\to\\ \\exists\\ z_{6376}.(girl(z_{6376})\\ \\land\\ read(x,z_{6377})\\ \\land\\ read(z_{6376},z_{6377}))))$"
      ],
      "text/plain": [
       "<IPython.core.display.Markdown object>"
      ]
     },
     "metadata": {},
     "output_type": "display_data"
    },
    {
     "data": {
      "text/markdown": [
       "\"5\": $\\exists\\ x.(girl(x)\\ \\land\\ \\exists\\ z_{6379}.(boy(z_{6379})\\ \\land\\ \\forall\\ z_{6378}.(book(z_{6378})\\ \\to\\ (read(z_{6379},z_{6378})\\ \\land\\ read(x,z_{6378})))))$"
      ],
      "text/plain": [
       "<IPython.core.display.Markdown object>"
      ]
     },
     "metadata": {},
     "output_type": "display_data"
    },
    {
     "data": {
      "text/markdown": [
       "\"6\": $\\exists\\ x.(boy(x)\\ \\land\\ \\exists\\ z_{6381}.(girl(z_{6381})\\ \\land\\ \\forall\\ z_{6380}.(book(z_{6380})\\ \\to\\ (read(x,z_{6380})\\ \\land\\ read(z_{6381},z_{6380})))))$"
      ],
      "text/plain": [
       "<IPython.core.display.Markdown object>"
      ]
     },
     "metadata": {},
     "output_type": "display_data"
    },
    {
     "name": "stdout",
     "output_type": "stream",
     "text": [
      "4. Angus and Irene read all books\n"
     ]
    },
    {
     "data": {
      "text/markdown": [
       "\"1\": $\\forall\\ x.(book(x)\\ \\to\\ (read(angus,x)\\ \\land\\ read(irene,x)))$"
      ],
      "text/plain": [
       "<IPython.core.display.Markdown object>"
      ]
     },
     "metadata": {},
     "output_type": "display_data"
    }
   ],
   "source": [
    "sentences = [\n",
    "    'every library gives a book to every girl and every boy',\n",
    "    'no library gives every book to a boy',\n",
    "    'a boy and a girl read all books',\n",
    "    'Angus and Irene read all books',\n",
    "]\n",
    "\n",
    "# your answers\n",
    "fcfg_storage_answers_1 = r\"\"\"\n",
    "### Replace X with their proper representations\n",
    "Det[NUM=sg,SEM=[CORE=<\\P Q.(- exists x.(P(x) & Q(x)))>, STORE=(/)]] -> 'no'\n",
    "Det[NUM=pl,SEM=[CORE=<\\P \\Q. all x.(P(x) -> Q(x))>, STORE=(/)]] -> 'all'\n",
    "N[NUM=pl,SEM=[CORE=<\\x.book(x)>, STORE=(/)]] -> 'books'\n",
    "TV[NUM=pl,SEM=[CORE=<\\X x.X(\\y.read(x,y))>,STORE=(/)],TNS=pres] -> 'read'\n",
    "\"\"\"\n",
    "\n",
    "fcfg_storage_answers_2 = r\"\"\"\n",
    "### Correct the conjunction rule here. Replace xxx and ??? with the correct answer:\n",
    "NP[NUM=?n, SEM=[CORE=<\\P.(?n1(P) & ?n2(P))>, STORE=(?b1+?b2)]] -> NP[NUM=?num1, SEM=[CORE=?n1, STORE=?b1]] CONJ NP[NUM=?num2, SEM=[CORE=?n2, STORE=?b2]]\n",
    "CONJ -> 'and' \n",
    "\"\"\"\n",
    "\n",
    "fcfg_storage = fcfg_storage_base + fcfg_storage_np + fcfg_storage_lexicon + fcfg_storage_answers_1 + fcfg_storage_answers_2\n",
    "cs_syntax = FeatureGrammar.fromstring(fcfg_storage)\n",
    "sents_reps = sem_parser(sentences, cs_syntax, verbose=False, is_cs=True)\n",
    "\n",
    "for i, (sent, semreps) in enumerate(sents_reps.items()):\n",
    "    counter = 0\n",
    "    print(f\"{i+1}. {sent}\")\n",
    "    for semrep in semreps:\n",
    "        counter += 1\n",
    "        display_translation(counter, semrep)"
   ]
  },
  {
   "cell_type": "markdown",
   "metadata": {},
   "source": [
    "**2c.** Add the quantified expressions to the `STORE` only in the conjunction rule. Compare the number of readings you get now for the sentence below. Are there any invalid readings? If so, why? **[3 marks]**"
   ]
  },
  {
   "cell_type": "code",
   "execution_count": 51,
   "metadata": {},
   "outputs": [
    {
     "name": "stdout",
     "output_type": "stream",
     "text": [
      "1. every library gives a book to every girl and every boy\n"
     ]
    },
    {
     "data": {
      "text/markdown": [
       "\"1\": $\\forall\\ x.(boy(x)\\ \\to\\ \\forall\\ z_{7537}.(girl(z_{7537})\\ \\to\\ (\\exists\\ z_{7535}.(book(z_{7535})\\ \\land\\ \\forall\\ z_{7534}.(library(z_{7534})\\ \\to\\ give(z_{7534},z_{7537},z_{7535})))\\ \\land\\ \\exists\\ z_{7536}.(book(z_{7536})\\ \\land\\ \\forall\\ z_{7534}.(library(z_{7534})\\ \\to\\ give(z_{7534},x,z_{7536}))))))$"
      ],
      "text/plain": [
       "<IPython.core.display.Markdown object>"
      ]
     },
     "metadata": {},
     "output_type": "display_data"
    },
    {
     "data": {
      "text/markdown": [
       "\"2\": $\\forall\\ x.(girl(x)\\ \\to\\ \\forall\\ z_{7541}.(boy(z_{7541})\\ \\to\\ (\\exists\\ z_{7539}.(book(z_{7539})\\ \\land\\ \\forall\\ z_{7538}.(library(z_{7538})\\ \\to\\ give(z_{7538},x,z_{7539})))\\ \\land\\ \\exists\\ z_{7540}.(book(z_{7540})\\ \\land\\ \\forall\\ z_{7538}.(library(z_{7538})\\ \\to\\ give(z_{7538},z_{7541},z_{7540}))))))$"
      ],
      "text/plain": [
       "<IPython.core.display.Markdown object>"
      ]
     },
     "metadata": {},
     "output_type": "display_data"
    },
    {
     "data": {
      "text/markdown": [
       "\"3\": $\\forall\\ x.(boy(x)\\ \\to\\ (\\forall\\ z_{7544}.(girl(z_{7544})\\ \\to\\ \\exists\\ z_{7543}.(book(z_{7543})\\ \\land\\ \\forall\\ z_{7542}.(library(z_{7542})\\ \\to\\ give(z_{7542},@x9,z_{7543}))))\\ \\land\\ \\forall\\ z_{7545}.(girl(z_{7545})\\ \\to\\ \\exists\\ z_{7543}.(book(z_{7543})\\ \\land\\ \\forall\\ z_{7542}.(library(z_{7542})\\ \\to\\ give(z_{7542},x,z_{7543}))))))$"
      ],
      "text/plain": [
       "<IPython.core.display.Markdown object>"
      ]
     },
     "metadata": {},
     "output_type": "display_data"
    },
    {
     "data": {
      "text/markdown": [
       "\"4\": $(\\forall\\ x.(boy(x)\\ \\to\\ \\forall\\ z_{7548}.(girl(z_{7548})\\ \\to\\ \\exists\\ z_{7547}.(book(z_{7547})\\ \\land\\ \\forall\\ z_{7546}.(library(z_{7546})\\ \\to\\ give(z_{7546},@x9,z_{7547})))))\\ \\land\\ \\forall\\ x.(boy(x)\\ \\to\\ \\forall\\ z_{7548}.(girl(z_{7548})\\ \\to\\ \\exists\\ z_{7547}.(book(z_{7547})\\ \\land\\ \\forall\\ z_{7546}.(library(z_{7546})\\ \\to\\ give(z_{7546},@x6,z_{7547}))))))$"
      ],
      "text/plain": [
       "<IPython.core.display.Markdown object>"
      ]
     },
     "metadata": {},
     "output_type": "display_data"
    },
    {
     "data": {
      "text/markdown": [
       "\"5\": $\\forall\\ x.(girl(x)\\ \\to\\ (\\forall\\ z_{7551}.(boy(z_{7551})\\ \\to\\ \\exists\\ z_{7550}.(book(z_{7550})\\ \\land\\ \\forall\\ z_{7549}.(library(z_{7549})\\ \\to\\ give(z_{7549},x,z_{7550}))))\\ \\land\\ \\forall\\ z_{7552}.(boy(z_{7552})\\ \\to\\ \\exists\\ z_{7550}.(book(z_{7550})\\ \\land\\ \\forall\\ z_{7549}.(library(z_{7549})\\ \\to\\ give(z_{7549},@x6,z_{7550}))))))$"
      ],
      "text/plain": [
       "<IPython.core.display.Markdown object>"
      ]
     },
     "metadata": {},
     "output_type": "display_data"
    },
    {
     "data": {
      "text/markdown": [
       "\"6\": $(\\forall\\ x.(girl(x)\\ \\to\\ \\forall\\ z_{7555}.(boy(z_{7555})\\ \\to\\ \\exists\\ z_{7554}.(book(z_{7554})\\ \\land\\ \\forall\\ z_{7553}.(library(z_{7553})\\ \\to\\ give(z_{7553},@x9,z_{7554})))))\\ \\land\\ \\forall\\ x.(girl(x)\\ \\to\\ \\forall\\ z_{7555}.(boy(z_{7555})\\ \\to\\ \\exists\\ z_{7554}.(book(z_{7554})\\ \\land\\ \\forall\\ z_{7553}.(library(z_{7553})\\ \\to\\ give(z_{7553},@x6,z_{7554}))))))$"
      ],
      "text/plain": [
       "<IPython.core.display.Markdown object>"
      ]
     },
     "metadata": {},
     "output_type": "display_data"
    },
    {
     "data": {
      "text/markdown": [
       "\"7\": $\\forall\\ x.(boy(x)\\ \\to\\ \\forall\\ z_{7559}.(girl(z_{7559})\\ \\to\\ \\exists\\ z_{7558}.(book(z_{7558})\\ \\land\\ \\forall\\ z_{7556}.(library(z_{7556})\\ \\to\\ give(z_{7556},z_{7559},z_{7558}))\\ \\land\\ \\forall\\ z_{7557}.(library(z_{7557})\\ \\to\\ give(z_{7557},x,z_{7558})))))$"
      ],
      "text/plain": [
       "<IPython.core.display.Markdown object>"
      ]
     },
     "metadata": {},
     "output_type": "display_data"
    },
    {
     "data": {
      "text/markdown": [
       "\"8\": $\\forall\\ x.(girl(x)\\ \\to\\ \\forall\\ z_{7563}.(boy(z_{7563})\\ \\to\\ \\exists\\ z_{7562}.(book(z_{7562})\\ \\land\\ \\forall\\ z_{7560}.(library(z_{7560})\\ \\to\\ give(z_{7560},x,z_{7562}))\\ \\land\\ \\forall\\ z_{7561}.(library(z_{7561})\\ \\to\\ give(z_{7561},z_{7563},z_{7562})))))$"
      ],
      "text/plain": [
       "<IPython.core.display.Markdown object>"
      ]
     },
     "metadata": {},
     "output_type": "display_data"
    },
    {
     "data": {
      "text/markdown": [
       "\"9\": $\\forall\\ x.(boy(x)\\ \\to\\ \\exists\\ z_{7567}.(book(z_{7567})\\ \\land\\ \\forall\\ z_{7566}.(girl(z_{7566})\\ \\to\\ (\\forall\\ z_{7564}.(library(z_{7564})\\ \\to\\ give(z_{7564},z_{7566},z_{7567}))\\ \\land\\ \\forall\\ z_{7565}.(library(z_{7565})\\ \\to\\ give(z_{7565},x,z_{7567}))))))$"
      ],
      "text/plain": [
       "<IPython.core.display.Markdown object>"
      ]
     },
     "metadata": {},
     "output_type": "display_data"
    },
    {
     "data": {
      "text/markdown": [
       "\"10\": $\\exists\\ x.(book(x)\\ \\land\\ \\forall\\ z_{7571}.(boy(z_{7571})\\ \\to\\ \\forall\\ z_{7570}.(girl(z_{7570})\\ \\to\\ (\\forall\\ z_{7568}.(library(z_{7568})\\ \\to\\ give(z_{7568},z_{7570},x))\\ \\land\\ \\forall\\ z_{7569}.(library(z_{7569})\\ \\to\\ give(z_{7569},z_{7571},x))))))$"
      ],
      "text/plain": [
       "<IPython.core.display.Markdown object>"
      ]
     },
     "metadata": {},
     "output_type": "display_data"
    },
    {
     "data": {
      "text/markdown": [
       "\"11\": $\\forall\\ x.(girl(x)\\ \\to\\ \\exists\\ z_{7575}.(book(z_{7575})\\ \\land\\ \\forall\\ z_{7574}.(boy(z_{7574})\\ \\to\\ (\\forall\\ z_{7572}.(library(z_{7572})\\ \\to\\ give(z_{7572},x,z_{7575}))\\ \\land\\ \\forall\\ z_{7573}.(library(z_{7573})\\ \\to\\ give(z_{7573},z_{7574},z_{7575}))))))$"
      ],
      "text/plain": [
       "<IPython.core.display.Markdown object>"
      ]
     },
     "metadata": {},
     "output_type": "display_data"
    },
    {
     "data": {
      "text/markdown": [
       "\"12\": $\\exists\\ x.(book(x)\\ \\land\\ \\forall\\ z_{7579}.(girl(z_{7579})\\ \\to\\ \\forall\\ z_{7578}.(boy(z_{7578})\\ \\to\\ (\\forall\\ z_{7576}.(library(z_{7576})\\ \\to\\ give(z_{7576},z_{7579},x))\\ \\land\\ \\forall\\ z_{7577}.(library(z_{7577})\\ \\to\\ give(z_{7577},z_{7578},x))))))$"
      ],
      "text/plain": [
       "<IPython.core.display.Markdown object>"
      ]
     },
     "metadata": {},
     "output_type": "display_data"
    },
    {
     "data": {
      "text/markdown": [
       "\"13\": $\\forall\\ x.(boy(x)\\ \\to\\ (\\exists\\ z_{7582}.(book(z_{7582})\\ \\land\\ \\forall\\ z_{7581}.(girl(z_{7581})\\ \\to\\ \\forall\\ z_{7580}.(library(z_{7580})\\ \\to\\ give(z_{7580},@x9,z_{7582}))))\\ \\land\\ \\exists\\ z_{7583}.(book(z_{7583})\\ \\land\\ \\forall\\ z_{7581}.(girl(z_{7581})\\ \\to\\ \\forall\\ z_{7580}.(library(z_{7580})\\ \\to\\ give(z_{7580},x,z_{7583}))))))$"
      ],
      "text/plain": [
       "<IPython.core.display.Markdown object>"
      ]
     },
     "metadata": {},
     "output_type": "display_data"
    },
    {
     "data": {
      "text/markdown": [
       "\"14\": $(\\forall\\ x.(boy(x)\\ \\to\\ \\exists\\ z_{7586}.(book(z_{7586})\\ \\land\\ \\forall\\ z_{7585}.(girl(z_{7585})\\ \\to\\ \\forall\\ z_{7584}.(library(z_{7584})\\ \\to\\ give(z_{7584},@x9,z_{7586})))))\\ \\land\\ \\forall\\ x.(boy(x)\\ \\to\\ \\exists\\ z_{7586}.(book(z_{7586})\\ \\land\\ \\forall\\ z_{7585}.(girl(z_{7585})\\ \\to\\ \\forall\\ z_{7584}.(library(z_{7584})\\ \\to\\ give(z_{7584},@x6,z_{7586}))))))$"
      ],
      "text/plain": [
       "<IPython.core.display.Markdown object>"
      ]
     },
     "metadata": {},
     "output_type": "display_data"
    },
    {
     "data": {
      "text/markdown": [
       "\"15\": $\\forall\\ x.(boy(x)\\ \\to\\ \\exists\\ z_{7590}.(book(z_{7590})\\ \\land\\ \\forall\\ z_{7588}.(girl(z_{7588})\\ \\to\\ \\forall\\ z_{7587}.(library(z_{7587})\\ \\to\\ give(z_{7587},@x9,z_{7590})))\\ \\land\\ \\forall\\ z_{7589}.(girl(z_{7589})\\ \\to\\ \\forall\\ z_{7587}.(library(z_{7587})\\ \\to\\ give(z_{7587},x,z_{7590})))))$"
      ],
      "text/plain": [
       "<IPython.core.display.Markdown object>"
      ]
     },
     "metadata": {},
     "output_type": "display_data"
    },
    {
     "data": {
      "text/markdown": [
       "\"16\": $\\exists\\ x.(book(x)\\ \\land\\ \\forall\\ z_{7594}.(boy(z_{7594})\\ \\to\\ (\\forall\\ z_{7592}.(girl(z_{7592})\\ \\to\\ \\forall\\ z_{7591}.(library(z_{7591})\\ \\to\\ give(z_{7591},@x9,x)))\\ \\land\\ \\forall\\ z_{7593}.(girl(z_{7593})\\ \\to\\ \\forall\\ z_{7591}.(library(z_{7591})\\ \\to\\ give(z_{7591},z_{7594},x))))))$"
      ],
      "text/plain": [
       "<IPython.core.display.Markdown object>"
      ]
     },
     "metadata": {},
     "output_type": "display_data"
    },
    {
     "data": {
      "text/markdown": [
       "\"17\": $(\\exists\\ x.(book(x)\\ \\land\\ \\forall\\ z_{7597}.(boy(z_{7597})\\ \\to\\ \\forall\\ z_{7596}.(girl(z_{7596})\\ \\to\\ \\forall\\ z_{7595}.(library(z_{7595})\\ \\to\\ give(z_{7595},@x9,x)))))\\ \\land\\ \\exists\\ x.(book(x)\\ \\land\\ \\forall\\ z_{7597}.(boy(z_{7597})\\ \\to\\ \\forall\\ z_{7596}.(girl(z_{7596})\\ \\to\\ \\forall\\ z_{7595}.(library(z_{7595})\\ \\to\\ give(z_{7595},@x6,x))))))$"
      ],
      "text/plain": [
       "<IPython.core.display.Markdown object>"
      ]
     },
     "metadata": {},
     "output_type": "display_data"
    },
    {
     "data": {
      "text/markdown": [
       "\"18\": $\\exists\\ x.(book(x)\\ \\land\\ \\forall\\ z_{7600}.(boy(z_{7600})\\ \\to\\ \\forall\\ z_{7599}.(girl(z_{7599})\\ \\to\\ \\forall\\ z_{7598}.(library(z_{7598})\\ \\to\\ give(z_{7598},@x9,x))))\\ \\land\\ \\forall\\ z_{7601}.(boy(z_{7601})\\ \\to\\ \\forall\\ z_{7599}.(girl(z_{7599})\\ \\to\\ \\forall\\ z_{7598}.(library(z_{7598})\\ \\to\\ give(z_{7598},@x6,x)))))$"
      ],
      "text/plain": [
       "<IPython.core.display.Markdown object>"
      ]
     },
     "metadata": {},
     "output_type": "display_data"
    },
    {
     "data": {
      "text/markdown": [
       "\"19\": $\\forall\\ x.(girl(x)\\ \\to\\ (\\exists\\ z_{7604}.(book(z_{7604})\\ \\land\\ \\forall\\ z_{7603}.(boy(z_{7603})\\ \\to\\ \\forall\\ z_{7602}.(library(z_{7602})\\ \\to\\ give(z_{7602},x,z_{7604}))))\\ \\land\\ \\exists\\ z_{7605}.(book(z_{7605})\\ \\land\\ \\forall\\ z_{7603}.(boy(z_{7603})\\ \\to\\ \\forall\\ z_{7602}.(library(z_{7602})\\ \\to\\ give(z_{7602},@x6,z_{7605}))))))$"
      ],
      "text/plain": [
       "<IPython.core.display.Markdown object>"
      ]
     },
     "metadata": {},
     "output_type": "display_data"
    },
    {
     "data": {
      "text/markdown": [
       "\"20\": $(\\forall\\ x.(girl(x)\\ \\to\\ \\exists\\ z_{7608}.(book(z_{7608})\\ \\land\\ \\forall\\ z_{7607}.(boy(z_{7607})\\ \\to\\ \\forall\\ z_{7606}.(library(z_{7606})\\ \\to\\ give(z_{7606},@x9,z_{7608})))))\\ \\land\\ \\forall\\ x.(girl(x)\\ \\to\\ \\exists\\ z_{7608}.(book(z_{7608})\\ \\land\\ \\forall\\ z_{7607}.(boy(z_{7607})\\ \\to\\ \\forall\\ z_{7606}.(library(z_{7606})\\ \\to\\ give(z_{7606},@x6,z_{7608}))))))$"
      ],
      "text/plain": [
       "<IPython.core.display.Markdown object>"
      ]
     },
     "metadata": {},
     "output_type": "display_data"
    },
    {
     "data": {
      "text/markdown": [
       "\"21\": $\\forall\\ x.(girl(x)\\ \\to\\ \\exists\\ z_{7612}.(book(z_{7612})\\ \\land\\ \\forall\\ z_{7610}.(boy(z_{7610})\\ \\to\\ \\forall\\ z_{7609}.(library(z_{7609})\\ \\to\\ give(z_{7609},x,z_{7612})))\\ \\land\\ \\forall\\ z_{7611}.(boy(z_{7611})\\ \\to\\ \\forall\\ z_{7609}.(library(z_{7609})\\ \\to\\ give(z_{7609},@x6,z_{7612})))))$"
      ],
      "text/plain": [
       "<IPython.core.display.Markdown object>"
      ]
     },
     "metadata": {},
     "output_type": "display_data"
    },
    {
     "data": {
      "text/markdown": [
       "\"22\": $\\exists\\ x.(book(x)\\ \\land\\ \\forall\\ z_{7616}.(girl(z_{7616})\\ \\to\\ (\\forall\\ z_{7614}.(boy(z_{7614})\\ \\to\\ \\forall\\ z_{7613}.(library(z_{7613})\\ \\to\\ give(z_{7613},z_{7616},x)))\\ \\land\\ \\forall\\ z_{7615}.(boy(z_{7615})\\ \\to\\ \\forall\\ z_{7613}.(library(z_{7613})\\ \\to\\ give(z_{7613},@x6,x))))))$"
      ],
      "text/plain": [
       "<IPython.core.display.Markdown object>"
      ]
     },
     "metadata": {},
     "output_type": "display_data"
    },
    {
     "data": {
      "text/markdown": [
       "\"23\": $(\\exists\\ x.(book(x)\\ \\land\\ \\forall\\ z_{7619}.(girl(z_{7619})\\ \\to\\ \\forall\\ z_{7618}.(boy(z_{7618})\\ \\to\\ \\forall\\ z_{7617}.(library(z_{7617})\\ \\to\\ give(z_{7617},@x9,x)))))\\ \\land\\ \\exists\\ x.(book(x)\\ \\land\\ \\forall\\ z_{7619}.(girl(z_{7619})\\ \\to\\ \\forall\\ z_{7618}.(boy(z_{7618})\\ \\to\\ \\forall\\ z_{7617}.(library(z_{7617})\\ \\to\\ give(z_{7617},@x6,x))))))$"
      ],
      "text/plain": [
       "<IPython.core.display.Markdown object>"
      ]
     },
     "metadata": {},
     "output_type": "display_data"
    },
    {
     "data": {
      "text/markdown": [
       "\"24\": $\\exists\\ x.(book(x)\\ \\land\\ \\forall\\ z_{7622}.(girl(z_{7622})\\ \\to\\ \\forall\\ z_{7621}.(boy(z_{7621})\\ \\to\\ \\forall\\ z_{7620}.(library(z_{7620})\\ \\to\\ give(z_{7620},@x9,x))))\\ \\land\\ \\forall\\ z_{7623}.(girl(z_{7623})\\ \\to\\ \\forall\\ z_{7621}.(boy(z_{7621})\\ \\to\\ \\forall\\ z_{7620}.(library(z_{7620})\\ \\to\\ give(z_{7620},@x6,x)))))$"
      ],
      "text/plain": [
       "<IPython.core.display.Markdown object>"
      ]
     },
     "metadata": {},
     "output_type": "display_data"
    },
    {
     "data": {
      "text/markdown": [
       "\"25\": $\\forall\\ x.(boy(x)\\ \\to\\ \\forall\\ z_{7627}.(girl(z_{7627})\\ \\to\\ (\\forall\\ z_{7625}.(library(z_{7625})\\ \\to\\ \\exists\\ z_{7624}.(book(z_{7624})\\ \\land\\ give(z_{7625},z_{7627},z_{7624})))\\ \\land\\ \\forall\\ z_{7626}.(library(z_{7626})\\ \\to\\ \\exists\\ z_{7624}.(book(z_{7624})\\ \\land\\ give(z_{7626},x,z_{7624}))))))$"
      ],
      "text/plain": [
       "<IPython.core.display.Markdown object>"
      ]
     },
     "metadata": {},
     "output_type": "display_data"
    },
    {
     "data": {
      "text/markdown": [
       "\"26\": $\\forall\\ x.(girl(x)\\ \\to\\ \\forall\\ z_{7631}.(boy(z_{7631})\\ \\to\\ (\\forall\\ z_{7629}.(library(z_{7629})\\ \\to\\ \\exists\\ z_{7628}.(book(z_{7628})\\ \\land\\ give(z_{7629},x,z_{7628})))\\ \\land\\ \\forall\\ z_{7630}.(library(z_{7630})\\ \\to\\ \\exists\\ z_{7628}.(book(z_{7628})\\ \\land\\ give(z_{7630},z_{7631},z_{7628}))))))$"
      ],
      "text/plain": [
       "<IPython.core.display.Markdown object>"
      ]
     },
     "metadata": {},
     "output_type": "display_data"
    },
    {
     "data": {
      "text/markdown": [
       "\"27\": $\\forall\\ x.(boy(x)\\ \\to\\ (\\forall\\ z_{7634}.(girl(z_{7634})\\ \\to\\ \\forall\\ z_{7633}.(library(z_{7633})\\ \\to\\ \\exists\\ z_{7632}.(book(z_{7632})\\ \\land\\ give(z_{7633},@x9,z_{7632}))))\\ \\land\\ \\forall\\ z_{7635}.(girl(z_{7635})\\ \\to\\ \\forall\\ z_{7633}.(library(z_{7633})\\ \\to\\ \\exists\\ z_{7632}.(book(z_{7632})\\ \\land\\ give(z_{7633},x,z_{7632}))))))$"
      ],
      "text/plain": [
       "<IPython.core.display.Markdown object>"
      ]
     },
     "metadata": {},
     "output_type": "display_data"
    },
    {
     "data": {
      "text/markdown": [
       "\"28\": $(\\forall\\ x.(boy(x)\\ \\to\\ \\forall\\ z_{7638}.(girl(z_{7638})\\ \\to\\ \\forall\\ z_{7637}.(library(z_{7637})\\ \\to\\ \\exists\\ z_{7636}.(book(z_{7636})\\ \\land\\ give(z_{7637},@x9,z_{7636})))))\\ \\land\\ \\forall\\ x.(boy(x)\\ \\to\\ \\forall\\ z_{7638}.(girl(z_{7638})\\ \\to\\ \\forall\\ z_{7637}.(library(z_{7637})\\ \\to\\ \\exists\\ z_{7636}.(book(z_{7636})\\ \\land\\ give(z_{7637},@x6,z_{7636}))))))$"
      ],
      "text/plain": [
       "<IPython.core.display.Markdown object>"
      ]
     },
     "metadata": {},
     "output_type": "display_data"
    },
    {
     "data": {
      "text/markdown": [
       "\"29\": $\\forall\\ x.(girl(x)\\ \\to\\ (\\forall\\ z_{7641}.(boy(z_{7641})\\ \\to\\ \\forall\\ z_{7640}.(library(z_{7640})\\ \\to\\ \\exists\\ z_{7639}.(book(z_{7639})\\ \\land\\ give(z_{7640},x,z_{7639}))))\\ \\land\\ \\forall\\ z_{7642}.(boy(z_{7642})\\ \\to\\ \\forall\\ z_{7640}.(library(z_{7640})\\ \\to\\ \\exists\\ z_{7639}.(book(z_{7639})\\ \\land\\ give(z_{7640},@x6,z_{7639}))))))$"
      ],
      "text/plain": [
       "<IPython.core.display.Markdown object>"
      ]
     },
     "metadata": {},
     "output_type": "display_data"
    },
    {
     "data": {
      "text/markdown": [
       "\"30\": $(\\forall\\ x.(girl(x)\\ \\to\\ \\forall\\ z_{7645}.(boy(z_{7645})\\ \\to\\ \\forall\\ z_{7644}.(library(z_{7644})\\ \\to\\ \\exists\\ z_{7643}.(book(z_{7643})\\ \\land\\ give(z_{7644},@x9,z_{7643})))))\\ \\land\\ \\forall\\ x.(girl(x)\\ \\to\\ \\forall\\ z_{7645}.(boy(z_{7645})\\ \\to\\ \\forall\\ z_{7644}.(library(z_{7644})\\ \\to\\ \\exists\\ z_{7643}.(book(z_{7643})\\ \\land\\ give(z_{7644},@x6,z_{7643}))))))$"
      ],
      "text/plain": [
       "<IPython.core.display.Markdown object>"
      ]
     },
     "metadata": {},
     "output_type": "display_data"
    },
    {
     "data": {
      "text/markdown": [
       "\"31\": $\\forall\\ x.(boy(x)\\ \\to\\ \\forall\\ z_{7649}.(girl(z_{7649})\\ \\to\\ \\forall\\ z_{7648}.(library(z_{7648})\\ \\to\\ (\\exists\\ z_{7646}.(book(z_{7646})\\ \\land\\ give(z_{7648},z_{7649},z_{7646}))\\ \\land\\ \\exists\\ z_{7647}.(book(z_{7647})\\ \\land\\ give(z_{7648},x,z_{7647}))))))$"
      ],
      "text/plain": [
       "<IPython.core.display.Markdown object>"
      ]
     },
     "metadata": {},
     "output_type": "display_data"
    },
    {
     "data": {
      "text/markdown": [
       "\"32\": $\\forall\\ x.(girl(x)\\ \\to\\ \\forall\\ z_{7653}.(boy(z_{7653})\\ \\to\\ \\forall\\ z_{7652}.(library(z_{7652})\\ \\to\\ (\\exists\\ z_{7650}.(book(z_{7650})\\ \\land\\ give(z_{7652},x,z_{7650}))\\ \\land\\ \\exists\\ z_{7651}.(book(z_{7651})\\ \\land\\ give(z_{7652},z_{7653},z_{7651}))))))$"
      ],
      "text/plain": [
       "<IPython.core.display.Markdown object>"
      ]
     },
     "metadata": {},
     "output_type": "display_data"
    },
    {
     "data": {
      "text/markdown": [
       "\"33\": $\\forall\\ x.(boy(x)\\ \\to\\ \\forall\\ z_{7657}.(library(z_{7657})\\ \\to\\ \\forall\\ z_{7656}.(girl(z_{7656})\\ \\to\\ (\\exists\\ z_{7654}.(book(z_{7654})\\ \\land\\ give(z_{7657},z_{7656},z_{7654}))\\ \\land\\ \\exists\\ z_{7655}.(book(z_{7655})\\ \\land\\ give(z_{7657},x,z_{7655}))))))$"
      ],
      "text/plain": [
       "<IPython.core.display.Markdown object>"
      ]
     },
     "metadata": {},
     "output_type": "display_data"
    },
    {
     "data": {
      "text/markdown": [
       "\"34\": $\\forall\\ x.(library(x)\\ \\to\\ \\forall\\ z_{7661}.(boy(z_{7661})\\ \\to\\ \\forall\\ z_{7660}.(girl(z_{7660})\\ \\to\\ (\\exists\\ z_{7658}.(book(z_{7658})\\ \\land\\ give(x,z_{7660},z_{7658}))\\ \\land\\ \\exists\\ z_{7659}.(book(z_{7659})\\ \\land\\ give(x,z_{7661},z_{7659}))))))$"
      ],
      "text/plain": [
       "<IPython.core.display.Markdown object>"
      ]
     },
     "metadata": {},
     "output_type": "display_data"
    },
    {
     "data": {
      "text/markdown": [
       "\"35\": $\\forall\\ x.(girl(x)\\ \\to\\ \\forall\\ z_{7665}.(library(z_{7665})\\ \\to\\ \\forall\\ z_{7664}.(boy(z_{7664})\\ \\to\\ (\\exists\\ z_{7662}.(book(z_{7662})\\ \\land\\ give(z_{7665},x,z_{7662}))\\ \\land\\ \\exists\\ z_{7663}.(book(z_{7663})\\ \\land\\ give(z_{7665},z_{7664},z_{7663}))))))$"
      ],
      "text/plain": [
       "<IPython.core.display.Markdown object>"
      ]
     },
     "metadata": {},
     "output_type": "display_data"
    },
    {
     "data": {
      "text/markdown": [
       "\"36\": $\\forall\\ x.(library(x)\\ \\to\\ \\forall\\ z_{7669}.(girl(z_{7669})\\ \\to\\ \\forall\\ z_{7668}.(boy(z_{7668})\\ \\to\\ (\\exists\\ z_{7666}.(book(z_{7666})\\ \\land\\ give(x,z_{7669},z_{7666}))\\ \\land\\ \\exists\\ z_{7667}.(book(z_{7667})\\ \\land\\ give(x,z_{7668},z_{7667}))))))$"
      ],
      "text/plain": [
       "<IPython.core.display.Markdown object>"
      ]
     },
     "metadata": {},
     "output_type": "display_data"
    },
    {
     "data": {
      "text/markdown": [
       "\"37\": $\\forall\\ x.(boy(x)\\ \\to\\ (\\forall\\ z_{7672}.(library(z_{7672})\\ \\to\\ \\forall\\ z_{7671}.(girl(z_{7671})\\ \\to\\ \\exists\\ z_{7670}.(book(z_{7670})\\ \\land\\ give(z_{7672},@x9,z_{7670}))))\\ \\land\\ \\forall\\ z_{7673}.(library(z_{7673})\\ \\to\\ \\forall\\ z_{7671}.(girl(z_{7671})\\ \\to\\ \\exists\\ z_{7670}.(book(z_{7670})\\ \\land\\ give(z_{7673},x,z_{7670}))))))$"
      ],
      "text/plain": [
       "<IPython.core.display.Markdown object>"
      ]
     },
     "metadata": {},
     "output_type": "display_data"
    },
    {
     "data": {
      "text/markdown": [
       "\"38\": $(\\forall\\ x.(boy(x)\\ \\to\\ \\forall\\ z_{7676}.(library(z_{7676})\\ \\to\\ \\forall\\ z_{7675}.(girl(z_{7675})\\ \\to\\ \\exists\\ z_{7674}.(book(z_{7674})\\ \\land\\ give(z_{7676},@x9,z_{7674})))))\\ \\land\\ \\forall\\ x.(boy(x)\\ \\to\\ \\forall\\ z_{7676}.(library(z_{7676})\\ \\to\\ \\forall\\ z_{7675}.(girl(z_{7675})\\ \\to\\ \\exists\\ z_{7674}.(book(z_{7674})\\ \\land\\ give(z_{7676},@x6,z_{7674}))))))$"
      ],
      "text/plain": [
       "<IPython.core.display.Markdown object>"
      ]
     },
     "metadata": {},
     "output_type": "display_data"
    },
    {
     "data": {
      "text/markdown": [
       "\"39\": $\\forall\\ x.(boy(x)\\ \\to\\ \\forall\\ z_{7680}.(library(z_{7680})\\ \\to\\ (\\forall\\ z_{7678}.(girl(z_{7678})\\ \\to\\ \\exists\\ z_{7677}.(book(z_{7677})\\ \\land\\ give(z_{7680},@x9,z_{7677})))\\ \\land\\ \\forall\\ z_{7679}.(girl(z_{7679})\\ \\to\\ \\exists\\ z_{7677}.(book(z_{7677})\\ \\land\\ give(z_{7680},x,z_{7677}))))))$"
      ],
      "text/plain": [
       "<IPython.core.display.Markdown object>"
      ]
     },
     "metadata": {},
     "output_type": "display_data"
    },
    {
     "data": {
      "text/markdown": [
       "\"40\": $\\forall\\ x.(library(x)\\ \\to\\ \\forall\\ z_{7684}.(boy(z_{7684})\\ \\to\\ (\\forall\\ z_{7682}.(girl(z_{7682})\\ \\to\\ \\exists\\ z_{7681}.(book(z_{7681})\\ \\land\\ give(x,@x9,z_{7681})))\\ \\land\\ \\forall\\ z_{7683}.(girl(z_{7683})\\ \\to\\ \\exists\\ z_{7681}.(book(z_{7681})\\ \\land\\ give(x,z_{7684},z_{7681}))))))$"
      ],
      "text/plain": [
       "<IPython.core.display.Markdown object>"
      ]
     },
     "metadata": {},
     "output_type": "display_data"
    },
    {
     "data": {
      "text/markdown": [
       "\"41\": $(\\forall\\ x.(library(x)\\ \\to\\ \\forall\\ z_{7687}.(boy(z_{7687})\\ \\to\\ \\forall\\ z_{7686}.(girl(z_{7686})\\ \\to\\ \\exists\\ z_{7685}.(book(z_{7685})\\ \\land\\ give(x,@x9,z_{7685})))))\\ \\land\\ \\forall\\ x.(library(x)\\ \\to\\ \\forall\\ z_{7687}.(boy(z_{7687})\\ \\to\\ \\forall\\ z_{7686}.(girl(z_{7686})\\ \\to\\ \\exists\\ z_{7685}.(book(z_{7685})\\ \\land\\ give(x,@x6,z_{7685}))))))$"
      ],
      "text/plain": [
       "<IPython.core.display.Markdown object>"
      ]
     },
     "metadata": {},
     "output_type": "display_data"
    },
    {
     "data": {
      "text/markdown": [
       "\"42\": $\\forall\\ x.(library(x)\\ \\to\\ (\\forall\\ z_{7690}.(boy(z_{7690})\\ \\to\\ \\forall\\ z_{7689}.(girl(z_{7689})\\ \\to\\ \\exists\\ z_{7688}.(book(z_{7688})\\ \\land\\ give(x,@x9,z_{7688}))))\\ \\land\\ \\forall\\ z_{7691}.(boy(z_{7691})\\ \\to\\ \\forall\\ z_{7689}.(girl(z_{7689})\\ \\to\\ \\exists\\ z_{7688}.(book(z_{7688})\\ \\land\\ give(x,@x6,z_{7688}))))))$"
      ],
      "text/plain": [
       "<IPython.core.display.Markdown object>"
      ]
     },
     "metadata": {},
     "output_type": "display_data"
    },
    {
     "data": {
      "text/markdown": [
       "\"43\": $\\forall\\ x.(girl(x)\\ \\to\\ (\\forall\\ z_{7694}.(library(z_{7694})\\ \\to\\ \\forall\\ z_{7693}.(boy(z_{7693})\\ \\to\\ \\exists\\ z_{7692}.(book(z_{7692})\\ \\land\\ give(z_{7694},x,z_{7692}))))\\ \\land\\ \\forall\\ z_{7695}.(library(z_{7695})\\ \\to\\ \\forall\\ z_{7693}.(boy(z_{7693})\\ \\to\\ \\exists\\ z_{7692}.(book(z_{7692})\\ \\land\\ give(z_{7695},@x6,z_{7692}))))))$"
      ],
      "text/plain": [
       "<IPython.core.display.Markdown object>"
      ]
     },
     "metadata": {},
     "output_type": "display_data"
    },
    {
     "data": {
      "text/markdown": [
       "\"44\": $(\\forall\\ x.(girl(x)\\ \\to\\ \\forall\\ z_{7698}.(library(z_{7698})\\ \\to\\ \\forall\\ z_{7697}.(boy(z_{7697})\\ \\to\\ \\exists\\ z_{7696}.(book(z_{7696})\\ \\land\\ give(z_{7698},@x9,z_{7696})))))\\ \\land\\ \\forall\\ x.(girl(x)\\ \\to\\ \\forall\\ z_{7698}.(library(z_{7698})\\ \\to\\ \\forall\\ z_{7697}.(boy(z_{7697})\\ \\to\\ \\exists\\ z_{7696}.(book(z_{7696})\\ \\land\\ give(z_{7698},@x6,z_{7696}))))))$"
      ],
      "text/plain": [
       "<IPython.core.display.Markdown object>"
      ]
     },
     "metadata": {},
     "output_type": "display_data"
    },
    {
     "data": {
      "text/markdown": [
       "\"45\": $\\forall\\ x.(girl(x)\\ \\to\\ \\forall\\ z_{7702}.(library(z_{7702})\\ \\to\\ (\\forall\\ z_{7700}.(boy(z_{7700})\\ \\to\\ \\exists\\ z_{7699}.(book(z_{7699})\\ \\land\\ give(z_{7702},x,z_{7699})))\\ \\land\\ \\forall\\ z_{7701}.(boy(z_{7701})\\ \\to\\ \\exists\\ z_{7699}.(book(z_{7699})\\ \\land\\ give(z_{7702},@x6,z_{7699}))))))$"
      ],
      "text/plain": [
       "<IPython.core.display.Markdown object>"
      ]
     },
     "metadata": {},
     "output_type": "display_data"
    },
    {
     "data": {
      "text/markdown": [
       "\"46\": $\\forall\\ x.(library(x)\\ \\to\\ \\forall\\ z_{7706}.(girl(z_{7706})\\ \\to\\ (\\forall\\ z_{7704}.(boy(z_{7704})\\ \\to\\ \\exists\\ z_{7703}.(book(z_{7703})\\ \\land\\ give(x,z_{7706},z_{7703})))\\ \\land\\ \\forall\\ z_{7705}.(boy(z_{7705})\\ \\to\\ \\exists\\ z_{7703}.(book(z_{7703})\\ \\land\\ give(x,@x6,z_{7703}))))))$"
      ],
      "text/plain": [
       "<IPython.core.display.Markdown object>"
      ]
     },
     "metadata": {},
     "output_type": "display_data"
    },
    {
     "data": {
      "text/markdown": [
       "\"47\": $(\\forall\\ x.(library(x)\\ \\to\\ \\forall\\ z_{7709}.(girl(z_{7709})\\ \\to\\ \\forall\\ z_{7708}.(boy(z_{7708})\\ \\to\\ \\exists\\ z_{7707}.(book(z_{7707})\\ \\land\\ give(x,@x9,z_{7707})))))\\ \\land\\ \\forall\\ x.(library(x)\\ \\to\\ \\forall\\ z_{7709}.(girl(z_{7709})\\ \\to\\ \\forall\\ z_{7708}.(boy(z_{7708})\\ \\to\\ \\exists\\ z_{7707}.(book(z_{7707})\\ \\land\\ give(x,@x6,z_{7707}))))))$"
      ],
      "text/plain": [
       "<IPython.core.display.Markdown object>"
      ]
     },
     "metadata": {},
     "output_type": "display_data"
    },
    {
     "data": {
      "text/markdown": [
       "\"48\": $\\forall\\ x.(library(x)\\ \\to\\ (\\forall\\ z_{7712}.(girl(z_{7712})\\ \\to\\ \\forall\\ z_{7711}.(boy(z_{7711})\\ \\to\\ \\exists\\ z_{7710}.(book(z_{7710})\\ \\land\\ give(x,@x9,z_{7710}))))\\ \\land\\ \\forall\\ z_{7713}.(girl(z_{7713})\\ \\to\\ \\forall\\ z_{7711}.(boy(z_{7711})\\ \\to\\ \\exists\\ z_{7710}.(book(z_{7710})\\ \\land\\ give(x,@x6,z_{7710}))))))$"
      ],
      "text/plain": [
       "<IPython.core.display.Markdown object>"
      ]
     },
     "metadata": {},
     "output_type": "display_data"
    },
    {
     "data": {
      "text/markdown": [
       "\"49\": $\\forall\\ x.(boy(x)\\ \\to\\ \\forall\\ z_{7716}.(girl(z_{7716})\\ \\to\\ \\exists\\ z_{7715}.(book(z_{7715})\\ \\land\\ \\forall\\ z_{7714}.(library(z_{7714})\\ \\to\\ (give(z_{7714},z_{7716},z_{7715})\\ \\land\\ give(z_{7714},x,z_{7715}))))))$"
      ],
      "text/plain": [
       "<IPython.core.display.Markdown object>"
      ]
     },
     "metadata": {},
     "output_type": "display_data"
    },
    {
     "data": {
      "text/markdown": [
       "\"50\": $\\forall\\ x.(girl(x)\\ \\to\\ \\forall\\ z_{7719}.(boy(z_{7719})\\ \\to\\ \\exists\\ z_{7718}.(book(z_{7718})\\ \\land\\ \\forall\\ z_{7717}.(library(z_{7717})\\ \\to\\ (give(z_{7717},x,z_{7718})\\ \\land\\ give(z_{7717},z_{7719},z_{7718}))))))$"
      ],
      "text/plain": [
       "<IPython.core.display.Markdown object>"
      ]
     },
     "metadata": {},
     "output_type": "display_data"
    },
    {
     "data": {
      "text/markdown": [
       "\"51\": $\\forall\\ x.(boy(x)\\ \\to\\ \\exists\\ z_{7722}.(book(z_{7722})\\ \\land\\ \\forall\\ z_{7721}.(girl(z_{7721})\\ \\to\\ \\forall\\ z_{7720}.(library(z_{7720})\\ \\to\\ (give(z_{7720},z_{7721},z_{7722})\\ \\land\\ give(z_{7720},x,z_{7722}))))))$"
      ],
      "text/plain": [
       "<IPython.core.display.Markdown object>"
      ]
     },
     "metadata": {},
     "output_type": "display_data"
    },
    {
     "data": {
      "text/markdown": [
       "\"52\": $\\exists\\ x.(book(x)\\ \\land\\ \\forall\\ z_{7725}.(boy(z_{7725})\\ \\to\\ \\forall\\ z_{7724}.(girl(z_{7724})\\ \\to\\ \\forall\\ z_{7723}.(library(z_{7723})\\ \\to\\ (give(z_{7723},z_{7724},x)\\ \\land\\ give(z_{7723},z_{7725},x))))))$"
      ],
      "text/plain": [
       "<IPython.core.display.Markdown object>"
      ]
     },
     "metadata": {},
     "output_type": "display_data"
    },
    {
     "data": {
      "text/markdown": [
       "\"53\": $\\forall\\ x.(girl(x)\\ \\to\\ \\exists\\ z_{7728}.(book(z_{7728})\\ \\land\\ \\forall\\ z_{7727}.(boy(z_{7727})\\ \\to\\ \\forall\\ z_{7726}.(library(z_{7726})\\ \\to\\ (give(z_{7726},x,z_{7728})\\ \\land\\ give(z_{7726},z_{7727},z_{7728}))))))$"
      ],
      "text/plain": [
       "<IPython.core.display.Markdown object>"
      ]
     },
     "metadata": {},
     "output_type": "display_data"
    },
    {
     "data": {
      "text/markdown": [
       "\"54\": $\\exists\\ x.(book(x)\\ \\land\\ \\forall\\ z_{7731}.(girl(z_{7731})\\ \\to\\ \\forall\\ z_{7730}.(boy(z_{7730})\\ \\to\\ \\forall\\ z_{7729}.(library(z_{7729})\\ \\to\\ (give(z_{7729},z_{7731},x)\\ \\land\\ give(z_{7729},z_{7730},x))))))$"
      ],
      "text/plain": [
       "<IPython.core.display.Markdown object>"
      ]
     },
     "metadata": {},
     "output_type": "display_data"
    },
    {
     "data": {
      "text/markdown": [
       "\"55\": $\\forall\\ x.(boy(x)\\ \\to\\ \\forall\\ z_{7734}.(girl(z_{7734})\\ \\to\\ \\forall\\ z_{7733}.(library(z_{7733})\\ \\to\\ \\exists\\ z_{7732}.(book(z_{7732})\\ \\land\\ give(z_{7733},z_{7734},z_{7732})\\ \\land\\ give(z_{7733},x,z_{7732})))))$"
      ],
      "text/plain": [
       "<IPython.core.display.Markdown object>"
      ]
     },
     "metadata": {},
     "output_type": "display_data"
    },
    {
     "data": {
      "text/markdown": [
       "\"56\": $\\forall\\ x.(girl(x)\\ \\to\\ \\forall\\ z_{7737}.(boy(z_{7737})\\ \\to\\ \\forall\\ z_{7736}.(library(z_{7736})\\ \\to\\ \\exists\\ z_{7735}.(book(z_{7735})\\ \\land\\ give(z_{7736},x,z_{7735})\\ \\land\\ give(z_{7736},z_{7737},z_{7735})))))$"
      ],
      "text/plain": [
       "<IPython.core.display.Markdown object>"
      ]
     },
     "metadata": {},
     "output_type": "display_data"
    },
    {
     "data": {
      "text/markdown": [
       "\"57\": $\\forall\\ x.(boy(x)\\ \\to\\ \\forall\\ z_{7740}.(library(z_{7740})\\ \\to\\ \\forall\\ z_{7739}.(girl(z_{7739})\\ \\to\\ \\exists\\ z_{7738}.(book(z_{7738})\\ \\land\\ give(z_{7740},z_{7739},z_{7738})\\ \\land\\ give(z_{7740},x,z_{7738})))))$"
      ],
      "text/plain": [
       "<IPython.core.display.Markdown object>"
      ]
     },
     "metadata": {},
     "output_type": "display_data"
    },
    {
     "data": {
      "text/markdown": [
       "\"58\": $\\forall\\ x.(library(x)\\ \\to\\ \\forall\\ z_{7743}.(boy(z_{7743})\\ \\to\\ \\forall\\ z_{7742}.(girl(z_{7742})\\ \\to\\ \\exists\\ z_{7741}.(book(z_{7741})\\ \\land\\ give(x,z_{7742},z_{7741})\\ \\land\\ give(x,z_{7743},z_{7741})))))$"
      ],
      "text/plain": [
       "<IPython.core.display.Markdown object>"
      ]
     },
     "metadata": {},
     "output_type": "display_data"
    },
    {
     "data": {
      "text/markdown": [
       "\"59\": $\\forall\\ x.(girl(x)\\ \\to\\ \\forall\\ z_{7746}.(library(z_{7746})\\ \\to\\ \\forall\\ z_{7745}.(boy(z_{7745})\\ \\to\\ \\exists\\ z_{7744}.(book(z_{7744})\\ \\land\\ give(z_{7746},x,z_{7744})\\ \\land\\ give(z_{7746},z_{7745},z_{7744})))))$"
      ],
      "text/plain": [
       "<IPython.core.display.Markdown object>"
      ]
     },
     "metadata": {},
     "output_type": "display_data"
    },
    {
     "data": {
      "text/markdown": [
       "\"60\": $\\forall\\ x.(library(x)\\ \\to\\ \\forall\\ z_{7749}.(girl(z_{7749})\\ \\to\\ \\forall\\ z_{7748}.(boy(z_{7748})\\ \\to\\ \\exists\\ z_{7747}.(book(z_{7747})\\ \\land\\ give(x,z_{7749},z_{7747})\\ \\land\\ give(x,z_{7748},z_{7747})))))$"
      ],
      "text/plain": [
       "<IPython.core.display.Markdown object>"
      ]
     },
     "metadata": {},
     "output_type": "display_data"
    },
    {
     "data": {
      "text/markdown": [
       "\"61\": $\\forall\\ x.(boy(x)\\ \\to\\ \\exists\\ z_{7752}.(book(z_{7752})\\ \\land\\ \\forall\\ z_{7751}.(library(z_{7751})\\ \\to\\ \\forall\\ z_{7750}.(girl(z_{7750})\\ \\to\\ (give(z_{7751},z_{7750},z_{7752})\\ \\land\\ give(z_{7751},x,z_{7752}))))))$"
      ],
      "text/plain": [
       "<IPython.core.display.Markdown object>"
      ]
     },
     "metadata": {},
     "output_type": "display_data"
    },
    {
     "data": {
      "text/markdown": [
       "\"62\": $\\exists\\ x.(book(x)\\ \\land\\ \\forall\\ z_{7755}.(boy(z_{7755})\\ \\to\\ \\forall\\ z_{7754}.(library(z_{7754})\\ \\to\\ \\forall\\ z_{7753}.(girl(z_{7753})\\ \\to\\ (give(z_{7754},z_{7753},x)\\ \\land\\ give(z_{7754},z_{7755},x))))))$"
      ],
      "text/plain": [
       "<IPython.core.display.Markdown object>"
      ]
     },
     "metadata": {},
     "output_type": "display_data"
    },
    {
     "data": {
      "text/markdown": [
       "\"63\": $\\forall\\ x.(boy(x)\\ \\to\\ \\forall\\ z_{7758}.(library(z_{7758})\\ \\to\\ \\exists\\ z_{7757}.(book(z_{7757})\\ \\land\\ \\forall\\ z_{7756}.(girl(z_{7756})\\ \\to\\ (give(z_{7758},z_{7756},z_{7757})\\ \\land\\ give(z_{7758},x,z_{7757}))))))$"
      ],
      "text/plain": [
       "<IPython.core.display.Markdown object>"
      ]
     },
     "metadata": {},
     "output_type": "display_data"
    },
    {
     "data": {
      "text/markdown": [
       "\"64\": $\\forall\\ x.(library(x)\\ \\to\\ \\forall\\ z_{7761}.(boy(z_{7761})\\ \\to\\ \\exists\\ z_{7760}.(book(z_{7760})\\ \\land\\ \\forall\\ z_{7759}.(girl(z_{7759})\\ \\to\\ (give(x,z_{7759},z_{7760})\\ \\land\\ give(x,z_{7761},z_{7760}))))))$"
      ],
      "text/plain": [
       "<IPython.core.display.Markdown object>"
      ]
     },
     "metadata": {},
     "output_type": "display_data"
    },
    {
     "data": {
      "text/markdown": [
       "\"65\": $\\exists\\ x.(book(x)\\ \\land\\ \\forall\\ z_{7764}.(library(z_{7764})\\ \\to\\ \\forall\\ z_{7763}.(boy(z_{7763})\\ \\to\\ \\forall\\ z_{7762}.(girl(z_{7762})\\ \\to\\ (give(z_{7764},z_{7762},x)\\ \\land\\ give(z_{7764},z_{7763},x))))))$"
      ],
      "text/plain": [
       "<IPython.core.display.Markdown object>"
      ]
     },
     "metadata": {},
     "output_type": "display_data"
    },
    {
     "data": {
      "text/markdown": [
       "\"66\": $\\forall\\ x.(library(x)\\ \\to\\ \\exists\\ z_{7767}.(book(z_{7767})\\ \\land\\ \\forall\\ z_{7766}.(boy(z_{7766})\\ \\to\\ \\forall\\ z_{7765}.(girl(z_{7765})\\ \\to\\ (give(x,z_{7765},z_{7767})\\ \\land\\ give(x,z_{7766},z_{7767}))))))$"
      ],
      "text/plain": [
       "<IPython.core.display.Markdown object>"
      ]
     },
     "metadata": {},
     "output_type": "display_data"
    },
    {
     "data": {
      "text/markdown": [
       "\"67\": $\\forall\\ x.(girl(x)\\ \\to\\ \\exists\\ z_{7770}.(book(z_{7770})\\ \\land\\ \\forall\\ z_{7769}.(library(z_{7769})\\ \\to\\ \\forall\\ z_{7768}.(boy(z_{7768})\\ \\to\\ (give(z_{7769},x,z_{7770})\\ \\land\\ give(z_{7769},z_{7768},z_{7770}))))))$"
      ],
      "text/plain": [
       "<IPython.core.display.Markdown object>"
      ]
     },
     "metadata": {},
     "output_type": "display_data"
    },
    {
     "data": {
      "text/markdown": [
       "\"68\": $\\exists\\ x.(book(x)\\ \\land\\ \\forall\\ z_{7773}.(girl(z_{7773})\\ \\to\\ \\forall\\ z_{7772}.(library(z_{7772})\\ \\to\\ \\forall\\ z_{7771}.(boy(z_{7771})\\ \\to\\ (give(z_{7772},z_{7773},x)\\ \\land\\ give(z_{7772},z_{7771},x))))))$"
      ],
      "text/plain": [
       "<IPython.core.display.Markdown object>"
      ]
     },
     "metadata": {},
     "output_type": "display_data"
    },
    {
     "data": {
      "text/markdown": [
       "\"69\": $\\forall\\ x.(girl(x)\\ \\to\\ \\forall\\ z_{7776}.(library(z_{7776})\\ \\to\\ \\exists\\ z_{7775}.(book(z_{7775})\\ \\land\\ \\forall\\ z_{7774}.(boy(z_{7774})\\ \\to\\ (give(z_{7776},x,z_{7775})\\ \\land\\ give(z_{7776},z_{7774},z_{7775}))))))$"
      ],
      "text/plain": [
       "<IPython.core.display.Markdown object>"
      ]
     },
     "metadata": {},
     "output_type": "display_data"
    },
    {
     "data": {
      "text/markdown": [
       "\"70\": $\\forall\\ x.(library(x)\\ \\to\\ \\forall\\ z_{7779}.(girl(z_{7779})\\ \\to\\ \\exists\\ z_{7778}.(book(z_{7778})\\ \\land\\ \\forall\\ z_{7777}.(boy(z_{7777})\\ \\to\\ (give(x,z_{7779},z_{7778})\\ \\land\\ give(x,z_{7777},z_{7778}))))))$"
      ],
      "text/plain": [
       "<IPython.core.display.Markdown object>"
      ]
     },
     "metadata": {},
     "output_type": "display_data"
    },
    {
     "data": {
      "text/markdown": [
       "\"71\": $\\exists\\ x.(book(x)\\ \\land\\ \\forall\\ z_{7782}.(library(z_{7782})\\ \\to\\ \\forall\\ z_{7781}.(girl(z_{7781})\\ \\to\\ \\forall\\ z_{7780}.(boy(z_{7780})\\ \\to\\ (give(z_{7782},z_{7781},x)\\ \\land\\ give(z_{7782},z_{7780},x))))))$"
      ],
      "text/plain": [
       "<IPython.core.display.Markdown object>"
      ]
     },
     "metadata": {},
     "output_type": "display_data"
    },
    {
     "data": {
      "text/markdown": [
       "\"72\": $\\forall\\ x.(library(x)\\ \\to\\ \\exists\\ z_{7785}.(book(z_{7785})\\ \\land\\ \\forall\\ z_{7784}.(girl(z_{7784})\\ \\to\\ \\forall\\ z_{7783}.(boy(z_{7783})\\ \\to\\ (give(x,z_{7784},z_{7785})\\ \\land\\ give(x,z_{7783},z_{7785}))))))$"
      ],
      "text/plain": [
       "<IPython.core.display.Markdown object>"
      ]
     },
     "metadata": {},
     "output_type": "display_data"
    },
    {
     "data": {
      "text/markdown": [
       "\"73\": $\\forall\\ x.(boy(x)\\ \\to\\ (\\exists\\ z_{7788}.(book(z_{7788})\\ \\land\\ \\forall\\ z_{7787}.(library(z_{7787})\\ \\to\\ \\forall\\ z_{7786}.(girl(z_{7786})\\ \\to\\ give(z_{7787},@x9,z_{7788}))))\\ \\land\\ \\exists\\ z_{7789}.(book(z_{7789})\\ \\land\\ \\forall\\ z_{7787}.(library(z_{7787})\\ \\to\\ \\forall\\ z_{7786}.(girl(z_{7786})\\ \\to\\ give(z_{7787},x,z_{7789}))))))$"
      ],
      "text/plain": [
       "<IPython.core.display.Markdown object>"
      ]
     },
     "metadata": {},
     "output_type": "display_data"
    },
    {
     "data": {
      "text/markdown": [
       "\"74\": $(\\forall\\ x.(boy(x)\\ \\to\\ \\exists\\ z_{7792}.(book(z_{7792})\\ \\land\\ \\forall\\ z_{7791}.(library(z_{7791})\\ \\to\\ \\forall\\ z_{7790}.(girl(z_{7790})\\ \\to\\ give(z_{7791},@x9,z_{7792})))))\\ \\land\\ \\forall\\ x.(boy(x)\\ \\to\\ \\exists\\ z_{7792}.(book(z_{7792})\\ \\land\\ \\forall\\ z_{7791}.(library(z_{7791})\\ \\to\\ \\forall\\ z_{7790}.(girl(z_{7790})\\ \\to\\ give(z_{7791},@x6,z_{7792}))))))$"
      ],
      "text/plain": [
       "<IPython.core.display.Markdown object>"
      ]
     },
     "metadata": {},
     "output_type": "display_data"
    },
    {
     "data": {
      "text/markdown": [
       "\"75\": $\\forall\\ x.(boy(x)\\ \\to\\ \\exists\\ z_{7796}.(book(z_{7796})\\ \\land\\ \\forall\\ z_{7794}.(library(z_{7794})\\ \\to\\ \\forall\\ z_{7793}.(girl(z_{7793})\\ \\to\\ give(z_{7794},@x9,z_{7796})))\\ \\land\\ \\forall\\ z_{7795}.(library(z_{7795})\\ \\to\\ \\forall\\ z_{7793}.(girl(z_{7793})\\ \\to\\ give(z_{7795},x,z_{7796})))))$"
      ],
      "text/plain": [
       "<IPython.core.display.Markdown object>"
      ]
     },
     "metadata": {},
     "output_type": "display_data"
    },
    {
     "data": {
      "text/markdown": [
       "\"76\": $\\exists\\ x.(book(x)\\ \\land\\ \\forall\\ z_{7800}.(boy(z_{7800})\\ \\to\\ (\\forall\\ z_{7798}.(library(z_{7798})\\ \\to\\ \\forall\\ z_{7797}.(girl(z_{7797})\\ \\to\\ give(z_{7798},@x9,x)))\\ \\land\\ \\forall\\ z_{7799}.(library(z_{7799})\\ \\to\\ \\forall\\ z_{7797}.(girl(z_{7797})\\ \\to\\ give(z_{7799},z_{7800},x))))))$"
      ],
      "text/plain": [
       "<IPython.core.display.Markdown object>"
      ]
     },
     "metadata": {},
     "output_type": "display_data"
    },
    {
     "data": {
      "text/markdown": [
       "\"77\": $(\\exists\\ x.(book(x)\\ \\land\\ \\forall\\ z_{7803}.(boy(z_{7803})\\ \\to\\ \\forall\\ z_{7802}.(library(z_{7802})\\ \\to\\ \\forall\\ z_{7801}.(girl(z_{7801})\\ \\to\\ give(z_{7802},@x9,x)))))\\ \\land\\ \\exists\\ x.(book(x)\\ \\land\\ \\forall\\ z_{7803}.(boy(z_{7803})\\ \\to\\ \\forall\\ z_{7802}.(library(z_{7802})\\ \\to\\ \\forall\\ z_{7801}.(girl(z_{7801})\\ \\to\\ give(z_{7802},@x6,x))))))$"
      ],
      "text/plain": [
       "<IPython.core.display.Markdown object>"
      ]
     },
     "metadata": {},
     "output_type": "display_data"
    },
    {
     "data": {
      "text/markdown": [
       "\"78\": $\\exists\\ x.(book(x)\\ \\land\\ \\forall\\ z_{7806}.(boy(z_{7806})\\ \\to\\ \\forall\\ z_{7805}.(library(z_{7805})\\ \\to\\ \\forall\\ z_{7804}.(girl(z_{7804})\\ \\to\\ give(z_{7805},@x9,x))))\\ \\land\\ \\forall\\ z_{7807}.(boy(z_{7807})\\ \\to\\ \\forall\\ z_{7805}.(library(z_{7805})\\ \\to\\ \\forall\\ z_{7804}.(girl(z_{7804})\\ \\to\\ give(z_{7805},@x6,x)))))$"
      ],
      "text/plain": [
       "<IPython.core.display.Markdown object>"
      ]
     },
     "metadata": {},
     "output_type": "display_data"
    },
    {
     "data": {
      "text/markdown": [
       "\"79\": $\\forall\\ x.(boy(x)\\ \\to\\ (\\forall\\ z_{7810}.(library(z_{7810})\\ \\to\\ \\exists\\ z_{7809}.(book(z_{7809})\\ \\land\\ \\forall\\ z_{7808}.(girl(z_{7808})\\ \\to\\ give(z_{7810},@x9,z_{7809}))))\\ \\land\\ \\forall\\ z_{7811}.(library(z_{7811})\\ \\to\\ \\exists\\ z_{7809}.(book(z_{7809})\\ \\land\\ \\forall\\ z_{7808}.(girl(z_{7808})\\ \\to\\ give(z_{7811},x,z_{7809}))))))$"
      ],
      "text/plain": [
       "<IPython.core.display.Markdown object>"
      ]
     },
     "metadata": {},
     "output_type": "display_data"
    },
    {
     "data": {
      "text/markdown": [
       "\"80\": $(\\forall\\ x.(boy(x)\\ \\to\\ \\forall\\ z_{7814}.(library(z_{7814})\\ \\to\\ \\exists\\ z_{7813}.(book(z_{7813})\\ \\land\\ \\forall\\ z_{7812}.(girl(z_{7812})\\ \\to\\ give(z_{7814},@x9,z_{7813})))))\\ \\land\\ \\forall\\ x.(boy(x)\\ \\to\\ \\forall\\ z_{7814}.(library(z_{7814})\\ \\to\\ \\exists\\ z_{7813}.(book(z_{7813})\\ \\land\\ \\forall\\ z_{7812}.(girl(z_{7812})\\ \\to\\ give(z_{7814},@x6,z_{7813}))))))$"
      ],
      "text/plain": [
       "<IPython.core.display.Markdown object>"
      ]
     },
     "metadata": {},
     "output_type": "display_data"
    },
    {
     "data": {
      "text/markdown": [
       "\"81\": $\\forall\\ x.(boy(x)\\ \\to\\ \\forall\\ z_{7818}.(library(z_{7818})\\ \\to\\ (\\exists\\ z_{7816}.(book(z_{7816})\\ \\land\\ \\forall\\ z_{7815}.(girl(z_{7815})\\ \\to\\ give(z_{7818},@x9,z_{7816})))\\ \\land\\ \\exists\\ z_{7817}.(book(z_{7817})\\ \\land\\ \\forall\\ z_{7815}.(girl(z_{7815})\\ \\to\\ give(z_{7818},x,z_{7817}))))))$"
      ],
      "text/plain": [
       "<IPython.core.display.Markdown object>"
      ]
     },
     "metadata": {},
     "output_type": "display_data"
    },
    {
     "data": {
      "text/markdown": [
       "\"82\": $\\forall\\ x.(library(x)\\ \\to\\ \\forall\\ z_{7822}.(boy(z_{7822})\\ \\to\\ (\\exists\\ z_{7820}.(book(z_{7820})\\ \\land\\ \\forall\\ z_{7819}.(girl(z_{7819})\\ \\to\\ give(x,@x9,z_{7820})))\\ \\land\\ \\exists\\ z_{7821}.(book(z_{7821})\\ \\land\\ \\forall\\ z_{7819}.(girl(z_{7819})\\ \\to\\ give(x,z_{7822},z_{7821}))))))$"
      ],
      "text/plain": [
       "<IPython.core.display.Markdown object>"
      ]
     },
     "metadata": {},
     "output_type": "display_data"
    },
    {
     "data": {
      "text/markdown": [
       "\"83\": $(\\forall\\ x.(library(x)\\ \\to\\ \\forall\\ z_{7825}.(boy(z_{7825})\\ \\to\\ \\exists\\ z_{7824}.(book(z_{7824})\\ \\land\\ \\forall\\ z_{7823}.(girl(z_{7823})\\ \\to\\ give(x,@x9,z_{7824})))))\\ \\land\\ \\forall\\ x.(library(x)\\ \\to\\ \\forall\\ z_{7825}.(boy(z_{7825})\\ \\to\\ \\exists\\ z_{7824}.(book(z_{7824})\\ \\land\\ \\forall\\ z_{7823}.(girl(z_{7823})\\ \\to\\ give(x,@x6,z_{7824}))))))$"
      ],
      "text/plain": [
       "<IPython.core.display.Markdown object>"
      ]
     },
     "metadata": {},
     "output_type": "display_data"
    },
    {
     "data": {
      "text/markdown": [
       "\"84\": $\\forall\\ x.(library(x)\\ \\to\\ (\\forall\\ z_{7828}.(boy(z_{7828})\\ \\to\\ \\exists\\ z_{7827}.(book(z_{7827})\\ \\land\\ \\forall\\ z_{7826}.(girl(z_{7826})\\ \\to\\ give(x,@x9,z_{7827}))))\\ \\land\\ \\forall\\ z_{7829}.(boy(z_{7829})\\ \\to\\ \\exists\\ z_{7827}.(book(z_{7827})\\ \\land\\ \\forall\\ z_{7826}.(girl(z_{7826})\\ \\to\\ give(x,@x6,z_{7827}))))))$"
      ],
      "text/plain": [
       "<IPython.core.display.Markdown object>"
      ]
     },
     "metadata": {},
     "output_type": "display_data"
    },
    {
     "data": {
      "text/markdown": [
       "\"85\": $\\forall\\ x.(boy(x)\\ \\to\\ \\exists\\ z_{7833}.(book(z_{7833})\\ \\land\\ \\forall\\ z_{7832}.(library(z_{7832})\\ \\to\\ (\\forall\\ z_{7830}.(girl(z_{7830})\\ \\to\\ give(z_{7832},@x9,z_{7833}))\\ \\land\\ \\forall\\ z_{7831}.(girl(z_{7831})\\ \\to\\ give(z_{7832},x,z_{7833}))))))$"
      ],
      "text/plain": [
       "<IPython.core.display.Markdown object>"
      ]
     },
     "metadata": {},
     "output_type": "display_data"
    },
    {
     "data": {
      "text/markdown": [
       "\"86\": $\\exists\\ x.(book(x)\\ \\land\\ \\forall\\ z_{7837}.(boy(z_{7837})\\ \\to\\ \\forall\\ z_{7836}.(library(z_{7836})\\ \\to\\ (\\forall\\ z_{7834}.(girl(z_{7834})\\ \\to\\ give(z_{7836},@x9,x))\\ \\land\\ \\forall\\ z_{7835}.(girl(z_{7835})\\ \\to\\ give(z_{7836},z_{7837},x))))))$"
      ],
      "text/plain": [
       "<IPython.core.display.Markdown object>"
      ]
     },
     "metadata": {},
     "output_type": "display_data"
    },
    {
     "data": {
      "text/markdown": [
       "\"87\": $\\forall\\ x.(boy(x)\\ \\to\\ \\forall\\ z_{7841}.(library(z_{7841})\\ \\to\\ \\exists\\ z_{7840}.(book(z_{7840})\\ \\land\\ \\forall\\ z_{7838}.(girl(z_{7838})\\ \\to\\ give(z_{7841},@x9,z_{7840}))\\ \\land\\ \\forall\\ z_{7839}.(girl(z_{7839})\\ \\to\\ give(z_{7841},x,z_{7840})))))$"
      ],
      "text/plain": [
       "<IPython.core.display.Markdown object>"
      ]
     },
     "metadata": {},
     "output_type": "display_data"
    },
    {
     "data": {
      "text/markdown": [
       "\"88\": $\\forall\\ x.(library(x)\\ \\to\\ \\forall\\ z_{7845}.(boy(z_{7845})\\ \\to\\ \\exists\\ z_{7844}.(book(z_{7844})\\ \\land\\ \\forall\\ z_{7842}.(girl(z_{7842})\\ \\to\\ give(x,@x9,z_{7844}))\\ \\land\\ \\forall\\ z_{7843}.(girl(z_{7843})\\ \\to\\ give(x,z_{7845},z_{7844})))))$"
      ],
      "text/plain": [
       "<IPython.core.display.Markdown object>"
      ]
     },
     "metadata": {},
     "output_type": "display_data"
    },
    {
     "data": {
      "text/markdown": [
       "\"89\": $\\exists\\ x.(book(x)\\ \\land\\ \\forall\\ z_{7849}.(library(z_{7849})\\ \\to\\ \\forall\\ z_{7848}.(boy(z_{7848})\\ \\to\\ (\\forall\\ z_{7846}.(girl(z_{7846})\\ \\to\\ give(z_{7849},@x9,x))\\ \\land\\ \\forall\\ z_{7847}.(girl(z_{7847})\\ \\to\\ give(z_{7849},z_{7848},x))))))$"
      ],
      "text/plain": [
       "<IPython.core.display.Markdown object>"
      ]
     },
     "metadata": {},
     "output_type": "display_data"
    },
    {
     "data": {
      "text/markdown": [
       "\"90\": $\\forall\\ x.(library(x)\\ \\to\\ \\exists\\ z_{7853}.(book(z_{7853})\\ \\land\\ \\forall\\ z_{7852}.(boy(z_{7852})\\ \\to\\ (\\forall\\ z_{7850}.(girl(z_{7850})\\ \\to\\ give(x,@x9,z_{7853}))\\ \\land\\ \\forall\\ z_{7851}.(girl(z_{7851})\\ \\to\\ give(x,z_{7852},z_{7853}))))))$"
      ],
      "text/plain": [
       "<IPython.core.display.Markdown object>"
      ]
     },
     "metadata": {},
     "output_type": "display_data"
    },
    {
     "data": {
      "text/markdown": [
       "\"91\": $(\\exists\\ x.(book(x)\\ \\land\\ \\forall\\ z_{7856}.(library(z_{7856})\\ \\to\\ \\forall\\ z_{7855}.(boy(z_{7855})\\ \\to\\ \\forall\\ z_{7854}.(girl(z_{7854})\\ \\to\\ give(z_{7856},@x9,x)))))\\ \\land\\ \\exists\\ x.(book(x)\\ \\land\\ \\forall\\ z_{7856}.(library(z_{7856})\\ \\to\\ \\forall\\ z_{7855}.(boy(z_{7855})\\ \\to\\ \\forall\\ z_{7854}.(girl(z_{7854})\\ \\to\\ give(z_{7856},@x6,x))))))$"
      ],
      "text/plain": [
       "<IPython.core.display.Markdown object>"
      ]
     },
     "metadata": {},
     "output_type": "display_data"
    },
    {
     "data": {
      "text/markdown": [
       "\"92\": $\\exists\\ x.(book(x)\\ \\land\\ \\forall\\ z_{7859}.(library(z_{7859})\\ \\to\\ \\forall\\ z_{7858}.(boy(z_{7858})\\ \\to\\ \\forall\\ z_{7857}.(girl(z_{7857})\\ \\to\\ give(z_{7859},@x9,x))))\\ \\land\\ \\forall\\ z_{7860}.(library(z_{7860})\\ \\to\\ \\forall\\ z_{7858}.(boy(z_{7858})\\ \\to\\ \\forall\\ z_{7857}.(girl(z_{7857})\\ \\to\\ give(z_{7860},@x6,x)))))$"
      ],
      "text/plain": [
       "<IPython.core.display.Markdown object>"
      ]
     },
     "metadata": {},
     "output_type": "display_data"
    },
    {
     "data": {
      "text/markdown": [
       "\"93\": $(\\forall\\ x.(library(x)\\ \\to\\ \\exists\\ z_{7863}.(book(z_{7863})\\ \\land\\ \\forall\\ z_{7862}.(boy(z_{7862})\\ \\to\\ \\forall\\ z_{7861}.(girl(z_{7861})\\ \\to\\ give(x,@x9,z_{7863})))))\\ \\land\\ \\forall\\ x.(library(x)\\ \\to\\ \\exists\\ z_{7863}.(book(z_{7863})\\ \\land\\ \\forall\\ z_{7862}.(boy(z_{7862})\\ \\to\\ \\forall\\ z_{7861}.(girl(z_{7861})\\ \\to\\ give(x,@x6,z_{7863}))))))$"
      ],
      "text/plain": [
       "<IPython.core.display.Markdown object>"
      ]
     },
     "metadata": {},
     "output_type": "display_data"
    },
    {
     "data": {
      "text/markdown": [
       "\"94\": $\\forall\\ x.(library(x)\\ \\to\\ (\\exists\\ z_{7866}.(book(z_{7866})\\ \\land\\ \\forall\\ z_{7865}.(boy(z_{7865})\\ \\to\\ \\forall\\ z_{7864}.(girl(z_{7864})\\ \\to\\ give(x,@x9,z_{7866}))))\\ \\land\\ \\exists\\ z_{7867}.(book(z_{7867})\\ \\land\\ \\forall\\ z_{7865}.(boy(z_{7865})\\ \\to\\ \\forall\\ z_{7864}.(girl(z_{7864})\\ \\to\\ give(x,@x6,z_{7867}))))))$"
      ],
      "text/plain": [
       "<IPython.core.display.Markdown object>"
      ]
     },
     "metadata": {},
     "output_type": "display_data"
    },
    {
     "data": {
      "text/markdown": [
       "\"95\": $\\exists\\ x.(book(x)\\ \\land\\ \\forall\\ z_{7871}.(library(z_{7871})\\ \\to\\ (\\forall\\ z_{7869}.(boy(z_{7869})\\ \\to\\ \\forall\\ z_{7868}.(girl(z_{7868})\\ \\to\\ give(z_{7871},@x9,x)))\\ \\land\\ \\forall\\ z_{7870}.(boy(z_{7870})\\ \\to\\ \\forall\\ z_{7868}.(girl(z_{7868})\\ \\to\\ give(z_{7871},@x6,x))))))$"
      ],
      "text/plain": [
       "<IPython.core.display.Markdown object>"
      ]
     },
     "metadata": {},
     "output_type": "display_data"
    },
    {
     "data": {
      "text/markdown": [
       "\"96\": $\\forall\\ x.(library(x)\\ \\to\\ \\exists\\ z_{7875}.(book(z_{7875})\\ \\land\\ \\forall\\ z_{7873}.(boy(z_{7873})\\ \\to\\ \\forall\\ z_{7872}.(girl(z_{7872})\\ \\to\\ give(x,@x9,z_{7875})))\\ \\land\\ \\forall\\ z_{7874}.(boy(z_{7874})\\ \\to\\ \\forall\\ z_{7872}.(girl(z_{7872})\\ \\to\\ give(x,@x6,z_{7875})))))$"
      ],
      "text/plain": [
       "<IPython.core.display.Markdown object>"
      ]
     },
     "metadata": {},
     "output_type": "display_data"
    },
    {
     "data": {
      "text/markdown": [
       "\"97\": $\\forall\\ x.(girl(x)\\ \\to\\ (\\exists\\ z_{7878}.(book(z_{7878})\\ \\land\\ \\forall\\ z_{7877}.(library(z_{7877})\\ \\to\\ \\forall\\ z_{7876}.(boy(z_{7876})\\ \\to\\ give(z_{7877},x,z_{7878}))))\\ \\land\\ \\exists\\ z_{7879}.(book(z_{7879})\\ \\land\\ \\forall\\ z_{7877}.(library(z_{7877})\\ \\to\\ \\forall\\ z_{7876}.(boy(z_{7876})\\ \\to\\ give(z_{7877},@x6,z_{7879}))))))$"
      ],
      "text/plain": [
       "<IPython.core.display.Markdown object>"
      ]
     },
     "metadata": {},
     "output_type": "display_data"
    },
    {
     "data": {
      "text/markdown": [
       "\"98\": $(\\forall\\ x.(girl(x)\\ \\to\\ \\exists\\ z_{7882}.(book(z_{7882})\\ \\land\\ \\forall\\ z_{7881}.(library(z_{7881})\\ \\to\\ \\forall\\ z_{7880}.(boy(z_{7880})\\ \\to\\ give(z_{7881},@x9,z_{7882})))))\\ \\land\\ \\forall\\ x.(girl(x)\\ \\to\\ \\exists\\ z_{7882}.(book(z_{7882})\\ \\land\\ \\forall\\ z_{7881}.(library(z_{7881})\\ \\to\\ \\forall\\ z_{7880}.(boy(z_{7880})\\ \\to\\ give(z_{7881},@x6,z_{7882}))))))$"
      ],
      "text/plain": [
       "<IPython.core.display.Markdown object>"
      ]
     },
     "metadata": {},
     "output_type": "display_data"
    },
    {
     "data": {
      "text/markdown": [
       "\"99\": $\\forall\\ x.(girl(x)\\ \\to\\ \\exists\\ z_{7886}.(book(z_{7886})\\ \\land\\ \\forall\\ z_{7884}.(library(z_{7884})\\ \\to\\ \\forall\\ z_{7883}.(boy(z_{7883})\\ \\to\\ give(z_{7884},x,z_{7886})))\\ \\land\\ \\forall\\ z_{7885}.(library(z_{7885})\\ \\to\\ \\forall\\ z_{7883}.(boy(z_{7883})\\ \\to\\ give(z_{7885},@x6,z_{7886})))))$"
      ],
      "text/plain": [
       "<IPython.core.display.Markdown object>"
      ]
     },
     "metadata": {},
     "output_type": "display_data"
    },
    {
     "data": {
      "text/markdown": [
       "\"100\": $\\exists\\ x.(book(x)\\ \\land\\ \\forall\\ z_{7890}.(girl(z_{7890})\\ \\to\\ (\\forall\\ z_{7888}.(library(z_{7888})\\ \\to\\ \\forall\\ z_{7887}.(boy(z_{7887})\\ \\to\\ give(z_{7888},z_{7890},x)))\\ \\land\\ \\forall\\ z_{7889}.(library(z_{7889})\\ \\to\\ \\forall\\ z_{7887}.(boy(z_{7887})\\ \\to\\ give(z_{7889},@x6,x))))))$"
      ],
      "text/plain": [
       "<IPython.core.display.Markdown object>"
      ]
     },
     "metadata": {},
     "output_type": "display_data"
    },
    {
     "data": {
      "text/markdown": [
       "\"101\": $(\\exists\\ x.(book(x)\\ \\land\\ \\forall\\ z_{7893}.(girl(z_{7893})\\ \\to\\ \\forall\\ z_{7892}.(library(z_{7892})\\ \\to\\ \\forall\\ z_{7891}.(boy(z_{7891})\\ \\to\\ give(z_{7892},@x9,x)))))\\ \\land\\ \\exists\\ x.(book(x)\\ \\land\\ \\forall\\ z_{7893}.(girl(z_{7893})\\ \\to\\ \\forall\\ z_{7892}.(library(z_{7892})\\ \\to\\ \\forall\\ z_{7891}.(boy(z_{7891})\\ \\to\\ give(z_{7892},@x6,x))))))$"
      ],
      "text/plain": [
       "<IPython.core.display.Markdown object>"
      ]
     },
     "metadata": {},
     "output_type": "display_data"
    },
    {
     "data": {
      "text/markdown": [
       "\"102\": $\\exists\\ x.(book(x)\\ \\land\\ \\forall\\ z_{7896}.(girl(z_{7896})\\ \\to\\ \\forall\\ z_{7895}.(library(z_{7895})\\ \\to\\ \\forall\\ z_{7894}.(boy(z_{7894})\\ \\to\\ give(z_{7895},@x9,x))))\\ \\land\\ \\forall\\ z_{7897}.(girl(z_{7897})\\ \\to\\ \\forall\\ z_{7895}.(library(z_{7895})\\ \\to\\ \\forall\\ z_{7894}.(boy(z_{7894})\\ \\to\\ give(z_{7895},@x6,x)))))$"
      ],
      "text/plain": [
       "<IPython.core.display.Markdown object>"
      ]
     },
     "metadata": {},
     "output_type": "display_data"
    },
    {
     "data": {
      "text/markdown": [
       "\"103\": $\\forall\\ x.(girl(x)\\ \\to\\ (\\forall\\ z_{7900}.(library(z_{7900})\\ \\to\\ \\exists\\ z_{7899}.(book(z_{7899})\\ \\land\\ \\forall\\ z_{7898}.(boy(z_{7898})\\ \\to\\ give(z_{7900},x,z_{7899}))))\\ \\land\\ \\forall\\ z_{7901}.(library(z_{7901})\\ \\to\\ \\exists\\ z_{7899}.(book(z_{7899})\\ \\land\\ \\forall\\ z_{7898}.(boy(z_{7898})\\ \\to\\ give(z_{7901},@x6,z_{7899}))))))$"
      ],
      "text/plain": [
       "<IPython.core.display.Markdown object>"
      ]
     },
     "metadata": {},
     "output_type": "display_data"
    },
    {
     "data": {
      "text/markdown": [
       "\"104\": $(\\forall\\ x.(girl(x)\\ \\to\\ \\forall\\ z_{7904}.(library(z_{7904})\\ \\to\\ \\exists\\ z_{7903}.(book(z_{7903})\\ \\land\\ \\forall\\ z_{7902}.(boy(z_{7902})\\ \\to\\ give(z_{7904},@x9,z_{7903})))))\\ \\land\\ \\forall\\ x.(girl(x)\\ \\to\\ \\forall\\ z_{7904}.(library(z_{7904})\\ \\to\\ \\exists\\ z_{7903}.(book(z_{7903})\\ \\land\\ \\forall\\ z_{7902}.(boy(z_{7902})\\ \\to\\ give(z_{7904},@x6,z_{7903}))))))$"
      ],
      "text/plain": [
       "<IPython.core.display.Markdown object>"
      ]
     },
     "metadata": {},
     "output_type": "display_data"
    },
    {
     "data": {
      "text/markdown": [
       "\"105\": $\\forall\\ x.(girl(x)\\ \\to\\ \\forall\\ z_{7908}.(library(z_{7908})\\ \\to\\ (\\exists\\ z_{7906}.(book(z_{7906})\\ \\land\\ \\forall\\ z_{7905}.(boy(z_{7905})\\ \\to\\ give(z_{7908},x,z_{7906})))\\ \\land\\ \\exists\\ z_{7907}.(book(z_{7907})\\ \\land\\ \\forall\\ z_{7905}.(boy(z_{7905})\\ \\to\\ give(z_{7908},@x6,z_{7907}))))))$"
      ],
      "text/plain": [
       "<IPython.core.display.Markdown object>"
      ]
     },
     "metadata": {},
     "output_type": "display_data"
    },
    {
     "data": {
      "text/markdown": [
       "\"106\": $\\forall\\ x.(library(x)\\ \\to\\ \\forall\\ z_{7912}.(girl(z_{7912})\\ \\to\\ (\\exists\\ z_{7910}.(book(z_{7910})\\ \\land\\ \\forall\\ z_{7909}.(boy(z_{7909})\\ \\to\\ give(x,z_{7912},z_{7910})))\\ \\land\\ \\exists\\ z_{7911}.(book(z_{7911})\\ \\land\\ \\forall\\ z_{7909}.(boy(z_{7909})\\ \\to\\ give(x,@x6,z_{7911}))))))$"
      ],
      "text/plain": [
       "<IPython.core.display.Markdown object>"
      ]
     },
     "metadata": {},
     "output_type": "display_data"
    },
    {
     "data": {
      "text/markdown": [
       "\"107\": $(\\forall\\ x.(library(x)\\ \\to\\ \\forall\\ z_{7915}.(girl(z_{7915})\\ \\to\\ \\exists\\ z_{7914}.(book(z_{7914})\\ \\land\\ \\forall\\ z_{7913}.(boy(z_{7913})\\ \\to\\ give(x,@x9,z_{7914})))))\\ \\land\\ \\forall\\ x.(library(x)\\ \\to\\ \\forall\\ z_{7915}.(girl(z_{7915})\\ \\to\\ \\exists\\ z_{7914}.(book(z_{7914})\\ \\land\\ \\forall\\ z_{7913}.(boy(z_{7913})\\ \\to\\ give(x,@x6,z_{7914}))))))$"
      ],
      "text/plain": [
       "<IPython.core.display.Markdown object>"
      ]
     },
     "metadata": {},
     "output_type": "display_data"
    },
    {
     "data": {
      "text/markdown": [
       "\"108\": $\\forall\\ x.(library(x)\\ \\to\\ (\\forall\\ z_{7918}.(girl(z_{7918})\\ \\to\\ \\exists\\ z_{7917}.(book(z_{7917})\\ \\land\\ \\forall\\ z_{7916}.(boy(z_{7916})\\ \\to\\ give(x,@x9,z_{7917}))))\\ \\land\\ \\forall\\ z_{7919}.(girl(z_{7919})\\ \\to\\ \\exists\\ z_{7917}.(book(z_{7917})\\ \\land\\ \\forall\\ z_{7916}.(boy(z_{7916})\\ \\to\\ give(x,@x6,z_{7917}))))))$"
      ],
      "text/plain": [
       "<IPython.core.display.Markdown object>"
      ]
     },
     "metadata": {},
     "output_type": "display_data"
    },
    {
     "data": {
      "text/markdown": [
       "\"109\": $\\forall\\ x.(girl(x)\\ \\to\\ \\exists\\ z_{7923}.(book(z_{7923})\\ \\land\\ \\forall\\ z_{7922}.(library(z_{7922})\\ \\to\\ (\\forall\\ z_{7920}.(boy(z_{7920})\\ \\to\\ give(z_{7922},x,z_{7923}))\\ \\land\\ \\forall\\ z_{7921}.(boy(z_{7921})\\ \\to\\ give(z_{7922},@x6,z_{7923}))))))$"
      ],
      "text/plain": [
       "<IPython.core.display.Markdown object>"
      ]
     },
     "metadata": {},
     "output_type": "display_data"
    },
    {
     "data": {
      "text/markdown": [
       "\"110\": $\\exists\\ x.(book(x)\\ \\land\\ \\forall\\ z_{7927}.(girl(z_{7927})\\ \\to\\ \\forall\\ z_{7926}.(library(z_{7926})\\ \\to\\ (\\forall\\ z_{7924}.(boy(z_{7924})\\ \\to\\ give(z_{7926},z_{7927},x))\\ \\land\\ \\forall\\ z_{7925}.(boy(z_{7925})\\ \\to\\ give(z_{7926},@x6,x))))))$"
      ],
      "text/plain": [
       "<IPython.core.display.Markdown object>"
      ]
     },
     "metadata": {},
     "output_type": "display_data"
    },
    {
     "data": {
      "text/markdown": [
       "\"111\": $\\forall\\ x.(girl(x)\\ \\to\\ \\forall\\ z_{7931}.(library(z_{7931})\\ \\to\\ \\exists\\ z_{7930}.(book(z_{7930})\\ \\land\\ \\forall\\ z_{7928}.(boy(z_{7928})\\ \\to\\ give(z_{7931},x,z_{7930}))\\ \\land\\ \\forall\\ z_{7929}.(boy(z_{7929})\\ \\to\\ give(z_{7931},@x6,z_{7930})))))$"
      ],
      "text/plain": [
       "<IPython.core.display.Markdown object>"
      ]
     },
     "metadata": {},
     "output_type": "display_data"
    },
    {
     "data": {
      "text/markdown": [
       "\"112\": $\\forall\\ x.(library(x)\\ \\to\\ \\forall\\ z_{7935}.(girl(z_{7935})\\ \\to\\ \\exists\\ z_{7934}.(book(z_{7934})\\ \\land\\ \\forall\\ z_{7932}.(boy(z_{7932})\\ \\to\\ give(x,z_{7935},z_{7934}))\\ \\land\\ \\forall\\ z_{7933}.(boy(z_{7933})\\ \\to\\ give(x,@x6,z_{7934})))))$"
      ],
      "text/plain": [
       "<IPython.core.display.Markdown object>"
      ]
     },
     "metadata": {},
     "output_type": "display_data"
    },
    {
     "data": {
      "text/markdown": [
       "\"113\": $\\exists\\ x.(book(x)\\ \\land\\ \\forall\\ z_{7939}.(library(z_{7939})\\ \\to\\ \\forall\\ z_{7938}.(girl(z_{7938})\\ \\to\\ (\\forall\\ z_{7936}.(boy(z_{7936})\\ \\to\\ give(z_{7939},z_{7938},x))\\ \\land\\ \\forall\\ z_{7937}.(boy(z_{7937})\\ \\to\\ give(z_{7939},@x6,x))))))$"
      ],
      "text/plain": [
       "<IPython.core.display.Markdown object>"
      ]
     },
     "metadata": {},
     "output_type": "display_data"
    },
    {
     "data": {
      "text/markdown": [
       "\"114\": $\\forall\\ x.(library(x)\\ \\to\\ \\exists\\ z_{7943}.(book(z_{7943})\\ \\land\\ \\forall\\ z_{7942}.(girl(z_{7942})\\ \\to\\ (\\forall\\ z_{7940}.(boy(z_{7940})\\ \\to\\ give(x,z_{7942},z_{7943}))\\ \\land\\ \\forall\\ z_{7941}.(boy(z_{7941})\\ \\to\\ give(x,@x6,z_{7943}))))))$"
      ],
      "text/plain": [
       "<IPython.core.display.Markdown object>"
      ]
     },
     "metadata": {},
     "output_type": "display_data"
    },
    {
     "data": {
      "text/markdown": [
       "\"115\": $(\\exists\\ x.(book(x)\\ \\land\\ \\forall\\ z_{7946}.(library(z_{7946})\\ \\to\\ \\forall\\ z_{7945}.(girl(z_{7945})\\ \\to\\ \\forall\\ z_{7944}.(boy(z_{7944})\\ \\to\\ give(z_{7946},@x9,x)))))\\ \\land\\ \\exists\\ x.(book(x)\\ \\land\\ \\forall\\ z_{7946}.(library(z_{7946})\\ \\to\\ \\forall\\ z_{7945}.(girl(z_{7945})\\ \\to\\ \\forall\\ z_{7944}.(boy(z_{7944})\\ \\to\\ give(z_{7946},@x6,x))))))$"
      ],
      "text/plain": [
       "<IPython.core.display.Markdown object>"
      ]
     },
     "metadata": {},
     "output_type": "display_data"
    },
    {
     "data": {
      "text/markdown": [
       "\"116\": $\\exists\\ x.(book(x)\\ \\land\\ \\forall\\ z_{7949}.(library(z_{7949})\\ \\to\\ \\forall\\ z_{7948}.(girl(z_{7948})\\ \\to\\ \\forall\\ z_{7947}.(boy(z_{7947})\\ \\to\\ give(z_{7949},@x9,x))))\\ \\land\\ \\forall\\ z_{7950}.(library(z_{7950})\\ \\to\\ \\forall\\ z_{7948}.(girl(z_{7948})\\ \\to\\ \\forall\\ z_{7947}.(boy(z_{7947})\\ \\to\\ give(z_{7950},@x6,x)))))$"
      ],
      "text/plain": [
       "<IPython.core.display.Markdown object>"
      ]
     },
     "metadata": {},
     "output_type": "display_data"
    },
    {
     "data": {
      "text/markdown": [
       "\"117\": $(\\forall\\ x.(library(x)\\ \\to\\ \\exists\\ z_{7953}.(book(z_{7953})\\ \\land\\ \\forall\\ z_{7952}.(girl(z_{7952})\\ \\to\\ \\forall\\ z_{7951}.(boy(z_{7951})\\ \\to\\ give(x,@x9,z_{7953})))))\\ \\land\\ \\forall\\ x.(library(x)\\ \\to\\ \\exists\\ z_{7953}.(book(z_{7953})\\ \\land\\ \\forall\\ z_{7952}.(girl(z_{7952})\\ \\to\\ \\forall\\ z_{7951}.(boy(z_{7951})\\ \\to\\ give(x,@x6,z_{7953}))))))$"
      ],
      "text/plain": [
       "<IPython.core.display.Markdown object>"
      ]
     },
     "metadata": {},
     "output_type": "display_data"
    },
    {
     "data": {
      "text/markdown": [
       "\"118\": $\\forall\\ x.(library(x)\\ \\to\\ (\\exists\\ z_{7956}.(book(z_{7956})\\ \\land\\ \\forall\\ z_{7955}.(girl(z_{7955})\\ \\to\\ \\forall\\ z_{7954}.(boy(z_{7954})\\ \\to\\ give(x,@x9,z_{7956}))))\\ \\land\\ \\exists\\ z_{7957}.(book(z_{7957})\\ \\land\\ \\forall\\ z_{7955}.(girl(z_{7955})\\ \\to\\ \\forall\\ z_{7954}.(boy(z_{7954})\\ \\to\\ give(x,@x6,z_{7957}))))))$"
      ],
      "text/plain": [
       "<IPython.core.display.Markdown object>"
      ]
     },
     "metadata": {},
     "output_type": "display_data"
    },
    {
     "data": {
      "text/markdown": [
       "\"119\": $\\exists\\ x.(book(x)\\ \\land\\ \\forall\\ z_{7961}.(library(z_{7961})\\ \\to\\ (\\forall\\ z_{7959}.(girl(z_{7959})\\ \\to\\ \\forall\\ z_{7958}.(boy(z_{7958})\\ \\to\\ give(z_{7961},@x9,x)))\\ \\land\\ \\forall\\ z_{7960}.(girl(z_{7960})\\ \\to\\ \\forall\\ z_{7958}.(boy(z_{7958})\\ \\to\\ give(z_{7961},@x6,x))))))$"
      ],
      "text/plain": [
       "<IPython.core.display.Markdown object>"
      ]
     },
     "metadata": {},
     "output_type": "display_data"
    },
    {
     "data": {
      "text/markdown": [
       "\"120\": $\\forall\\ x.(library(x)\\ \\to\\ \\exists\\ z_{7965}.(book(z_{7965})\\ \\land\\ \\forall\\ z_{7963}.(girl(z_{7963})\\ \\to\\ \\forall\\ z_{7962}.(boy(z_{7962})\\ \\to\\ give(x,@x9,z_{7965})))\\ \\land\\ \\forall\\ z_{7964}.(girl(z_{7964})\\ \\to\\ \\forall\\ z_{7962}.(boy(z_{7962})\\ \\to\\ give(x,@x6,z_{7965})))))$"
      ],
      "text/plain": [
       "<IPython.core.display.Markdown object>"
      ]
     },
     "metadata": {},
     "output_type": "display_data"
    }
   ],
   "source": [
    "sentences = [\n",
    "    'every library gives a book to every girl and every boy',\n",
    "]\n",
    "\n",
    "fcfg_storage_answers_2 = r\"\"\"\n",
    "### Correct the conjunction rule here. Replace xxx and ??? with the correct answer:\n",
    "#NP[NUM=xxx, SEM=[CORE=<\\P.P(@x)>, STORE=((<bo(???, @x)>)+?b1+?b2)]] -> NP[NUM=?num1, SEM=[CORE=?n1, STORE=?b1]] CONJ NP[NUM=?num2, SEM=[CORE=?n2, STORE=?b2]]\n",
    "NP[NUM=?n, SEM=[CORE=<\\P.P(@x)>, STORE=((<bo(\\P.(?n1(P) & ?n2(P)), @x)>)+?b1+?b2)]] -> NP[NUM=?num1, SEM=[CORE=?n1, STORE=?b1]] CONJ NP[NUM=?num2, SEM=[CORE=?n2, STORE=?b2]]\n",
    "CONJ -> 'and'  \n",
    "\"\"\"\n",
    "\n",
    "\n",
    "fcfg_storage = fcfg_storage_base + fcfg_storage_np + fcfg_storage_lexicon + fcfg_storage_answers_1 + fcfg_storage_answers_2\n",
    "cs_syntax = FeatureGrammar.fromstring(fcfg_storage)\n",
    "sents_reps = sem_parser(sentences, cs_syntax, verbose=False, is_cs=True)\n",
    "\n",
    "for i, (sent, semreps) in enumerate(sents_reps.items()):\n",
    "    counter = 0\n",
    "    print(f\"{i+1}. {sent}\")\n",
    "    for semrep in semreps:\n",
    "        counter += 1\n",
    "        display_translation(counter, semrep)"
   ]
  },
  {
   "cell_type": "markdown",
   "metadata": {},
   "source": [
    "## Marks\n",
    "\n",
    "This part of the assignment has a total of 14 marks."
   ]
  }
 ],
 "metadata": {
  "kernelspec": {
   "display_name": "Python 3",
   "language": "python",
   "name": "python3"
  },
  "language_info": {
   "codemirror_mode": {
    "name": "ipython",
    "version": 3
   },
   "file_extension": ".py",
   "mimetype": "text/x-python",
   "name": "python",
   "nbconvert_exporter": "python",
   "pygments_lexer": "ipython3",
   "version": "3.7.4"
  }
 },
 "nbformat": 4,
 "nbformat_minor": 1
}
