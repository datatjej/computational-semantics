{
 "cells": [
  {
   "cell_type": "markdown",
   "metadata": {},
   "source": [
    "# Problem Set 2 - Part 1: Ambiguity and Inference"
   ]
  },
  {
   "cell_type": "markdown",
   "metadata": {},
   "source": [
    "The lab is an exploration and learning exercise to be done in a group and also in discussion with the teachers and other students.\n",
    "\n",
    "Before starting, please read the following instructions on [how to work on group assignments](https://github.com/sdobnik/computational-semantics/blob/master/README.md).\n",
    "\n",
    "\n",
    "### Pre-requisite knowledge\n",
    "\n",
    "Understanding of `problem-set-1`:\n",
    "- First order logic\n",
    "- Lambda calculus\n",
    "- Feature unification context free grammar\n",
    "\n",
    "### Instructions\n",
    "\n",
    "- Follow the instructions step-by-step.\n",
    "- Run all cells before modifying them to see how the code works.\n",
    "- The tasks will ask you to modify cells in this notebook.\n",
    "- Modify the cell to provide your answer and run a test before submiting the file."
   ]
  },
  {
   "cell_type": "code",
   "execution_count": 1,
   "metadata": {},
   "outputs": [],
   "source": [
    "# This task requires NLTK and Jupyter Notebook (IPython package).\n",
    "\n",
    "import nltk\n",
    "from nltk.grammar import FeatureGrammar\n",
    "from nltk.sem import cooper_storage as cs\n",
    "\n",
    "from utils import display_latex, display_translation, display_tree, display, Markdown\n",
    "from copy import deepcopy\n",
    "\n",
    "read_expr = nltk.sem.Expression.fromstring"
   ]
  },
  {
   "cell_type": "markdown",
   "metadata": {},
   "source": [
    "Run the following cell to import functions and syntax specific to this problem set:"
   ]
  },
  {
   "cell_type": "code",
   "execution_count": 2,
   "metadata": {},
   "outputs": [],
   "source": [
    "from utils2 import sem_parser, evaluate_sentences, syntax, syntax_notv"
   ]
  },
  {
   "cell_type": "markdown",
   "metadata": {},
   "source": [
    "### 1. Ambiguity in quantifiers [6 marks in total]\n",
    "\n",
    "Follow the descriptions and instructions in sections **(1.1)**, **(1.2)** and **(1.3)** to learn about the code and the examples. Then answer the questions in section **(1.4)**."
   ]
  },
  {
   "cell_type": "markdown",
   "metadata": {},
   "source": [
    "#### 1.1. FCFG with a SEM feature\n",
    "\n",
    "You should already be familar with FCFG with a SEM feature. \n",
    "Use the code below to parse the following sentences to their semantic representations:\n",
    "\n",
    "1. every dog bites a bone\n",
    "2. a man gives a bone to every dog\n",
    "3. Russia gives Moscow to Napoleon"
   ]
  },
  {
   "cell_type": "code",
   "execution_count": 3,
   "metadata": {},
   "outputs": [
    {
     "data": {
      "text/markdown": [
       "\"1. all dogs bite a bone\": $\\forall\\ x.(dog(x)\\ \\rightarrow\\ \\exists\\ z_{1}.(bone(z_{1})\\ \\land\\ bite(x,z_{1})))$"
      ],
      "text/plain": [
       "<IPython.core.display.Markdown object>"
      ]
     },
     "metadata": {},
     "output_type": "display_data"
    },
    {
     "data": {
      "text/markdown": [
       "\"2. a man gives a bone to every dog\": $\\exists\\ x.(man(x)\\ \\land\\ \\forall\\ z_{3}.(dog(z_{3})\\ \\rightarrow\\ \\exists\\ z_{2}.(bone(z_{2})\\ \\land\\ give(x,z_{2},z_{3}))))$"
      ],
      "text/plain": [
       "<IPython.core.display.Markdown object>"
      ]
     },
     "metadata": {},
     "output_type": "display_data"
    },
    {
     "data": {
      "text/markdown": [
       "\"3. Russia gives Moscow to Napoleon\": $give(russia,moscow,napoleon)$"
      ],
      "text/plain": [
       "<IPython.core.display.Markdown object>"
      ]
     },
     "metadata": {},
     "output_type": "display_data"
    }
   ],
   "source": [
    "sentences = [\n",
    "    'all dogs bite a bone',\n",
    "    'a man gives a bone to every dog',\n",
    "    'Russia gives Moscow to Napoleon',\n",
    "]\n",
    "\n",
    "# if you want to see the parse tree change `verbose` to True:\n",
    "sents_reps = sem_parser(sentences, syntax, verbose=False)\n",
    "\n",
    "for i, (sent, semreps) in enumerate(sents_reps.items()):\n",
    "    for semrep in semreps:\n",
    "        display_translation(f\"{i+1}. {sent}\", semrep)"
   ]
  },
  {
   "cell_type": "markdown",
   "metadata": {},
   "source": [
    "#### 1.2. Evaluate sentences in a model\n",
    "\n",
    "We have a world model with entities and sets to represent their properties and relationships. \n",
    "Run the code below to evaluate the sentence representations from the previous section in the world model defined below."
   ]
  },
  {
   "cell_type": "code",
   "execution_count": 4,
   "metadata": {},
   "outputs": [
    {
     "name": "stdout",
     "output_type": "stream",
     "text": [
      "1. all dogs bite a bone:\n"
     ]
    },
    {
     "data": {
      "text/markdown": [
       "\"True\": $\\forall\\ x.(dog(x)\\ \\rightarrow\\ \\exists\\ z_{4}.(bone(z_{4})\\ \\land\\ bite(x,z_{4})))$"
      ],
      "text/plain": [
       "<IPython.core.display.Markdown object>"
      ]
     },
     "metadata": {},
     "output_type": "display_data"
    },
    {
     "name": "stdout",
     "output_type": "stream",
     "text": [
      "2. a man gives a bone to every dog:\n"
     ]
    },
    {
     "data": {
      "text/markdown": [
       "\"True\": $\\exists\\ x.(man(x)\\ \\land\\ \\forall\\ z_{6}.(dog(z_{6})\\ \\rightarrow\\ \\exists\\ z_{5}.(bone(z_{5})\\ \\land\\ give(x,z_{5},z_{6}))))$"
      ],
      "text/plain": [
       "<IPython.core.display.Markdown object>"
      ]
     },
     "metadata": {},
     "output_type": "display_data"
    },
    {
     "name": "stdout",
     "output_type": "stream",
     "text": [
      "3. Russia gives Moscow to Napoleon:\n"
     ]
    },
    {
     "data": {
      "text/markdown": [
       "\"True\": $give(russia,moscow,napoleon)$"
      ],
      "text/plain": [
       "<IPython.core.display.Markdown object>"
      ]
     },
     "metadata": {},
     "output_type": "display_data"
    }
   ],
   "source": [
    "# a world model:\n",
    "entities = \"\"\"\n",
    "russia    => c1\n",
    "moscow    => c2\n",
    "napoleon  => m2\n",
    "\"\"\"\n",
    "unaries = \"\"\"\n",
    "dog  => {d1, d2, d3} \n",
    "man  => {m1, m2} \n",
    "bone => {bn1, bn2} \n",
    "\"\"\"\n",
    "binaries = \"\"\"\n",
    "bite => {(d1, bn1), (d2, bn2), (d3, bn2)} \n",
    "\"\"\"\n",
    "ternaries = \"\"\"\n",
    "give => {(c1, c2, m2), (m1, bn1, d1), (m1, bn2, d2), (m1, bn2, d3)} \n",
    "\"\"\"\n",
    "\n",
    "# world is a collection of entities and relations:\n",
    "world = entities + unaries + binaries + ternaries\n",
    "\n",
    "# parse the sentences:\n",
    "sents_reps = sem_parser(sentences, syntax, verbose=False)\n",
    "# evaluate them:\n",
    "sents_reps_vals = evaluate_sentences(sents_reps, world)\n",
    "\n",
    "# print all readings\n",
    "for i, (sent, semreps_vals) in enumerate(sents_reps_vals.items()):\n",
    "    for semrep, val in semreps_vals.items():\n",
    "        print(f\"{i+1}. {sent}:\")\n",
    "        display_translation(val, semrep)"
   ]
  },
  {
   "cell_type": "markdown",
   "metadata": {},
   "source": [
    "#### 1.3. Exploiting syntactic ambiguity to represent semantic ambiguity"
   ]
  },
  {
   "cell_type": "markdown",
   "metadata": {},
   "source": [
    "Ditransitive verbs (`DTV`) have two objects. Use the code below to inspect the lexical representation of `give(s)` in the grammar. When constructing a `VP`, we take the semantic representation of a di-trasitive verb `DTV`as a function and apply it on both direct and indirect objects: `vp = ?dtv(?obj,?pp)`. The lambda bound variables `Y` and `X` are substituted with `?obj` and `?pp`."
   ]
  },
  {
   "cell_type": "code",
   "execution_count": 5,
   "metadata": {},
   "outputs": [
    {
     "name": "stdout",
     "output_type": "stream",
     "text": [
      "DTV[NUM='pl', SEM=<\\Y X x.X(\\z.Y(\\y.give(x,y,z)))>, TNS='pres'] -> 'give'\n",
      "VP[NUM=?n, SEM=<?v(?obj,?pp)>] -> DTV[NUM=?n, SEM=?v] NP[SEM=?obj] PP[SEM=?pp, +TO]\n"
     ]
    }
   ],
   "source": [
    "print(syntax.productions()[-1])\n",
    "print(syntax.productions()[-5])"
   ]
  },
  {
   "cell_type": "markdown",
   "metadata": {},
   "source": [
    "In the lecture we discussed that without a mechanism such as Cooper storage we would only get one scoping of quanitifers.\n",
    "\n",
    "One trick to ensure a different scoping for `give(s)` is  to create a parallel syntactic rule that contains a different internal order of composition of arguments in the `SEM`feature as follows: \n",
    "\n",
    "For example, we can change the compositional function from:\n",
    "$$\\lambda Y\\ X\\ x.X(\\lambda z.Y(\\lambda y.give(x,y,z)))$$\n",
    "to:\n",
    "$$\\lambda Y\\ X\\ x.Y(\\lambda y.X(\\lambda z.give(x,y,z)))$$\n",
    "\n",
    "As we now have two rules for `DTV` this will introduce syntactic ambiguity when a parses encouters words such `give(s)`.\n",
    "The following code adds two alternative rules to those in the previous cell. Run the code to see the parse results for sentences and their evaluation in the model."
   ]
  },
  {
   "cell_type": "code",
   "execution_count": 6,
   "metadata": {},
   "outputs": [
    {
     "name": "stdout",
     "output_type": "stream",
     "text": [
      "1. all dogs bite a bone:\n"
     ]
    },
    {
     "data": {
      "text/markdown": [
       "\"True\": $\\forall\\ x.(dog(x)\\ \\rightarrow\\ \\exists\\ z_{7}.(bone(z_{7})\\ \\land\\ bite(x,z_{7})))$"
      ],
      "text/plain": [
       "<IPython.core.display.Markdown object>"
      ]
     },
     "metadata": {},
     "output_type": "display_data"
    },
    {
     "name": "stdout",
     "output_type": "stream",
     "text": [
      "2. a man gives a bone to every dog:\n"
     ]
    },
    {
     "data": {
      "text/markdown": [
       "\"True\": $\\exists\\ x.(man(x)\\ \\land\\ \\forall\\ z_{11}.(dog(z_{11})\\ \\rightarrow\\ \\exists\\ z_{10}.(bone(z_{10})\\ \\land\\ give(x,z_{10},z_{11}))))$"
      ],
      "text/plain": [
       "<IPython.core.display.Markdown object>"
      ]
     },
     "metadata": {},
     "output_type": "display_data"
    },
    {
     "name": "stdout",
     "output_type": "stream",
     "text": [
      "2. a man gives a bone to every dog:\n"
     ]
    },
    {
     "data": {
      "text/markdown": [
       "\"False\": $\\exists\\ x.(man(x)\\ \\land\\ \\exists\\ z_{8}.(bone(z_{8})\\ \\land\\ \\forall\\ z_{9}.(dog(z_{9})\\ \\rightarrow\\ give(x,z_{8},z_{9}))))$"
      ],
      "text/plain": [
       "<IPython.core.display.Markdown object>"
      ]
     },
     "metadata": {},
     "output_type": "display_data"
    },
    {
     "name": "stdout",
     "output_type": "stream",
     "text": [
      "3. Russia gives Moscow to Napoleon:\n"
     ]
    },
    {
     "data": {
      "text/markdown": [
       "\"True\": $give(russia,moscow,napoleon)$"
      ],
      "text/plain": [
       "<IPython.core.display.Markdown object>"
      ]
     },
     "metadata": {},
     "output_type": "display_data"
    }
   ],
   "source": [
    "fcfg_string_give = r\"\"\"\n",
    "DTV[NUM=sg,SEM=<\\Y X x.Y(\\y.X(\\z.give(x,y,z)))>,TNS=pres] -> 'gives'\n",
    "DTV[NUM=pl,SEM=<\\Y X x.Y(\\y.X(\\z.give(x,y,z)))>,TNS=pres] -> 'give'\n",
    "\"\"\"\n",
    "\n",
    "# this is going to add new rules to the syntax:\n",
    "new_syntax = FeatureGrammar(\n",
    "    syntax.start(),\n",
    "    syntax.productions() + FeatureGrammar.fromstring(fcfg_string_give).productions()\n",
    ")\n",
    "\n",
    "# parse the sentences with new syntax:\n",
    "sents_reps = sem_parser(sentences, new_syntax, verbose=False)\n",
    "# evaluate them:\n",
    "sents_reps_vals = evaluate_sentences(sents_reps, world)\n",
    "\n",
    "for i, (sent, semreps_vals) in enumerate(sents_reps_vals.items()):\n",
    "    for semrep, val in semreps_vals.items():\n",
    "        print(f\"{i+1}. {sent}:\")\n",
    "        display_translation(val, semrep) "
   ]
  },
  {
   "cell_type": "markdown",
   "metadata": {},
   "source": [
    "#### 1.4. Questions"
   ]
  },
  {
   "cell_type": "markdown",
   "metadata": {},
   "source": [
    "**1a.** Because the word `give`can now be expanded following two rules we get two extra parse trees for the second and and the third sentence. Answer the following questions: **[2 marks]**\n",
    "   - Why sentence (2) with `give` has two different readings but sentence (3) has only one reading?\n",
    "   - What is the difference between the two representations of sentence (2)?"
   ]
  },
  {
   "cell_type": "raw",
   "metadata": {},
   "source": [
    "*Write your answers here*\n",
    "\n",
    "Sentence 2 has two different readings since it can be interpreted has a man giving the same bone to every dog, or a man giving different bones to every dog. Sentence 3 has no unaries like bone, only the single entities Moscow and Napoelon, which leaves no room for ambiguity. "
   ]
  },
  {
   "cell_type": "markdown",
   "metadata": {},
   "source": [
    "**1b.** When you evalute sentence (2) in the model above, one reading is True and the other is False. Change the part of the model marked with `???` so that all readings all sentences will be True. **[1 marks]** \n",
    "\n",
    "Explain why the readings are true. **[+1 mark]**"
   ]
  },
  {
   "cell_type": "code",
   "execution_count": 7,
   "metadata": {},
   "outputs": [
    {
     "name": "stdout",
     "output_type": "stream",
     "text": [
      "all dogs bite a bone:\n"
     ]
    },
    {
     "data": {
      "text/markdown": [
       "\"True\": $\\forall\\ x.(dog(x)\\ \\rightarrow\\ \\exists\\ z_{7}.(bone(z_{7})\\ \\land\\ bite(x,z_{7})))$"
      ],
      "text/plain": [
       "<IPython.core.display.Markdown object>"
      ]
     },
     "metadata": {},
     "output_type": "display_data"
    },
    {
     "name": "stdout",
     "output_type": "stream",
     "text": [
      "a man gives a bone to every dog:\n"
     ]
    },
    {
     "data": {
      "text/markdown": [
       "\"True\": $\\exists\\ x.(man(x)\\ \\land\\ \\forall\\ z_{11}.(dog(z_{11})\\ \\rightarrow\\ \\exists\\ z_{10}.(bone(z_{10})\\ \\land\\ give(x,z_{10},z_{11}))))$"
      ],
      "text/plain": [
       "<IPython.core.display.Markdown object>"
      ]
     },
     "metadata": {},
     "output_type": "display_data"
    },
    {
     "name": "stdout",
     "output_type": "stream",
     "text": [
      "a man gives a bone to every dog:\n"
     ]
    },
    {
     "data": {
      "text/markdown": [
       "\"True\": $\\exists\\ x.(man(x)\\ \\land\\ \\exists\\ z_{8}.(bone(z_{8})\\ \\land\\ \\forall\\ z_{9}.(dog(z_{9})\\ \\rightarrow\\ give(x,z_{8},z_{9}))))$"
      ],
      "text/plain": [
       "<IPython.core.display.Markdown object>"
      ]
     },
     "metadata": {},
     "output_type": "display_data"
    },
    {
     "name": "stdout",
     "output_type": "stream",
     "text": [
      "Russia gives Moscow to Napoleon:\n"
     ]
    },
    {
     "data": {
      "text/markdown": [
       "\"True\": $give(russia,moscow,napoleon)$"
      ],
      "text/plain": [
       "<IPython.core.display.Markdown object>"
      ]
     },
     "metadata": {},
     "output_type": "display_data"
    }
   ],
   "source": [
    "ternaries = \"\"\"\n",
    "give => {(c1, c2, m2), (m1, bn1, d1), (m1, bn2, d2), (m1, bn2, d3), (m1, bn1, d1), (m1, bn1, d2), (m1, bn1, d3) }\n",
    "\"\"\"\n",
    "\n",
    "# new world\n",
    "world = entities + unaries + binaries + ternaries\n",
    "\n",
    "# evaluate them:\n",
    "sents_reps_vals = evaluate_sentences(sents_reps, world)\n",
    "\n",
    "for sent, semreps_vals in sents_reps_vals.items():\n",
    "    for semrep, val in semreps_vals.items():\n",
    "        print(f\"{sent}:\")\n",
    "        display_translation(val, semrep)"
   ]
  },
  {
   "cell_type": "raw",
   "metadata": {},
   "source": [
    "** Write explanation here **\n",
    "\n",
    "Both readings of sentence 2 are now true since there exists a bone (b1) that is given to every dog."
   ]
  },
  {
   "cell_type": "markdown",
   "metadata": {},
   "source": [
    "**1c.** Consider a world with a `bite` relation as shown below.\n",
    "Write *another* representation of the sentence \"all dogs bite a bone\" \n",
    "that is different from the one you get above and that is *True* in this model. \n",
    "Write your answer in `???`. **[1 mark]** "
   ]
  },
  {
   "cell_type": "code",
   "execution_count": 8,
   "metadata": {},
   "outputs": [
    {
     "name": "stdout",
     "output_type": "stream",
     "text": [
      "1. all dogs bite a bone:\n"
     ]
    },
    {
     "data": {
      "text/markdown": [
       "\"True\": $\\forall\\ x.(dog(x)\\ \\rightarrow\\ \\exists\\ z_{7}.(bone(z_{7})\\ \\land\\ bite(x,z_{7})))$"
      ],
      "text/plain": [
       "<IPython.core.display.Markdown object>"
      ]
     },
     "metadata": {},
     "output_type": "display_data"
    },
    {
     "name": "stdout",
     "output_type": "stream",
     "text": [
      "1. all dogs bite a bone:\n"
     ]
    },
    {
     "data": {
      "text/markdown": [
       "\"True\": $\\exists\\ x.(bone(x)\\ \\land\\ \\forall\\ y.(dog(y)\\ \\rightarrow\\ bite(y,x)))$"
      ],
      "text/plain": [
       "<IPython.core.display.Markdown object>"
      ]
     },
     "metadata": {},
     "output_type": "display_data"
    }
   ],
   "source": [
    "binaries = \"\"\"\n",
    "bite => {(d1, bn1), (d2, bn1), (d3, bn1)} \n",
    "\"\"\"\n",
    "\n",
    "# new world\n",
    "world = entities + unaries + binaries + ternaries\n",
    "\n",
    "sents_reps_copy = deepcopy(sents_reps)\n",
    "sents_reps_copy['all dogs bite a bone'].append(\n",
    "    read_expr(r\"exists x.(bone(x) & all y.(dog(y) -> bite(y,x)))\")\n",
    ")\n",
    "\n",
    "# evaluate them:\n",
    "sents_reps_vals_copy = evaluate_sentences(sents_reps_copy, world)\n",
    "\n",
    "for i, (sent, semreps_vals) in enumerate(sents_reps_vals_copy.items()):\n",
    "    if sent == 'all dogs bite a bone':\n",
    "        for semrep, val in semreps_vals.items():\n",
    "            print(f\"{i+1}. {sent}:\")\n",
    "            display_translation(val, semrep)"
   ]
  },
  {
   "cell_type": "markdown",
   "metadata": {},
   "source": [
    "**1d.** Consider a new set of tuples representing the `give` predicate below.\n",
    "Write *another* representation for \"a man gives a bone to every dog\"\n",
    "that is *True* in the updated model.\n",
    "Write your answer in `???`. **[1 mark]** "
   ]
  },
  {
   "cell_type": "code",
   "execution_count": 15,
   "metadata": {},
   "outputs": [
    {
     "ename": "KeyError",
     "evalue": "'a man gives a bone to every dog'",
     "output_type": "error",
     "traceback": [
      "\u001b[0;31m---------------------------------------------------------------------------\u001b[0m",
      "\u001b[0;31mKeyError\u001b[0m                                  Traceback (most recent call last)",
      "\u001b[0;32m<ipython-input-15-a18205e1efc3>\u001b[0m in \u001b[0;36m<module>\u001b[0;34m\u001b[0m\n\u001b[1;32m      7\u001b[0m \u001b[0;34m\u001b[0m\u001b[0m\n\u001b[1;32m      8\u001b[0m \u001b[0msents_reps_copy\u001b[0m \u001b[0;34m=\u001b[0m \u001b[0mdeepcopy\u001b[0m\u001b[0;34m(\u001b[0m\u001b[0msents_reps\u001b[0m\u001b[0;34m)\u001b[0m\u001b[0;34m\u001b[0m\u001b[0;34m\u001b[0m\u001b[0m\n\u001b[0;32m----> 9\u001b[0;31m sents_reps_copy['a man gives a bone to every dog'].append(\n\u001b[0m\u001b[1;32m     10\u001b[0m     \u001b[0mread_expr\u001b[0m\u001b[0;34m(\u001b[0m\u001b[0;34mr\"exists x.(man(x) & exists z.(bone(z) -> all y.(dog(y) -> give(x,y,z))))\"\u001b[0m\u001b[0;34m)\u001b[0m\u001b[0;34m\u001b[0m\u001b[0;34m\u001b[0m\u001b[0m\n\u001b[1;32m     11\u001b[0m )\n",
      "\u001b[0;31mKeyError\u001b[0m: 'a man gives a bone to every dog'"
     ]
    }
   ],
   "source": [
    "ternaries = \"\"\"\n",
    "give => {(c1, c2, m2), (m2, bn1, d1), (m1, bn1, d2), (m1, bn1, d3)}\n",
    "\"\"\"\n",
    "\n",
    "# new world\n",
    "world = entities + unaries + binaries + ternaries\n",
    "\n",
    "sents_reps_copy = deepcopy(sents_reps)\n",
    "sents_reps_copy['a man gives a bone to every dog'].append(\n",
    "    read_expr(r\"exists x.(man(x) & exists z.(bone(z) -> all y.(dog(y) -> give(x,y,z))))\")\n",
    ")\n",
    "\n",
    "# evaluate them:\n",
    "sents_reps_vals_copy = evaluate_sentences(sents_reps_copy, world)\n",
    "\n",
    "for i, (sent, semreps_vals) in enumerate(sents_reps_vals_copy.items()):\n",
    "    if sent == 'a man gives a bone to every dog':\n",
    "        for semrep, val in semreps_vals.items():\n",
    "            print(f\"{i+1}. {sent}:\")\n",
    "            display_translation(val, semrep)"
   ]
  },
  {
   "cell_type": "markdown",
   "metadata": {},
   "source": [
    "### 2. Cooper storage [8 marks in total]"
   ]
  },
  {
   "cell_type": "markdown",
   "metadata": {},
   "source": [
    "#### 2.1. Learn about CooperSotrage\n",
    "Study the following grammar with a `SEM` that is split between `CORE` and `STORE`. However, in this example, we never add anything to the `STORE`."
   ]
  },
  {
   "cell_type": "code",
   "execution_count": 10,
   "metadata": {
    "scrolled": false
   },
   "outputs": [
    {
     "name": "stdout",
     "output_type": "stream",
     "text": [
      "1. Angus reads a book\n"
     ]
    },
    {
     "data": {
      "text/markdown": [
       "\"1\": $\\exists\\ z_{12}.(book(z_{12})\\ \\land\\ read(angus,z_{12}))$"
      ],
      "text/plain": [
       "<IPython.core.display.Markdown object>"
      ]
     },
     "metadata": {},
     "output_type": "display_data"
    },
    {
     "name": "stdout",
     "output_type": "stream",
     "text": [
      "2. every girl reads a book\n"
     ]
    },
    {
     "data": {
      "text/markdown": [
       "\"1\": $\\forall\\ x.(girl(x)\\ \\rightarrow\\ \\exists\\ z_{13}.(book(z_{13})\\ \\land\\ read(x,z_{13})))$"
      ],
      "text/plain": [
       "<IPython.core.display.Markdown object>"
      ]
     },
     "metadata": {},
     "output_type": "display_data"
    },
    {
     "name": "stdout",
     "output_type": "stream",
     "text": [
      "3. every library gives a book to a girl\n"
     ]
    },
    {
     "data": {
      "text/markdown": [
       "\"1\": $\\forall\\ x.(library(x)\\ \\rightarrow\\ \\exists\\ z_{15}.(book(z_{15})\\ \\land\\ \\exists\\ z_{14}.(girl(z_{14})\\ \\land\\ give(x,z_{14},z_{15}))))$"
      ],
      "text/plain": [
       "<IPython.core.display.Markdown object>"
      ]
     },
     "metadata": {},
     "output_type": "display_data"
    }
   ],
   "source": [
    "fcfg_storage_base = r\"\"\"\n",
    "% start S\n",
    "\n",
    "S[SEM=[CORE=<?subj(?vp)>, STORE=(?b1+?b2)]] -> NP[NUM=?n,SEM=[CORE=?subj, STORE=?b1]] VP[NUM=?n,SEM=[CORE=?vp, STORE=?b2]]\n",
    "\n",
    "Nom[NUM=?n,SEM=?s] -> N[NUM=?n,SEM=?s]\n",
    "\n",
    "VP[NUM=?n,SEM=?s] -> IV[NUM=?n,SEM=?s]\n",
    "VP[NUM=?n,SEM=[CORE=<?v(?obj)>, STORE=(?b1+?b2)]] -> TV[NUM=?n,SEM=[CORE=?v, STORE=?b1]] NP[SEM=[CORE=?obj, STORE=?b2]]\n",
    "VP[NUM=?n,SEM=[CORE=<?v(?pp)(?obj)>, STORE=(?b1+?b2+?b3)]] -> DTV[NUM=?n,SEM=[CORE=?v, STORE=?b1]] NP[SEM=[CORE=?obj, STORE=?b2]] PP[+TO,SEM=[CORE=?pp, STORE=?b3]]\n",
    "\n",
    "PP[+TO, SEM=[CORE=?np, STORE=?b1]] -> P[+TO] NP[SEM=[CORE=?np, STORE=?b1]]\n",
    "\"\"\"\n",
    "\n",
    "fcfg_storage_lexicon = r\"\"\"\n",
    "PropN[NUM=sg,SEM=[CORE=<\\P.P(angus)>, STORE=(/)]] -> 'Angus'\n",
    "PropN[NUM=sg,SEM=[CORE=<\\P.P(cyril)>, STORE=(/)]] -> 'Cyril'\n",
    "PropN[NUM=sg,SEM=[CORE=<\\P.P(irene)>, STORE=(/)]] -> 'Irene'\n",
    "\n",
    "Det[NUM=sg,SEM=[CORE=<\\P Q.all x.(P(x) -> Q(x))>, STORE=(/)]] -> 'every'\n",
    "Det[NUM=sg,SEM=[CORE=<\\P Q.exists x.(P(x) & Q(x))>, STORE=(/)]] -> 'a'\n",
    "\n",
    "N[NUM=sg,SEM=[CORE=<\\x.library(x)>, STORE=(/)]] -> 'library'\n",
    "N[NUM=sg,SEM=[CORE=<\\x.girl(x)>, STORE=(/)]] -> 'girl'\n",
    "N[NUM=sg,SEM=[CORE=<\\x.boy(x)>, STORE=(/)]] -> 'boy'\n",
    "N[NUM=sg,SEM=[CORE=<\\x.book(x)>, STORE=(/)]] -> 'book'\n",
    "\n",
    "IV[NUM=sg,SEM=[CORE=<\\x.smile(x)>, STORE=(/)],TNS=pres] -> 'smiles' \n",
    "\n",
    "TV[NUM=sg,SEM=[CORE=<\\X x.X(\\y.read(x,y))>, STORE=(/)],TNS=pres] -> 'reads'\n",
    "\n",
    "DTV[NUM=sg,SEM=[CORE=<\\Y X x.X(\\z.Y(\\y.give(x,y,z)))>, STORE=(/)],TNS=pres] -> 'gives'\n",
    "\n",
    "P[+to] -> 'to'\n",
    "\"\"\" \n",
    "\n",
    "fcfg_storage_np = r\"\"\"\n",
    "NP[NUM=?n,SEM=[CORE=?np, STORE=?b1]] -> PropN[NUM=?n,SEM=[CORE=?np, STORE=?b1]]\n",
    "NP[NUM=?n,SEM=[CORE=<?det(?nom)>, STORE=(?b1+?b2)]] -> Det[NUM=?n,SEM=[CORE=?det, STORE=?b1]] Nom[NUM=?n,SEM=[CORE=?nom, STORE=?b2]]\n",
    "\"\"\"\n",
    "\n",
    "\n",
    "sentences = [\n",
    "    'Angus reads a book',\n",
    "    'every girl reads a book',\n",
    "    'every library gives a book to a girl',\n",
    "]\n",
    "\n",
    "fcfg_storage = fcfg_storage_base + fcfg_storage_np + fcfg_storage_lexicon\n",
    "cs_syntax = FeatureGrammar.fromstring(fcfg_storage)\n",
    "sents_reps = sem_parser(sentences, cs_syntax, verbose=False, is_cs=True)\n",
    "\n",
    "for i, (sent, semreps) in enumerate(sents_reps.items()):\n",
    "    counter = 0\n",
    "    print(f\"{i+1}. {sent}\")\n",
    "    for semrep in semreps:\n",
    "        counter += 1\n",
    "        display_translation(counter, semrep)"
   ]
  },
  {
   "cell_type": "markdown",
   "metadata": {},
   "source": [
    "With the following change to the `NP` rule we push representations to the `STORE` and replace them with a simple varible in the `CORE` (which is then type raised to <<e,t>,t> so that it it can combine with a transitive verb entry)."
   ]
  },
  {
   "cell_type": "code",
   "execution_count": 11,
   "metadata": {},
   "outputs": [
    {
     "name": "stdout",
     "output_type": "stream",
     "text": [
      "1. Angus reads a book\n"
     ]
    },
    {
     "data": {
      "text/markdown": [
       "\"1\": $\\exists\\ x.(book(x)\\ \\land\\ read(angus,x))$"
      ],
      "text/plain": [
       "<IPython.core.display.Markdown object>"
      ]
     },
     "metadata": {},
     "output_type": "display_data"
    },
    {
     "data": {
      "text/markdown": [
       "\"2\": $\\exists\\ x.(book(x)\\ \\land\\ read(angus,x))$"
      ],
      "text/plain": [
       "<IPython.core.display.Markdown object>"
      ]
     },
     "metadata": {},
     "output_type": "display_data"
    },
    {
     "name": "stdout",
     "output_type": "stream",
     "text": [
      "2. every girl reads a book\n"
     ]
    },
    {
     "data": {
      "text/markdown": [
       "\"1\": $\\exists\\ x.(book(x)\\ \\land\\ \\forall\\ z_{16}.(girl(z_{16})\\ \\rightarrow\\ read(z_{16},x)))$"
      ],
      "text/plain": [
       "<IPython.core.display.Markdown object>"
      ]
     },
     "metadata": {},
     "output_type": "display_data"
    },
    {
     "data": {
      "text/markdown": [
       "\"2\": $\\forall\\ x.(girl(x)\\ \\rightarrow\\ \\exists\\ z_{17}.(book(z_{17})\\ \\land\\ read(x,z_{17})))$"
      ],
      "text/plain": [
       "<IPython.core.display.Markdown object>"
      ]
     },
     "metadata": {},
     "output_type": "display_data"
    },
    {
     "name": "stdout",
     "output_type": "stream",
     "text": [
      "3. every library gives a book to a girl\n"
     ]
    },
    {
     "data": {
      "text/markdown": [
       "\"1\": $\\exists\\ x.(girl(x)\\ \\land\\ \\exists\\ z_{19}.(book(z_{19})\\ \\land\\ \\forall\\ z_{18}.(library(z_{18})\\ \\rightarrow\\ give(z_{18},x,z_{19}))))$"
      ],
      "text/plain": [
       "<IPython.core.display.Markdown object>"
      ]
     },
     "metadata": {},
     "output_type": "display_data"
    },
    {
     "data": {
      "text/markdown": [
       "\"2\": $\\exists\\ x.(book(x)\\ \\land\\ \\exists\\ z_{21}.(girl(z_{21})\\ \\land\\ \\forall\\ z_{20}.(library(z_{20})\\ \\rightarrow\\ give(z_{20},z_{21},x))))$"
      ],
      "text/plain": [
       "<IPython.core.display.Markdown object>"
      ]
     },
     "metadata": {},
     "output_type": "display_data"
    },
    {
     "data": {
      "text/markdown": [
       "\"3\": $\\exists\\ x.(girl(x)\\ \\land\\ \\forall\\ z_{23}.(library(z_{23})\\ \\rightarrow\\ \\exists\\ z_{22}.(book(z_{22})\\ \\land\\ give(z_{23},x,z_{22}))))$"
      ],
      "text/plain": [
       "<IPython.core.display.Markdown object>"
      ]
     },
     "metadata": {},
     "output_type": "display_data"
    },
    {
     "data": {
      "text/markdown": [
       "\"4\": $\\forall\\ x.(library(x)\\ \\rightarrow\\ \\exists\\ z_{25}.(girl(z_{25})\\ \\land\\ \\exists\\ z_{24}.(book(z_{24})\\ \\land\\ give(x,z_{25},z_{24}))))$"
      ],
      "text/plain": [
       "<IPython.core.display.Markdown object>"
      ]
     },
     "metadata": {},
     "output_type": "display_data"
    },
    {
     "data": {
      "text/markdown": [
       "\"5\": $\\exists\\ x.(book(x)\\ \\land\\ \\forall\\ z_{27}.(library(z_{27})\\ \\rightarrow\\ \\exists\\ z_{26}.(girl(z_{26})\\ \\land\\ give(z_{27},z_{26},x))))$"
      ],
      "text/plain": [
       "<IPython.core.display.Markdown object>"
      ]
     },
     "metadata": {},
     "output_type": "display_data"
    },
    {
     "data": {
      "text/markdown": [
       "\"6\": $\\forall\\ x.(library(x)\\ \\rightarrow\\ \\exists\\ z_{29}.(book(z_{29})\\ \\land\\ \\exists\\ z_{28}.(girl(z_{28})\\ \\land\\ give(x,z_{28},z_{29}))))$"
      ],
      "text/plain": [
       "<IPython.core.display.Markdown object>"
      ]
     },
     "metadata": {},
     "output_type": "display_data"
    }
   ],
   "source": [
    "fcfg_storage_np = r\"\"\"\n",
    "NP[NUM=?n,SEM=[CORE=<\\P.P(@x)>, STORE=(<bo(?np, @x)>+?b1)]] -> PropN[NUM=?n,SEM=[CORE=?np, STORE=?b1]]\n",
    "NP[NUM=?n,SEM=[CORE=<\\P.P(@x)>, STORE=(<bo(?det(?nom), @x)>+?b1+?b2)]] -> Det[NUM=?n,SEM=[CORE=?det, STORE=?b1]] Nom[NUM=?n,SEM=[CORE=?nom, STORE=?b2]]\n",
    "\"\"\"\n",
    "\n",
    "sentences = [\n",
    "    'Angus reads a book',\n",
    "    'every girl reads a book',\n",
    "    'every library gives a book to a girl',\n",
    "]\n",
    "\n",
    "fcfg_storage = fcfg_storage_base + fcfg_storage_np + fcfg_storage_lexicon\n",
    "cs_syntax = FeatureGrammar.fromstring(fcfg_storage)\n",
    "sents_reps = sem_parser(sentences, cs_syntax, verbose=False, is_cs=True)\n",
    "\n",
    "for i, (sent, semreps) in enumerate(sents_reps.items()):\n",
    "    counter = 0\n",
    "    print(f\"{i+1}. {sent}\")\n",
    "    for semrep in semreps:\n",
    "        counter += 1\n",
    "        display_translation(counter, semrep)"
   ]
  },
  {
   "cell_type": "markdown",
   "metadata": {},
   "source": [
    "#### 2.2. Questions"
   ]
  },
  {
   "cell_type": "markdown",
   "metadata": {},
   "source": [
    "**2a.** There are two identical readings of the first sentence. Why is this so? Suggest a change that would ensure you do not get doublicate readings for the first sentence but you get  alternative readings for the other sentence. **[2 marks]**"
   ]
  },
  {
   "cell_type": "raw",
   "metadata": {},
   "source": [
    "* Write explanation here *\n",
    "\n",
    "It seems like the issue could be that the NP rule for proper nouns states that it can take a binding operator. The issue seems to be resolved by emptying the store in that particular NP.    "
   ]
  },
  {
   "cell_type": "code",
   "execution_count": 12,
   "metadata": {},
   "outputs": [
    {
     "name": "stdout",
     "output_type": "stream",
     "text": [
      "1. Angus reads a book\n"
     ]
    },
    {
     "data": {
      "text/markdown": [
       "\"1\": $\\exists\\ x.(book(x)\\ \\land\\ read(angus,x))$"
      ],
      "text/plain": [
       "<IPython.core.display.Markdown object>"
      ]
     },
     "metadata": {},
     "output_type": "display_data"
    },
    {
     "name": "stdout",
     "output_type": "stream",
     "text": [
      "2. every girl reads a book\n"
     ]
    },
    {
     "data": {
      "text/markdown": [
       "\"1\": $\\exists\\ x.(book(x)\\ \\land\\ \\forall\\ z_{30}.(girl(z_{30})\\ \\rightarrow\\ read(z_{30},x)))$"
      ],
      "text/plain": [
       "<IPython.core.display.Markdown object>"
      ]
     },
     "metadata": {},
     "output_type": "display_data"
    },
    {
     "data": {
      "text/markdown": [
       "\"2\": $\\forall\\ x.(girl(x)\\ \\rightarrow\\ \\exists\\ z_{31}.(book(z_{31})\\ \\land\\ read(x,z_{31})))$"
      ],
      "text/plain": [
       "<IPython.core.display.Markdown object>"
      ]
     },
     "metadata": {},
     "output_type": "display_data"
    }
   ],
   "source": [
    "sentences = [\n",
    "    'Angus reads a book',\n",
    "    'every girl reads a book'\n",
    "]\n",
    "\n",
    "fcfg_storage_np = r\"\"\"\n",
    "## Change the rule below:\n",
    "#NP[NUM=?n,SEM=[CORE=<\\P.P(@x)>, STORE=(<bo(?np, @x)>+?b1)]] -> PropN[NUM=?n,SEM=[CORE=?np, STORE=?b1]]\n",
    "#Karolina+Tova: NP[NUM=?n,SEM=[CORE=?np, STORE=(/)]] -> PropN[NUM=?n,SEM=[CORE=?np, STORE=(/)]]\n",
    "NP[NUM=?n,SEM=[CORE=<?np>, STORE=(/)]] -> PropN[NUM=?n,SEM=[CORE=?np, STORE=(/)]]\n",
    "NP[NUM=?n,SEM=[CORE=<\\P.P(@x)>, STORE=(<bo(?det(?nom), @x)>+?b1+?b2)]] -> Det[NUM=?n,SEM=[CORE=?det, STORE=?b1]] Nom[NUM=?n,SEM=[CORE=?nom, STORE=?b2]]\n",
    "\"\"\"\n",
    "\n",
    "\n",
    "fcfg_storage = fcfg_storage_base + fcfg_storage_np + fcfg_storage_lexicon \n",
    "cs_syntax = FeatureGrammar.fromstring(fcfg_storage)\n",
    "sents_reps = sem_parser(sentences, cs_syntax, verbose=False, is_cs=True)\n",
    "\n",
    "for i, (sent, semreps) in enumerate(sents_reps.items()):\n",
    "    counter = 0\n",
    "    print(f\"{i+1}. {sent}\")\n",
    "    for semrep in semreps:\n",
    "        counter += 1\n",
    "        display_translation(counter, semrep)"
   ]
  },
  {
   "cell_type": "markdown",
   "metadata": {},
   "source": [
    "**2b.** Extend the grammar below to cover the following sentences: **[6 marks]**"
   ]
  },
  {
   "cell_type": "code",
   "execution_count": 16,
   "metadata": {
    "scrolled": false
   },
   "outputs": [
    {
     "name": "stdout",
     "output_type": "stream",
     "text": [
      "1. every library gives a book to every girl and every boy\n"
     ]
    },
    {
     "data": {
      "text/markdown": [
       "\"1\": $\\forall\\ x.(boy(x)\\ \\rightarrow\\ \\forall\\ z_{562}.(girl(z_{562})\\ \\rightarrow\\ \\exists\\ z_{561}.(book(z_{561})\\ \\land\\ \\forall\\ z_{560}.(library(z_{560})\\ \\rightarrow\\ (give(z_{560},z_{562},z_{561})\\ \\land\\ give(z_{560},x,z_{561}))))))$"
      ],
      "text/plain": [
       "<IPython.core.display.Markdown object>"
      ]
     },
     "metadata": {},
     "output_type": "display_data"
    },
    {
     "data": {
      "text/markdown": [
       "\"2\": $\\forall\\ x.(girl(x)\\ \\rightarrow\\ \\forall\\ z_{565}.(boy(z_{565})\\ \\rightarrow\\ \\exists\\ z_{564}.(book(z_{564})\\ \\land\\ \\forall\\ z_{563}.(library(z_{563})\\ \\rightarrow\\ (give(z_{563},x,z_{564})\\ \\land\\ give(z_{563},z_{565},z_{564}))))))$"
      ],
      "text/plain": [
       "<IPython.core.display.Markdown object>"
      ]
     },
     "metadata": {},
     "output_type": "display_data"
    },
    {
     "data": {
      "text/markdown": [
       "\"3\": $\\forall\\ x.(boy(x)\\ \\rightarrow\\ \\exists\\ z_{568}.(book(z_{568})\\ \\land\\ \\forall\\ z_{567}.(girl(z_{567})\\ \\rightarrow\\ \\forall\\ z_{566}.(library(z_{566})\\ \\rightarrow\\ (give(z_{566},z_{567},z_{568})\\ \\land\\ give(z_{566},x,z_{568}))))))$"
      ],
      "text/plain": [
       "<IPython.core.display.Markdown object>"
      ]
     },
     "metadata": {},
     "output_type": "display_data"
    },
    {
     "data": {
      "text/markdown": [
       "\"4\": $\\exists\\ x.(book(x)\\ \\land\\ \\forall\\ z_{571}.(boy(z_{571})\\ \\rightarrow\\ \\forall\\ z_{570}.(girl(z_{570})\\ \\rightarrow\\ \\forall\\ z_{569}.(library(z_{569})\\ \\rightarrow\\ (give(z_{569},z_{570},x)\\ \\land\\ give(z_{569},z_{571},x))))))$"
      ],
      "text/plain": [
       "<IPython.core.display.Markdown object>"
      ]
     },
     "metadata": {},
     "output_type": "display_data"
    },
    {
     "data": {
      "text/markdown": [
       "\"5\": $\\forall\\ x.(girl(x)\\ \\rightarrow\\ \\exists\\ z_{574}.(book(z_{574})\\ \\land\\ \\forall\\ z_{573}.(boy(z_{573})\\ \\rightarrow\\ \\forall\\ z_{572}.(library(z_{572})\\ \\rightarrow\\ (give(z_{572},x,z_{574})\\ \\land\\ give(z_{572},z_{573},z_{574}))))))$"
      ],
      "text/plain": [
       "<IPython.core.display.Markdown object>"
      ]
     },
     "metadata": {},
     "output_type": "display_data"
    },
    {
     "data": {
      "text/markdown": [
       "\"6\": $\\exists\\ x.(book(x)\\ \\land\\ \\forall\\ z_{577}.(girl(z_{577})\\ \\rightarrow\\ \\forall\\ z_{576}.(boy(z_{576})\\ \\rightarrow\\ \\forall\\ z_{575}.(library(z_{575})\\ \\rightarrow\\ (give(z_{575},z_{577},x)\\ \\land\\ give(z_{575},z_{576},x))))))$"
      ],
      "text/plain": [
       "<IPython.core.display.Markdown object>"
      ]
     },
     "metadata": {},
     "output_type": "display_data"
    },
    {
     "data": {
      "text/markdown": [
       "\"7\": $\\forall\\ x.(boy(x)\\ \\rightarrow\\ \\forall\\ z_{580}.(girl(z_{580})\\ \\rightarrow\\ \\forall\\ z_{579}.(library(z_{579})\\ \\rightarrow\\ \\exists\\ z_{578}.(book(z_{578})\\ \\land\\ give(z_{579},z_{580},z_{578})\\ \\land\\ give(z_{579},x,z_{578})))))$"
      ],
      "text/plain": [
       "<IPython.core.display.Markdown object>"
      ]
     },
     "metadata": {},
     "output_type": "display_data"
    },
    {
     "data": {
      "text/markdown": [
       "\"8\": $\\forall\\ x.(girl(x)\\ \\rightarrow\\ \\forall\\ z_{583}.(boy(z_{583})\\ \\rightarrow\\ \\forall\\ z_{582}.(library(z_{582})\\ \\rightarrow\\ \\exists\\ z_{581}.(book(z_{581})\\ \\land\\ give(z_{582},x,z_{581})\\ \\land\\ give(z_{582},z_{583},z_{581})))))$"
      ],
      "text/plain": [
       "<IPython.core.display.Markdown object>"
      ]
     },
     "metadata": {},
     "output_type": "display_data"
    },
    {
     "data": {
      "text/markdown": [
       "\"9\": $\\forall\\ x.(boy(x)\\ \\rightarrow\\ \\forall\\ z_{586}.(library(z_{586})\\ \\rightarrow\\ \\forall\\ z_{585}.(girl(z_{585})\\ \\rightarrow\\ \\exists\\ z_{584}.(book(z_{584})\\ \\land\\ give(z_{586},z_{585},z_{584})\\ \\land\\ give(z_{586},x,z_{584})))))$"
      ],
      "text/plain": [
       "<IPython.core.display.Markdown object>"
      ]
     },
     "metadata": {},
     "output_type": "display_data"
    },
    {
     "data": {
      "text/markdown": [
       "\"10\": $\\forall\\ x.(library(x)\\ \\rightarrow\\ \\forall\\ z_{589}.(boy(z_{589})\\ \\rightarrow\\ \\forall\\ z_{588}.(girl(z_{588})\\ \\rightarrow\\ \\exists\\ z_{587}.(book(z_{587})\\ \\land\\ give(x,z_{588},z_{587})\\ \\land\\ give(x,z_{589},z_{587})))))$"
      ],
      "text/plain": [
       "<IPython.core.display.Markdown object>"
      ]
     },
     "metadata": {},
     "output_type": "display_data"
    },
    {
     "data": {
      "text/markdown": [
       "\"11\": $\\forall\\ x.(girl(x)\\ \\rightarrow\\ \\forall\\ z_{592}.(library(z_{592})\\ \\rightarrow\\ \\forall\\ z_{591}.(boy(z_{591})\\ \\rightarrow\\ \\exists\\ z_{590}.(book(z_{590})\\ \\land\\ give(z_{592},x,z_{590})\\ \\land\\ give(z_{592},z_{591},z_{590})))))$"
      ],
      "text/plain": [
       "<IPython.core.display.Markdown object>"
      ]
     },
     "metadata": {},
     "output_type": "display_data"
    },
    {
     "data": {
      "text/markdown": [
       "\"12\": $\\forall\\ x.(library(x)\\ \\rightarrow\\ \\forall\\ z_{595}.(girl(z_{595})\\ \\rightarrow\\ \\forall\\ z_{594}.(boy(z_{594})\\ \\rightarrow\\ \\exists\\ z_{593}.(book(z_{593})\\ \\land\\ give(x,z_{595},z_{593})\\ \\land\\ give(x,z_{594},z_{593})))))$"
      ],
      "text/plain": [
       "<IPython.core.display.Markdown object>"
      ]
     },
     "metadata": {},
     "output_type": "display_data"
    },
    {
     "data": {
      "text/markdown": [
       "\"13\": $\\forall\\ x.(boy(x)\\ \\rightarrow\\ \\exists\\ z_{598}.(book(z_{598})\\ \\land\\ \\forall\\ z_{597}.(library(z_{597})\\ \\rightarrow\\ \\forall\\ z_{596}.(girl(z_{596})\\ \\rightarrow\\ (give(z_{597},z_{596},z_{598})\\ \\land\\ give(z_{597},x,z_{598}))))))$"
      ],
      "text/plain": [
       "<IPython.core.display.Markdown object>"
      ]
     },
     "metadata": {},
     "output_type": "display_data"
    },
    {
     "data": {
      "text/markdown": [
       "\"14\": $\\exists\\ x.(book(x)\\ \\land\\ \\forall\\ z_{601}.(boy(z_{601})\\ \\rightarrow\\ \\forall\\ z_{600}.(library(z_{600})\\ \\rightarrow\\ \\forall\\ z_{599}.(girl(z_{599})\\ \\rightarrow\\ (give(z_{600},z_{599},x)\\ \\land\\ give(z_{600},z_{601},x))))))$"
      ],
      "text/plain": [
       "<IPython.core.display.Markdown object>"
      ]
     },
     "metadata": {},
     "output_type": "display_data"
    },
    {
     "data": {
      "text/markdown": [
       "\"15\": $\\forall\\ x.(boy(x)\\ \\rightarrow\\ \\forall\\ z_{604}.(library(z_{604})\\ \\rightarrow\\ \\exists\\ z_{603}.(book(z_{603})\\ \\land\\ \\forall\\ z_{602}.(girl(z_{602})\\ \\rightarrow\\ (give(z_{604},z_{602},z_{603})\\ \\land\\ give(z_{604},x,z_{603}))))))$"
      ],
      "text/plain": [
       "<IPython.core.display.Markdown object>"
      ]
     },
     "metadata": {},
     "output_type": "display_data"
    },
    {
     "data": {
      "text/markdown": [
       "\"16\": $\\forall\\ x.(library(x)\\ \\rightarrow\\ \\forall\\ z_{607}.(boy(z_{607})\\ \\rightarrow\\ \\exists\\ z_{606}.(book(z_{606})\\ \\land\\ \\forall\\ z_{605}.(girl(z_{605})\\ \\rightarrow\\ (give(x,z_{605},z_{606})\\ \\land\\ give(x,z_{607},z_{606}))))))$"
      ],
      "text/plain": [
       "<IPython.core.display.Markdown object>"
      ]
     },
     "metadata": {},
     "output_type": "display_data"
    },
    {
     "data": {
      "text/markdown": [
       "\"17\": $\\exists\\ x.(book(x)\\ \\land\\ \\forall\\ z_{610}.(library(z_{610})\\ \\rightarrow\\ \\forall\\ z_{609}.(boy(z_{609})\\ \\rightarrow\\ \\forall\\ z_{608}.(girl(z_{608})\\ \\rightarrow\\ (give(z_{610},z_{608},x)\\ \\land\\ give(z_{610},z_{609},x))))))$"
      ],
      "text/plain": [
       "<IPython.core.display.Markdown object>"
      ]
     },
     "metadata": {},
     "output_type": "display_data"
    },
    {
     "data": {
      "text/markdown": [
       "\"18\": $\\forall\\ x.(library(x)\\ \\rightarrow\\ \\exists\\ z_{613}.(book(z_{613})\\ \\land\\ \\forall\\ z_{612}.(boy(z_{612})\\ \\rightarrow\\ \\forall\\ z_{611}.(girl(z_{611})\\ \\rightarrow\\ (give(x,z_{611},z_{613})\\ \\land\\ give(x,z_{612},z_{613}))))))$"
      ],
      "text/plain": [
       "<IPython.core.display.Markdown object>"
      ]
     },
     "metadata": {},
     "output_type": "display_data"
    },
    {
     "data": {
      "text/markdown": [
       "\"19\": $\\forall\\ x.(girl(x)\\ \\rightarrow\\ \\exists\\ z_{616}.(book(z_{616})\\ \\land\\ \\forall\\ z_{615}.(library(z_{615})\\ \\rightarrow\\ \\forall\\ z_{614}.(boy(z_{614})\\ \\rightarrow\\ (give(z_{615},x,z_{616})\\ \\land\\ give(z_{615},z_{614},z_{616}))))))$"
      ],
      "text/plain": [
       "<IPython.core.display.Markdown object>"
      ]
     },
     "metadata": {},
     "output_type": "display_data"
    },
    {
     "data": {
      "text/markdown": [
       "\"20\": $\\exists\\ x.(book(x)\\ \\land\\ \\forall\\ z_{619}.(girl(z_{619})\\ \\rightarrow\\ \\forall\\ z_{618}.(library(z_{618})\\ \\rightarrow\\ \\forall\\ z_{617}.(boy(z_{617})\\ \\rightarrow\\ (give(z_{618},z_{619},x)\\ \\land\\ give(z_{618},z_{617},x))))))$"
      ],
      "text/plain": [
       "<IPython.core.display.Markdown object>"
      ]
     },
     "metadata": {},
     "output_type": "display_data"
    },
    {
     "data": {
      "text/markdown": [
       "\"21\": $\\forall\\ x.(girl(x)\\ \\rightarrow\\ \\forall\\ z_{622}.(library(z_{622})\\ \\rightarrow\\ \\exists\\ z_{621}.(book(z_{621})\\ \\land\\ \\forall\\ z_{620}.(boy(z_{620})\\ \\rightarrow\\ (give(z_{622},x,z_{621})\\ \\land\\ give(z_{622},z_{620},z_{621}))))))$"
      ],
      "text/plain": [
       "<IPython.core.display.Markdown object>"
      ]
     },
     "metadata": {},
     "output_type": "display_data"
    },
    {
     "data": {
      "text/markdown": [
       "\"22\": $\\forall\\ x.(library(x)\\ \\rightarrow\\ \\forall\\ z_{625}.(girl(z_{625})\\ \\rightarrow\\ \\exists\\ z_{624}.(book(z_{624})\\ \\land\\ \\forall\\ z_{623}.(boy(z_{623})\\ \\rightarrow\\ (give(x,z_{625},z_{624})\\ \\land\\ give(x,z_{623},z_{624}))))))$"
      ],
      "text/plain": [
       "<IPython.core.display.Markdown object>"
      ]
     },
     "metadata": {},
     "output_type": "display_data"
    },
    {
     "data": {
      "text/markdown": [
       "\"23\": $\\exists\\ x.(book(x)\\ \\land\\ \\forall\\ z_{628}.(library(z_{628})\\ \\rightarrow\\ \\forall\\ z_{627}.(girl(z_{627})\\ \\rightarrow\\ \\forall\\ z_{626}.(boy(z_{626})\\ \\rightarrow\\ (give(z_{628},z_{627},x)\\ \\land\\ give(z_{628},z_{626},x))))))$"
      ],
      "text/plain": [
       "<IPython.core.display.Markdown object>"
      ]
     },
     "metadata": {},
     "output_type": "display_data"
    },
    {
     "data": {
      "text/markdown": [
       "\"24\": $\\forall\\ x.(library(x)\\ \\rightarrow\\ \\exists\\ z_{631}.(book(z_{631})\\ \\land\\ \\forall\\ z_{630}.(girl(z_{630})\\ \\rightarrow\\ \\forall\\ z_{629}.(boy(z_{629})\\ \\rightarrow\\ (give(x,z_{630},z_{631})\\ \\land\\ give(x,z_{629},z_{631}))))))$"
      ],
      "text/plain": [
       "<IPython.core.display.Markdown object>"
      ]
     },
     "metadata": {},
     "output_type": "display_data"
    },
    {
     "name": "stdout",
     "output_type": "stream",
     "text": [
      "2. no library gives every book to a boy\n"
     ]
    },
    {
     "data": {
      "text/markdown": [
       "\"1\": $\\exists\\ x.(boy(x)\\ \\land\\ \\forall\\ z_{633}.(book(z_{633})\\ \\rightarrow\\ -\\exists\\ z_{632}.(library(z_{632})\\ \\land\\ give(z_{632},x,z_{633}))))$"
      ],
      "text/plain": [
       "<IPython.core.display.Markdown object>"
      ]
     },
     "metadata": {},
     "output_type": "display_data"
    },
    {
     "data": {
      "text/markdown": [
       "\"2\": $\\forall\\ x.(book(x)\\ \\rightarrow\\ \\exists\\ z_{635}.(boy(z_{635})\\ \\land\\ -\\exists\\ z_{634}.(library(z_{634})\\ \\land\\ give(z_{634},z_{635},x))))$"
      ],
      "text/plain": [
       "<IPython.core.display.Markdown object>"
      ]
     },
     "metadata": {},
     "output_type": "display_data"
    },
    {
     "data": {
      "text/markdown": [
       "\"3\": $\\exists\\ x.(boy(x)\\ \\land\\ -\\exists\\ z_{637}.(library(z_{637})\\ \\land\\ \\forall\\ z_{636}.(book(z_{636})\\ \\rightarrow\\ give(z_{637},x,z_{636}))))$"
      ],
      "text/plain": [
       "<IPython.core.display.Markdown object>"
      ]
     },
     "metadata": {},
     "output_type": "display_data"
    },
    {
     "data": {
      "text/markdown": [
       "\"4\": $-\\exists\\ x.(library(x)\\ \\land\\ \\exists\\ z_{639}.(boy(z_{639})\\ \\land\\ \\forall\\ z_{638}.(book(z_{638})\\ \\rightarrow\\ give(x,z_{639},z_{638}))))$"
      ],
      "text/plain": [
       "<IPython.core.display.Markdown object>"
      ]
     },
     "metadata": {},
     "output_type": "display_data"
    },
    {
     "data": {
      "text/markdown": [
       "\"5\": $\\forall\\ x.(book(x)\\ \\rightarrow\\ -\\exists\\ z_{641}.(library(z_{641})\\ \\land\\ \\exists\\ z_{640}.(boy(z_{640})\\ \\land\\ give(z_{641},z_{640},x))))$"
      ],
      "text/plain": [
       "<IPython.core.display.Markdown object>"
      ]
     },
     "metadata": {},
     "output_type": "display_data"
    },
    {
     "data": {
      "text/markdown": [
       "\"6\": $-\\exists\\ x.(library(x)\\ \\land\\ \\forall\\ z_{643}.(book(z_{643})\\ \\rightarrow\\ \\exists\\ z_{642}.(boy(z_{642})\\ \\land\\ give(x,z_{642},z_{643}))))$"
      ],
      "text/plain": [
       "<IPython.core.display.Markdown object>"
      ]
     },
     "metadata": {},
     "output_type": "display_data"
    },
    {
     "name": "stdout",
     "output_type": "stream",
     "text": [
      "3. a boy and a girl read all books\n"
     ]
    },
    {
     "data": {
      "text/markdown": [
       "\"1\": $\\forall\\ x.(book(x)\\ \\rightarrow\\ \\exists\\ z_{645}.(girl(z_{645})\\ \\land\\ \\exists\\ z_{644}.(boy(z_{644})\\ \\land\\ read(z_{644},x)\\ \\land\\ read(z_{645},x))))$"
      ],
      "text/plain": [
       "<IPython.core.display.Markdown object>"
      ]
     },
     "metadata": {},
     "output_type": "display_data"
    },
    {
     "data": {
      "text/markdown": [
       "\"2\": $\\exists\\ x.(girl(x)\\ \\land\\ \\forall\\ z_{647}.(book(z_{647})\\ \\rightarrow\\ \\exists\\ z_{646}.(boy(z_{646})\\ \\land\\ read(z_{646},z_{647})\\ \\land\\ read(x,z_{647}))))$"
      ],
      "text/plain": [
       "<IPython.core.display.Markdown object>"
      ]
     },
     "metadata": {},
     "output_type": "display_data"
    },
    {
     "data": {
      "text/markdown": [
       "\"3\": $\\forall\\ x.(book(x)\\ \\rightarrow\\ \\exists\\ z_{649}.(boy(z_{649})\\ \\land\\ \\exists\\ z_{648}.(girl(z_{648})\\ \\land\\ read(z_{649},x)\\ \\land\\ read(z_{648},x))))$"
      ],
      "text/plain": [
       "<IPython.core.display.Markdown object>"
      ]
     },
     "metadata": {},
     "output_type": "display_data"
    },
    {
     "data": {
      "text/markdown": [
       "\"4\": $\\exists\\ x.(boy(x)\\ \\land\\ \\forall\\ z_{651}.(book(z_{651})\\ \\rightarrow\\ \\exists\\ z_{650}.(girl(z_{650})\\ \\land\\ read(x,z_{651})\\ \\land\\ read(z_{650},z_{651}))))$"
      ],
      "text/plain": [
       "<IPython.core.display.Markdown object>"
      ]
     },
     "metadata": {},
     "output_type": "display_data"
    },
    {
     "data": {
      "text/markdown": [
       "\"5\": $\\exists\\ x.(girl(x)\\ \\land\\ \\exists\\ z_{653}.(boy(z_{653})\\ \\land\\ \\forall\\ z_{652}.(book(z_{652})\\ \\rightarrow\\ (read(z_{653},z_{652})\\ \\land\\ read(x,z_{652})))))$"
      ],
      "text/plain": [
       "<IPython.core.display.Markdown object>"
      ]
     },
     "metadata": {},
     "output_type": "display_data"
    },
    {
     "data": {
      "text/markdown": [
       "\"6\": $\\exists\\ x.(boy(x)\\ \\land\\ \\exists\\ z_{655}.(girl(z_{655})\\ \\land\\ \\forall\\ z_{654}.(book(z_{654})\\ \\rightarrow\\ (read(x,z_{654})\\ \\land\\ read(z_{655},z_{654})))))$"
      ],
      "text/plain": [
       "<IPython.core.display.Markdown object>"
      ]
     },
     "metadata": {},
     "output_type": "display_data"
    },
    {
     "name": "stdout",
     "output_type": "stream",
     "text": [
      "4. Angus and Irene read all books\n"
     ]
    },
    {
     "data": {
      "text/markdown": [
       "\"1\": $\\forall\\ x.(book(x)\\ \\rightarrow\\ (read(angus,x)\\ \\land\\ read(irene,x)))$"
      ],
      "text/plain": [
       "<IPython.core.display.Markdown object>"
      ]
     },
     "metadata": {},
     "output_type": "display_data"
    }
   ],
   "source": [
    "sentences = [\n",
    "    'every library gives a book to every girl and every boy',\n",
    "    'no library gives every book to a boy',\n",
    "    'a boy and a girl read all books',\n",
    "    'Angus and Irene read all books',\n",
    "]\n",
    "\n",
    "# your answers\n",
    "fcfg_storage_answers_1 = r\"\"\"\n",
    "### Replace X with their proper representations\n",
    "Det[NUM=sg,SEM=[CORE=<\\P Q.(- exists x.(P(x) & Q(x)))>, STORE=(/)]] -> 'no'\n",
    "Det[NUM=pl,SEM=[CORE=<\\P \\Q. all x.(P(x) -> Q(x))>, STORE=(/)]] -> 'all'\n",
    "N[NUM=pl,SEM=[CORE=<\\x.book(x)>, STORE=(/)]] -> 'books'\n",
    "TV[NUM=pl,SEM=[CORE=<\\X x.X(\\y.read(x,y))>,STORE=(/)],TNS=pres] -> 'read'\n",
    "\"\"\"\n",
    "\n",
    "fcfg_storage_answers_2 = r\"\"\"\n",
    "### Correct the conjunction rule here. Replace xxx and ??? with the correct answer:\n",
    "NP[NUM=?n, SEM=[CORE=<\\X.(?n1(X) & ?n2(X))>, STORE=(?b1+?b2)]] -> NP[NUM=?num1, SEM=[CORE=?n1, STORE=?b1]] CONJ NP[NUM=?num2, SEM=[CORE=?n2, STORE=?b2]]\n",
    "CONJ -> 'and' \n",
    "\"\"\"\n",
    "\n",
    "fcfg_storage = fcfg_storage_base + fcfg_storage_np + fcfg_storage_lexicon + fcfg_storage_answers_1 + fcfg_storage_answers_2\n",
    "cs_syntax = FeatureGrammar.fromstring(fcfg_storage)\n",
    "sents_reps = sem_parser(sentences, cs_syntax, verbose=False, is_cs=True)\n",
    "\n",
    "for i, (sent, semreps) in enumerate(sents_reps.items()):\n",
    "    counter = 0\n",
    "    print(f\"{i+1}. {sent}\")\n",
    "    for semrep in semreps:\n",
    "        counter += 1\n",
    "        display_translation(counter, semrep)"
   ]
  },
  {
   "cell_type": "markdown",
   "metadata": {},
   "source": [
    "**2c.** Add the quantified expressions to the `STORE` only in the conjunction rule. Compare the number of readings you get now for the sentence below. Are there any invalid readings? If so, why? **[3 marks]**"
   ]
  },
  {
   "cell_type": "code",
   "execution_count": 14,
   "metadata": {},
   "outputs": [
    {
     "name": "stdout",
     "output_type": "stream",
     "text": [
      "1. every library gives a book to every girl and every boy\n"
     ]
    },
    {
     "data": {
      "text/markdown": [
       "\"1\": $\\forall\\ x.(boy(x)\\ \\rightarrow\\ \\forall\\ z_{131}.(girl(z_{131})\\ \\rightarrow\\ (\\exists\\ z_{129}.(book(z_{129})\\ \\land\\ \\forall\\ z_{128}.(library(z_{128})\\ \\rightarrow\\ give(z_{128},z_{131},z_{129})))\\ \\land\\ \\exists\\ z_{130}.(book(z_{130})\\ \\land\\ \\forall\\ z_{128}.(library(z_{128})\\ \\rightarrow\\ give(z_{128},x,z_{130}))))))$"
      ],
      "text/plain": [
       "<IPython.core.display.Markdown object>"
      ]
     },
     "metadata": {},
     "output_type": "display_data"
    },
    {
     "data": {
      "text/markdown": [
       "\"2\": $\\forall\\ x.(girl(x)\\ \\rightarrow\\ \\forall\\ z_{135}.(boy(z_{135})\\ \\rightarrow\\ (\\exists\\ z_{133}.(book(z_{133})\\ \\land\\ \\forall\\ z_{132}.(library(z_{132})\\ \\rightarrow\\ give(z_{132},x,z_{133})))\\ \\land\\ \\exists\\ z_{134}.(book(z_{134})\\ \\land\\ \\forall\\ z_{132}.(library(z_{132})\\ \\rightarrow\\ give(z_{132},z_{135},z_{134}))))))$"
      ],
      "text/plain": [
       "<IPython.core.display.Markdown object>"
      ]
     },
     "metadata": {},
     "output_type": "display_data"
    },
    {
     "data": {
      "text/markdown": [
       "\"3\": $\\forall\\ x.(boy(x)\\ \\rightarrow\\ (\\forall\\ z_{138}.(girl(z_{138})\\ \\rightarrow\\ \\exists\\ z_{137}.(book(z_{137})\\ \\land\\ \\forall\\ z_{136}.(library(z_{136})\\ \\rightarrow\\ give(z_{136},@x9,z_{137}))))\\ \\land\\ \\forall\\ z_{139}.(girl(z_{139})\\ \\rightarrow\\ \\exists\\ z_{137}.(book(z_{137})\\ \\land\\ \\forall\\ z_{136}.(library(z_{136})\\ \\rightarrow\\ give(z_{136},x,z_{137}))))))$"
      ],
      "text/plain": [
       "<IPython.core.display.Markdown object>"
      ]
     },
     "metadata": {},
     "output_type": "display_data"
    },
    {
     "data": {
      "text/markdown": [
       "\"4\": $(\\forall\\ x.(boy(x)\\ \\rightarrow\\ \\forall\\ z_{142}.(girl(z_{142})\\ \\rightarrow\\ \\exists\\ z_{141}.(book(z_{141})\\ \\land\\ \\forall\\ z_{140}.(library(z_{140})\\ \\rightarrow\\ give(z_{140},@x9,z_{141})))))\\ \\land\\ \\forall\\ x.(boy(x)\\ \\rightarrow\\ \\forall\\ z_{142}.(girl(z_{142})\\ \\rightarrow\\ \\exists\\ z_{141}.(book(z_{141})\\ \\land\\ \\forall\\ z_{140}.(library(z_{140})\\ \\rightarrow\\ give(z_{140},@x6,z_{141}))))))$"
      ],
      "text/plain": [
       "<IPython.core.display.Markdown object>"
      ]
     },
     "metadata": {},
     "output_type": "display_data"
    },
    {
     "data": {
      "text/markdown": [
       "\"5\": $\\forall\\ x.(girl(x)\\ \\rightarrow\\ (\\forall\\ z_{145}.(boy(z_{145})\\ \\rightarrow\\ \\exists\\ z_{144}.(book(z_{144})\\ \\land\\ \\forall\\ z_{143}.(library(z_{143})\\ \\rightarrow\\ give(z_{143},x,z_{144}))))\\ \\land\\ \\forall\\ z_{146}.(boy(z_{146})\\ \\rightarrow\\ \\exists\\ z_{144}.(book(z_{144})\\ \\land\\ \\forall\\ z_{143}.(library(z_{143})\\ \\rightarrow\\ give(z_{143},@x6,z_{144}))))))$"
      ],
      "text/plain": [
       "<IPython.core.display.Markdown object>"
      ]
     },
     "metadata": {},
     "output_type": "display_data"
    },
    {
     "data": {
      "text/markdown": [
       "\"6\": $(\\forall\\ x.(girl(x)\\ \\rightarrow\\ \\forall\\ z_{149}.(boy(z_{149})\\ \\rightarrow\\ \\exists\\ z_{148}.(book(z_{148})\\ \\land\\ \\forall\\ z_{147}.(library(z_{147})\\ \\rightarrow\\ give(z_{147},@x9,z_{148})))))\\ \\land\\ \\forall\\ x.(girl(x)\\ \\rightarrow\\ \\forall\\ z_{149}.(boy(z_{149})\\ \\rightarrow\\ \\exists\\ z_{148}.(book(z_{148})\\ \\land\\ \\forall\\ z_{147}.(library(z_{147})\\ \\rightarrow\\ give(z_{147},@x6,z_{148}))))))$"
      ],
      "text/plain": [
       "<IPython.core.display.Markdown object>"
      ]
     },
     "metadata": {},
     "output_type": "display_data"
    },
    {
     "data": {
      "text/markdown": [
       "\"7\": $\\forall\\ x.(boy(x)\\ \\rightarrow\\ \\forall\\ z_{153}.(girl(z_{153})\\ \\rightarrow\\ \\exists\\ z_{152}.(book(z_{152})\\ \\land\\ \\forall\\ z_{150}.(library(z_{150})\\ \\rightarrow\\ give(z_{150},z_{153},z_{152}))\\ \\land\\ \\forall\\ z_{151}.(library(z_{151})\\ \\rightarrow\\ give(z_{151},x,z_{152})))))$"
      ],
      "text/plain": [
       "<IPython.core.display.Markdown object>"
      ]
     },
     "metadata": {},
     "output_type": "display_data"
    },
    {
     "data": {
      "text/markdown": [
       "\"8\": $\\forall\\ x.(girl(x)\\ \\rightarrow\\ \\forall\\ z_{157}.(boy(z_{157})\\ \\rightarrow\\ \\exists\\ z_{156}.(book(z_{156})\\ \\land\\ \\forall\\ z_{154}.(library(z_{154})\\ \\rightarrow\\ give(z_{154},x,z_{156}))\\ \\land\\ \\forall\\ z_{155}.(library(z_{155})\\ \\rightarrow\\ give(z_{155},z_{157},z_{156})))))$"
      ],
      "text/plain": [
       "<IPython.core.display.Markdown object>"
      ]
     },
     "metadata": {},
     "output_type": "display_data"
    },
    {
     "data": {
      "text/markdown": [
       "\"9\": $\\forall\\ x.(boy(x)\\ \\rightarrow\\ \\exists\\ z_{161}.(book(z_{161})\\ \\land\\ \\forall\\ z_{160}.(girl(z_{160})\\ \\rightarrow\\ (\\forall\\ z_{158}.(library(z_{158})\\ \\rightarrow\\ give(z_{158},z_{160},z_{161}))\\ \\land\\ \\forall\\ z_{159}.(library(z_{159})\\ \\rightarrow\\ give(z_{159},x,z_{161}))))))$"
      ],
      "text/plain": [
       "<IPython.core.display.Markdown object>"
      ]
     },
     "metadata": {},
     "output_type": "display_data"
    },
    {
     "data": {
      "text/markdown": [
       "\"10\": $\\exists\\ x.(book(x)\\ \\land\\ \\forall\\ z_{165}.(boy(z_{165})\\ \\rightarrow\\ \\forall\\ z_{164}.(girl(z_{164})\\ \\rightarrow\\ (\\forall\\ z_{162}.(library(z_{162})\\ \\rightarrow\\ give(z_{162},z_{164},x))\\ \\land\\ \\forall\\ z_{163}.(library(z_{163})\\ \\rightarrow\\ give(z_{163},z_{165},x))))))$"
      ],
      "text/plain": [
       "<IPython.core.display.Markdown object>"
      ]
     },
     "metadata": {},
     "output_type": "display_data"
    },
    {
     "data": {
      "text/markdown": [
       "\"11\": $\\forall\\ x.(girl(x)\\ \\rightarrow\\ \\exists\\ z_{169}.(book(z_{169})\\ \\land\\ \\forall\\ z_{168}.(boy(z_{168})\\ \\rightarrow\\ (\\forall\\ z_{166}.(library(z_{166})\\ \\rightarrow\\ give(z_{166},x,z_{169}))\\ \\land\\ \\forall\\ z_{167}.(library(z_{167})\\ \\rightarrow\\ give(z_{167},z_{168},z_{169}))))))$"
      ],
      "text/plain": [
       "<IPython.core.display.Markdown object>"
      ]
     },
     "metadata": {},
     "output_type": "display_data"
    },
    {
     "data": {
      "text/markdown": [
       "\"12\": $\\exists\\ x.(book(x)\\ \\land\\ \\forall\\ z_{173}.(girl(z_{173})\\ \\rightarrow\\ \\forall\\ z_{172}.(boy(z_{172})\\ \\rightarrow\\ (\\forall\\ z_{170}.(library(z_{170})\\ \\rightarrow\\ give(z_{170},z_{173},x))\\ \\land\\ \\forall\\ z_{171}.(library(z_{171})\\ \\rightarrow\\ give(z_{171},z_{172},x))))))$"
      ],
      "text/plain": [
       "<IPython.core.display.Markdown object>"
      ]
     },
     "metadata": {},
     "output_type": "display_data"
    },
    {
     "data": {
      "text/markdown": [
       "\"13\": $\\forall\\ x.(boy(x)\\ \\rightarrow\\ (\\exists\\ z_{176}.(book(z_{176})\\ \\land\\ \\forall\\ z_{175}.(girl(z_{175})\\ \\rightarrow\\ \\forall\\ z_{174}.(library(z_{174})\\ \\rightarrow\\ give(z_{174},@x9,z_{176}))))\\ \\land\\ \\exists\\ z_{177}.(book(z_{177})\\ \\land\\ \\forall\\ z_{175}.(girl(z_{175})\\ \\rightarrow\\ \\forall\\ z_{174}.(library(z_{174})\\ \\rightarrow\\ give(z_{174},x,z_{177}))))))$"
      ],
      "text/plain": [
       "<IPython.core.display.Markdown object>"
      ]
     },
     "metadata": {},
     "output_type": "display_data"
    },
    {
     "data": {
      "text/markdown": [
       "\"14\": $(\\forall\\ x.(boy(x)\\ \\rightarrow\\ \\exists\\ z_{180}.(book(z_{180})\\ \\land\\ \\forall\\ z_{179}.(girl(z_{179})\\ \\rightarrow\\ \\forall\\ z_{178}.(library(z_{178})\\ \\rightarrow\\ give(z_{178},@x9,z_{180})))))\\ \\land\\ \\forall\\ x.(boy(x)\\ \\rightarrow\\ \\exists\\ z_{180}.(book(z_{180})\\ \\land\\ \\forall\\ z_{179}.(girl(z_{179})\\ \\rightarrow\\ \\forall\\ z_{178}.(library(z_{178})\\ \\rightarrow\\ give(z_{178},@x6,z_{180}))))))$"
      ],
      "text/plain": [
       "<IPython.core.display.Markdown object>"
      ]
     },
     "metadata": {},
     "output_type": "display_data"
    },
    {
     "data": {
      "text/markdown": [
       "\"15\": $\\forall\\ x.(boy(x)\\ \\rightarrow\\ \\exists\\ z_{184}.(book(z_{184})\\ \\land\\ \\forall\\ z_{182}.(girl(z_{182})\\ \\rightarrow\\ \\forall\\ z_{181}.(library(z_{181})\\ \\rightarrow\\ give(z_{181},@x9,z_{184})))\\ \\land\\ \\forall\\ z_{183}.(girl(z_{183})\\ \\rightarrow\\ \\forall\\ z_{181}.(library(z_{181})\\ \\rightarrow\\ give(z_{181},x,z_{184})))))$"
      ],
      "text/plain": [
       "<IPython.core.display.Markdown object>"
      ]
     },
     "metadata": {},
     "output_type": "display_data"
    },
    {
     "data": {
      "text/markdown": [
       "\"16\": $\\exists\\ x.(book(x)\\ \\land\\ \\forall\\ z_{188}.(boy(z_{188})\\ \\rightarrow\\ (\\forall\\ z_{186}.(girl(z_{186})\\ \\rightarrow\\ \\forall\\ z_{185}.(library(z_{185})\\ \\rightarrow\\ give(z_{185},@x9,x)))\\ \\land\\ \\forall\\ z_{187}.(girl(z_{187})\\ \\rightarrow\\ \\forall\\ z_{185}.(library(z_{185})\\ \\rightarrow\\ give(z_{185},z_{188},x))))))$"
      ],
      "text/plain": [
       "<IPython.core.display.Markdown object>"
      ]
     },
     "metadata": {},
     "output_type": "display_data"
    },
    {
     "data": {
      "text/markdown": [
       "\"17\": $(\\exists\\ x.(book(x)\\ \\land\\ \\forall\\ z_{191}.(boy(z_{191})\\ \\rightarrow\\ \\forall\\ z_{190}.(girl(z_{190})\\ \\rightarrow\\ \\forall\\ z_{189}.(library(z_{189})\\ \\rightarrow\\ give(z_{189},@x9,x)))))\\ \\land\\ \\exists\\ x.(book(x)\\ \\land\\ \\forall\\ z_{191}.(boy(z_{191})\\ \\rightarrow\\ \\forall\\ z_{190}.(girl(z_{190})\\ \\rightarrow\\ \\forall\\ z_{189}.(library(z_{189})\\ \\rightarrow\\ give(z_{189},@x6,x))))))$"
      ],
      "text/plain": [
       "<IPython.core.display.Markdown object>"
      ]
     },
     "metadata": {},
     "output_type": "display_data"
    },
    {
     "data": {
      "text/markdown": [
       "\"18\": $\\exists\\ x.(book(x)\\ \\land\\ \\forall\\ z_{194}.(boy(z_{194})\\ \\rightarrow\\ \\forall\\ z_{193}.(girl(z_{193})\\ \\rightarrow\\ \\forall\\ z_{192}.(library(z_{192})\\ \\rightarrow\\ give(z_{192},@x9,x))))\\ \\land\\ \\forall\\ z_{195}.(boy(z_{195})\\ \\rightarrow\\ \\forall\\ z_{193}.(girl(z_{193})\\ \\rightarrow\\ \\forall\\ z_{192}.(library(z_{192})\\ \\rightarrow\\ give(z_{192},@x6,x)))))$"
      ],
      "text/plain": [
       "<IPython.core.display.Markdown object>"
      ]
     },
     "metadata": {},
     "output_type": "display_data"
    },
    {
     "data": {
      "text/markdown": [
       "\"19\": $\\forall\\ x.(girl(x)\\ \\rightarrow\\ (\\exists\\ z_{198}.(book(z_{198})\\ \\land\\ \\forall\\ z_{197}.(boy(z_{197})\\ \\rightarrow\\ \\forall\\ z_{196}.(library(z_{196})\\ \\rightarrow\\ give(z_{196},x,z_{198}))))\\ \\land\\ \\exists\\ z_{199}.(book(z_{199})\\ \\land\\ \\forall\\ z_{197}.(boy(z_{197})\\ \\rightarrow\\ \\forall\\ z_{196}.(library(z_{196})\\ \\rightarrow\\ give(z_{196},@x6,z_{199}))))))$"
      ],
      "text/plain": [
       "<IPython.core.display.Markdown object>"
      ]
     },
     "metadata": {},
     "output_type": "display_data"
    },
    {
     "data": {
      "text/markdown": [
       "\"20\": $(\\forall\\ x.(girl(x)\\ \\rightarrow\\ \\exists\\ z_{202}.(book(z_{202})\\ \\land\\ \\forall\\ z_{201}.(boy(z_{201})\\ \\rightarrow\\ \\forall\\ z_{200}.(library(z_{200})\\ \\rightarrow\\ give(z_{200},@x9,z_{202})))))\\ \\land\\ \\forall\\ x.(girl(x)\\ \\rightarrow\\ \\exists\\ z_{202}.(book(z_{202})\\ \\land\\ \\forall\\ z_{201}.(boy(z_{201})\\ \\rightarrow\\ \\forall\\ z_{200}.(library(z_{200})\\ \\rightarrow\\ give(z_{200},@x6,z_{202}))))))$"
      ],
      "text/plain": [
       "<IPython.core.display.Markdown object>"
      ]
     },
     "metadata": {},
     "output_type": "display_data"
    },
    {
     "data": {
      "text/markdown": [
       "\"21\": $\\forall\\ x.(girl(x)\\ \\rightarrow\\ \\exists\\ z_{206}.(book(z_{206})\\ \\land\\ \\forall\\ z_{204}.(boy(z_{204})\\ \\rightarrow\\ \\forall\\ z_{203}.(library(z_{203})\\ \\rightarrow\\ give(z_{203},x,z_{206})))\\ \\land\\ \\forall\\ z_{205}.(boy(z_{205})\\ \\rightarrow\\ \\forall\\ z_{203}.(library(z_{203})\\ \\rightarrow\\ give(z_{203},@x6,z_{206})))))$"
      ],
      "text/plain": [
       "<IPython.core.display.Markdown object>"
      ]
     },
     "metadata": {},
     "output_type": "display_data"
    },
    {
     "data": {
      "text/markdown": [
       "\"22\": $\\exists\\ x.(book(x)\\ \\land\\ \\forall\\ z_{210}.(girl(z_{210})\\ \\rightarrow\\ (\\forall\\ z_{208}.(boy(z_{208})\\ \\rightarrow\\ \\forall\\ z_{207}.(library(z_{207})\\ \\rightarrow\\ give(z_{207},z_{210},x)))\\ \\land\\ \\forall\\ z_{209}.(boy(z_{209})\\ \\rightarrow\\ \\forall\\ z_{207}.(library(z_{207})\\ \\rightarrow\\ give(z_{207},@x6,x))))))$"
      ],
      "text/plain": [
       "<IPython.core.display.Markdown object>"
      ]
     },
     "metadata": {},
     "output_type": "display_data"
    },
    {
     "data": {
      "text/markdown": [
       "\"23\": $(\\exists\\ x.(book(x)\\ \\land\\ \\forall\\ z_{213}.(girl(z_{213})\\ \\rightarrow\\ \\forall\\ z_{212}.(boy(z_{212})\\ \\rightarrow\\ \\forall\\ z_{211}.(library(z_{211})\\ \\rightarrow\\ give(z_{211},@x9,x)))))\\ \\land\\ \\exists\\ x.(book(x)\\ \\land\\ \\forall\\ z_{213}.(girl(z_{213})\\ \\rightarrow\\ \\forall\\ z_{212}.(boy(z_{212})\\ \\rightarrow\\ \\forall\\ z_{211}.(library(z_{211})\\ \\rightarrow\\ give(z_{211},@x6,x))))))$"
      ],
      "text/plain": [
       "<IPython.core.display.Markdown object>"
      ]
     },
     "metadata": {},
     "output_type": "display_data"
    },
    {
     "data": {
      "text/markdown": [
       "\"24\": $\\exists\\ x.(book(x)\\ \\land\\ \\forall\\ z_{216}.(girl(z_{216})\\ \\rightarrow\\ \\forall\\ z_{215}.(boy(z_{215})\\ \\rightarrow\\ \\forall\\ z_{214}.(library(z_{214})\\ \\rightarrow\\ give(z_{214},@x9,x))))\\ \\land\\ \\forall\\ z_{217}.(girl(z_{217})\\ \\rightarrow\\ \\forall\\ z_{215}.(boy(z_{215})\\ \\rightarrow\\ \\forall\\ z_{214}.(library(z_{214})\\ \\rightarrow\\ give(z_{214},@x6,x)))))$"
      ],
      "text/plain": [
       "<IPython.core.display.Markdown object>"
      ]
     },
     "metadata": {},
     "output_type": "display_data"
    },
    {
     "data": {
      "text/markdown": [
       "\"25\": $\\forall\\ x.(boy(x)\\ \\rightarrow\\ \\forall\\ z_{221}.(girl(z_{221})\\ \\rightarrow\\ (\\forall\\ z_{219}.(library(z_{219})\\ \\rightarrow\\ \\exists\\ z_{218}.(book(z_{218})\\ \\land\\ give(z_{219},z_{221},z_{218})))\\ \\land\\ \\forall\\ z_{220}.(library(z_{220})\\ \\rightarrow\\ \\exists\\ z_{218}.(book(z_{218})\\ \\land\\ give(z_{220},x,z_{218}))))))$"
      ],
      "text/plain": [
       "<IPython.core.display.Markdown object>"
      ]
     },
     "metadata": {},
     "output_type": "display_data"
    },
    {
     "data": {
      "text/markdown": [
       "\"26\": $\\forall\\ x.(girl(x)\\ \\rightarrow\\ \\forall\\ z_{225}.(boy(z_{225})\\ \\rightarrow\\ (\\forall\\ z_{223}.(library(z_{223})\\ \\rightarrow\\ \\exists\\ z_{222}.(book(z_{222})\\ \\land\\ give(z_{223},x,z_{222})))\\ \\land\\ \\forall\\ z_{224}.(library(z_{224})\\ \\rightarrow\\ \\exists\\ z_{222}.(book(z_{222})\\ \\land\\ give(z_{224},z_{225},z_{222}))))))$"
      ],
      "text/plain": [
       "<IPython.core.display.Markdown object>"
      ]
     },
     "metadata": {},
     "output_type": "display_data"
    },
    {
     "data": {
      "text/markdown": [
       "\"27\": $\\forall\\ x.(boy(x)\\ \\rightarrow\\ (\\forall\\ z_{228}.(girl(z_{228})\\ \\rightarrow\\ \\forall\\ z_{227}.(library(z_{227})\\ \\rightarrow\\ \\exists\\ z_{226}.(book(z_{226})\\ \\land\\ give(z_{227},@x9,z_{226}))))\\ \\land\\ \\forall\\ z_{229}.(girl(z_{229})\\ \\rightarrow\\ \\forall\\ z_{227}.(library(z_{227})\\ \\rightarrow\\ \\exists\\ z_{226}.(book(z_{226})\\ \\land\\ give(z_{227},x,z_{226}))))))$"
      ],
      "text/plain": [
       "<IPython.core.display.Markdown object>"
      ]
     },
     "metadata": {},
     "output_type": "display_data"
    },
    {
     "data": {
      "text/markdown": [
       "\"28\": $(\\forall\\ x.(boy(x)\\ \\rightarrow\\ \\forall\\ z_{232}.(girl(z_{232})\\ \\rightarrow\\ \\forall\\ z_{231}.(library(z_{231})\\ \\rightarrow\\ \\exists\\ z_{230}.(book(z_{230})\\ \\land\\ give(z_{231},@x9,z_{230})))))\\ \\land\\ \\forall\\ x.(boy(x)\\ \\rightarrow\\ \\forall\\ z_{232}.(girl(z_{232})\\ \\rightarrow\\ \\forall\\ z_{231}.(library(z_{231})\\ \\rightarrow\\ \\exists\\ z_{230}.(book(z_{230})\\ \\land\\ give(z_{231},@x6,z_{230}))))))$"
      ],
      "text/plain": [
       "<IPython.core.display.Markdown object>"
      ]
     },
     "metadata": {},
     "output_type": "display_data"
    },
    {
     "data": {
      "text/markdown": [
       "\"29\": $\\forall\\ x.(girl(x)\\ \\rightarrow\\ (\\forall\\ z_{235}.(boy(z_{235})\\ \\rightarrow\\ \\forall\\ z_{234}.(library(z_{234})\\ \\rightarrow\\ \\exists\\ z_{233}.(book(z_{233})\\ \\land\\ give(z_{234},x,z_{233}))))\\ \\land\\ \\forall\\ z_{236}.(boy(z_{236})\\ \\rightarrow\\ \\forall\\ z_{234}.(library(z_{234})\\ \\rightarrow\\ \\exists\\ z_{233}.(book(z_{233})\\ \\land\\ give(z_{234},@x6,z_{233}))))))$"
      ],
      "text/plain": [
       "<IPython.core.display.Markdown object>"
      ]
     },
     "metadata": {},
     "output_type": "display_data"
    },
    {
     "data": {
      "text/markdown": [
       "\"30\": $(\\forall\\ x.(girl(x)\\ \\rightarrow\\ \\forall\\ z_{239}.(boy(z_{239})\\ \\rightarrow\\ \\forall\\ z_{238}.(library(z_{238})\\ \\rightarrow\\ \\exists\\ z_{237}.(book(z_{237})\\ \\land\\ give(z_{238},@x9,z_{237})))))\\ \\land\\ \\forall\\ x.(girl(x)\\ \\rightarrow\\ \\forall\\ z_{239}.(boy(z_{239})\\ \\rightarrow\\ \\forall\\ z_{238}.(library(z_{238})\\ \\rightarrow\\ \\exists\\ z_{237}.(book(z_{237})\\ \\land\\ give(z_{238},@x6,z_{237}))))))$"
      ],
      "text/plain": [
       "<IPython.core.display.Markdown object>"
      ]
     },
     "metadata": {},
     "output_type": "display_data"
    },
    {
     "data": {
      "text/markdown": [
       "\"31\": $\\forall\\ x.(boy(x)\\ \\rightarrow\\ \\forall\\ z_{243}.(girl(z_{243})\\ \\rightarrow\\ \\forall\\ z_{242}.(library(z_{242})\\ \\rightarrow\\ (\\exists\\ z_{240}.(book(z_{240})\\ \\land\\ give(z_{242},z_{243},z_{240}))\\ \\land\\ \\exists\\ z_{241}.(book(z_{241})\\ \\land\\ give(z_{242},x,z_{241}))))))$"
      ],
      "text/plain": [
       "<IPython.core.display.Markdown object>"
      ]
     },
     "metadata": {},
     "output_type": "display_data"
    },
    {
     "data": {
      "text/markdown": [
       "\"32\": $\\forall\\ x.(girl(x)\\ \\rightarrow\\ \\forall\\ z_{247}.(boy(z_{247})\\ \\rightarrow\\ \\forall\\ z_{246}.(library(z_{246})\\ \\rightarrow\\ (\\exists\\ z_{244}.(book(z_{244})\\ \\land\\ give(z_{246},x,z_{244}))\\ \\land\\ \\exists\\ z_{245}.(book(z_{245})\\ \\land\\ give(z_{246},z_{247},z_{245}))))))$"
      ],
      "text/plain": [
       "<IPython.core.display.Markdown object>"
      ]
     },
     "metadata": {},
     "output_type": "display_data"
    },
    {
     "data": {
      "text/markdown": [
       "\"33\": $\\forall\\ x.(boy(x)\\ \\rightarrow\\ \\forall\\ z_{251}.(library(z_{251})\\ \\rightarrow\\ \\forall\\ z_{250}.(girl(z_{250})\\ \\rightarrow\\ (\\exists\\ z_{248}.(book(z_{248})\\ \\land\\ give(z_{251},z_{250},z_{248}))\\ \\land\\ \\exists\\ z_{249}.(book(z_{249})\\ \\land\\ give(z_{251},x,z_{249}))))))$"
      ],
      "text/plain": [
       "<IPython.core.display.Markdown object>"
      ]
     },
     "metadata": {},
     "output_type": "display_data"
    },
    {
     "data": {
      "text/markdown": [
       "\"34\": $\\forall\\ x.(library(x)\\ \\rightarrow\\ \\forall\\ z_{255}.(boy(z_{255})\\ \\rightarrow\\ \\forall\\ z_{254}.(girl(z_{254})\\ \\rightarrow\\ (\\exists\\ z_{252}.(book(z_{252})\\ \\land\\ give(x,z_{254},z_{252}))\\ \\land\\ \\exists\\ z_{253}.(book(z_{253})\\ \\land\\ give(x,z_{255},z_{253}))))))$"
      ],
      "text/plain": [
       "<IPython.core.display.Markdown object>"
      ]
     },
     "metadata": {},
     "output_type": "display_data"
    },
    {
     "data": {
      "text/markdown": [
       "\"35\": $\\forall\\ x.(girl(x)\\ \\rightarrow\\ \\forall\\ z_{259}.(library(z_{259})\\ \\rightarrow\\ \\forall\\ z_{258}.(boy(z_{258})\\ \\rightarrow\\ (\\exists\\ z_{256}.(book(z_{256})\\ \\land\\ give(z_{259},x,z_{256}))\\ \\land\\ \\exists\\ z_{257}.(book(z_{257})\\ \\land\\ give(z_{259},z_{258},z_{257}))))))$"
      ],
      "text/plain": [
       "<IPython.core.display.Markdown object>"
      ]
     },
     "metadata": {},
     "output_type": "display_data"
    },
    {
     "data": {
      "text/markdown": [
       "\"36\": $\\forall\\ x.(library(x)\\ \\rightarrow\\ \\forall\\ z_{263}.(girl(z_{263})\\ \\rightarrow\\ \\forall\\ z_{262}.(boy(z_{262})\\ \\rightarrow\\ (\\exists\\ z_{260}.(book(z_{260})\\ \\land\\ give(x,z_{263},z_{260}))\\ \\land\\ \\exists\\ z_{261}.(book(z_{261})\\ \\land\\ give(x,z_{262},z_{261}))))))$"
      ],
      "text/plain": [
       "<IPython.core.display.Markdown object>"
      ]
     },
     "metadata": {},
     "output_type": "display_data"
    },
    {
     "data": {
      "text/markdown": [
       "\"37\": $\\forall\\ x.(boy(x)\\ \\rightarrow\\ (\\forall\\ z_{266}.(library(z_{266})\\ \\rightarrow\\ \\forall\\ z_{265}.(girl(z_{265})\\ \\rightarrow\\ \\exists\\ z_{264}.(book(z_{264})\\ \\land\\ give(z_{266},@x9,z_{264}))))\\ \\land\\ \\forall\\ z_{267}.(library(z_{267})\\ \\rightarrow\\ \\forall\\ z_{265}.(girl(z_{265})\\ \\rightarrow\\ \\exists\\ z_{264}.(book(z_{264})\\ \\land\\ give(z_{267},x,z_{264}))))))$"
      ],
      "text/plain": [
       "<IPython.core.display.Markdown object>"
      ]
     },
     "metadata": {},
     "output_type": "display_data"
    },
    {
     "data": {
      "text/markdown": [
       "\"38\": $(\\forall\\ x.(boy(x)\\ \\rightarrow\\ \\forall\\ z_{270}.(library(z_{270})\\ \\rightarrow\\ \\forall\\ z_{269}.(girl(z_{269})\\ \\rightarrow\\ \\exists\\ z_{268}.(book(z_{268})\\ \\land\\ give(z_{270},@x9,z_{268})))))\\ \\land\\ \\forall\\ x.(boy(x)\\ \\rightarrow\\ \\forall\\ z_{270}.(library(z_{270})\\ \\rightarrow\\ \\forall\\ z_{269}.(girl(z_{269})\\ \\rightarrow\\ \\exists\\ z_{268}.(book(z_{268})\\ \\land\\ give(z_{270},@x6,z_{268}))))))$"
      ],
      "text/plain": [
       "<IPython.core.display.Markdown object>"
      ]
     },
     "metadata": {},
     "output_type": "display_data"
    },
    {
     "data": {
      "text/markdown": [
       "\"39\": $\\forall\\ x.(boy(x)\\ \\rightarrow\\ \\forall\\ z_{274}.(library(z_{274})\\ \\rightarrow\\ (\\forall\\ z_{272}.(girl(z_{272})\\ \\rightarrow\\ \\exists\\ z_{271}.(book(z_{271})\\ \\land\\ give(z_{274},@x9,z_{271})))\\ \\land\\ \\forall\\ z_{273}.(girl(z_{273})\\ \\rightarrow\\ \\exists\\ z_{271}.(book(z_{271})\\ \\land\\ give(z_{274},x,z_{271}))))))$"
      ],
      "text/plain": [
       "<IPython.core.display.Markdown object>"
      ]
     },
     "metadata": {},
     "output_type": "display_data"
    },
    {
     "data": {
      "text/markdown": [
       "\"40\": $\\forall\\ x.(library(x)\\ \\rightarrow\\ \\forall\\ z_{278}.(boy(z_{278})\\ \\rightarrow\\ (\\forall\\ z_{276}.(girl(z_{276})\\ \\rightarrow\\ \\exists\\ z_{275}.(book(z_{275})\\ \\land\\ give(x,@x9,z_{275})))\\ \\land\\ \\forall\\ z_{277}.(girl(z_{277})\\ \\rightarrow\\ \\exists\\ z_{275}.(book(z_{275})\\ \\land\\ give(x,z_{278},z_{275}))))))$"
      ],
      "text/plain": [
       "<IPython.core.display.Markdown object>"
      ]
     },
     "metadata": {},
     "output_type": "display_data"
    },
    {
     "data": {
      "text/markdown": [
       "\"41\": $(\\forall\\ x.(library(x)\\ \\rightarrow\\ \\forall\\ z_{281}.(boy(z_{281})\\ \\rightarrow\\ \\forall\\ z_{280}.(girl(z_{280})\\ \\rightarrow\\ \\exists\\ z_{279}.(book(z_{279})\\ \\land\\ give(x,@x9,z_{279})))))\\ \\land\\ \\forall\\ x.(library(x)\\ \\rightarrow\\ \\forall\\ z_{281}.(boy(z_{281})\\ \\rightarrow\\ \\forall\\ z_{280}.(girl(z_{280})\\ \\rightarrow\\ \\exists\\ z_{279}.(book(z_{279})\\ \\land\\ give(x,@x6,z_{279}))))))$"
      ],
      "text/plain": [
       "<IPython.core.display.Markdown object>"
      ]
     },
     "metadata": {},
     "output_type": "display_data"
    },
    {
     "data": {
      "text/markdown": [
       "\"42\": $\\forall\\ x.(library(x)\\ \\rightarrow\\ (\\forall\\ z_{284}.(boy(z_{284})\\ \\rightarrow\\ \\forall\\ z_{283}.(girl(z_{283})\\ \\rightarrow\\ \\exists\\ z_{282}.(book(z_{282})\\ \\land\\ give(x,@x9,z_{282}))))\\ \\land\\ \\forall\\ z_{285}.(boy(z_{285})\\ \\rightarrow\\ \\forall\\ z_{283}.(girl(z_{283})\\ \\rightarrow\\ \\exists\\ z_{282}.(book(z_{282})\\ \\land\\ give(x,@x6,z_{282}))))))$"
      ],
      "text/plain": [
       "<IPython.core.display.Markdown object>"
      ]
     },
     "metadata": {},
     "output_type": "display_data"
    },
    {
     "data": {
      "text/markdown": [
       "\"43\": $\\forall\\ x.(girl(x)\\ \\rightarrow\\ (\\forall\\ z_{288}.(library(z_{288})\\ \\rightarrow\\ \\forall\\ z_{287}.(boy(z_{287})\\ \\rightarrow\\ \\exists\\ z_{286}.(book(z_{286})\\ \\land\\ give(z_{288},x,z_{286}))))\\ \\land\\ \\forall\\ z_{289}.(library(z_{289})\\ \\rightarrow\\ \\forall\\ z_{287}.(boy(z_{287})\\ \\rightarrow\\ \\exists\\ z_{286}.(book(z_{286})\\ \\land\\ give(z_{289},@x6,z_{286}))))))$"
      ],
      "text/plain": [
       "<IPython.core.display.Markdown object>"
      ]
     },
     "metadata": {},
     "output_type": "display_data"
    },
    {
     "data": {
      "text/markdown": [
       "\"44\": $(\\forall\\ x.(girl(x)\\ \\rightarrow\\ \\forall\\ z_{292}.(library(z_{292})\\ \\rightarrow\\ \\forall\\ z_{291}.(boy(z_{291})\\ \\rightarrow\\ \\exists\\ z_{290}.(book(z_{290})\\ \\land\\ give(z_{292},@x9,z_{290})))))\\ \\land\\ \\forall\\ x.(girl(x)\\ \\rightarrow\\ \\forall\\ z_{292}.(library(z_{292})\\ \\rightarrow\\ \\forall\\ z_{291}.(boy(z_{291})\\ \\rightarrow\\ \\exists\\ z_{290}.(book(z_{290})\\ \\land\\ give(z_{292},@x6,z_{290}))))))$"
      ],
      "text/plain": [
       "<IPython.core.display.Markdown object>"
      ]
     },
     "metadata": {},
     "output_type": "display_data"
    },
    {
     "data": {
      "text/markdown": [
       "\"45\": $\\forall\\ x.(girl(x)\\ \\rightarrow\\ \\forall\\ z_{296}.(library(z_{296})\\ \\rightarrow\\ (\\forall\\ z_{294}.(boy(z_{294})\\ \\rightarrow\\ \\exists\\ z_{293}.(book(z_{293})\\ \\land\\ give(z_{296},x,z_{293})))\\ \\land\\ \\forall\\ z_{295}.(boy(z_{295})\\ \\rightarrow\\ \\exists\\ z_{293}.(book(z_{293})\\ \\land\\ give(z_{296},@x6,z_{293}))))))$"
      ],
      "text/plain": [
       "<IPython.core.display.Markdown object>"
      ]
     },
     "metadata": {},
     "output_type": "display_data"
    },
    {
     "data": {
      "text/markdown": [
       "\"46\": $\\forall\\ x.(library(x)\\ \\rightarrow\\ \\forall\\ z_{300}.(girl(z_{300})\\ \\rightarrow\\ (\\forall\\ z_{298}.(boy(z_{298})\\ \\rightarrow\\ \\exists\\ z_{297}.(book(z_{297})\\ \\land\\ give(x,z_{300},z_{297})))\\ \\land\\ \\forall\\ z_{299}.(boy(z_{299})\\ \\rightarrow\\ \\exists\\ z_{297}.(book(z_{297})\\ \\land\\ give(x,@x6,z_{297}))))))$"
      ],
      "text/plain": [
       "<IPython.core.display.Markdown object>"
      ]
     },
     "metadata": {},
     "output_type": "display_data"
    },
    {
     "data": {
      "text/markdown": [
       "\"47\": $(\\forall\\ x.(library(x)\\ \\rightarrow\\ \\forall\\ z_{303}.(girl(z_{303})\\ \\rightarrow\\ \\forall\\ z_{302}.(boy(z_{302})\\ \\rightarrow\\ \\exists\\ z_{301}.(book(z_{301})\\ \\land\\ give(x,@x9,z_{301})))))\\ \\land\\ \\forall\\ x.(library(x)\\ \\rightarrow\\ \\forall\\ z_{303}.(girl(z_{303})\\ \\rightarrow\\ \\forall\\ z_{302}.(boy(z_{302})\\ \\rightarrow\\ \\exists\\ z_{301}.(book(z_{301})\\ \\land\\ give(x,@x6,z_{301}))))))$"
      ],
      "text/plain": [
       "<IPython.core.display.Markdown object>"
      ]
     },
     "metadata": {},
     "output_type": "display_data"
    },
    {
     "data": {
      "text/markdown": [
       "\"48\": $\\forall\\ x.(library(x)\\ \\rightarrow\\ (\\forall\\ z_{306}.(girl(z_{306})\\ \\rightarrow\\ \\forall\\ z_{305}.(boy(z_{305})\\ \\rightarrow\\ \\exists\\ z_{304}.(book(z_{304})\\ \\land\\ give(x,@x9,z_{304}))))\\ \\land\\ \\forall\\ z_{307}.(girl(z_{307})\\ \\rightarrow\\ \\forall\\ z_{305}.(boy(z_{305})\\ \\rightarrow\\ \\exists\\ z_{304}.(book(z_{304})\\ \\land\\ give(x,@x6,z_{304}))))))$"
      ],
      "text/plain": [
       "<IPython.core.display.Markdown object>"
      ]
     },
     "metadata": {},
     "output_type": "display_data"
    },
    {
     "data": {
      "text/markdown": [
       "\"49\": $\\forall\\ x.(boy(x)\\ \\rightarrow\\ \\forall\\ z_{310}.(girl(z_{310})\\ \\rightarrow\\ \\exists\\ z_{309}.(book(z_{309})\\ \\land\\ \\forall\\ z_{308}.(library(z_{308})\\ \\rightarrow\\ (give(z_{308},z_{310},z_{309})\\ \\land\\ give(z_{308},x,z_{309}))))))$"
      ],
      "text/plain": [
       "<IPython.core.display.Markdown object>"
      ]
     },
     "metadata": {},
     "output_type": "display_data"
    },
    {
     "data": {
      "text/markdown": [
       "\"50\": $\\forall\\ x.(girl(x)\\ \\rightarrow\\ \\forall\\ z_{313}.(boy(z_{313})\\ \\rightarrow\\ \\exists\\ z_{312}.(book(z_{312})\\ \\land\\ \\forall\\ z_{311}.(library(z_{311})\\ \\rightarrow\\ (give(z_{311},x,z_{312})\\ \\land\\ give(z_{311},z_{313},z_{312}))))))$"
      ],
      "text/plain": [
       "<IPython.core.display.Markdown object>"
      ]
     },
     "metadata": {},
     "output_type": "display_data"
    },
    {
     "data": {
      "text/markdown": [
       "\"51\": $\\forall\\ x.(boy(x)\\ \\rightarrow\\ \\exists\\ z_{316}.(book(z_{316})\\ \\land\\ \\forall\\ z_{315}.(girl(z_{315})\\ \\rightarrow\\ \\forall\\ z_{314}.(library(z_{314})\\ \\rightarrow\\ (give(z_{314},z_{315},z_{316})\\ \\land\\ give(z_{314},x,z_{316}))))))$"
      ],
      "text/plain": [
       "<IPython.core.display.Markdown object>"
      ]
     },
     "metadata": {},
     "output_type": "display_data"
    },
    {
     "data": {
      "text/markdown": [
       "\"52\": $\\exists\\ x.(book(x)\\ \\land\\ \\forall\\ z_{319}.(boy(z_{319})\\ \\rightarrow\\ \\forall\\ z_{318}.(girl(z_{318})\\ \\rightarrow\\ \\forall\\ z_{317}.(library(z_{317})\\ \\rightarrow\\ (give(z_{317},z_{318},x)\\ \\land\\ give(z_{317},z_{319},x))))))$"
      ],
      "text/plain": [
       "<IPython.core.display.Markdown object>"
      ]
     },
     "metadata": {},
     "output_type": "display_data"
    },
    {
     "data": {
      "text/markdown": [
       "\"53\": $\\forall\\ x.(girl(x)\\ \\rightarrow\\ \\exists\\ z_{322}.(book(z_{322})\\ \\land\\ \\forall\\ z_{321}.(boy(z_{321})\\ \\rightarrow\\ \\forall\\ z_{320}.(library(z_{320})\\ \\rightarrow\\ (give(z_{320},x,z_{322})\\ \\land\\ give(z_{320},z_{321},z_{322}))))))$"
      ],
      "text/plain": [
       "<IPython.core.display.Markdown object>"
      ]
     },
     "metadata": {},
     "output_type": "display_data"
    },
    {
     "data": {
      "text/markdown": [
       "\"54\": $\\exists\\ x.(book(x)\\ \\land\\ \\forall\\ z_{325}.(girl(z_{325})\\ \\rightarrow\\ \\forall\\ z_{324}.(boy(z_{324})\\ \\rightarrow\\ \\forall\\ z_{323}.(library(z_{323})\\ \\rightarrow\\ (give(z_{323},z_{325},x)\\ \\land\\ give(z_{323},z_{324},x))))))$"
      ],
      "text/plain": [
       "<IPython.core.display.Markdown object>"
      ]
     },
     "metadata": {},
     "output_type": "display_data"
    },
    {
     "data": {
      "text/markdown": [
       "\"55\": $\\forall\\ x.(boy(x)\\ \\rightarrow\\ \\forall\\ z_{328}.(girl(z_{328})\\ \\rightarrow\\ \\forall\\ z_{327}.(library(z_{327})\\ \\rightarrow\\ \\exists\\ z_{326}.(book(z_{326})\\ \\land\\ give(z_{327},z_{328},z_{326})\\ \\land\\ give(z_{327},x,z_{326})))))$"
      ],
      "text/plain": [
       "<IPython.core.display.Markdown object>"
      ]
     },
     "metadata": {},
     "output_type": "display_data"
    },
    {
     "data": {
      "text/markdown": [
       "\"56\": $\\forall\\ x.(girl(x)\\ \\rightarrow\\ \\forall\\ z_{331}.(boy(z_{331})\\ \\rightarrow\\ \\forall\\ z_{330}.(library(z_{330})\\ \\rightarrow\\ \\exists\\ z_{329}.(book(z_{329})\\ \\land\\ give(z_{330},x,z_{329})\\ \\land\\ give(z_{330},z_{331},z_{329})))))$"
      ],
      "text/plain": [
       "<IPython.core.display.Markdown object>"
      ]
     },
     "metadata": {},
     "output_type": "display_data"
    },
    {
     "data": {
      "text/markdown": [
       "\"57\": $\\forall\\ x.(boy(x)\\ \\rightarrow\\ \\forall\\ z_{334}.(library(z_{334})\\ \\rightarrow\\ \\forall\\ z_{333}.(girl(z_{333})\\ \\rightarrow\\ \\exists\\ z_{332}.(book(z_{332})\\ \\land\\ give(z_{334},z_{333},z_{332})\\ \\land\\ give(z_{334},x,z_{332})))))$"
      ],
      "text/plain": [
       "<IPython.core.display.Markdown object>"
      ]
     },
     "metadata": {},
     "output_type": "display_data"
    },
    {
     "data": {
      "text/markdown": [
       "\"58\": $\\forall\\ x.(library(x)\\ \\rightarrow\\ \\forall\\ z_{337}.(boy(z_{337})\\ \\rightarrow\\ \\forall\\ z_{336}.(girl(z_{336})\\ \\rightarrow\\ \\exists\\ z_{335}.(book(z_{335})\\ \\land\\ give(x,z_{336},z_{335})\\ \\land\\ give(x,z_{337},z_{335})))))$"
      ],
      "text/plain": [
       "<IPython.core.display.Markdown object>"
      ]
     },
     "metadata": {},
     "output_type": "display_data"
    },
    {
     "data": {
      "text/markdown": [
       "\"59\": $\\forall\\ x.(girl(x)\\ \\rightarrow\\ \\forall\\ z_{340}.(library(z_{340})\\ \\rightarrow\\ \\forall\\ z_{339}.(boy(z_{339})\\ \\rightarrow\\ \\exists\\ z_{338}.(book(z_{338})\\ \\land\\ give(z_{340},x,z_{338})\\ \\land\\ give(z_{340},z_{339},z_{338})))))$"
      ],
      "text/plain": [
       "<IPython.core.display.Markdown object>"
      ]
     },
     "metadata": {},
     "output_type": "display_data"
    },
    {
     "data": {
      "text/markdown": [
       "\"60\": $\\forall\\ x.(library(x)\\ \\rightarrow\\ \\forall\\ z_{343}.(girl(z_{343})\\ \\rightarrow\\ \\forall\\ z_{342}.(boy(z_{342})\\ \\rightarrow\\ \\exists\\ z_{341}.(book(z_{341})\\ \\land\\ give(x,z_{343},z_{341})\\ \\land\\ give(x,z_{342},z_{341})))))$"
      ],
      "text/plain": [
       "<IPython.core.display.Markdown object>"
      ]
     },
     "metadata": {},
     "output_type": "display_data"
    },
    {
     "data": {
      "text/markdown": [
       "\"61\": $\\forall\\ x.(boy(x)\\ \\rightarrow\\ \\exists\\ z_{346}.(book(z_{346})\\ \\land\\ \\forall\\ z_{345}.(library(z_{345})\\ \\rightarrow\\ \\forall\\ z_{344}.(girl(z_{344})\\ \\rightarrow\\ (give(z_{345},z_{344},z_{346})\\ \\land\\ give(z_{345},x,z_{346}))))))$"
      ],
      "text/plain": [
       "<IPython.core.display.Markdown object>"
      ]
     },
     "metadata": {},
     "output_type": "display_data"
    },
    {
     "data": {
      "text/markdown": [
       "\"62\": $\\exists\\ x.(book(x)\\ \\land\\ \\forall\\ z_{349}.(boy(z_{349})\\ \\rightarrow\\ \\forall\\ z_{348}.(library(z_{348})\\ \\rightarrow\\ \\forall\\ z_{347}.(girl(z_{347})\\ \\rightarrow\\ (give(z_{348},z_{347},x)\\ \\land\\ give(z_{348},z_{349},x))))))$"
      ],
      "text/plain": [
       "<IPython.core.display.Markdown object>"
      ]
     },
     "metadata": {},
     "output_type": "display_data"
    },
    {
     "data": {
      "text/markdown": [
       "\"63\": $\\forall\\ x.(boy(x)\\ \\rightarrow\\ \\forall\\ z_{352}.(library(z_{352})\\ \\rightarrow\\ \\exists\\ z_{351}.(book(z_{351})\\ \\land\\ \\forall\\ z_{350}.(girl(z_{350})\\ \\rightarrow\\ (give(z_{352},z_{350},z_{351})\\ \\land\\ give(z_{352},x,z_{351}))))))$"
      ],
      "text/plain": [
       "<IPython.core.display.Markdown object>"
      ]
     },
     "metadata": {},
     "output_type": "display_data"
    },
    {
     "data": {
      "text/markdown": [
       "\"64\": $\\forall\\ x.(library(x)\\ \\rightarrow\\ \\forall\\ z_{355}.(boy(z_{355})\\ \\rightarrow\\ \\exists\\ z_{354}.(book(z_{354})\\ \\land\\ \\forall\\ z_{353}.(girl(z_{353})\\ \\rightarrow\\ (give(x,z_{353},z_{354})\\ \\land\\ give(x,z_{355},z_{354}))))))$"
      ],
      "text/plain": [
       "<IPython.core.display.Markdown object>"
      ]
     },
     "metadata": {},
     "output_type": "display_data"
    },
    {
     "data": {
      "text/markdown": [
       "\"65\": $\\exists\\ x.(book(x)\\ \\land\\ \\forall\\ z_{358}.(library(z_{358})\\ \\rightarrow\\ \\forall\\ z_{357}.(boy(z_{357})\\ \\rightarrow\\ \\forall\\ z_{356}.(girl(z_{356})\\ \\rightarrow\\ (give(z_{358},z_{356},x)\\ \\land\\ give(z_{358},z_{357},x))))))$"
      ],
      "text/plain": [
       "<IPython.core.display.Markdown object>"
      ]
     },
     "metadata": {},
     "output_type": "display_data"
    },
    {
     "data": {
      "text/markdown": [
       "\"66\": $\\forall\\ x.(library(x)\\ \\rightarrow\\ \\exists\\ z_{361}.(book(z_{361})\\ \\land\\ \\forall\\ z_{360}.(boy(z_{360})\\ \\rightarrow\\ \\forall\\ z_{359}.(girl(z_{359})\\ \\rightarrow\\ (give(x,z_{359},z_{361})\\ \\land\\ give(x,z_{360},z_{361}))))))$"
      ],
      "text/plain": [
       "<IPython.core.display.Markdown object>"
      ]
     },
     "metadata": {},
     "output_type": "display_data"
    },
    {
     "data": {
      "text/markdown": [
       "\"67\": $\\forall\\ x.(girl(x)\\ \\rightarrow\\ \\exists\\ z_{364}.(book(z_{364})\\ \\land\\ \\forall\\ z_{363}.(library(z_{363})\\ \\rightarrow\\ \\forall\\ z_{362}.(boy(z_{362})\\ \\rightarrow\\ (give(z_{363},x,z_{364})\\ \\land\\ give(z_{363},z_{362},z_{364}))))))$"
      ],
      "text/plain": [
       "<IPython.core.display.Markdown object>"
      ]
     },
     "metadata": {},
     "output_type": "display_data"
    },
    {
     "data": {
      "text/markdown": [
       "\"68\": $\\exists\\ x.(book(x)\\ \\land\\ \\forall\\ z_{367}.(girl(z_{367})\\ \\rightarrow\\ \\forall\\ z_{366}.(library(z_{366})\\ \\rightarrow\\ \\forall\\ z_{365}.(boy(z_{365})\\ \\rightarrow\\ (give(z_{366},z_{367},x)\\ \\land\\ give(z_{366},z_{365},x))))))$"
      ],
      "text/plain": [
       "<IPython.core.display.Markdown object>"
      ]
     },
     "metadata": {},
     "output_type": "display_data"
    },
    {
     "data": {
      "text/markdown": [
       "\"69\": $\\forall\\ x.(girl(x)\\ \\rightarrow\\ \\forall\\ z_{370}.(library(z_{370})\\ \\rightarrow\\ \\exists\\ z_{369}.(book(z_{369})\\ \\land\\ \\forall\\ z_{368}.(boy(z_{368})\\ \\rightarrow\\ (give(z_{370},x,z_{369})\\ \\land\\ give(z_{370},z_{368},z_{369}))))))$"
      ],
      "text/plain": [
       "<IPython.core.display.Markdown object>"
      ]
     },
     "metadata": {},
     "output_type": "display_data"
    },
    {
     "data": {
      "text/markdown": [
       "\"70\": $\\forall\\ x.(library(x)\\ \\rightarrow\\ \\forall\\ z_{373}.(girl(z_{373})\\ \\rightarrow\\ \\exists\\ z_{372}.(book(z_{372})\\ \\land\\ \\forall\\ z_{371}.(boy(z_{371})\\ \\rightarrow\\ (give(x,z_{373},z_{372})\\ \\land\\ give(x,z_{371},z_{372}))))))$"
      ],
      "text/plain": [
       "<IPython.core.display.Markdown object>"
      ]
     },
     "metadata": {},
     "output_type": "display_data"
    },
    {
     "data": {
      "text/markdown": [
       "\"71\": $\\exists\\ x.(book(x)\\ \\land\\ \\forall\\ z_{376}.(library(z_{376})\\ \\rightarrow\\ \\forall\\ z_{375}.(girl(z_{375})\\ \\rightarrow\\ \\forall\\ z_{374}.(boy(z_{374})\\ \\rightarrow\\ (give(z_{376},z_{375},x)\\ \\land\\ give(z_{376},z_{374},x))))))$"
      ],
      "text/plain": [
       "<IPython.core.display.Markdown object>"
      ]
     },
     "metadata": {},
     "output_type": "display_data"
    },
    {
     "data": {
      "text/markdown": [
       "\"72\": $\\forall\\ x.(library(x)\\ \\rightarrow\\ \\exists\\ z_{379}.(book(z_{379})\\ \\land\\ \\forall\\ z_{378}.(girl(z_{378})\\ \\rightarrow\\ \\forall\\ z_{377}.(boy(z_{377})\\ \\rightarrow\\ (give(x,z_{378},z_{379})\\ \\land\\ give(x,z_{377},z_{379}))))))$"
      ],
      "text/plain": [
       "<IPython.core.display.Markdown object>"
      ]
     },
     "metadata": {},
     "output_type": "display_data"
    },
    {
     "data": {
      "text/markdown": [
       "\"73\": $\\forall\\ x.(boy(x)\\ \\rightarrow\\ (\\exists\\ z_{382}.(book(z_{382})\\ \\land\\ \\forall\\ z_{381}.(library(z_{381})\\ \\rightarrow\\ \\forall\\ z_{380}.(girl(z_{380})\\ \\rightarrow\\ give(z_{381},@x9,z_{382}))))\\ \\land\\ \\exists\\ z_{383}.(book(z_{383})\\ \\land\\ \\forall\\ z_{381}.(library(z_{381})\\ \\rightarrow\\ \\forall\\ z_{380}.(girl(z_{380})\\ \\rightarrow\\ give(z_{381},x,z_{383}))))))$"
      ],
      "text/plain": [
       "<IPython.core.display.Markdown object>"
      ]
     },
     "metadata": {},
     "output_type": "display_data"
    },
    {
     "data": {
      "text/markdown": [
       "\"74\": $(\\forall\\ x.(boy(x)\\ \\rightarrow\\ \\exists\\ z_{386}.(book(z_{386})\\ \\land\\ \\forall\\ z_{385}.(library(z_{385})\\ \\rightarrow\\ \\forall\\ z_{384}.(girl(z_{384})\\ \\rightarrow\\ give(z_{385},@x9,z_{386})))))\\ \\land\\ \\forall\\ x.(boy(x)\\ \\rightarrow\\ \\exists\\ z_{386}.(book(z_{386})\\ \\land\\ \\forall\\ z_{385}.(library(z_{385})\\ \\rightarrow\\ \\forall\\ z_{384}.(girl(z_{384})\\ \\rightarrow\\ give(z_{385},@x6,z_{386}))))))$"
      ],
      "text/plain": [
       "<IPython.core.display.Markdown object>"
      ]
     },
     "metadata": {},
     "output_type": "display_data"
    },
    {
     "data": {
      "text/markdown": [
       "\"75\": $\\forall\\ x.(boy(x)\\ \\rightarrow\\ \\exists\\ z_{390}.(book(z_{390})\\ \\land\\ \\forall\\ z_{388}.(library(z_{388})\\ \\rightarrow\\ \\forall\\ z_{387}.(girl(z_{387})\\ \\rightarrow\\ give(z_{388},@x9,z_{390})))\\ \\land\\ \\forall\\ z_{389}.(library(z_{389})\\ \\rightarrow\\ \\forall\\ z_{387}.(girl(z_{387})\\ \\rightarrow\\ give(z_{389},x,z_{390})))))$"
      ],
      "text/plain": [
       "<IPython.core.display.Markdown object>"
      ]
     },
     "metadata": {},
     "output_type": "display_data"
    },
    {
     "data": {
      "text/markdown": [
       "\"76\": $\\exists\\ x.(book(x)\\ \\land\\ \\forall\\ z_{394}.(boy(z_{394})\\ \\rightarrow\\ (\\forall\\ z_{392}.(library(z_{392})\\ \\rightarrow\\ \\forall\\ z_{391}.(girl(z_{391})\\ \\rightarrow\\ give(z_{392},@x9,x)))\\ \\land\\ \\forall\\ z_{393}.(library(z_{393})\\ \\rightarrow\\ \\forall\\ z_{391}.(girl(z_{391})\\ \\rightarrow\\ give(z_{393},z_{394},x))))))$"
      ],
      "text/plain": [
       "<IPython.core.display.Markdown object>"
      ]
     },
     "metadata": {},
     "output_type": "display_data"
    },
    {
     "data": {
      "text/markdown": [
       "\"77\": $(\\exists\\ x.(book(x)\\ \\land\\ \\forall\\ z_{397}.(boy(z_{397})\\ \\rightarrow\\ \\forall\\ z_{396}.(library(z_{396})\\ \\rightarrow\\ \\forall\\ z_{395}.(girl(z_{395})\\ \\rightarrow\\ give(z_{396},@x9,x)))))\\ \\land\\ \\exists\\ x.(book(x)\\ \\land\\ \\forall\\ z_{397}.(boy(z_{397})\\ \\rightarrow\\ \\forall\\ z_{396}.(library(z_{396})\\ \\rightarrow\\ \\forall\\ z_{395}.(girl(z_{395})\\ \\rightarrow\\ give(z_{396},@x6,x))))))$"
      ],
      "text/plain": [
       "<IPython.core.display.Markdown object>"
      ]
     },
     "metadata": {},
     "output_type": "display_data"
    },
    {
     "data": {
      "text/markdown": [
       "\"78\": $\\exists\\ x.(book(x)\\ \\land\\ \\forall\\ z_{400}.(boy(z_{400})\\ \\rightarrow\\ \\forall\\ z_{399}.(library(z_{399})\\ \\rightarrow\\ \\forall\\ z_{398}.(girl(z_{398})\\ \\rightarrow\\ give(z_{399},@x9,x))))\\ \\land\\ \\forall\\ z_{401}.(boy(z_{401})\\ \\rightarrow\\ \\forall\\ z_{399}.(library(z_{399})\\ \\rightarrow\\ \\forall\\ z_{398}.(girl(z_{398})\\ \\rightarrow\\ give(z_{399},@x6,x)))))$"
      ],
      "text/plain": [
       "<IPython.core.display.Markdown object>"
      ]
     },
     "metadata": {},
     "output_type": "display_data"
    },
    {
     "data": {
      "text/markdown": [
       "\"79\": $\\forall\\ x.(boy(x)\\ \\rightarrow\\ (\\forall\\ z_{404}.(library(z_{404})\\ \\rightarrow\\ \\exists\\ z_{403}.(book(z_{403})\\ \\land\\ \\forall\\ z_{402}.(girl(z_{402})\\ \\rightarrow\\ give(z_{404},@x9,z_{403}))))\\ \\land\\ \\forall\\ z_{405}.(library(z_{405})\\ \\rightarrow\\ \\exists\\ z_{403}.(book(z_{403})\\ \\land\\ \\forall\\ z_{402}.(girl(z_{402})\\ \\rightarrow\\ give(z_{405},x,z_{403}))))))$"
      ],
      "text/plain": [
       "<IPython.core.display.Markdown object>"
      ]
     },
     "metadata": {},
     "output_type": "display_data"
    },
    {
     "data": {
      "text/markdown": [
       "\"80\": $(\\forall\\ x.(boy(x)\\ \\rightarrow\\ \\forall\\ z_{408}.(library(z_{408})\\ \\rightarrow\\ \\exists\\ z_{407}.(book(z_{407})\\ \\land\\ \\forall\\ z_{406}.(girl(z_{406})\\ \\rightarrow\\ give(z_{408},@x9,z_{407})))))\\ \\land\\ \\forall\\ x.(boy(x)\\ \\rightarrow\\ \\forall\\ z_{408}.(library(z_{408})\\ \\rightarrow\\ \\exists\\ z_{407}.(book(z_{407})\\ \\land\\ \\forall\\ z_{406}.(girl(z_{406})\\ \\rightarrow\\ give(z_{408},@x6,z_{407}))))))$"
      ],
      "text/plain": [
       "<IPython.core.display.Markdown object>"
      ]
     },
     "metadata": {},
     "output_type": "display_data"
    },
    {
     "data": {
      "text/markdown": [
       "\"81\": $\\forall\\ x.(boy(x)\\ \\rightarrow\\ \\forall\\ z_{412}.(library(z_{412})\\ \\rightarrow\\ (\\exists\\ z_{410}.(book(z_{410})\\ \\land\\ \\forall\\ z_{409}.(girl(z_{409})\\ \\rightarrow\\ give(z_{412},@x9,z_{410})))\\ \\land\\ \\exists\\ z_{411}.(book(z_{411})\\ \\land\\ \\forall\\ z_{409}.(girl(z_{409})\\ \\rightarrow\\ give(z_{412},x,z_{411}))))))$"
      ],
      "text/plain": [
       "<IPython.core.display.Markdown object>"
      ]
     },
     "metadata": {},
     "output_type": "display_data"
    },
    {
     "data": {
      "text/markdown": [
       "\"82\": $\\forall\\ x.(library(x)\\ \\rightarrow\\ \\forall\\ z_{416}.(boy(z_{416})\\ \\rightarrow\\ (\\exists\\ z_{414}.(book(z_{414})\\ \\land\\ \\forall\\ z_{413}.(girl(z_{413})\\ \\rightarrow\\ give(x,@x9,z_{414})))\\ \\land\\ \\exists\\ z_{415}.(book(z_{415})\\ \\land\\ \\forall\\ z_{413}.(girl(z_{413})\\ \\rightarrow\\ give(x,z_{416},z_{415}))))))$"
      ],
      "text/plain": [
       "<IPython.core.display.Markdown object>"
      ]
     },
     "metadata": {},
     "output_type": "display_data"
    },
    {
     "data": {
      "text/markdown": [
       "\"83\": $(\\forall\\ x.(library(x)\\ \\rightarrow\\ \\forall\\ z_{419}.(boy(z_{419})\\ \\rightarrow\\ \\exists\\ z_{418}.(book(z_{418})\\ \\land\\ \\forall\\ z_{417}.(girl(z_{417})\\ \\rightarrow\\ give(x,@x9,z_{418})))))\\ \\land\\ \\forall\\ x.(library(x)\\ \\rightarrow\\ \\forall\\ z_{419}.(boy(z_{419})\\ \\rightarrow\\ \\exists\\ z_{418}.(book(z_{418})\\ \\land\\ \\forall\\ z_{417}.(girl(z_{417})\\ \\rightarrow\\ give(x,@x6,z_{418}))))))$"
      ],
      "text/plain": [
       "<IPython.core.display.Markdown object>"
      ]
     },
     "metadata": {},
     "output_type": "display_data"
    },
    {
     "data": {
      "text/markdown": [
       "\"84\": $\\forall\\ x.(library(x)\\ \\rightarrow\\ (\\forall\\ z_{422}.(boy(z_{422})\\ \\rightarrow\\ \\exists\\ z_{421}.(book(z_{421})\\ \\land\\ \\forall\\ z_{420}.(girl(z_{420})\\ \\rightarrow\\ give(x,@x9,z_{421}))))\\ \\land\\ \\forall\\ z_{423}.(boy(z_{423})\\ \\rightarrow\\ \\exists\\ z_{421}.(book(z_{421})\\ \\land\\ \\forall\\ z_{420}.(girl(z_{420})\\ \\rightarrow\\ give(x,@x6,z_{421}))))))$"
      ],
      "text/plain": [
       "<IPython.core.display.Markdown object>"
      ]
     },
     "metadata": {},
     "output_type": "display_data"
    },
    {
     "data": {
      "text/markdown": [
       "\"85\": $\\forall\\ x.(boy(x)\\ \\rightarrow\\ \\exists\\ z_{427}.(book(z_{427})\\ \\land\\ \\forall\\ z_{426}.(library(z_{426})\\ \\rightarrow\\ (\\forall\\ z_{424}.(girl(z_{424})\\ \\rightarrow\\ give(z_{426},@x9,z_{427}))\\ \\land\\ \\forall\\ z_{425}.(girl(z_{425})\\ \\rightarrow\\ give(z_{426},x,z_{427}))))))$"
      ],
      "text/plain": [
       "<IPython.core.display.Markdown object>"
      ]
     },
     "metadata": {},
     "output_type": "display_data"
    },
    {
     "data": {
      "text/markdown": [
       "\"86\": $\\exists\\ x.(book(x)\\ \\land\\ \\forall\\ z_{431}.(boy(z_{431})\\ \\rightarrow\\ \\forall\\ z_{430}.(library(z_{430})\\ \\rightarrow\\ (\\forall\\ z_{428}.(girl(z_{428})\\ \\rightarrow\\ give(z_{430},@x9,x))\\ \\land\\ \\forall\\ z_{429}.(girl(z_{429})\\ \\rightarrow\\ give(z_{430},z_{431},x))))))$"
      ],
      "text/plain": [
       "<IPython.core.display.Markdown object>"
      ]
     },
     "metadata": {},
     "output_type": "display_data"
    },
    {
     "data": {
      "text/markdown": [
       "\"87\": $\\forall\\ x.(boy(x)\\ \\rightarrow\\ \\forall\\ z_{435}.(library(z_{435})\\ \\rightarrow\\ \\exists\\ z_{434}.(book(z_{434})\\ \\land\\ \\forall\\ z_{432}.(girl(z_{432})\\ \\rightarrow\\ give(z_{435},@x9,z_{434}))\\ \\land\\ \\forall\\ z_{433}.(girl(z_{433})\\ \\rightarrow\\ give(z_{435},x,z_{434})))))$"
      ],
      "text/plain": [
       "<IPython.core.display.Markdown object>"
      ]
     },
     "metadata": {},
     "output_type": "display_data"
    },
    {
     "data": {
      "text/markdown": [
       "\"88\": $\\forall\\ x.(library(x)\\ \\rightarrow\\ \\forall\\ z_{439}.(boy(z_{439})\\ \\rightarrow\\ \\exists\\ z_{438}.(book(z_{438})\\ \\land\\ \\forall\\ z_{436}.(girl(z_{436})\\ \\rightarrow\\ give(x,@x9,z_{438}))\\ \\land\\ \\forall\\ z_{437}.(girl(z_{437})\\ \\rightarrow\\ give(x,z_{439},z_{438})))))$"
      ],
      "text/plain": [
       "<IPython.core.display.Markdown object>"
      ]
     },
     "metadata": {},
     "output_type": "display_data"
    },
    {
     "data": {
      "text/markdown": [
       "\"89\": $\\exists\\ x.(book(x)\\ \\land\\ \\forall\\ z_{443}.(library(z_{443})\\ \\rightarrow\\ \\forall\\ z_{442}.(boy(z_{442})\\ \\rightarrow\\ (\\forall\\ z_{440}.(girl(z_{440})\\ \\rightarrow\\ give(z_{443},@x9,x))\\ \\land\\ \\forall\\ z_{441}.(girl(z_{441})\\ \\rightarrow\\ give(z_{443},z_{442},x))))))$"
      ],
      "text/plain": [
       "<IPython.core.display.Markdown object>"
      ]
     },
     "metadata": {},
     "output_type": "display_data"
    },
    {
     "data": {
      "text/markdown": [
       "\"90\": $\\forall\\ x.(library(x)\\ \\rightarrow\\ \\exists\\ z_{447}.(book(z_{447})\\ \\land\\ \\forall\\ z_{446}.(boy(z_{446})\\ \\rightarrow\\ (\\forall\\ z_{444}.(girl(z_{444})\\ \\rightarrow\\ give(x,@x9,z_{447}))\\ \\land\\ \\forall\\ z_{445}.(girl(z_{445})\\ \\rightarrow\\ give(x,z_{446},z_{447}))))))$"
      ],
      "text/plain": [
       "<IPython.core.display.Markdown object>"
      ]
     },
     "metadata": {},
     "output_type": "display_data"
    },
    {
     "data": {
      "text/markdown": [
       "\"91\": $(\\exists\\ x.(book(x)\\ \\land\\ \\forall\\ z_{450}.(library(z_{450})\\ \\rightarrow\\ \\forall\\ z_{449}.(boy(z_{449})\\ \\rightarrow\\ \\forall\\ z_{448}.(girl(z_{448})\\ \\rightarrow\\ give(z_{450},@x9,x)))))\\ \\land\\ \\exists\\ x.(book(x)\\ \\land\\ \\forall\\ z_{450}.(library(z_{450})\\ \\rightarrow\\ \\forall\\ z_{449}.(boy(z_{449})\\ \\rightarrow\\ \\forall\\ z_{448}.(girl(z_{448})\\ \\rightarrow\\ give(z_{450},@x6,x))))))$"
      ],
      "text/plain": [
       "<IPython.core.display.Markdown object>"
      ]
     },
     "metadata": {},
     "output_type": "display_data"
    },
    {
     "data": {
      "text/markdown": [
       "\"92\": $\\exists\\ x.(book(x)\\ \\land\\ \\forall\\ z_{453}.(library(z_{453})\\ \\rightarrow\\ \\forall\\ z_{452}.(boy(z_{452})\\ \\rightarrow\\ \\forall\\ z_{451}.(girl(z_{451})\\ \\rightarrow\\ give(z_{453},@x9,x))))\\ \\land\\ \\forall\\ z_{454}.(library(z_{454})\\ \\rightarrow\\ \\forall\\ z_{452}.(boy(z_{452})\\ \\rightarrow\\ \\forall\\ z_{451}.(girl(z_{451})\\ \\rightarrow\\ give(z_{454},@x6,x)))))$"
      ],
      "text/plain": [
       "<IPython.core.display.Markdown object>"
      ]
     },
     "metadata": {},
     "output_type": "display_data"
    },
    {
     "data": {
      "text/markdown": [
       "\"93\": $(\\forall\\ x.(library(x)\\ \\rightarrow\\ \\exists\\ z_{457}.(book(z_{457})\\ \\land\\ \\forall\\ z_{456}.(boy(z_{456})\\ \\rightarrow\\ \\forall\\ z_{455}.(girl(z_{455})\\ \\rightarrow\\ give(x,@x9,z_{457})))))\\ \\land\\ \\forall\\ x.(library(x)\\ \\rightarrow\\ \\exists\\ z_{457}.(book(z_{457})\\ \\land\\ \\forall\\ z_{456}.(boy(z_{456})\\ \\rightarrow\\ \\forall\\ z_{455}.(girl(z_{455})\\ \\rightarrow\\ give(x,@x6,z_{457}))))))$"
      ],
      "text/plain": [
       "<IPython.core.display.Markdown object>"
      ]
     },
     "metadata": {},
     "output_type": "display_data"
    },
    {
     "data": {
      "text/markdown": [
       "\"94\": $\\forall\\ x.(library(x)\\ \\rightarrow\\ (\\exists\\ z_{460}.(book(z_{460})\\ \\land\\ \\forall\\ z_{459}.(boy(z_{459})\\ \\rightarrow\\ \\forall\\ z_{458}.(girl(z_{458})\\ \\rightarrow\\ give(x,@x9,z_{460}))))\\ \\land\\ \\exists\\ z_{461}.(book(z_{461})\\ \\land\\ \\forall\\ z_{459}.(boy(z_{459})\\ \\rightarrow\\ \\forall\\ z_{458}.(girl(z_{458})\\ \\rightarrow\\ give(x,@x6,z_{461}))))))$"
      ],
      "text/plain": [
       "<IPython.core.display.Markdown object>"
      ]
     },
     "metadata": {},
     "output_type": "display_data"
    },
    {
     "data": {
      "text/markdown": [
       "\"95\": $\\exists\\ x.(book(x)\\ \\land\\ \\forall\\ z_{465}.(library(z_{465})\\ \\rightarrow\\ (\\forall\\ z_{463}.(boy(z_{463})\\ \\rightarrow\\ \\forall\\ z_{462}.(girl(z_{462})\\ \\rightarrow\\ give(z_{465},@x9,x)))\\ \\land\\ \\forall\\ z_{464}.(boy(z_{464})\\ \\rightarrow\\ \\forall\\ z_{462}.(girl(z_{462})\\ \\rightarrow\\ give(z_{465},@x6,x))))))$"
      ],
      "text/plain": [
       "<IPython.core.display.Markdown object>"
      ]
     },
     "metadata": {},
     "output_type": "display_data"
    },
    {
     "data": {
      "text/markdown": [
       "\"96\": $\\forall\\ x.(library(x)\\ \\rightarrow\\ \\exists\\ z_{469}.(book(z_{469})\\ \\land\\ \\forall\\ z_{467}.(boy(z_{467})\\ \\rightarrow\\ \\forall\\ z_{466}.(girl(z_{466})\\ \\rightarrow\\ give(x,@x9,z_{469})))\\ \\land\\ \\forall\\ z_{468}.(boy(z_{468})\\ \\rightarrow\\ \\forall\\ z_{466}.(girl(z_{466})\\ \\rightarrow\\ give(x,@x6,z_{469})))))$"
      ],
      "text/plain": [
       "<IPython.core.display.Markdown object>"
      ]
     },
     "metadata": {},
     "output_type": "display_data"
    },
    {
     "data": {
      "text/markdown": [
       "\"97\": $\\forall\\ x.(girl(x)\\ \\rightarrow\\ (\\exists\\ z_{472}.(book(z_{472})\\ \\land\\ \\forall\\ z_{471}.(library(z_{471})\\ \\rightarrow\\ \\forall\\ z_{470}.(boy(z_{470})\\ \\rightarrow\\ give(z_{471},x,z_{472}))))\\ \\land\\ \\exists\\ z_{473}.(book(z_{473})\\ \\land\\ \\forall\\ z_{471}.(library(z_{471})\\ \\rightarrow\\ \\forall\\ z_{470}.(boy(z_{470})\\ \\rightarrow\\ give(z_{471},@x6,z_{473}))))))$"
      ],
      "text/plain": [
       "<IPython.core.display.Markdown object>"
      ]
     },
     "metadata": {},
     "output_type": "display_data"
    },
    {
     "data": {
      "text/markdown": [
       "\"98\": $(\\forall\\ x.(girl(x)\\ \\rightarrow\\ \\exists\\ z_{476}.(book(z_{476})\\ \\land\\ \\forall\\ z_{475}.(library(z_{475})\\ \\rightarrow\\ \\forall\\ z_{474}.(boy(z_{474})\\ \\rightarrow\\ give(z_{475},@x9,z_{476})))))\\ \\land\\ \\forall\\ x.(girl(x)\\ \\rightarrow\\ \\exists\\ z_{476}.(book(z_{476})\\ \\land\\ \\forall\\ z_{475}.(library(z_{475})\\ \\rightarrow\\ \\forall\\ z_{474}.(boy(z_{474})\\ \\rightarrow\\ give(z_{475},@x6,z_{476}))))))$"
      ],
      "text/plain": [
       "<IPython.core.display.Markdown object>"
      ]
     },
     "metadata": {},
     "output_type": "display_data"
    },
    {
     "data": {
      "text/markdown": [
       "\"99\": $\\forall\\ x.(girl(x)\\ \\rightarrow\\ \\exists\\ z_{480}.(book(z_{480})\\ \\land\\ \\forall\\ z_{478}.(library(z_{478})\\ \\rightarrow\\ \\forall\\ z_{477}.(boy(z_{477})\\ \\rightarrow\\ give(z_{478},x,z_{480})))\\ \\land\\ \\forall\\ z_{479}.(library(z_{479})\\ \\rightarrow\\ \\forall\\ z_{477}.(boy(z_{477})\\ \\rightarrow\\ give(z_{479},@x6,z_{480})))))$"
      ],
      "text/plain": [
       "<IPython.core.display.Markdown object>"
      ]
     },
     "metadata": {},
     "output_type": "display_data"
    },
    {
     "data": {
      "text/markdown": [
       "\"100\": $\\exists\\ x.(book(x)\\ \\land\\ \\forall\\ z_{484}.(girl(z_{484})\\ \\rightarrow\\ (\\forall\\ z_{482}.(library(z_{482})\\ \\rightarrow\\ \\forall\\ z_{481}.(boy(z_{481})\\ \\rightarrow\\ give(z_{482},z_{484},x)))\\ \\land\\ \\forall\\ z_{483}.(library(z_{483})\\ \\rightarrow\\ \\forall\\ z_{481}.(boy(z_{481})\\ \\rightarrow\\ give(z_{483},@x6,x))))))$"
      ],
      "text/plain": [
       "<IPython.core.display.Markdown object>"
      ]
     },
     "metadata": {},
     "output_type": "display_data"
    },
    {
     "data": {
      "text/markdown": [
       "\"101\": $(\\exists\\ x.(book(x)\\ \\land\\ \\forall\\ z_{487}.(girl(z_{487})\\ \\rightarrow\\ \\forall\\ z_{486}.(library(z_{486})\\ \\rightarrow\\ \\forall\\ z_{485}.(boy(z_{485})\\ \\rightarrow\\ give(z_{486},@x9,x)))))\\ \\land\\ \\exists\\ x.(book(x)\\ \\land\\ \\forall\\ z_{487}.(girl(z_{487})\\ \\rightarrow\\ \\forall\\ z_{486}.(library(z_{486})\\ \\rightarrow\\ \\forall\\ z_{485}.(boy(z_{485})\\ \\rightarrow\\ give(z_{486},@x6,x))))))$"
      ],
      "text/plain": [
       "<IPython.core.display.Markdown object>"
      ]
     },
     "metadata": {},
     "output_type": "display_data"
    },
    {
     "data": {
      "text/markdown": [
       "\"102\": $\\exists\\ x.(book(x)\\ \\land\\ \\forall\\ z_{490}.(girl(z_{490})\\ \\rightarrow\\ \\forall\\ z_{489}.(library(z_{489})\\ \\rightarrow\\ \\forall\\ z_{488}.(boy(z_{488})\\ \\rightarrow\\ give(z_{489},@x9,x))))\\ \\land\\ \\forall\\ z_{491}.(girl(z_{491})\\ \\rightarrow\\ \\forall\\ z_{489}.(library(z_{489})\\ \\rightarrow\\ \\forall\\ z_{488}.(boy(z_{488})\\ \\rightarrow\\ give(z_{489},@x6,x)))))$"
      ],
      "text/plain": [
       "<IPython.core.display.Markdown object>"
      ]
     },
     "metadata": {},
     "output_type": "display_data"
    },
    {
     "data": {
      "text/markdown": [
       "\"103\": $\\forall\\ x.(girl(x)\\ \\rightarrow\\ (\\forall\\ z_{494}.(library(z_{494})\\ \\rightarrow\\ \\exists\\ z_{493}.(book(z_{493})\\ \\land\\ \\forall\\ z_{492}.(boy(z_{492})\\ \\rightarrow\\ give(z_{494},x,z_{493}))))\\ \\land\\ \\forall\\ z_{495}.(library(z_{495})\\ \\rightarrow\\ \\exists\\ z_{493}.(book(z_{493})\\ \\land\\ \\forall\\ z_{492}.(boy(z_{492})\\ \\rightarrow\\ give(z_{495},@x6,z_{493}))))))$"
      ],
      "text/plain": [
       "<IPython.core.display.Markdown object>"
      ]
     },
     "metadata": {},
     "output_type": "display_data"
    },
    {
     "data": {
      "text/markdown": [
       "\"104\": $(\\forall\\ x.(girl(x)\\ \\rightarrow\\ \\forall\\ z_{498}.(library(z_{498})\\ \\rightarrow\\ \\exists\\ z_{497}.(book(z_{497})\\ \\land\\ \\forall\\ z_{496}.(boy(z_{496})\\ \\rightarrow\\ give(z_{498},@x9,z_{497})))))\\ \\land\\ \\forall\\ x.(girl(x)\\ \\rightarrow\\ \\forall\\ z_{498}.(library(z_{498})\\ \\rightarrow\\ \\exists\\ z_{497}.(book(z_{497})\\ \\land\\ \\forall\\ z_{496}.(boy(z_{496})\\ \\rightarrow\\ give(z_{498},@x6,z_{497}))))))$"
      ],
      "text/plain": [
       "<IPython.core.display.Markdown object>"
      ]
     },
     "metadata": {},
     "output_type": "display_data"
    },
    {
     "data": {
      "text/markdown": [
       "\"105\": $\\forall\\ x.(girl(x)\\ \\rightarrow\\ \\forall\\ z_{502}.(library(z_{502})\\ \\rightarrow\\ (\\exists\\ z_{500}.(book(z_{500})\\ \\land\\ \\forall\\ z_{499}.(boy(z_{499})\\ \\rightarrow\\ give(z_{502},x,z_{500})))\\ \\land\\ \\exists\\ z_{501}.(book(z_{501})\\ \\land\\ \\forall\\ z_{499}.(boy(z_{499})\\ \\rightarrow\\ give(z_{502},@x6,z_{501}))))))$"
      ],
      "text/plain": [
       "<IPython.core.display.Markdown object>"
      ]
     },
     "metadata": {},
     "output_type": "display_data"
    },
    {
     "data": {
      "text/markdown": [
       "\"106\": $\\forall\\ x.(library(x)\\ \\rightarrow\\ \\forall\\ z_{506}.(girl(z_{506})\\ \\rightarrow\\ (\\exists\\ z_{504}.(book(z_{504})\\ \\land\\ \\forall\\ z_{503}.(boy(z_{503})\\ \\rightarrow\\ give(x,z_{506},z_{504})))\\ \\land\\ \\exists\\ z_{505}.(book(z_{505})\\ \\land\\ \\forall\\ z_{503}.(boy(z_{503})\\ \\rightarrow\\ give(x,@x6,z_{505}))))))$"
      ],
      "text/plain": [
       "<IPython.core.display.Markdown object>"
      ]
     },
     "metadata": {},
     "output_type": "display_data"
    },
    {
     "data": {
      "text/markdown": [
       "\"107\": $(\\forall\\ x.(library(x)\\ \\rightarrow\\ \\forall\\ z_{509}.(girl(z_{509})\\ \\rightarrow\\ \\exists\\ z_{508}.(book(z_{508})\\ \\land\\ \\forall\\ z_{507}.(boy(z_{507})\\ \\rightarrow\\ give(x,@x9,z_{508})))))\\ \\land\\ \\forall\\ x.(library(x)\\ \\rightarrow\\ \\forall\\ z_{509}.(girl(z_{509})\\ \\rightarrow\\ \\exists\\ z_{508}.(book(z_{508})\\ \\land\\ \\forall\\ z_{507}.(boy(z_{507})\\ \\rightarrow\\ give(x,@x6,z_{508}))))))$"
      ],
      "text/plain": [
       "<IPython.core.display.Markdown object>"
      ]
     },
     "metadata": {},
     "output_type": "display_data"
    },
    {
     "data": {
      "text/markdown": [
       "\"108\": $\\forall\\ x.(library(x)\\ \\rightarrow\\ (\\forall\\ z_{512}.(girl(z_{512})\\ \\rightarrow\\ \\exists\\ z_{511}.(book(z_{511})\\ \\land\\ \\forall\\ z_{510}.(boy(z_{510})\\ \\rightarrow\\ give(x,@x9,z_{511}))))\\ \\land\\ \\forall\\ z_{513}.(girl(z_{513})\\ \\rightarrow\\ \\exists\\ z_{511}.(book(z_{511})\\ \\land\\ \\forall\\ z_{510}.(boy(z_{510})\\ \\rightarrow\\ give(x,@x6,z_{511}))))))$"
      ],
      "text/plain": [
       "<IPython.core.display.Markdown object>"
      ]
     },
     "metadata": {},
     "output_type": "display_data"
    },
    {
     "data": {
      "text/markdown": [
       "\"109\": $\\forall\\ x.(girl(x)\\ \\rightarrow\\ \\exists\\ z_{517}.(book(z_{517})\\ \\land\\ \\forall\\ z_{516}.(library(z_{516})\\ \\rightarrow\\ (\\forall\\ z_{514}.(boy(z_{514})\\ \\rightarrow\\ give(z_{516},x,z_{517}))\\ \\land\\ \\forall\\ z_{515}.(boy(z_{515})\\ \\rightarrow\\ give(z_{516},@x6,z_{517}))))))$"
      ],
      "text/plain": [
       "<IPython.core.display.Markdown object>"
      ]
     },
     "metadata": {},
     "output_type": "display_data"
    },
    {
     "data": {
      "text/markdown": [
       "\"110\": $\\exists\\ x.(book(x)\\ \\land\\ \\forall\\ z_{521}.(girl(z_{521})\\ \\rightarrow\\ \\forall\\ z_{520}.(library(z_{520})\\ \\rightarrow\\ (\\forall\\ z_{518}.(boy(z_{518})\\ \\rightarrow\\ give(z_{520},z_{521},x))\\ \\land\\ \\forall\\ z_{519}.(boy(z_{519})\\ \\rightarrow\\ give(z_{520},@x6,x))))))$"
      ],
      "text/plain": [
       "<IPython.core.display.Markdown object>"
      ]
     },
     "metadata": {},
     "output_type": "display_data"
    },
    {
     "data": {
      "text/markdown": [
       "\"111\": $\\forall\\ x.(girl(x)\\ \\rightarrow\\ \\forall\\ z_{525}.(library(z_{525})\\ \\rightarrow\\ \\exists\\ z_{524}.(book(z_{524})\\ \\land\\ \\forall\\ z_{522}.(boy(z_{522})\\ \\rightarrow\\ give(z_{525},x,z_{524}))\\ \\land\\ \\forall\\ z_{523}.(boy(z_{523})\\ \\rightarrow\\ give(z_{525},@x6,z_{524})))))$"
      ],
      "text/plain": [
       "<IPython.core.display.Markdown object>"
      ]
     },
     "metadata": {},
     "output_type": "display_data"
    },
    {
     "data": {
      "text/markdown": [
       "\"112\": $\\forall\\ x.(library(x)\\ \\rightarrow\\ \\forall\\ z_{529}.(girl(z_{529})\\ \\rightarrow\\ \\exists\\ z_{528}.(book(z_{528})\\ \\land\\ \\forall\\ z_{526}.(boy(z_{526})\\ \\rightarrow\\ give(x,z_{529},z_{528}))\\ \\land\\ \\forall\\ z_{527}.(boy(z_{527})\\ \\rightarrow\\ give(x,@x6,z_{528})))))$"
      ],
      "text/plain": [
       "<IPython.core.display.Markdown object>"
      ]
     },
     "metadata": {},
     "output_type": "display_data"
    },
    {
     "data": {
      "text/markdown": [
       "\"113\": $\\exists\\ x.(book(x)\\ \\land\\ \\forall\\ z_{533}.(library(z_{533})\\ \\rightarrow\\ \\forall\\ z_{532}.(girl(z_{532})\\ \\rightarrow\\ (\\forall\\ z_{530}.(boy(z_{530})\\ \\rightarrow\\ give(z_{533},z_{532},x))\\ \\land\\ \\forall\\ z_{531}.(boy(z_{531})\\ \\rightarrow\\ give(z_{533},@x6,x))))))$"
      ],
      "text/plain": [
       "<IPython.core.display.Markdown object>"
      ]
     },
     "metadata": {},
     "output_type": "display_data"
    },
    {
     "data": {
      "text/markdown": [
       "\"114\": $\\forall\\ x.(library(x)\\ \\rightarrow\\ \\exists\\ z_{537}.(book(z_{537})\\ \\land\\ \\forall\\ z_{536}.(girl(z_{536})\\ \\rightarrow\\ (\\forall\\ z_{534}.(boy(z_{534})\\ \\rightarrow\\ give(x,z_{536},z_{537}))\\ \\land\\ \\forall\\ z_{535}.(boy(z_{535})\\ \\rightarrow\\ give(x,@x6,z_{537}))))))$"
      ],
      "text/plain": [
       "<IPython.core.display.Markdown object>"
      ]
     },
     "metadata": {},
     "output_type": "display_data"
    },
    {
     "data": {
      "text/markdown": [
       "\"115\": $(\\exists\\ x.(book(x)\\ \\land\\ \\forall\\ z_{540}.(library(z_{540})\\ \\rightarrow\\ \\forall\\ z_{539}.(girl(z_{539})\\ \\rightarrow\\ \\forall\\ z_{538}.(boy(z_{538})\\ \\rightarrow\\ give(z_{540},@x9,x)))))\\ \\land\\ \\exists\\ x.(book(x)\\ \\land\\ \\forall\\ z_{540}.(library(z_{540})\\ \\rightarrow\\ \\forall\\ z_{539}.(girl(z_{539})\\ \\rightarrow\\ \\forall\\ z_{538}.(boy(z_{538})\\ \\rightarrow\\ give(z_{540},@x6,x))))))$"
      ],
      "text/plain": [
       "<IPython.core.display.Markdown object>"
      ]
     },
     "metadata": {},
     "output_type": "display_data"
    },
    {
     "data": {
      "text/markdown": [
       "\"116\": $\\exists\\ x.(book(x)\\ \\land\\ \\forall\\ z_{543}.(library(z_{543})\\ \\rightarrow\\ \\forall\\ z_{542}.(girl(z_{542})\\ \\rightarrow\\ \\forall\\ z_{541}.(boy(z_{541})\\ \\rightarrow\\ give(z_{543},@x9,x))))\\ \\land\\ \\forall\\ z_{544}.(library(z_{544})\\ \\rightarrow\\ \\forall\\ z_{542}.(girl(z_{542})\\ \\rightarrow\\ \\forall\\ z_{541}.(boy(z_{541})\\ \\rightarrow\\ give(z_{544},@x6,x)))))$"
      ],
      "text/plain": [
       "<IPython.core.display.Markdown object>"
      ]
     },
     "metadata": {},
     "output_type": "display_data"
    },
    {
     "data": {
      "text/markdown": [
       "\"117\": $(\\forall\\ x.(library(x)\\ \\rightarrow\\ \\exists\\ z_{547}.(book(z_{547})\\ \\land\\ \\forall\\ z_{546}.(girl(z_{546})\\ \\rightarrow\\ \\forall\\ z_{545}.(boy(z_{545})\\ \\rightarrow\\ give(x,@x9,z_{547})))))\\ \\land\\ \\forall\\ x.(library(x)\\ \\rightarrow\\ \\exists\\ z_{547}.(book(z_{547})\\ \\land\\ \\forall\\ z_{546}.(girl(z_{546})\\ \\rightarrow\\ \\forall\\ z_{545}.(boy(z_{545})\\ \\rightarrow\\ give(x,@x6,z_{547}))))))$"
      ],
      "text/plain": [
       "<IPython.core.display.Markdown object>"
      ]
     },
     "metadata": {},
     "output_type": "display_data"
    },
    {
     "data": {
      "text/markdown": [
       "\"118\": $\\forall\\ x.(library(x)\\ \\rightarrow\\ (\\exists\\ z_{550}.(book(z_{550})\\ \\land\\ \\forall\\ z_{549}.(girl(z_{549})\\ \\rightarrow\\ \\forall\\ z_{548}.(boy(z_{548})\\ \\rightarrow\\ give(x,@x9,z_{550}))))\\ \\land\\ \\exists\\ z_{551}.(book(z_{551})\\ \\land\\ \\forall\\ z_{549}.(girl(z_{549})\\ \\rightarrow\\ \\forall\\ z_{548}.(boy(z_{548})\\ \\rightarrow\\ give(x,@x6,z_{551}))))))$"
      ],
      "text/plain": [
       "<IPython.core.display.Markdown object>"
      ]
     },
     "metadata": {},
     "output_type": "display_data"
    },
    {
     "data": {
      "text/markdown": [
       "\"119\": $\\exists\\ x.(book(x)\\ \\land\\ \\forall\\ z_{555}.(library(z_{555})\\ \\rightarrow\\ (\\forall\\ z_{553}.(girl(z_{553})\\ \\rightarrow\\ \\forall\\ z_{552}.(boy(z_{552})\\ \\rightarrow\\ give(z_{555},@x9,x)))\\ \\land\\ \\forall\\ z_{554}.(girl(z_{554})\\ \\rightarrow\\ \\forall\\ z_{552}.(boy(z_{552})\\ \\rightarrow\\ give(z_{555},@x6,x))))))$"
      ],
      "text/plain": [
       "<IPython.core.display.Markdown object>"
      ]
     },
     "metadata": {},
     "output_type": "display_data"
    },
    {
     "data": {
      "text/markdown": [
       "\"120\": $\\forall\\ x.(library(x)\\ \\rightarrow\\ \\exists\\ z_{559}.(book(z_{559})\\ \\land\\ \\forall\\ z_{557}.(girl(z_{557})\\ \\rightarrow\\ \\forall\\ z_{556}.(boy(z_{556})\\ \\rightarrow\\ give(x,@x9,z_{559})))\\ \\land\\ \\forall\\ z_{558}.(girl(z_{558})\\ \\rightarrow\\ \\forall\\ z_{556}.(boy(z_{556})\\ \\rightarrow\\ give(x,@x6,z_{559})))))$"
      ],
      "text/plain": [
       "<IPython.core.display.Markdown object>"
      ]
     },
     "metadata": {},
     "output_type": "display_data"
    }
   ],
   "source": [
    "sentences = [\n",
    "    'every library gives a book to every girl and every boy',\n",
    "]\n",
    "\n",
    "fcfg_storage_answers_2 = r\"\"\"\n",
    "### Correct the conjunction rule here. Replace xxx and ??? with the correct answer:\n",
    "#NP[NUM=xxx, SEM=[CORE=<\\P.P(@x)>, STORE=((<bo(???, @x)>)+?b1+?b2)]] -> NP[NUM=?num1, SEM=[CORE=?n1, STORE=?b1]] CONJ NP[NUM=?num2, SEM=[CORE=?n2, STORE=?b2]]\n",
    "NP[NUM=?n, SEM=[CORE=<\\P.P(@x)>, STORE=((<bo(\\P.(?n1(P) & ?n2(P)), @x)>)+?b1+?b2)]] -> NP[NUM=?num1, SEM=[CORE=?n1, STORE=?b1]] CONJ NP[NUM=?num2, SEM=[CORE=?n2, STORE=?b2]]\n",
    "CONJ -> 'and'  \n",
    "\"\"\"\n",
    "\n",
    "\n",
    "fcfg_storage = fcfg_storage_base + fcfg_storage_np + fcfg_storage_lexicon + fcfg_storage_answers_1 + fcfg_storage_answers_2\n",
    "cs_syntax = FeatureGrammar.fromstring(fcfg_storage)\n",
    "sents_reps = sem_parser(sentences, cs_syntax, verbose=False, is_cs=True)\n",
    "\n",
    "for i, (sent, semreps) in enumerate(sents_reps.items()):\n",
    "    counter = 0\n",
    "    print(f\"{i+1}. {sent}\")\n",
    "    for semrep in semreps:\n",
    "        counter += 1\n",
    "        display_translation(counter, semrep)"
   ]
  },
  {
   "cell_type": "markdown",
   "metadata": {},
   "source": [
    "## Marks\n",
    "\n",
    "This part of the assignment has a total of 14 marks."
   ]
  }
 ],
 "metadata": {
  "kernelspec": {
   "display_name": "Python 3",
   "language": "python",
   "name": "python3"
  },
  "language_info": {
   "codemirror_mode": {
    "name": "ipython",
    "version": 3
   },
   "file_extension": ".py",
   "mimetype": "text/x-python",
   "name": "python",
   "nbconvert_exporter": "python",
   "pygments_lexer": "ipython3",
   "version": "3.7.4"
  }
 },
 "nbformat": 4,
 "nbformat_minor": 1
}
